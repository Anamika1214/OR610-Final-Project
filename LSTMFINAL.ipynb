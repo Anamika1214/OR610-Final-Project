{
 "cells": [
  {
   "cell_type": "code",
   "execution_count": null,
   "metadata": {
    "id": "sWyBZmU-s733"
   },
   "outputs": [],
   "source": []
  },
  {
   "cell_type": "code",
   "execution_count": 106,
   "metadata": {
    "colab": {
     "base_uri": "https://localhost:8080/"
    },
    "executionInfo": {
     "elapsed": 3846,
     "status": "ok",
     "timestamp": 1604553533934,
     "user": {
      "displayName": "Vishal Arya",
      "photoUrl": "",
      "userId": "05630331593287898441"
     },
     "user_tz": 300
    },
    "id": "ZO4UYIfSJvpV",
    "outputId": "9825477a-4470-4c3c-eadd-cb55ed9c4a86"
   },
   "outputs": [
    {
     "name": "stdout",
     "output_type": "stream",
     "text": [
      "Requirement already satisfied: researchpy in /usr/local/lib/python3.6/dist-packages (0.2.3)\n",
      "Requirement already satisfied: numpy in /usr/local/lib/python3.6/dist-packages (from researchpy) (1.18.5)\n",
      "Requirement already satisfied: pandas in /usr/local/lib/python3.6/dist-packages (from researchpy) (1.1.4)\n",
      "Requirement already satisfied: statsmodels in /usr/local/lib/python3.6/dist-packages (from researchpy) (0.10.2)\n",
      "Requirement already satisfied: scipy in /usr/local/lib/python3.6/dist-packages (from researchpy) (1.4.1)\n",
      "Requirement already satisfied: python-dateutil>=2.7.3 in /usr/local/lib/python3.6/dist-packages (from pandas->researchpy) (2.8.1)\n",
      "Requirement already satisfied: pytz>=2017.2 in /usr/local/lib/python3.6/dist-packages (from pandas->researchpy) (2018.9)\n",
      "Requirement already satisfied: patsy>=0.4.0 in /usr/local/lib/python3.6/dist-packages (from statsmodels->researchpy) (0.5.1)\n",
      "Requirement already satisfied: six>=1.5 in /usr/local/lib/python3.6/dist-packages (from python-dateutil>=2.7.3->pandas->researchpy) (1.15.0)\n"
     ]
    }
   ],
   "source": [
    "! pip install researchpy\n",
    "\n"
   ]
  },
  {
   "cell_type": "code",
   "execution_count": 504,
   "metadata": {
    "colab": {
     "base_uri": "https://localhost:8080/",
     "height": 132
    },
    "executionInfo": {
     "elapsed": 425,
     "status": "ok",
     "timestamp": 1604553536620,
     "user": {
      "displayName": "Vishal Arya",
      "photoUrl": "",
      "userId": "05630331593287898441"
     },
     "user_tz": 300
    },
    "id": "n5M34K5b86ot",
    "outputId": "bd038bac-74e5-4eec-da35-40d012e4ec78"
   },
   "outputs": [
    {
     "data": {
      "text/plain": [
       "<torch._C.Generator at 0x7f40e9f2c1f0>"
      ]
     },
     "execution_count": 504,
     "metadata": {},
     "output_type": "execute_result"
    },
    {
     "data": {
      "text/html": [
       "        <script type=\"text/javascript\">\n",
       "        window.PlotlyConfig = {MathJaxConfig: 'local'};\n",
       "        if (window.MathJax) {MathJax.Hub.Config({SVG: {font: \"STIX-Web\"}});}\n",
       "        if (typeof require !== 'undefined') {\n",
       "        require.undef(\"plotly\");\n",
       "        requirejs.config({\n",
       "            paths: {\n",
       "                'plotly': ['https://cdn.plot.ly/plotly-latest.min']\n",
       "            }\n",
       "        });\n",
       "        require(['plotly'], function(Plotly) {\n",
       "            window._Plotly = Plotly;\n",
       "        });\n",
       "        }\n",
       "        </script>\n",
       "        "
      ]
     },
     "metadata": {},
     "output_type": "display_data"
    },
    {
     "name": "stderr",
     "output_type": "stream",
     "text": [
      "[nltk_data] Downloading package stopwords to\n",
      "[nltk_data]     /home/aryavish/nltk_data...\n",
      "[nltk_data]   Package stopwords is already up-to-date!\n"
     ]
    },
    {
     "data": {
      "text/plain": [
       "True"
      ]
     },
     "execution_count": 504,
     "metadata": {},
     "output_type": "execute_result"
    },
    {
     "name": "stdout",
     "output_type": "stream",
     "text": [
      "\n",
      "\n",
      "[[IMPORT OK]]\n"
     ]
    }
   ],
   "source": [
    "import numpy as np\n",
    "%matplotlib inline\n",
    "import matplotlib.pyplot as plt\n",
    "import math\n",
    "import datetime\n",
    "\n",
    "## stat imports\n",
    "from statsmodels.graphics.tsaplots import plot_pacf\n",
    "from statsmodels.graphics.tsaplots import plot_acf\n",
    "from scipy.stats import linregress\n",
    "\n",
    "import researchpy as rp\n",
    "import scipy.stats as stats\n",
    "from scipy.stats import skew \n",
    "\n",
    "\n",
    "from IPython.core.interactiveshell import InteractiveShell\n",
    "InteractiveShell.ast_node_interactivity = \"all\"\n",
    "\n",
    "\n",
    "import torch\n",
    "import torch.nn as nn\n",
    "import torch.nn.functional as F\n",
    "import torch.optim as optim\n",
    "import pandas as pd\n",
    "\n",
    "pd.set_option('display.max_columns', None)\n",
    "pd.set_option(\"max_rows\", 150)\n",
    "pd.set_option('display.float_format', lambda x: '%.5f' % x)\n",
    "#reset pd.reset_option('display.float_format')\n",
    "\n",
    "from numpy import linalg as LA\n",
    "\n",
    "from IPython.display import clear_output\n",
    "\n",
    "torch.manual_seed(1)\n",
    "\n",
    "# Keras\n",
    "from keras.preprocessing.text import Tokenizer\n",
    "from keras.preprocessing.sequence import pad_sequences\n",
    "from keras.models import Sequential\n",
    "from keras.layers import Dense, Flatten, LSTM, Conv1D, MaxPooling1D, Dropout, Activation\n",
    "from keras.layers.embeddings import Embedding\n",
    "\n",
    "## Plotly\n",
    "import plotly.offline as py\n",
    "import plotly.graph_objs as go\n",
    "py.init_notebook_mode(connected=True)\n",
    "\n",
    "# Others\n",
    "import nltk\n",
    "import string\n",
    "import re\n",
    "from collections import Counter\n",
    "from matplotlib import pyplot\n",
    "\n",
    "from nltk.stem import SnowballStemmer\n",
    "nltk.download('stopwords')\n",
    "\n",
    "from nltk.corpus import stopwords\n",
    "from sklearn.feature_extraction.text import CountVectorizer\n",
    "\n",
    "from sklearn.manifold import TSNE\n",
    "\n",
    "import csv\n",
    "\n",
    "from sklearn import decomposition\n",
    "from sklearn import datasets\n",
    "from sklearn.model_selection import train_test_split\n",
    "\n",
    "#tensorflow\n",
    "import tensorflow.keras.backend as K\n",
    "import tensorflow as tf\n",
    "\n",
    "#critical function spacing print\n",
    "def v():\n",
    "  print(\"\\n\")\n",
    "  return None\n",
    "\n",
    "v()\n",
    "print(\"[[IMPORT OK]]\")"
   ]
  },
  {
   "cell_type": "code",
   "execution_count": 108,
   "metadata": {
    "colab": {
     "base_uri": "https://localhost:8080/"
    },
    "executionInfo": {
     "elapsed": 476,
     "status": "ok",
     "timestamp": 1604553540795,
     "user": {
      "displayName": "Vishal Arya",
      "photoUrl": "",
      "userId": "05630331593287898441"
     },
     "user_tz": 300
    },
    "id": "V3Op1RCz9U_O",
    "outputId": "d25c2b46-618e-4179-8094-1183472efab1"
   },
   "outputs": [
    {
     "name": "stdout",
     "output_type": "stream",
     "text": [
      "/content/drive/My Drive/Capcelona/Deals/Bus Dev/coursera review crap/math review/GMU Dept of Math/pred ana/OR 610 DLNN/hw/proj\n",
      "Drive already mounted at /content/drive; to attempt to forcibly remount, call drive.mount(\"/content/drive\", force_remount=True).\n"
     ]
    }
   ],
   "source": [
    "!pwd\n",
    "import os\n",
    "\n",
    "from google.colab import drive\n",
    "drive.mount('/content/drive') "
   ]
  },
  {
   "cell_type": "code",
   "execution_count": 109,
   "metadata": {
    "executionInfo": {
     "elapsed": 607,
     "status": "ok",
     "timestamp": 1604553544705,
     "user": {
      "displayName": "Vishal Arya",
      "photoUrl": "",
      "userId": "05630331593287898441"
     },
     "user_tz": 300
    },
    "id": "OcQXYonQ-ioj"
   },
   "outputs": [],
   "source": [
    "os.chdir(\"/content/drive/My Drive/Capcelona/Deals/Bus Dev/coursera review crap/math review/GMU Dept of Math/pred ana/OR 610 DLNN/hw/proj\")"
   ]
  },
  {
   "cell_type": "code",
   "execution_count": 3,
   "metadata": {
    "colab": {
     "base_uri": "https://localhost:8080/",
     "height": 270
    },
    "executionInfo": {
     "elapsed": 16394,
     "status": "ok",
     "timestamp": 1604553569863,
     "user": {
      "displayName": "Vishal Arya",
      "photoUrl": "",
      "userId": "05630331593287898441"
     },
     "user_tz": 300
    },
    "id": "pGSA0wqM88Xz",
    "outputId": "c71942f4-bef8-46ea-c795-f8c875d38efc"
   },
   "outputs": [
    {
     "data": {
      "text/plain": [
       "RangeIndex(start=0, stop=1600000, step=1)"
      ]
     },
     "execution_count": 3,
     "metadata": {},
     "output_type": "execute_result"
    },
    {
     "data": {
      "text/html": [
       "<div>\n",
       "<style scoped>\n",
       "    .dataframe tbody tr th:only-of-type {\n",
       "        vertical-align: middle;\n",
       "    }\n",
       "\n",
       "    .dataframe tbody tr th {\n",
       "        vertical-align: top;\n",
       "    }\n",
       "\n",
       "    .dataframe thead th {\n",
       "        text-align: right;\n",
       "    }\n",
       "</style>\n",
       "<table border=\"1\" class=\"dataframe\">\n",
       "  <thead>\n",
       "    <tr style=\"text-align: right;\">\n",
       "      <th></th>\n",
       "      <th>0</th>\n",
       "      <th>1</th>\n",
       "      <th>2</th>\n",
       "      <th>3</th>\n",
       "      <th>4</th>\n",
       "      <th>5</th>\n",
       "    </tr>\n",
       "  </thead>\n",
       "  <tbody>\n",
       "    <tr>\n",
       "      <th>0</th>\n",
       "      <td>0</td>\n",
       "      <td>1467810369</td>\n",
       "      <td>Mon Apr 06 22:19:45 PDT 2009</td>\n",
       "      <td>NO_QUERY</td>\n",
       "      <td>_TheSpecialOne_</td>\n",
       "      <td>@switchfoot http://twitpic.com/2y1zl - Awww, t...</td>\n",
       "    </tr>\n",
       "    <tr>\n",
       "      <th>1</th>\n",
       "      <td>0</td>\n",
       "      <td>1467810672</td>\n",
       "      <td>Mon Apr 06 22:19:49 PDT 2009</td>\n",
       "      <td>NO_QUERY</td>\n",
       "      <td>scotthamilton</td>\n",
       "      <td>is upset that he can't update his Facebook by ...</td>\n",
       "    </tr>\n",
       "    <tr>\n",
       "      <th>2</th>\n",
       "      <td>0</td>\n",
       "      <td>1467810917</td>\n",
       "      <td>Mon Apr 06 22:19:53 PDT 2009</td>\n",
       "      <td>NO_QUERY</td>\n",
       "      <td>mattycus</td>\n",
       "      <td>@Kenichan I dived many times for the ball. Man...</td>\n",
       "    </tr>\n",
       "    <tr>\n",
       "      <th>3</th>\n",
       "      <td>0</td>\n",
       "      <td>1467811184</td>\n",
       "      <td>Mon Apr 06 22:19:57 PDT 2009</td>\n",
       "      <td>NO_QUERY</td>\n",
       "      <td>ElleCTF</td>\n",
       "      <td>my whole body feels itchy and like its on fire</td>\n",
       "    </tr>\n",
       "    <tr>\n",
       "      <th>4</th>\n",
       "      <td>0</td>\n",
       "      <td>1467811193</td>\n",
       "      <td>Mon Apr 06 22:19:57 PDT 2009</td>\n",
       "      <td>NO_QUERY</td>\n",
       "      <td>Karoli</td>\n",
       "      <td>@nationwideclass no, it's not behaving at all....</td>\n",
       "    </tr>\n",
       "  </tbody>\n",
       "</table>\n",
       "</div>"
      ],
      "text/plain": [
       "   0           1                             2         3                4  \\\n",
       "0  0  1467810369  Mon Apr 06 22:19:45 PDT 2009  NO_QUERY  _TheSpecialOne_   \n",
       "1  0  1467810672  Mon Apr 06 22:19:49 PDT 2009  NO_QUERY    scotthamilton   \n",
       "2  0  1467810917  Mon Apr 06 22:19:53 PDT 2009  NO_QUERY         mattycus   \n",
       "3  0  1467811184  Mon Apr 06 22:19:57 PDT 2009  NO_QUERY          ElleCTF   \n",
       "4  0  1467811193  Mon Apr 06 22:19:57 PDT 2009  NO_QUERY           Karoli   \n",
       "\n",
       "                                                   5  \n",
       "0  @switchfoot http://twitpic.com/2y1zl - Awww, t...  \n",
       "1  is upset that he can't update his Facebook by ...  \n",
       "2  @Kenichan I dived many times for the ball. Man...  \n",
       "3    my whole body feels itchy and like its on fire   \n",
       "4  @nationwideclass no, it's not behaving at all....  "
      ]
     },
     "execution_count": 3,
     "metadata": {},
     "output_type": "execute_result"
    },
    {
     "data": {
      "text/plain": [
       "[0, 1, 2, 3, 4, 5]"
      ]
     },
     "execution_count": 3,
     "metadata": {},
     "output_type": "execute_result"
    },
    {
     "name": "stdout",
     "output_type": "stream",
     "text": [
      "\n",
      "\n"
     ]
    },
    {
     "data": {
      "text/plain": [
       "(1600000, 6)"
      ]
     },
     "execution_count": 3,
     "metadata": {},
     "output_type": "execute_result"
    }
   ],
   "source": [
    "#play with twitter data\n",
    "\n",
    "data = pd.read_csv(\"dataset/twitterfinal.csv\", engine='python', header=None)\n",
    "\n",
    "\n",
    "\n",
    "data.index\n",
    "data.head()\n",
    "list(data)\n",
    "v()\n",
    "data.shape"
   ]
  },
  {
   "cell_type": "code",
   "execution_count": 4,
   "metadata": {
    "executionInfo": {
     "elapsed": 16392,
     "status": "ok",
     "timestamp": 1604553569864,
     "user": {
      "displayName": "Vishal Arya",
      "photoUrl": "",
      "userId": "05630331593287898441"
     },
     "user_tz": 300
    },
    "id": "PovWj-LrApFN"
   },
   "outputs": [],
   "source": [
    "data.rename(columns={0: 'target',1: 'id', 2: 'date', 3: 'flag', 4: 'user', 5: 'text' }, inplace=True)\n",
    "\n",
    "# polarity of the tweet (0 = negative, 2 = neutral, 4 = positive)"
   ]
  },
  {
   "cell_type": "code",
   "execution_count": 5,
   "metadata": {
    "colab": {
     "base_uri": "https://localhost:8080/",
     "height": 399
    },
    "executionInfo": {
     "elapsed": 16380,
     "status": "ok",
     "timestamp": 1604553569865,
     "user": {
      "displayName": "Vishal Arya",
      "photoUrl": "",
      "userId": "05630331593287898441"
     },
     "user_tz": 300
    },
    "id": "12AKaBD6yc7H",
    "outputId": "6a36b9b7-06cd-4add-c23d-af5ee7a5308a"
   },
   "outputs": [
    {
     "data": {
      "text/html": [
       "<div>\n",
       "<style scoped>\n",
       "    .dataframe tbody tr th:only-of-type {\n",
       "        vertical-align: middle;\n",
       "    }\n",
       "\n",
       "    .dataframe tbody tr th {\n",
       "        vertical-align: top;\n",
       "    }\n",
       "\n",
       "    .dataframe thead th {\n",
       "        text-align: right;\n",
       "    }\n",
       "</style>\n",
       "<table border=\"1\" class=\"dataframe\">\n",
       "  <thead>\n",
       "    <tr style=\"text-align: right;\">\n",
       "      <th></th>\n",
       "      <th>target</th>\n",
       "      <th>id</th>\n",
       "      <th>date</th>\n",
       "      <th>flag</th>\n",
       "      <th>user</th>\n",
       "      <th>text</th>\n",
       "    </tr>\n",
       "  </thead>\n",
       "  <tbody>\n",
       "    <tr>\n",
       "      <th>0</th>\n",
       "      <td>0</td>\n",
       "      <td>1467810369</td>\n",
       "      <td>Mon Apr 06 22:19:45 PDT 2009</td>\n",
       "      <td>NO_QUERY</td>\n",
       "      <td>_TheSpecialOne_</td>\n",
       "      <td>@switchfoot http://twitpic.com/2y1zl - Awww, t...</td>\n",
       "    </tr>\n",
       "    <tr>\n",
       "      <th>1</th>\n",
       "      <td>0</td>\n",
       "      <td>1467810672</td>\n",
       "      <td>Mon Apr 06 22:19:49 PDT 2009</td>\n",
       "      <td>NO_QUERY</td>\n",
       "      <td>scotthamilton</td>\n",
       "      <td>is upset that he can't update his Facebook by ...</td>\n",
       "    </tr>\n",
       "    <tr>\n",
       "      <th>2</th>\n",
       "      <td>0</td>\n",
       "      <td>1467810917</td>\n",
       "      <td>Mon Apr 06 22:19:53 PDT 2009</td>\n",
       "      <td>NO_QUERY</td>\n",
       "      <td>mattycus</td>\n",
       "      <td>@Kenichan I dived many times for the ball. Man...</td>\n",
       "    </tr>\n",
       "    <tr>\n",
       "      <th>3</th>\n",
       "      <td>0</td>\n",
       "      <td>1467811184</td>\n",
       "      <td>Mon Apr 06 22:19:57 PDT 2009</td>\n",
       "      <td>NO_QUERY</td>\n",
       "      <td>ElleCTF</td>\n",
       "      <td>my whole body feels itchy and like its on fire</td>\n",
       "    </tr>\n",
       "    <tr>\n",
       "      <th>4</th>\n",
       "      <td>0</td>\n",
       "      <td>1467811193</td>\n",
       "      <td>Mon Apr 06 22:19:57 PDT 2009</td>\n",
       "      <td>NO_QUERY</td>\n",
       "      <td>Karoli</td>\n",
       "      <td>@nationwideclass no, it's not behaving at all....</td>\n",
       "    </tr>\n",
       "    <tr>\n",
       "      <th>...</th>\n",
       "      <td>...</td>\n",
       "      <td>...</td>\n",
       "      <td>...</td>\n",
       "      <td>...</td>\n",
       "      <td>...</td>\n",
       "      <td>...</td>\n",
       "    </tr>\n",
       "    <tr>\n",
       "      <th>1599995</th>\n",
       "      <td>4</td>\n",
       "      <td>2193601966</td>\n",
       "      <td>Tue Jun 16 08:40:49 PDT 2009</td>\n",
       "      <td>NO_QUERY</td>\n",
       "      <td>AmandaMarie1028</td>\n",
       "      <td>Just woke up. Having no school is the best fee...</td>\n",
       "    </tr>\n",
       "    <tr>\n",
       "      <th>1599996</th>\n",
       "      <td>4</td>\n",
       "      <td>2193601969</td>\n",
       "      <td>Tue Jun 16 08:40:49 PDT 2009</td>\n",
       "      <td>NO_QUERY</td>\n",
       "      <td>TheWDBoards</td>\n",
       "      <td>TheWDB.com - Very cool to hear old Walt interv...</td>\n",
       "    </tr>\n",
       "    <tr>\n",
       "      <th>1599997</th>\n",
       "      <td>4</td>\n",
       "      <td>2193601991</td>\n",
       "      <td>Tue Jun 16 08:40:49 PDT 2009</td>\n",
       "      <td>NO_QUERY</td>\n",
       "      <td>bpbabe</td>\n",
       "      <td>Are you ready for your MoJo Makeover? Ask me f...</td>\n",
       "    </tr>\n",
       "    <tr>\n",
       "      <th>1599998</th>\n",
       "      <td>4</td>\n",
       "      <td>2193602064</td>\n",
       "      <td>Tue Jun 16 08:40:49 PDT 2009</td>\n",
       "      <td>NO_QUERY</td>\n",
       "      <td>tinydiamondz</td>\n",
       "      <td>Happy 38th Birthday to my boo of alll time!!! ...</td>\n",
       "    </tr>\n",
       "    <tr>\n",
       "      <th>1599999</th>\n",
       "      <td>4</td>\n",
       "      <td>2193602129</td>\n",
       "      <td>Tue Jun 16 08:40:50 PDT 2009</td>\n",
       "      <td>NO_QUERY</td>\n",
       "      <td>RyanTrevMorris</td>\n",
       "      <td>happy #charitytuesday @theNSPCC @SparksCharity...</td>\n",
       "    </tr>\n",
       "  </tbody>\n",
       "</table>\n",
       "<p>1600000 rows × 6 columns</p>\n",
       "</div>"
      ],
      "text/plain": [
       "         target          id                          date      flag  \\\n",
       "0             0  1467810369  Mon Apr 06 22:19:45 PDT 2009  NO_QUERY   \n",
       "1             0  1467810672  Mon Apr 06 22:19:49 PDT 2009  NO_QUERY   \n",
       "2             0  1467810917  Mon Apr 06 22:19:53 PDT 2009  NO_QUERY   \n",
       "3             0  1467811184  Mon Apr 06 22:19:57 PDT 2009  NO_QUERY   \n",
       "4             0  1467811193  Mon Apr 06 22:19:57 PDT 2009  NO_QUERY   \n",
       "...         ...         ...                           ...       ...   \n",
       "1599995       4  2193601966  Tue Jun 16 08:40:49 PDT 2009  NO_QUERY   \n",
       "1599996       4  2193601969  Tue Jun 16 08:40:49 PDT 2009  NO_QUERY   \n",
       "1599997       4  2193601991  Tue Jun 16 08:40:49 PDT 2009  NO_QUERY   \n",
       "1599998       4  2193602064  Tue Jun 16 08:40:49 PDT 2009  NO_QUERY   \n",
       "1599999       4  2193602129  Tue Jun 16 08:40:50 PDT 2009  NO_QUERY   \n",
       "\n",
       "                    user                                               text  \n",
       "0        _TheSpecialOne_  @switchfoot http://twitpic.com/2y1zl - Awww, t...  \n",
       "1          scotthamilton  is upset that he can't update his Facebook by ...  \n",
       "2               mattycus  @Kenichan I dived many times for the ball. Man...  \n",
       "3                ElleCTF    my whole body feels itchy and like its on fire   \n",
       "4                 Karoli  @nationwideclass no, it's not behaving at all....  \n",
       "...                  ...                                                ...  \n",
       "1599995  AmandaMarie1028  Just woke up. Having no school is the best fee...  \n",
       "1599996      TheWDBoards  TheWDB.com - Very cool to hear old Walt interv...  \n",
       "1599997           bpbabe  Are you ready for your MoJo Makeover? Ask me f...  \n",
       "1599998     tinydiamondz  Happy 38th Birthday to my boo of alll time!!! ...  \n",
       "1599999   RyanTrevMorris  happy #charitytuesday @theNSPCC @SparksCharity...  \n",
       "\n",
       "[1600000 rows x 6 columns]"
      ]
     },
     "execution_count": 5,
     "metadata": {},
     "output_type": "execute_result"
    }
   ],
   "source": [
    "data"
   ]
  },
  {
   "cell_type": "code",
   "execution_count": 6,
   "metadata": {
    "colab": {
     "base_uri": "https://localhost:8080/"
    },
    "executionInfo": {
     "elapsed": 16902,
     "status": "ok",
     "timestamp": 1604553570397,
     "user": {
      "displayName": "Vishal Arya",
      "photoUrl": "",
      "userId": "05630331593287898441"
     },
     "user_tz": 300
    },
    "id": "mn1HCBKgAoiq",
    "outputId": "f87d4477-577a-4630-8c87-3a1194625830"
   },
   "outputs": [
    {
     "data": {
      "text/plain": [
       "target   0.00000\n",
       "id       0.00000\n",
       "date     0.00000\n",
       "flag     0.00000\n",
       "user     0.00000\n",
       "text     0.00000\n",
       "dtype: float64"
      ]
     },
     "execution_count": 6,
     "metadata": {},
     "output_type": "execute_result"
    }
   ],
   "source": [
    "data.isnull().sum() / data.shape[0] ## no nulls"
   ]
  },
  {
   "cell_type": "code",
   "execution_count": 7,
   "metadata": {
    "colab": {
     "base_uri": "https://localhost:8080/"
    },
    "executionInfo": {
     "elapsed": 271803,
     "status": "ok",
     "timestamp": 1604553825326,
     "user": {
      "displayName": "Vishal Arya",
      "photoUrl": "",
      "userId": "05630331593287898441"
     },
     "user_tz": 300
    },
    "id": "LO7gT3Ds_dDM",
    "outputId": "108ca1ce-8b9a-44fb-ea90-dee3eff1074c"
   },
   "outputs": [
    {
     "name": "stderr",
     "output_type": "stream",
     "text": [
      "/home/aryavish/anaconda3/lib/python3.8/site-packages/dateutil/parser/_parser.py:1213: UnknownTimezoneWarning:\n",
      "\n",
      "tzname PDT identified but not understood.  Pass `tzinfos` argument in order to correctly return a timezone-aware datetime.  In a future version, this will raise an exception.\n",
      "\n"
     ]
    }
   ],
   "source": [
    "# basic EDA on his tweets\n",
    "\n",
    "data['twlength'] = data.text.apply(lambda x: len(x))\n",
    "\n",
    "data.date = pd.to_datetime(data['date'])\n",
    "\n",
    "data['tw_day'] = [d.date() for d in data['date']]\n",
    "data['tw_time'] = [d.time() for d in data['date']]"
   ]
  },
  {
   "cell_type": "code",
   "execution_count": 8,
   "metadata": {
    "colab": {
     "base_uri": "https://localhost:8080/",
     "height": 193
    },
    "executionInfo": {
     "elapsed": 271792,
     "status": "ok",
     "timestamp": 1604553825330,
     "user": {
      "displayName": "Vishal Arya",
      "photoUrl": "",
      "userId": "05630331593287898441"
     },
     "user_tz": 300
    },
    "id": "B6RXFMG_A3P9",
    "outputId": "ff074f65-0aaf-4d82-dc36-a6237f305d30"
   },
   "outputs": [
    {
     "data": {
      "text/html": [
       "<div>\n",
       "<style scoped>\n",
       "    .dataframe tbody tr th:only-of-type {\n",
       "        vertical-align: middle;\n",
       "    }\n",
       "\n",
       "    .dataframe tbody tr th {\n",
       "        vertical-align: top;\n",
       "    }\n",
       "\n",
       "    .dataframe thead th {\n",
       "        text-align: right;\n",
       "    }\n",
       "</style>\n",
       "<table border=\"1\" class=\"dataframe\">\n",
       "  <thead>\n",
       "    <tr style=\"text-align: right;\">\n",
       "      <th></th>\n",
       "      <th>target</th>\n",
       "      <th>id</th>\n",
       "      <th>date</th>\n",
       "      <th>flag</th>\n",
       "      <th>user</th>\n",
       "      <th>text</th>\n",
       "      <th>twlength</th>\n",
       "      <th>tw_day</th>\n",
       "      <th>tw_time</th>\n",
       "    </tr>\n",
       "  </thead>\n",
       "  <tbody>\n",
       "    <tr>\n",
       "      <th>0</th>\n",
       "      <td>0</td>\n",
       "      <td>1467810369</td>\n",
       "      <td>2009-04-06 22:19:45</td>\n",
       "      <td>NO_QUERY</td>\n",
       "      <td>_TheSpecialOne_</td>\n",
       "      <td>@switchfoot http://twitpic.com/2y1zl - Awww, t...</td>\n",
       "      <td>115</td>\n",
       "      <td>2009-04-06</td>\n",
       "      <td>22:19:45</td>\n",
       "    </tr>\n",
       "    <tr>\n",
       "      <th>1</th>\n",
       "      <td>0</td>\n",
       "      <td>1467810672</td>\n",
       "      <td>2009-04-06 22:19:49</td>\n",
       "      <td>NO_QUERY</td>\n",
       "      <td>scotthamilton</td>\n",
       "      <td>is upset that he can't update his Facebook by ...</td>\n",
       "      <td>111</td>\n",
       "      <td>2009-04-06</td>\n",
       "      <td>22:19:49</td>\n",
       "    </tr>\n",
       "    <tr>\n",
       "      <th>2</th>\n",
       "      <td>0</td>\n",
       "      <td>1467810917</td>\n",
       "      <td>2009-04-06 22:19:53</td>\n",
       "      <td>NO_QUERY</td>\n",
       "      <td>mattycus</td>\n",
       "      <td>@Kenichan I dived many times for the ball. Man...</td>\n",
       "      <td>89</td>\n",
       "      <td>2009-04-06</td>\n",
       "      <td>22:19:53</td>\n",
       "    </tr>\n",
       "    <tr>\n",
       "      <th>3</th>\n",
       "      <td>0</td>\n",
       "      <td>1467811184</td>\n",
       "      <td>2009-04-06 22:19:57</td>\n",
       "      <td>NO_QUERY</td>\n",
       "      <td>ElleCTF</td>\n",
       "      <td>my whole body feels itchy and like its on fire</td>\n",
       "      <td>47</td>\n",
       "      <td>2009-04-06</td>\n",
       "      <td>22:19:57</td>\n",
       "    </tr>\n",
       "    <tr>\n",
       "      <th>4</th>\n",
       "      <td>0</td>\n",
       "      <td>1467811193</td>\n",
       "      <td>2009-04-06 22:19:57</td>\n",
       "      <td>NO_QUERY</td>\n",
       "      <td>Karoli</td>\n",
       "      <td>@nationwideclass no, it's not behaving at all....</td>\n",
       "      <td>111</td>\n",
       "      <td>2009-04-06</td>\n",
       "      <td>22:19:57</td>\n",
       "    </tr>\n",
       "  </tbody>\n",
       "</table>\n",
       "</div>"
      ],
      "text/plain": [
       "   target          id                date      flag             user  \\\n",
       "0       0  1467810369 2009-04-06 22:19:45  NO_QUERY  _TheSpecialOne_   \n",
       "1       0  1467810672 2009-04-06 22:19:49  NO_QUERY    scotthamilton   \n",
       "2       0  1467810917 2009-04-06 22:19:53  NO_QUERY         mattycus   \n",
       "3       0  1467811184 2009-04-06 22:19:57  NO_QUERY          ElleCTF   \n",
       "4       0  1467811193 2009-04-06 22:19:57  NO_QUERY           Karoli   \n",
       "\n",
       "                                                text  twlength      tw_day  \\\n",
       "0  @switchfoot http://twitpic.com/2y1zl - Awww, t...       115  2009-04-06   \n",
       "1  is upset that he can't update his Facebook by ...       111  2009-04-06   \n",
       "2  @Kenichan I dived many times for the ball. Man...        89  2009-04-06   \n",
       "3    my whole body feels itchy and like its on fire         47  2009-04-06   \n",
       "4  @nationwideclass no, it's not behaving at all....       111  2009-04-06   \n",
       "\n",
       "    tw_time  \n",
       "0  22:19:45  \n",
       "1  22:19:49  \n",
       "2  22:19:53  \n",
       "3  22:19:57  \n",
       "4  22:19:57  "
      ]
     },
     "execution_count": 8,
     "metadata": {},
     "output_type": "execute_result"
    }
   ],
   "source": [
    "data.head()"
   ]
  },
  {
   "cell_type": "code",
   "execution_count": 9,
   "metadata": {
    "colab": {
     "base_uri": "https://localhost:8080/"
    },
    "executionInfo": {
     "elapsed": 271778,
     "status": "ok",
     "timestamp": 1604553825331,
     "user": {
      "displayName": "Vishal Arya",
      "photoUrl": "",
      "userId": "05630331593287898441"
     },
     "user_tz": 300
    },
    "id": "Ab_E46RMBwdP",
    "outputId": "b8770383-0c34-41e8-d3e4-37996336fbd9"
   },
   "outputs": [
    {
     "data": {
      "text/plain": [
       "count   1600000.00000\n",
       "mean         74.04177\n",
       "std          36.38800\n",
       "min           6.00000\n",
       "25%          44.00000\n",
       "50%          69.00000\n",
       "75%         104.00000\n",
       "max         359.00000\n",
       "Name: twlength, dtype: float64"
      ]
     },
     "execution_count": 9,
     "metadata": {},
     "output_type": "execute_result"
    }
   ],
   "source": [
    "data.twlength.describe() #outliers"
   ]
  },
  {
   "cell_type": "code",
   "execution_count": 10,
   "metadata": {
    "executionInfo": {
     "elapsed": 272423,
     "status": "ok",
     "timestamp": 1604553825980,
     "user": {
      "displayName": "Vishal Arya",
      "photoUrl": "",
      "userId": "05630331593287898441"
     },
     "user_tz": 300
    },
    "id": "ogwPLuZhCBtS"
   },
   "outputs": [],
   "source": [
    "cap = 280 # MAX tweet length as of 10/2020\n",
    "\n",
    "data = data[data.twlength <= cap]\n",
    "\n"
   ]
  },
  {
   "cell_type": "code",
   "execution_count": 11,
   "metadata": {
    "colab": {
     "base_uri": "https://localhost:8080/",
     "height": 475
    },
    "executionInfo": {
     "elapsed": 272925,
     "status": "ok",
     "timestamp": 1604553826506,
     "user": {
      "displayName": "Vishal Arya",
      "photoUrl": "",
      "userId": "05630331593287898441"
     },
     "user_tz": 300
    },
    "id": "HJD_nTknC6Ix",
    "outputId": "64d58534-5ba8-40ca-fe0b-548b3887b3c7"
   },
   "outputs": [
    {
     "data": {
      "text/plain": [
       "<matplotlib.axes._subplots.AxesSubplot at 0x7f406cb156d0>"
      ]
     },
     "execution_count": 11,
     "metadata": {},
     "output_type": "execute_result"
    },
    {
     "data": {
      "text/plain": [
       "count   1599999.00000\n",
       "mean         74.04159\n",
       "std          36.38731\n",
       "min           6.00000\n",
       "25%          44.00000\n",
       "50%          69.00000\n",
       "75%         104.00000\n",
       "max         235.00000\n",
       "Name: twlength, dtype: float64"
      ]
     },
     "execution_count": 11,
     "metadata": {},
     "output_type": "execute_result"
    },
    {
     "name": "stdout",
     "output_type": "stream",
     "text": [
      "\n",
      "\n"
     ]
    },
    {
     "data": {
      "text/plain": [
       "0.2629637089661638"
      ]
     },
     "execution_count": 11,
     "metadata": {},
     "output_type": "execute_result"
    },
    {
     "data": {
      "image/png": "[encoded data removed]",
      "text/plain": [
       "<Figure size 432x288 with 1 Axes>"
      ]
     },
     "metadata": {
      "needs_background": "light"
     },
     "output_type": "display_data"
    }
   ],
   "source": [
    "data.twlength.plot.hist()\n",
    "\n",
    "data.twlength.describe()\n",
    "\n",
    "v()\n",
    "\n",
    "skew(data.twlength) #mean tweet length of 75\n",
    "\n"
   ]
  },
  {
   "cell_type": "code",
   "execution_count": null,
   "metadata": {
    "executionInfo": {
     "elapsed": 272922,
     "status": "ok",
     "timestamp": 1604553826507,
     "user": {
      "displayName": "Vishal Arya",
      "photoUrl": "",
      "userId": "05630331593287898441"
     },
     "user_tz": 300
    },
    "id": "JCzQSyC-2Q0D"
   },
   "outputs": [],
   "source": []
  },
  {
   "cell_type": "code",
   "execution_count": 12,
   "metadata": {
    "colab": {
     "base_uri": "https://localhost:8080/",
     "height": 473
    },
    "executionInfo": {
     "elapsed": 273492,
     "status": "ok",
     "timestamp": 1604553827087,
     "user": {
      "displayName": "Vishal Arya",
      "photoUrl": "",
      "userId": "05630331593287898441"
     },
     "user_tz": 300
    },
    "id": "Qrrug9SzFGW9",
    "outputId": "a7853af3-fbf4-413c-df34-23b480a63cb2"
   },
   "outputs": [
    {
     "data": {
      "text/html": [
       "<div>\n",
       "<style scoped>\n",
       "    .dataframe tbody tr th:only-of-type {\n",
       "        vertical-align: middle;\n",
       "    }\n",
       "\n",
       "    .dataframe tbody tr th {\n",
       "        vertical-align: top;\n",
       "    }\n",
       "\n",
       "    .dataframe thead th {\n",
       "        text-align: right;\n",
       "    }\n",
       "</style>\n",
       "<table border=\"1\" class=\"dataframe\">\n",
       "  <thead>\n",
       "    <tr style=\"text-align: right;\">\n",
       "      <th></th>\n",
       "      <th>vcount</th>\n",
       "    </tr>\n",
       "  </thead>\n",
       "  <tbody>\n",
       "    <tr>\n",
       "      <th>count</th>\n",
       "      <td>48.00000</td>\n",
       "    </tr>\n",
       "    <tr>\n",
       "      <th>mean</th>\n",
       "      <td>33333.31250</td>\n",
       "    </tr>\n",
       "    <tr>\n",
       "      <th>std</th>\n",
       "      <td>32945.54055</td>\n",
       "    </tr>\n",
       "    <tr>\n",
       "      <th>min</th>\n",
       "      <td>169.00000</td>\n",
       "    </tr>\n",
       "    <tr>\n",
       "      <th>25%</th>\n",
       "      <td>8508.25000</td>\n",
       "    </tr>\n",
       "    <tr>\n",
       "      <th>50%</th>\n",
       "      <td>19077.00000</td>\n",
       "    </tr>\n",
       "    <tr>\n",
       "      <th>75%</th>\n",
       "      <td>43355.00000</td>\n",
       "    </tr>\n",
       "    <tr>\n",
       "      <th>max</th>\n",
       "      <td>111676.00000</td>\n",
       "    </tr>\n",
       "  </tbody>\n",
       "</table>\n",
       "</div>"
      ],
      "text/plain": [
       "            vcount\n",
       "count     48.00000\n",
       "mean   33333.31250\n",
       "std    32945.54055\n",
       "min      169.00000\n",
       "25%     8508.25000\n",
       "50%    19077.00000\n",
       "75%    43355.00000\n",
       "max   111676.00000"
      ]
     },
     "execution_count": 12,
     "metadata": {},
     "output_type": "execute_result"
    },
    {
     "name": "stdout",
     "output_type": "stream",
     "text": [
      "\n",
      "\n",
      "\n",
      "\n"
     ]
    },
    {
     "data": {
      "text/plain": [
       "datetime.date(2009, 4, 6)"
      ]
     },
     "execution_count": 12,
     "metadata": {},
     "output_type": "execute_result"
    },
    {
     "name": "stdout",
     "output_type": "stream",
     "text": [
      "\n",
      "\n"
     ]
    },
    {
     "data": {
      "text/plain": [
       "datetime.date(2009, 6, 25)"
      ]
     },
     "execution_count": 12,
     "metadata": {},
     "output_type": "execute_result"
    },
    {
     "name": "stdout",
     "output_type": "stream",
     "text": [
      "\n",
      "\n"
     ]
    },
    {
     "data": {
      "text/plain": [
       "80"
      ]
     },
     "execution_count": 12,
     "metadata": {},
     "output_type": "execute_result"
    },
    {
     "name": "stdout",
     "output_type": "stream",
     "text": [
      "\n",
      " mean tweets per day is:  19999.9875\n"
     ]
    }
   ],
   "source": [
    "data.groupby('tw_day').agg(vcount = ('id','count')).describe() #hes tweeting 16x a day?\n",
    "\n",
    "v()\n",
    "\n",
    "oldest = min(data.tw_day)\n",
    "v()\n",
    "newest = max(data.tw_day)\n",
    "\n",
    "dateper = (newest - oldest).days\n",
    "\n",
    "oldest;v() # 1/1/17\n",
    "newest;v() # 10/2/20\n",
    "dateper # 1370 days\n",
    "\n",
    "print(\"\\n mean tweets per day is: \",data.shape[0] / dateper)"
   ]
  },
  {
   "cell_type": "code",
   "execution_count": 13,
   "metadata": {
    "colab": {
     "base_uri": "https://localhost:8080/",
     "height": 812
    },
    "executionInfo": {
     "elapsed": 274461,
     "status": "ok",
     "timestamp": 1604553828067,
     "user": {
      "displayName": "Vishal Arya",
      "photoUrl": "",
      "userId": "05630331593287898441"
     },
     "user_tz": 300
    },
    "id": "Zp-Ei9ilHeFC",
    "outputId": "71663e85-877e-412d-ccd0-500f0c694dbc"
   },
   "outputs": [
    {
     "data": {
      "text/plain": [
       "<matplotlib.axes._subplots.AxesSubplot at 0x7f406074cc10>"
      ]
     },
     "execution_count": 13,
     "metadata": {},
     "output_type": "execute_result"
    },
    {
     "data": {
      "image/png": "[encoded data removed]",
      "text/plain": [
       "<Figure size 432x288 with 1 Axes>"
      ]
     },
     "execution_count": 13,
     "metadata": {},
     "output_type": "execute_result"
    },
    {
     "data": {
      "image/png": "[encoded data removed]",
      "text/plain": [
       "<Figure size 432x288 with 1 Axes>"
      ]
     },
     "metadata": {
      "needs_background": "light"
     },
     "output_type": "display_data"
    },
    {
     "data": {
      "image/png": "[encoded data removed]",
      "text/plain": [
       "<Figure size 432x288 with 1 Axes>"
      ]
     },
     "metadata": {
      "needs_background": "light"
     },
     "output_type": "display_data"
    }
   ],
   "source": [
    "twperday = data.groupby('tw_day').agg(vcount = ('id','count'))\n",
    "\n",
    "twperday.plot.hist()\n",
    "\n",
    "plot_acf(twperday.vcount, lags=20) #clear indication of trend and looks like some periodicitity at lag = 7 --> weekly"
   ]
  },
  {
   "cell_type": "code",
   "execution_count": 14,
   "metadata": {
    "colab": {
     "base_uri": "https://localhost:8080/"
    },
    "executionInfo": {
     "elapsed": 275837,
     "status": "ok",
     "timestamp": 1604553829453,
     "user": {
      "displayName": "Vishal Arya",
      "photoUrl": "",
      "userId": "05630331593287898441"
     },
     "user_tz": 300
    },
    "id": "8xpfxPMlONaa",
    "outputId": "5967fcea-4766-4118-f82e-6d0db402f25b"
   },
   "outputs": [
    {
     "data": {
      "text/plain": [
       "count      1599999\n",
       "unique       86386\n",
       "top       07:29:48\n",
       "freq            66\n",
       "Name: tw_time, dtype: object"
      ]
     },
     "execution_count": 14,
     "metadata": {},
     "output_type": "execute_result"
    },
    {
     "name": "stdout",
     "output_type": "stream",
     "text": [
      "\n",
      "\n"
     ]
    },
    {
     "data": {
      "text/plain": [
       "datetime.time(0, 0)"
      ]
     },
     "execution_count": 14,
     "metadata": {},
     "output_type": "execute_result"
    },
    {
     "name": "stdout",
     "output_type": "stream",
     "text": [
      "\n",
      "\n"
     ]
    },
    {
     "data": {
      "text/plain": [
       "datetime.time(23, 59, 59)"
      ]
     },
     "execution_count": 14,
     "metadata": {},
     "output_type": "execute_result"
    },
    {
     "name": "stderr",
     "output_type": "stream",
     "text": [
      "<ipython-input-14-49c72c71dee6>:10: SettingWithCopyWarning:\n",
      "\n",
      "\n",
      "A value is trying to be set on a copy of a slice from a DataFrame.\n",
      "Try using .loc[row_indexer,col_indexer] = value instead\n",
      "\n",
      "See the caveats in the documentation: https://pandas.pydata.org/pandas-docs/stable/user_guide/indexing.html#returning-a-view-versus-a-copy\n",
      "\n"
     ]
    }
   ],
   "source": [
    "## explore tweeting times\n",
    "\n",
    "data.tw_time.describe()\n",
    "v()\n",
    "min(data.tw_time)\n",
    "v()\n",
    "max(data.tw_time) #he tweets 24 hrs a day\n",
    "\n",
    "# add hour\n",
    "data['hour'] = data.tw_time.apply(lambda x: x.hour)\n",
    "\n",
    "twtime = data.groupby('hour').agg(vc = ('id','count'))\n"
   ]
  },
  {
   "cell_type": "code",
   "execution_count": 15,
   "metadata": {
    "colab": {
     "base_uri": "https://localhost:8080/",
     "height": 591
    },
    "executionInfo": {
     "elapsed": 276107,
     "status": "ok",
     "timestamp": 1604553829733,
     "user": {
      "displayName": "Vishal Arya",
      "photoUrl": "",
      "userId": "05630331593287898441"
     },
     "user_tz": 300
    },
    "id": "rtboI7loPOk6",
    "outputId": "c5b12ba8-f6dc-4d1e-e5d4-7e87dce5e98e"
   },
   "outputs": [
    {
     "data": {
      "image/png": "[encoded data removed]",
      "text/plain": [
       "<Figure size 720x720 with 1 Axes>"
      ]
     },
     "metadata": {
      "needs_background": "light"
     },
     "output_type": "display_data"
    }
   ],
   "source": [
    "plt.figure(figsize=(10,10))\n",
    "plt.plot(twtime.index,twtime.vc)\n",
    "plt.ylabel(\"# tweets\")\n",
    "plt.xticks(twtime.index)\n",
    "clear_output() \n",
    "\n",
    "#tweet peaks around 12-1pm, significant late night tweeting between 2-3AM and late night 10-11PM\n",
    "#suspect he's asleep 4-8AM\n",
    "\n",
    "##meaningless analysis since not normalized for specific time region"
   ]
  },
  {
   "cell_type": "code",
   "execution_count": 16,
   "metadata": {
    "colab": {
     "base_uri": "https://localhost:8080/",
     "height": 322
    },
    "executionInfo": {
     "elapsed": 276376,
     "status": "ok",
     "timestamp": 1604553830012,
     "user": {
      "displayName": "Vishal Arya",
      "photoUrl": "",
      "userId": "05630331593287898441"
     },
     "user_tz": 300
    },
    "id": "jnKL8a1z3yEc",
    "outputId": "15351506-e8f9-4077-e7a0-4ff81d693b28"
   },
   "outputs": [
    {
     "data": {
      "text/plain": [
       "<matplotlib.axes._subplots.AxesSubplot at 0x7f40606d2430>"
      ]
     },
     "execution_count": 16,
     "metadata": {},
     "output_type": "execute_result"
    },
    {
     "name": "stdout",
     "output_type": "stream",
     "text": [
      "\n",
      "\n"
     ]
    },
    {
     "data": {
      "text/plain": [
       "array([0, 4])"
      ]
     },
     "execution_count": 16,
     "metadata": {},
     "output_type": "execute_result"
    },
    {
     "data": {
      "image/png": "[encoded data removed]",
      "text/plain": [
       "<Figure size 432x288 with 1 Axes>"
      ]
     },
     "metadata": {
      "needs_background": "light"
     },
     "output_type": "display_data"
    }
   ],
   "source": [
    "data.target.plot.hist()\n",
    "v()\n",
    "data.target.unique() ##this data ONLY contains negative and positive tweets\n"
   ]
  },
  {
   "cell_type": "code",
   "execution_count": 17,
   "metadata": {
    "executionInfo": {
     "elapsed": 306436,
     "status": "ok",
     "timestamp": 1604553860076,
     "user": {
      "displayName": "Vishal Arya",
      "photoUrl": "",
      "userId": "05630331593287898441"
     },
     "user_tz": 300
    },
    "id": "NbNZ4wVyZM23"
   },
   "outputs": [],
   "source": [
    "#unique words eda\n",
    "\n",
    "stops =  set(stopwords.words('english')+['com'])\n",
    "co = CountVectorizer(stop_words=stops)\n",
    "counts = co.fit_transform(data.text)\n",
    "\n",
    "df_words = pd.DataFrame(counts.sum(axis=0),columns=co.get_feature_names()).T.sort_values(0,ascending=False)\n"
   ]
  },
  {
   "cell_type": "code",
   "execution_count": 18,
   "metadata": {
    "colab": {
     "base_uri": "https://localhost:8080/"
    },
    "executionInfo": {
     "elapsed": 306430,
     "status": "ok",
     "timestamp": 1604553860079,
     "user": {
      "displayName": "Vishal Arya",
      "photoUrl": "",
      "userId": "05630331593287898441"
     },
     "user_tz": 300
    },
    "id": "huAUk_LBbYq_",
    "outputId": "5a603515-6673-4a36-f961-c02daef66802"
   },
   "outputs": [
    {
     "data": {
      "text/plain": [
       "(686634, 1)"
      ]
     },
     "execution_count": 18,
     "metadata": {},
     "output_type": "execute_result"
    }
   ],
   "source": [
    "df_words.shape #686k unique words\n",
    "\n",
    "df_words.rename(columns={0: 'vcount'}, inplace=True)\n",
    "\n"
   ]
  },
  {
   "cell_type": "code",
   "execution_count": 19,
   "metadata": {
    "colab": {
     "base_uri": "https://localhost:8080/",
     "height": 281
    },
    "executionInfo": {
     "elapsed": 306420,
     "status": "ok",
     "timestamp": 1604553860080,
     "user": {
      "displayName": "Vishal Arya",
      "photoUrl": "",
      "userId": "05630331593287898441"
     },
     "user_tz": 300
    },
    "id": "JwvJlAnLduNI",
    "outputId": "e8e83ae8-ee16-4c89-b399-904ccbddf708"
   },
   "outputs": [
    {
     "data": {
      "text/html": [
       "<div>\n",
       "<style scoped>\n",
       "    .dataframe tbody tr th:only-of-type {\n",
       "        vertical-align: middle;\n",
       "    }\n",
       "\n",
       "    .dataframe tbody tr th {\n",
       "        vertical-align: top;\n",
       "    }\n",
       "\n",
       "    .dataframe thead th {\n",
       "        text-align: right;\n",
       "    }\n",
       "</style>\n",
       "<table border=\"1\" class=\"dataframe\">\n",
       "  <thead>\n",
       "    <tr style=\"text-align: right;\">\n",
       "      <th></th>\n",
       "      <th>vcount</th>\n",
       "    </tr>\n",
       "  </thead>\n",
       "  <tbody>\n",
       "    <tr>\n",
       "      <th>count</th>\n",
       "      <td>10000.00000</td>\n",
       "    </tr>\n",
       "    <tr>\n",
       "      <th>mean</th>\n",
       "      <td>1028.79710</td>\n",
       "    </tr>\n",
       "    <tr>\n",
       "      <th>std</th>\n",
       "      <td>4062.55795</td>\n",
       "    </tr>\n",
       "    <tr>\n",
       "      <th>min</th>\n",
       "      <td>78.00000</td>\n",
       "    </tr>\n",
       "    <tr>\n",
       "      <th>25%</th>\n",
       "      <td>120.00000</td>\n",
       "    </tr>\n",
       "    <tr>\n",
       "      <th>50%</th>\n",
       "      <td>211.00000</td>\n",
       "    </tr>\n",
       "    <tr>\n",
       "      <th>75%</th>\n",
       "      <td>546.00000</td>\n",
       "    </tr>\n",
       "    <tr>\n",
       "      <th>max</th>\n",
       "      <td>91332.00000</td>\n",
       "    </tr>\n",
       "  </tbody>\n",
       "</table>\n",
       "</div>"
      ],
      "text/plain": [
       "           vcount\n",
       "count 10000.00000\n",
       "mean   1028.79710\n",
       "std    4062.55795\n",
       "min      78.00000\n",
       "25%     120.00000\n",
       "50%     211.00000\n",
       "75%     546.00000\n",
       "max   91332.00000"
      ]
     },
     "execution_count": 19,
     "metadata": {},
     "output_type": "execute_result"
    }
   ],
   "source": [
    "df_words.head(10000).describe()"
   ]
  },
  {
   "cell_type": "code",
   "execution_count": 20,
   "metadata": {
    "colab": {
     "base_uri": "https://localhost:8080/",
     "height": 687
    },
    "executionInfo": {
     "elapsed": 306552,
     "status": "ok",
     "timestamp": 1604553860223,
     "user": {
      "displayName": "Vishal Arya",
      "photoUrl": "",
      "userId": "05630331593287898441"
     },
     "user_tz": 300
    },
    "id": "iBj7P7o9dROA",
    "outputId": "003db4fe-1fc0-4afa-8068-9e3baaeaa202"
   },
   "outputs": [
    {
     "data": {
      "text/plain": [
       "<Figure size 2160x720 with 0 Axes>"
      ]
     },
     "execution_count": 20,
     "metadata": {},
     "output_type": "execute_result"
    },
    {
     "data": {
      "text/plain": [
       "<matplotlib.axes._subplots.AxesSubplot at 0x7f4060642190>"
      ]
     },
     "execution_count": 20,
     "metadata": {},
     "output_type": "execute_result"
    },
    {
     "data": {
      "text/plain": [
       "([<matplotlib.axis.XTick at 0x7f4060644ca0>,\n",
       "  <matplotlib.axis.XTick at 0x7f4060644c70>,\n",
       "  <matplotlib.axis.XTick at 0x7f405951b160>,\n",
       "  <matplotlib.axis.XTick at 0x7f40595211c0>],\n",
       " <a list of 4 Text major ticklabel objects>)"
      ]
     },
     "execution_count": 20,
     "metadata": {},
     "output_type": "execute_result"
    },
    {
     "data": {
      "image/png": "[encoded data removed]",
      "text/plain": [
       "<Figure size 2160x720 with 1 Axes>"
      ]
     },
     "metadata": {
      "needs_background": "light"
     },
     "output_type": "display_data"
    }
   ],
   "source": [
    "binlist = [10,75,250,600]\n",
    "binwidth = 100\n",
    "\n",
    "plt.figure(figsize=[30,10])\n",
    "df_words.vcount.plot.hist(bins=binlist)\n",
    "plt.xticks(binlist)"
   ]
  },
  {
   "cell_type": "code",
   "execution_count": 21,
   "metadata": {
    "colab": {
     "base_uri": "https://localhost:8080/",
     "height": 249
    },
    "executionInfo": {
     "elapsed": 306542,
     "status": "ok",
     "timestamp": 1604553860224,
     "user": {
      "displayName": "Vishal Arya",
      "photoUrl": "",
      "userId": "05630331593287898441"
     },
     "user_tz": 300
    },
    "id": "gGH34kXJTL9H",
    "outputId": "5e6e0310-1dd9-4e9c-ba68-a96f2607e4ea"
   },
   "outputs": [
    {
     "data": {
      "text/plain": [
       "count   686634.00000\n",
       "mean        17.74083\n",
       "std        505.45857\n",
       "min          1.00000\n",
       "25%          1.00000\n",
       "50%          1.00000\n",
       "75%          2.00000\n",
       "max      91332.00000\n",
       "Name: vcount, dtype: float64"
      ]
     },
     "execution_count": 21,
     "metadata": {},
     "output_type": "execute_result"
    },
    {
     "data": {
      "text/html": [
       "<div>\n",
       "<style scoped>\n",
       "    .dataframe tbody tr th:only-of-type {\n",
       "        vertical-align: middle;\n",
       "    }\n",
       "\n",
       "    .dataframe tbody tr th {\n",
       "        vertical-align: top;\n",
       "    }\n",
       "\n",
       "    .dataframe thead th {\n",
       "        text-align: right;\n",
       "    }\n",
       "</style>\n",
       "<table border=\"1\" class=\"dataframe\">\n",
       "  <thead>\n",
       "    <tr style=\"text-align: right;\">\n",
       "      <th></th>\n",
       "      <th>vcount</th>\n",
       "    </tr>\n",
       "  </thead>\n",
       "  <tbody>\n",
       "    <tr>\n",
       "      <th>good</th>\n",
       "      <td>91332</td>\n",
       "    </tr>\n",
       "  </tbody>\n",
       "</table>\n",
       "</div>"
      ],
      "text/plain": [
       "      vcount\n",
       "good   91332"
      ]
     },
     "execution_count": 21,
     "metadata": {},
     "output_type": "execute_result"
    }
   ],
   "source": [
    "df_words.vcount.describe()\n",
    "\n",
    "df_words[df_words.vcount == 91332]"
   ]
  },
  {
   "cell_type": "code",
   "execution_count": 22,
   "metadata": {
    "colab": {
     "base_uri": "https://localhost:8080/",
     "height": 281
    },
    "executionInfo": {
     "elapsed": 306529,
     "status": "ok",
     "timestamp": 1604553860225,
     "user": {
      "displayName": "Vishal Arya",
      "photoUrl": "",
      "userId": "05630331593287898441"
     },
     "user_tz": 300
    },
    "id": "ixSf3WxBRohw",
    "outputId": "a7d64524-44de-4dae-8bc5-91236d5695cb"
   },
   "outputs": [
    {
     "data": {
      "text/html": [
       "<div>\n",
       "<style scoped>\n",
       "    .dataframe tbody tr th:only-of-type {\n",
       "        vertical-align: middle;\n",
       "    }\n",
       "\n",
       "    .dataframe tbody tr th {\n",
       "        vertical-align: top;\n",
       "    }\n",
       "\n",
       "    .dataframe thead th {\n",
       "        text-align: right;\n",
       "    }\n",
       "</style>\n",
       "<table border=\"1\" class=\"dataframe\">\n",
       "  <thead>\n",
       "    <tr style=\"text-align: right;\">\n",
       "      <th></th>\n",
       "      <th>vcount</th>\n",
       "    </tr>\n",
       "  </thead>\n",
       "  <tbody>\n",
       "    <tr>\n",
       "      <th>count</th>\n",
       "      <td>68000.00000</td>\n",
       "    </tr>\n",
       "    <tr>\n",
       "      <th>mean</th>\n",
       "      <td>165.83534</td>\n",
       "    </tr>\n",
       "    <tr>\n",
       "      <th>std</th>\n",
       "      <td>1598.59065</td>\n",
       "    </tr>\n",
       "    <tr>\n",
       "      <th>min</th>\n",
       "      <td>6.00000</td>\n",
       "    </tr>\n",
       "    <tr>\n",
       "      <th>25%</th>\n",
       "      <td>8.00000</td>\n",
       "    </tr>\n",
       "    <tr>\n",
       "      <th>50%</th>\n",
       "      <td>13.00000</td>\n",
       "    </tr>\n",
       "    <tr>\n",
       "      <th>75%</th>\n",
       "      <td>34.00000</td>\n",
       "    </tr>\n",
       "    <tr>\n",
       "      <th>max</th>\n",
       "      <td>91332.00000</td>\n",
       "    </tr>\n",
       "  </tbody>\n",
       "</table>\n",
       "</div>"
      ],
      "text/plain": [
       "           vcount\n",
       "count 68000.00000\n",
       "mean    165.83534\n",
       "std    1598.59065\n",
       "min       6.00000\n",
       "25%       8.00000\n",
       "50%      13.00000\n",
       "75%      34.00000\n",
       "max   91332.00000"
      ]
     },
     "execution_count": 22,
     "metadata": {},
     "output_type": "execute_result"
    }
   ],
   "source": [
    "df_words.head(68000).describe() #90th per centile"
   ]
  },
  {
   "cell_type": "code",
   "execution_count": 23,
   "metadata": {
    "colab": {
     "base_uri": "https://localhost:8080/",
     "height": 399
    },
    "executionInfo": {
     "elapsed": 306674,
     "status": "ok",
     "timestamp": 1604553860380,
     "user": {
      "displayName": "Vishal Arya",
      "photoUrl": "",
      "userId": "05630331593287898441"
     },
     "user_tz": 300
    },
    "id": "upYBU-RLVUDk",
    "outputId": "751ce0f6-03c7-4af4-a608-3513ab21e379"
   },
   "outputs": [
    {
     "data": {
      "text/html": [
       "<div>\n",
       "<style scoped>\n",
       "    .dataframe tbody tr th:only-of-type {\n",
       "        vertical-align: middle;\n",
       "    }\n",
       "\n",
       "    .dataframe tbody tr th {\n",
       "        vertical-align: top;\n",
       "    }\n",
       "\n",
       "    .dataframe thead th {\n",
       "        text-align: right;\n",
       "    }\n",
       "</style>\n",
       "<table border=\"1\" class=\"dataframe\">\n",
       "  <thead>\n",
       "    <tr style=\"text-align: right;\">\n",
       "      <th></th>\n",
       "      <th>target</th>\n",
       "      <th>id</th>\n",
       "      <th>date</th>\n",
       "      <th>flag</th>\n",
       "      <th>user</th>\n",
       "      <th>text</th>\n",
       "      <th>twlength</th>\n",
       "      <th>tw_day</th>\n",
       "      <th>tw_time</th>\n",
       "      <th>hour</th>\n",
       "    </tr>\n",
       "  </thead>\n",
       "  <tbody>\n",
       "    <tr>\n",
       "      <th>0</th>\n",
       "      <td>0</td>\n",
       "      <td>1467810369</td>\n",
       "      <td>2009-04-06 22:19:45</td>\n",
       "      <td>NO_QUERY</td>\n",
       "      <td>_TheSpecialOne_</td>\n",
       "      <td>@switchfoot http://twitpic.com/2y1zl - Awww, t...</td>\n",
       "      <td>115</td>\n",
       "      <td>2009-04-06</td>\n",
       "      <td>22:19:45</td>\n",
       "      <td>22</td>\n",
       "    </tr>\n",
       "    <tr>\n",
       "      <th>1</th>\n",
       "      <td>0</td>\n",
       "      <td>1467810672</td>\n",
       "      <td>2009-04-06 22:19:49</td>\n",
       "      <td>NO_QUERY</td>\n",
       "      <td>scotthamilton</td>\n",
       "      <td>is upset that he can't update his Facebook by ...</td>\n",
       "      <td>111</td>\n",
       "      <td>2009-04-06</td>\n",
       "      <td>22:19:49</td>\n",
       "      <td>22</td>\n",
       "    </tr>\n",
       "    <tr>\n",
       "      <th>2</th>\n",
       "      <td>0</td>\n",
       "      <td>1467810917</td>\n",
       "      <td>2009-04-06 22:19:53</td>\n",
       "      <td>NO_QUERY</td>\n",
       "      <td>mattycus</td>\n",
       "      <td>@Kenichan I dived many times for the ball. Man...</td>\n",
       "      <td>89</td>\n",
       "      <td>2009-04-06</td>\n",
       "      <td>22:19:53</td>\n",
       "      <td>22</td>\n",
       "    </tr>\n",
       "    <tr>\n",
       "      <th>3</th>\n",
       "      <td>0</td>\n",
       "      <td>1467811184</td>\n",
       "      <td>2009-04-06 22:19:57</td>\n",
       "      <td>NO_QUERY</td>\n",
       "      <td>ElleCTF</td>\n",
       "      <td>my whole body feels itchy and like its on fire</td>\n",
       "      <td>47</td>\n",
       "      <td>2009-04-06</td>\n",
       "      <td>22:19:57</td>\n",
       "      <td>22</td>\n",
       "    </tr>\n",
       "    <tr>\n",
       "      <th>4</th>\n",
       "      <td>0</td>\n",
       "      <td>1467811193</td>\n",
       "      <td>2009-04-06 22:19:57</td>\n",
       "      <td>NO_QUERY</td>\n",
       "      <td>Karoli</td>\n",
       "      <td>@nationwideclass no, it's not behaving at all....</td>\n",
       "      <td>111</td>\n",
       "      <td>2009-04-06</td>\n",
       "      <td>22:19:57</td>\n",
       "      <td>22</td>\n",
       "    </tr>\n",
       "    <tr>\n",
       "      <th>...</th>\n",
       "      <td>...</td>\n",
       "      <td>...</td>\n",
       "      <td>...</td>\n",
       "      <td>...</td>\n",
       "      <td>...</td>\n",
       "      <td>...</td>\n",
       "      <td>...</td>\n",
       "      <td>...</td>\n",
       "      <td>...</td>\n",
       "      <td>...</td>\n",
       "    </tr>\n",
       "    <tr>\n",
       "      <th>1599995</th>\n",
       "      <td>4</td>\n",
       "      <td>2193601966</td>\n",
       "      <td>2009-06-16 08:40:49</td>\n",
       "      <td>NO_QUERY</td>\n",
       "      <td>AmandaMarie1028</td>\n",
       "      <td>Just woke up. Having no school is the best fee...</td>\n",
       "      <td>56</td>\n",
       "      <td>2009-06-16</td>\n",
       "      <td>08:40:49</td>\n",
       "      <td>8</td>\n",
       "    </tr>\n",
       "    <tr>\n",
       "      <th>1599996</th>\n",
       "      <td>4</td>\n",
       "      <td>2193601969</td>\n",
       "      <td>2009-06-16 08:40:49</td>\n",
       "      <td>NO_QUERY</td>\n",
       "      <td>TheWDBoards</td>\n",
       "      <td>TheWDB.com - Very cool to hear old Walt interv...</td>\n",
       "      <td>76</td>\n",
       "      <td>2009-06-16</td>\n",
       "      <td>08:40:49</td>\n",
       "      <td>8</td>\n",
       "    </tr>\n",
       "    <tr>\n",
       "      <th>1599997</th>\n",
       "      <td>4</td>\n",
       "      <td>2193601991</td>\n",
       "      <td>2009-06-16 08:40:49</td>\n",
       "      <td>NO_QUERY</td>\n",
       "      <td>bpbabe</td>\n",
       "      <td>Are you ready for your MoJo Makeover? Ask me f...</td>\n",
       "      <td>57</td>\n",
       "      <td>2009-06-16</td>\n",
       "      <td>08:40:49</td>\n",
       "      <td>8</td>\n",
       "    </tr>\n",
       "    <tr>\n",
       "      <th>1599998</th>\n",
       "      <td>4</td>\n",
       "      <td>2193602064</td>\n",
       "      <td>2009-06-16 08:40:49</td>\n",
       "      <td>NO_QUERY</td>\n",
       "      <td>tinydiamondz</td>\n",
       "      <td>Happy 38th Birthday to my boo of alll time!!! ...</td>\n",
       "      <td>65</td>\n",
       "      <td>2009-06-16</td>\n",
       "      <td>08:40:49</td>\n",
       "      <td>8</td>\n",
       "    </tr>\n",
       "    <tr>\n",
       "      <th>1599999</th>\n",
       "      <td>4</td>\n",
       "      <td>2193602129</td>\n",
       "      <td>2009-06-16 08:40:50</td>\n",
       "      <td>NO_QUERY</td>\n",
       "      <td>RyanTrevMorris</td>\n",
       "      <td>happy #charitytuesday @theNSPCC @SparksCharity...</td>\n",
       "      <td>62</td>\n",
       "      <td>2009-06-16</td>\n",
       "      <td>08:40:50</td>\n",
       "      <td>8</td>\n",
       "    </tr>\n",
       "  </tbody>\n",
       "</table>\n",
       "<p>1599999 rows × 10 columns</p>\n",
       "</div>"
      ],
      "text/plain": [
       "         target          id                date      flag             user  \\\n",
       "0             0  1467810369 2009-04-06 22:19:45  NO_QUERY  _TheSpecialOne_   \n",
       "1             0  1467810672 2009-04-06 22:19:49  NO_QUERY    scotthamilton   \n",
       "2             0  1467810917 2009-04-06 22:19:53  NO_QUERY         mattycus   \n",
       "3             0  1467811184 2009-04-06 22:19:57  NO_QUERY          ElleCTF   \n",
       "4             0  1467811193 2009-04-06 22:19:57  NO_QUERY           Karoli   \n",
       "...         ...         ...                 ...       ...              ...   \n",
       "1599995       4  2193601966 2009-06-16 08:40:49  NO_QUERY  AmandaMarie1028   \n",
       "1599996       4  2193601969 2009-06-16 08:40:49  NO_QUERY      TheWDBoards   \n",
       "1599997       4  2193601991 2009-06-16 08:40:49  NO_QUERY           bpbabe   \n",
       "1599998       4  2193602064 2009-06-16 08:40:49  NO_QUERY     tinydiamondz   \n",
       "1599999       4  2193602129 2009-06-16 08:40:50  NO_QUERY   RyanTrevMorris   \n",
       "\n",
       "                                                      text  twlength  \\\n",
       "0        @switchfoot http://twitpic.com/2y1zl - Awww, t...       115   \n",
       "1        is upset that he can't update his Facebook by ...       111   \n",
       "2        @Kenichan I dived many times for the ball. Man...        89   \n",
       "3          my whole body feels itchy and like its on fire         47   \n",
       "4        @nationwideclass no, it's not behaving at all....       111   \n",
       "...                                                    ...       ...   \n",
       "1599995  Just woke up. Having no school is the best fee...        56   \n",
       "1599996  TheWDB.com - Very cool to hear old Walt interv...        76   \n",
       "1599997  Are you ready for your MoJo Makeover? Ask me f...        57   \n",
       "1599998  Happy 38th Birthday to my boo of alll time!!! ...        65   \n",
       "1599999  happy #charitytuesday @theNSPCC @SparksCharity...        62   \n",
       "\n",
       "             tw_day   tw_time  hour  \n",
       "0        2009-04-06  22:19:45    22  \n",
       "1        2009-04-06  22:19:49    22  \n",
       "2        2009-04-06  22:19:53    22  \n",
       "3        2009-04-06  22:19:57    22  \n",
       "4        2009-04-06  22:19:57    22  \n",
       "...             ...       ...   ...  \n",
       "1599995  2009-06-16  08:40:49     8  \n",
       "1599996  2009-06-16  08:40:49     8  \n",
       "1599997  2009-06-16  08:40:49     8  \n",
       "1599998  2009-06-16  08:40:49     8  \n",
       "1599999  2009-06-16  08:40:50     8  \n",
       "\n",
       "[1599999 rows x 10 columns]"
      ]
     },
     "execution_count": 23,
     "metadata": {},
     "output_type": "execute_result"
    }
   ],
   "source": [
    "data"
   ]
  },
  {
   "cell_type": "code",
   "execution_count": 238,
   "metadata": {
    "executionInfo": {
     "elapsed": 306672,
     "status": "ok",
     "timestamp": 1604553860381,
     "user": {
      "displayName": "Vishal Arya",
      "photoUrl": "",
      "userId": "05630331593287898441"
     },
     "user_tz": 300
    },
    "id": "v40oykU1VXEt"
   },
   "outputs": [],
   "source": [
    "## text preprocessing\n",
    "\n",
    "## this needs to be augmented after reviewing top word frequences, for ex need to remmove https://, re, and other crap -- review individually analysis to be done in excel\n",
    "\n",
    "def clean_text(text):\n",
    "    \n",
    "    ## Remove puncuation\n",
    "    text = text.translate(string.punctuation)\n",
    "    \n",
    "    ## Convert words to lower case and split them\n",
    "    text = text.lower().split()\n",
    "    \n",
    "    ## Remove stop words\n",
    "    stops = set(stopwords.words(\"english\"))\n",
    "    text = [w for w in text if not w in stops and len(w) >= 3]\n",
    "    \n",
    "    text = \" \".join(text)\n",
    "    ## Clean the text\n",
    "    text = re.sub(r\"[^A-Za-z0-9^,!.\\/'+-=]\", \" \", text)\n",
    "    text = re.sub(r\"what's\", \"what is \", text)\n",
    "    text = re.sub(r\"\\'s\", \" \", text)\n",
    "    text = re.sub(r\"\\'ve\", \" have \", text)\n",
    "    text = re.sub(r\"n't\", \" not \", text)\n",
    "    text = re.sub(r\"i'm\", \"i am \", text)\n",
    "    text = re.sub(r\"\\'re\", \" are \", text)\n",
    "    text = re.sub(r\"\\'d\", \" would \", text)\n",
    "    text = re.sub(r\"\\'ll\", \" will \", text)\n",
    "    text = re.sub(r\",\", \" \", text)\n",
    "    text = re.sub(r\"\\.\", \" \", text)\n",
    "    text = re.sub(r\"!\", \" ! \", text)\n",
    "    text = re.sub(r\"\\/\", \" \", text)\n",
    "    text = re.sub(r\"\\^\", \" ^ \", text)\n",
    "    text = re.sub(r\"\\+\", \" + \", text)\n",
    "    text = re.sub(r\"\\-\", \" - \", text)\n",
    "    text = re.sub(r\"\\=\", \" = \", text)\n",
    "    text = re.sub(r\"'\", \" \", text)\n",
    "    text = re.sub(r\"(\\d+)(k)\", r\"\\g<1>000\", text)\n",
    "    text = re.sub(r\":\", \" : \", text)\n",
    "    text = re.sub(r\" e g \", \" eg \", text)\n",
    "    text = re.sub(r\" b g \", \" bg \", text)\n",
    "    text = re.sub(r\" u s \", \" american \", text)\n",
    "    text = re.sub(r\"\\0s\", \"0\", text)\n",
    "    text = re.sub(r\" 9 11 \", \"911\", text)\n",
    "    text = re.sub(r\"e - mail\", \"email\", text)\n",
    "    text = re.sub(r\"j k\", \"jk\", text)\n",
    "    text = re.sub(r\"\\s{2,}\", \" \", text)\n",
    "    text = re.sub(r\"http://\", \" \", text)\n",
    "    text = re.sub(r\"http\", \" \", text)\n",
    "    ## Stemming\n",
    "    text = text.split()\n",
    "    stemmer = SnowballStemmer('english')\n",
    "    stemmed_words = [stemmer.stem(word) for word in text]\n",
    "    text = \" \".join(stemmed_words)\n",
    "    return text\n",
    "    \n"
   ]
  },
  {
   "cell_type": "code",
   "execution_count": 25,
   "metadata": {
    "colab": {
     "base_uri": "https://localhost:8080/"
    },
    "executionInfo": {
     "elapsed": 824085,
     "status": "ok",
     "timestamp": 1604554377803,
     "user": {
      "displayName": "Vishal Arya",
      "photoUrl": "",
      "userId": "05630331593287898441"
     },
     "user_tz": 300
    },
    "id": "VEwSD1bRWzDe",
    "outputId": "d556e782-32f7-4a20-cb66-de4b2d609af6"
   },
   "outputs": [
    {
     "name": "stderr",
     "output_type": "stream",
     "text": [
      "<ipython-input-25-fc12198f2792>:1: SettingWithCopyWarning:\n",
      "\n",
      "\n",
      "A value is trying to be set on a copy of a slice from a DataFrame.\n",
      "Try using .loc[row_indexer,col_indexer] = value instead\n",
      "\n",
      "See the caveats in the documentation: https://pandas.pydata.org/pandas-docs/stable/user_guide/indexing.html#returning-a-view-versus-a-copy\n",
      "\n"
     ]
    }
   ],
   "source": [
    "data['clean_tweet'] = data.text.apply(lambda x: clean_text(x))"
   ]
  },
  {
   "cell_type": "code",
   "execution_count": 26,
   "metadata": {
    "colab": {
     "base_uri": "https://localhost:8080/"
    },
    "executionInfo": {
     "elapsed": 824683,
     "status": "ok",
     "timestamp": 1604554378410,
     "user": {
      "displayName": "Vishal Arya",
      "photoUrl": "",
      "userId": "05630331593287898441"
     },
     "user_tz": 300
    },
    "id": "8Tm5a30En63m",
    "outputId": "abc6a054-c9d2-4a7f-d844-763ed9efdb5c"
   },
   "outputs": [
    {
     "name": "stderr",
     "output_type": "stream",
     "text": [
      "<ipython-input-26-9387d1370271>:1: SettingWithCopyWarning:\n",
      "\n",
      "\n",
      "A value is trying to be set on a copy of a slice from a DataFrame.\n",
      "Try using .loc[row_indexer,col_indexer] = value instead\n",
      "\n",
      "See the caveats in the documentation: https://pandas.pydata.org/pandas-docs/stable/user_guide/indexing.html#returning-a-view-versus-a-copy\n",
      "\n"
     ]
    }
   ],
   "source": [
    "data['cl_twlength'] = data.clean_tweet.apply(lambda x: len(x))"
   ]
  },
  {
   "cell_type": "code",
   "execution_count": 27,
   "metadata": {
    "colab": {
     "base_uri": "https://localhost:8080/",
     "height": 399
    },
    "executionInfo": {
     "elapsed": 824674,
     "status": "ok",
     "timestamp": 1604554378412,
     "user": {
      "displayName": "Vishal Arya",
      "photoUrl": "",
      "userId": "05630331593287898441"
     },
     "user_tz": 300
    },
    "id": "VukzV4e4Ad0R",
    "outputId": "d9727867-f763-4ed2-b4aa-fe63265c9780"
   },
   "outputs": [
    {
     "data": {
      "text/html": [
       "<div>\n",
       "<style scoped>\n",
       "    .dataframe tbody tr th:only-of-type {\n",
       "        vertical-align: middle;\n",
       "    }\n",
       "\n",
       "    .dataframe tbody tr th {\n",
       "        vertical-align: top;\n",
       "    }\n",
       "\n",
       "    .dataframe thead th {\n",
       "        text-align: right;\n",
       "    }\n",
       "</style>\n",
       "<table border=\"1\" class=\"dataframe\">\n",
       "  <thead>\n",
       "    <tr style=\"text-align: right;\">\n",
       "      <th></th>\n",
       "      <th>target</th>\n",
       "      <th>id</th>\n",
       "      <th>date</th>\n",
       "      <th>flag</th>\n",
       "      <th>user</th>\n",
       "      <th>text</th>\n",
       "      <th>twlength</th>\n",
       "      <th>tw_day</th>\n",
       "      <th>tw_time</th>\n",
       "      <th>hour</th>\n",
       "      <th>clean_tweet</th>\n",
       "      <th>cl_twlength</th>\n",
       "    </tr>\n",
       "  </thead>\n",
       "  <tbody>\n",
       "    <tr>\n",
       "      <th>0</th>\n",
       "      <td>0</td>\n",
       "      <td>1467810369</td>\n",
       "      <td>2009-04-06 22:19:45</td>\n",
       "      <td>NO_QUERY</td>\n",
       "      <td>_TheSpecialOne_</td>\n",
       "      <td>@switchfoot http://twitpic.com/2y1zl - Awww, t...</td>\n",
       "      <td>115</td>\n",
       "      <td>2009-04-06</td>\n",
       "      <td>22:19:45</td>\n",
       "      <td>22</td>\n",
       "      <td>switchfoot http : twitpic com 2y1zl awww that ...</td>\n",
       "      <td>88</td>\n",
       "    </tr>\n",
       "    <tr>\n",
       "      <th>1</th>\n",
       "      <td>0</td>\n",
       "      <td>1467810672</td>\n",
       "      <td>2009-04-06 22:19:49</td>\n",
       "      <td>NO_QUERY</td>\n",
       "      <td>scotthamilton</td>\n",
       "      <td>is upset that he can't update his Facebook by ...</td>\n",
       "      <td>111</td>\n",
       "      <td>2009-04-06</td>\n",
       "      <td>22:19:49</td>\n",
       "      <td>22</td>\n",
       "      <td>upset ca not updat facebook text it might cri ...</td>\n",
       "      <td>77</td>\n",
       "    </tr>\n",
       "    <tr>\n",
       "      <th>2</th>\n",
       "      <td>0</td>\n",
       "      <td>1467810917</td>\n",
       "      <td>2009-04-06 22:19:53</td>\n",
       "      <td>NO_QUERY</td>\n",
       "      <td>mattycus</td>\n",
       "      <td>@Kenichan I dived many times for the ball. Man...</td>\n",
       "      <td>89</td>\n",
       "      <td>2009-04-06</td>\n",
       "      <td>22:19:53</td>\n",
       "      <td>22</td>\n",
       "      <td>kenichan dive mani time ball manag save 50 res...</td>\n",
       "      <td>53</td>\n",
       "    </tr>\n",
       "    <tr>\n",
       "      <th>3</th>\n",
       "      <td>0</td>\n",
       "      <td>1467811184</td>\n",
       "      <td>2009-04-06 22:19:57</td>\n",
       "      <td>NO_QUERY</td>\n",
       "      <td>ElleCTF</td>\n",
       "      <td>my whole body feels itchy and like its on fire</td>\n",
       "      <td>47</td>\n",
       "      <td>2009-04-06</td>\n",
       "      <td>22:19:57</td>\n",
       "      <td>22</td>\n",
       "      <td>whole bodi feel itchi like fire</td>\n",
       "      <td>31</td>\n",
       "    </tr>\n",
       "    <tr>\n",
       "      <th>4</th>\n",
       "      <td>0</td>\n",
       "      <td>1467811193</td>\n",
       "      <td>2009-04-06 22:19:57</td>\n",
       "      <td>NO_QUERY</td>\n",
       "      <td>Karoli</td>\n",
       "      <td>@nationwideclass no, it's not behaving at all....</td>\n",
       "      <td>111</td>\n",
       "      <td>2009-04-06</td>\n",
       "      <td>22:19:57</td>\n",
       "      <td>22</td>\n",
       "      <td>nationwideclass no behav all i am mad here ca ...</td>\n",
       "      <td>59</td>\n",
       "    </tr>\n",
       "    <tr>\n",
       "      <th>...</th>\n",
       "      <td>...</td>\n",
       "      <td>...</td>\n",
       "      <td>...</td>\n",
       "      <td>...</td>\n",
       "      <td>...</td>\n",
       "      <td>...</td>\n",
       "      <td>...</td>\n",
       "      <td>...</td>\n",
       "      <td>...</td>\n",
       "      <td>...</td>\n",
       "      <td>...</td>\n",
       "      <td>...</td>\n",
       "    </tr>\n",
       "    <tr>\n",
       "      <th>1599995</th>\n",
       "      <td>4</td>\n",
       "      <td>2193601966</td>\n",
       "      <td>2009-06-16 08:40:49</td>\n",
       "      <td>NO_QUERY</td>\n",
       "      <td>AmandaMarie1028</td>\n",
       "      <td>Just woke up. Having no school is the best fee...</td>\n",
       "      <td>56</td>\n",
       "      <td>2009-06-16</td>\n",
       "      <td>08:40:49</td>\n",
       "      <td>8</td>\n",
       "      <td>woke up school best feel ever</td>\n",
       "      <td>29</td>\n",
       "    </tr>\n",
       "    <tr>\n",
       "      <th>1599996</th>\n",
       "      <td>4</td>\n",
       "      <td>2193601969</td>\n",
       "      <td>2009-06-16 08:40:49</td>\n",
       "      <td>NO_QUERY</td>\n",
       "      <td>TheWDBoards</td>\n",
       "      <td>TheWDB.com - Very cool to hear old Walt interv...</td>\n",
       "      <td>76</td>\n",
       "      <td>2009-06-16</td>\n",
       "      <td>08:40:49</td>\n",
       "      <td>8</td>\n",
       "      <td>thewdb com cool hear old walt interview ! http...</td>\n",
       "      <td>62</td>\n",
       "    </tr>\n",
       "    <tr>\n",
       "      <th>1599997</th>\n",
       "      <td>4</td>\n",
       "      <td>2193601991</td>\n",
       "      <td>2009-06-16 08:40:49</td>\n",
       "      <td>NO_QUERY</td>\n",
       "      <td>bpbabe</td>\n",
       "      <td>Are you ready for your MoJo Makeover? Ask me f...</td>\n",
       "      <td>57</td>\n",
       "      <td>2009-06-16</td>\n",
       "      <td>08:40:49</td>\n",
       "      <td>8</td>\n",
       "      <td>readi mojo makeov ask detail</td>\n",
       "      <td>28</td>\n",
       "    </tr>\n",
       "    <tr>\n",
       "      <th>1599998</th>\n",
       "      <td>4</td>\n",
       "      <td>2193602064</td>\n",
       "      <td>2009-06-16 08:40:49</td>\n",
       "      <td>NO_QUERY</td>\n",
       "      <td>tinydiamondz</td>\n",
       "      <td>Happy 38th Birthday to my boo of alll time!!! ...</td>\n",
       "      <td>65</td>\n",
       "      <td>2009-06-16</td>\n",
       "      <td>08:40:49</td>\n",
       "      <td>8</td>\n",
       "      <td>happi 38th birthday boo alll time ! ! ! tupac ...</td>\n",
       "      <td>58</td>\n",
       "    </tr>\n",
       "    <tr>\n",
       "      <th>1599999</th>\n",
       "      <td>4</td>\n",
       "      <td>2193602129</td>\n",
       "      <td>2009-06-16 08:40:50</td>\n",
       "      <td>NO_QUERY</td>\n",
       "      <td>RyanTrevMorris</td>\n",
       "      <td>happy #charitytuesday @theNSPCC @SparksCharity...</td>\n",
       "      <td>62</td>\n",
       "      <td>2009-06-16</td>\n",
       "      <td>08:40:50</td>\n",
       "      <td>8</td>\n",
       "      <td>happi charitytuesday thenspcc sparkschar speak...</td>\n",
       "      <td>54</td>\n",
       "    </tr>\n",
       "  </tbody>\n",
       "</table>\n",
       "<p>1599999 rows × 12 columns</p>\n",
       "</div>"
      ],
      "text/plain": [
       "         target          id                date      flag             user  \\\n",
       "0             0  1467810369 2009-04-06 22:19:45  NO_QUERY  _TheSpecialOne_   \n",
       "1             0  1467810672 2009-04-06 22:19:49  NO_QUERY    scotthamilton   \n",
       "2             0  1467810917 2009-04-06 22:19:53  NO_QUERY         mattycus   \n",
       "3             0  1467811184 2009-04-06 22:19:57  NO_QUERY          ElleCTF   \n",
       "4             0  1467811193 2009-04-06 22:19:57  NO_QUERY           Karoli   \n",
       "...         ...         ...                 ...       ...              ...   \n",
       "1599995       4  2193601966 2009-06-16 08:40:49  NO_QUERY  AmandaMarie1028   \n",
       "1599996       4  2193601969 2009-06-16 08:40:49  NO_QUERY      TheWDBoards   \n",
       "1599997       4  2193601991 2009-06-16 08:40:49  NO_QUERY           bpbabe   \n",
       "1599998       4  2193602064 2009-06-16 08:40:49  NO_QUERY     tinydiamondz   \n",
       "1599999       4  2193602129 2009-06-16 08:40:50  NO_QUERY   RyanTrevMorris   \n",
       "\n",
       "                                                      text  twlength  \\\n",
       "0        @switchfoot http://twitpic.com/2y1zl - Awww, t...       115   \n",
       "1        is upset that he can't update his Facebook by ...       111   \n",
       "2        @Kenichan I dived many times for the ball. Man...        89   \n",
       "3          my whole body feels itchy and like its on fire         47   \n",
       "4        @nationwideclass no, it's not behaving at all....       111   \n",
       "...                                                    ...       ...   \n",
       "1599995  Just woke up. Having no school is the best fee...        56   \n",
       "1599996  TheWDB.com - Very cool to hear old Walt interv...        76   \n",
       "1599997  Are you ready for your MoJo Makeover? Ask me f...        57   \n",
       "1599998  Happy 38th Birthday to my boo of alll time!!! ...        65   \n",
       "1599999  happy #charitytuesday @theNSPCC @SparksCharity...        62   \n",
       "\n",
       "             tw_day   tw_time  hour  \\\n",
       "0        2009-04-06  22:19:45    22   \n",
       "1        2009-04-06  22:19:49    22   \n",
       "2        2009-04-06  22:19:53    22   \n",
       "3        2009-04-06  22:19:57    22   \n",
       "4        2009-04-06  22:19:57    22   \n",
       "...             ...       ...   ...   \n",
       "1599995  2009-06-16  08:40:49     8   \n",
       "1599996  2009-06-16  08:40:49     8   \n",
       "1599997  2009-06-16  08:40:49     8   \n",
       "1599998  2009-06-16  08:40:49     8   \n",
       "1599999  2009-06-16  08:40:50     8   \n",
       "\n",
       "                                               clean_tweet  cl_twlength  \n",
       "0        switchfoot http : twitpic com 2y1zl awww that ...           88  \n",
       "1        upset ca not updat facebook text it might cri ...           77  \n",
       "2        kenichan dive mani time ball manag save 50 res...           53  \n",
       "3                          whole bodi feel itchi like fire           31  \n",
       "4        nationwideclass no behav all i am mad here ca ...           59  \n",
       "...                                                    ...          ...  \n",
       "1599995                      woke up school best feel ever           29  \n",
       "1599996  thewdb com cool hear old walt interview ! http...           62  \n",
       "1599997                       readi mojo makeov ask detail           28  \n",
       "1599998  happi 38th birthday boo alll time ! ! ! tupac ...           58  \n",
       "1599999  happi charitytuesday thenspcc sparkschar speak...           54  \n",
       "\n",
       "[1599999 rows x 12 columns]"
      ]
     },
     "execution_count": 27,
     "metadata": {},
     "output_type": "execute_result"
    }
   ],
   "source": [
    "data"
   ]
  },
  {
   "cell_type": "code",
   "execution_count": 28,
   "metadata": {
    "executionInfo": {
     "elapsed": 824672,
     "status": "ok",
     "timestamp": 1604554378413,
     "user": {
      "displayName": "Vishal Arya",
      "photoUrl": "",
      "userId": "05630331593287898441"
     },
     "user_tz": 300
    },
    "id": "1OOxS7GglT3A"
   },
   "outputs": [],
   "source": [
    "data.reset_index(level=0, inplace=True)"
   ]
  },
  {
   "cell_type": "code",
   "execution_count": 29,
   "metadata": {
    "colab": {
     "base_uri": "https://localhost:8080/"
    },
    "executionInfo": {
     "elapsed": 825773,
     "status": "ok",
     "timestamp": 1604554379523,
     "user": {
      "displayName": "Vishal Arya",
      "photoUrl": "",
      "userId": "05630331593287898441"
     },
     "user_tz": 300
    },
    "id": "6DgiD3lelT3C",
    "outputId": "d7148745-88f1-4c74-8b7e-3a69bbc1cbd7"
   },
   "outputs": [
    {
     "name": "stderr",
     "output_type": "stream",
     "text": [
      "/home/aryavish/anaconda3/lib/python3.8/site-packages/pandas/core/frame.py:3990: SettingWithCopyWarning:\n",
      "\n",
      "\n",
      "A value is trying to be set on a copy of a slice from a DataFrame\n",
      "\n",
      "See the caveats in the documentation: https://pandas.pydata.org/pandas-docs/stable/user_guide/indexing.html#returning-a-view-versus-a-copy\n",
      "\n"
     ]
    }
   ],
   "source": [
    "data.drop('index', axis=1, inplace=True)"
   ]
  },
  {
   "cell_type": "code",
   "execution_count": 30,
   "metadata": {
    "colab": {
     "base_uri": "https://localhost:8080/",
     "height": 399
    },
    "executionInfo": {
     "elapsed": 825764,
     "status": "ok",
     "timestamp": 1604554379524,
     "user": {
      "displayName": "Vishal Arya",
      "photoUrl": "",
      "userId": "05630331593287898441"
     },
     "user_tz": 300
    },
    "id": "8O4vbH-3lT3E",
    "outputId": "4467f775-fbef-4b61-d976-819c6fb43562"
   },
   "outputs": [
    {
     "data": {
      "text/html": [
       "<div>\n",
       "<style scoped>\n",
       "    .dataframe tbody tr th:only-of-type {\n",
       "        vertical-align: middle;\n",
       "    }\n",
       "\n",
       "    .dataframe tbody tr th {\n",
       "        vertical-align: top;\n",
       "    }\n",
       "\n",
       "    .dataframe thead th {\n",
       "        text-align: right;\n",
       "    }\n",
       "</style>\n",
       "<table border=\"1\" class=\"dataframe\">\n",
       "  <thead>\n",
       "    <tr style=\"text-align: right;\">\n",
       "      <th></th>\n",
       "      <th>target</th>\n",
       "      <th>id</th>\n",
       "      <th>date</th>\n",
       "      <th>flag</th>\n",
       "      <th>user</th>\n",
       "      <th>text</th>\n",
       "      <th>twlength</th>\n",
       "      <th>tw_day</th>\n",
       "      <th>tw_time</th>\n",
       "      <th>hour</th>\n",
       "      <th>clean_tweet</th>\n",
       "      <th>cl_twlength</th>\n",
       "    </tr>\n",
       "  </thead>\n",
       "  <tbody>\n",
       "    <tr>\n",
       "      <th>0</th>\n",
       "      <td>0</td>\n",
       "      <td>1467810369</td>\n",
       "      <td>2009-04-06 22:19:45</td>\n",
       "      <td>NO_QUERY</td>\n",
       "      <td>_TheSpecialOne_</td>\n",
       "      <td>@switchfoot http://twitpic.com/2y1zl - Awww, t...</td>\n",
       "      <td>115</td>\n",
       "      <td>2009-04-06</td>\n",
       "      <td>22:19:45</td>\n",
       "      <td>22</td>\n",
       "      <td>switchfoot http : twitpic com 2y1zl awww that ...</td>\n",
       "      <td>88</td>\n",
       "    </tr>\n",
       "    <tr>\n",
       "      <th>1</th>\n",
       "      <td>0</td>\n",
       "      <td>1467810672</td>\n",
       "      <td>2009-04-06 22:19:49</td>\n",
       "      <td>NO_QUERY</td>\n",
       "      <td>scotthamilton</td>\n",
       "      <td>is upset that he can't update his Facebook by ...</td>\n",
       "      <td>111</td>\n",
       "      <td>2009-04-06</td>\n",
       "      <td>22:19:49</td>\n",
       "      <td>22</td>\n",
       "      <td>upset ca not updat facebook text it might cri ...</td>\n",
       "      <td>77</td>\n",
       "    </tr>\n",
       "    <tr>\n",
       "      <th>2</th>\n",
       "      <td>0</td>\n",
       "      <td>1467810917</td>\n",
       "      <td>2009-04-06 22:19:53</td>\n",
       "      <td>NO_QUERY</td>\n",
       "      <td>mattycus</td>\n",
       "      <td>@Kenichan I dived many times for the ball. Man...</td>\n",
       "      <td>89</td>\n",
       "      <td>2009-04-06</td>\n",
       "      <td>22:19:53</td>\n",
       "      <td>22</td>\n",
       "      <td>kenichan dive mani time ball manag save 50 res...</td>\n",
       "      <td>53</td>\n",
       "    </tr>\n",
       "    <tr>\n",
       "      <th>3</th>\n",
       "      <td>0</td>\n",
       "      <td>1467811184</td>\n",
       "      <td>2009-04-06 22:19:57</td>\n",
       "      <td>NO_QUERY</td>\n",
       "      <td>ElleCTF</td>\n",
       "      <td>my whole body feels itchy and like its on fire</td>\n",
       "      <td>47</td>\n",
       "      <td>2009-04-06</td>\n",
       "      <td>22:19:57</td>\n",
       "      <td>22</td>\n",
       "      <td>whole bodi feel itchi like fire</td>\n",
       "      <td>31</td>\n",
       "    </tr>\n",
       "    <tr>\n",
       "      <th>4</th>\n",
       "      <td>0</td>\n",
       "      <td>1467811193</td>\n",
       "      <td>2009-04-06 22:19:57</td>\n",
       "      <td>NO_QUERY</td>\n",
       "      <td>Karoli</td>\n",
       "      <td>@nationwideclass no, it's not behaving at all....</td>\n",
       "      <td>111</td>\n",
       "      <td>2009-04-06</td>\n",
       "      <td>22:19:57</td>\n",
       "      <td>22</td>\n",
       "      <td>nationwideclass no behav all i am mad here ca ...</td>\n",
       "      <td>59</td>\n",
       "    </tr>\n",
       "    <tr>\n",
       "      <th>...</th>\n",
       "      <td>...</td>\n",
       "      <td>...</td>\n",
       "      <td>...</td>\n",
       "      <td>...</td>\n",
       "      <td>...</td>\n",
       "      <td>...</td>\n",
       "      <td>...</td>\n",
       "      <td>...</td>\n",
       "      <td>...</td>\n",
       "      <td>...</td>\n",
       "      <td>...</td>\n",
       "      <td>...</td>\n",
       "    </tr>\n",
       "    <tr>\n",
       "      <th>1599994</th>\n",
       "      <td>4</td>\n",
       "      <td>2193601966</td>\n",
       "      <td>2009-06-16 08:40:49</td>\n",
       "      <td>NO_QUERY</td>\n",
       "      <td>AmandaMarie1028</td>\n",
       "      <td>Just woke up. Having no school is the best fee...</td>\n",
       "      <td>56</td>\n",
       "      <td>2009-06-16</td>\n",
       "      <td>08:40:49</td>\n",
       "      <td>8</td>\n",
       "      <td>woke up school best feel ever</td>\n",
       "      <td>29</td>\n",
       "    </tr>\n",
       "    <tr>\n",
       "      <th>1599995</th>\n",
       "      <td>4</td>\n",
       "      <td>2193601969</td>\n",
       "      <td>2009-06-16 08:40:49</td>\n",
       "      <td>NO_QUERY</td>\n",
       "      <td>TheWDBoards</td>\n",
       "      <td>TheWDB.com - Very cool to hear old Walt interv...</td>\n",
       "      <td>76</td>\n",
       "      <td>2009-06-16</td>\n",
       "      <td>08:40:49</td>\n",
       "      <td>8</td>\n",
       "      <td>thewdb com cool hear old walt interview ! http...</td>\n",
       "      <td>62</td>\n",
       "    </tr>\n",
       "    <tr>\n",
       "      <th>1599996</th>\n",
       "      <td>4</td>\n",
       "      <td>2193601991</td>\n",
       "      <td>2009-06-16 08:40:49</td>\n",
       "      <td>NO_QUERY</td>\n",
       "      <td>bpbabe</td>\n",
       "      <td>Are you ready for your MoJo Makeover? Ask me f...</td>\n",
       "      <td>57</td>\n",
       "      <td>2009-06-16</td>\n",
       "      <td>08:40:49</td>\n",
       "      <td>8</td>\n",
       "      <td>readi mojo makeov ask detail</td>\n",
       "      <td>28</td>\n",
       "    </tr>\n",
       "    <tr>\n",
       "      <th>1599997</th>\n",
       "      <td>4</td>\n",
       "      <td>2193602064</td>\n",
       "      <td>2009-06-16 08:40:49</td>\n",
       "      <td>NO_QUERY</td>\n",
       "      <td>tinydiamondz</td>\n",
       "      <td>Happy 38th Birthday to my boo of alll time!!! ...</td>\n",
       "      <td>65</td>\n",
       "      <td>2009-06-16</td>\n",
       "      <td>08:40:49</td>\n",
       "      <td>8</td>\n",
       "      <td>happi 38th birthday boo alll time ! ! ! tupac ...</td>\n",
       "      <td>58</td>\n",
       "    </tr>\n",
       "    <tr>\n",
       "      <th>1599998</th>\n",
       "      <td>4</td>\n",
       "      <td>2193602129</td>\n",
       "      <td>2009-06-16 08:40:50</td>\n",
       "      <td>NO_QUERY</td>\n",
       "      <td>RyanTrevMorris</td>\n",
       "      <td>happy #charitytuesday @theNSPCC @SparksCharity...</td>\n",
       "      <td>62</td>\n",
       "      <td>2009-06-16</td>\n",
       "      <td>08:40:50</td>\n",
       "      <td>8</td>\n",
       "      <td>happi charitytuesday thenspcc sparkschar speak...</td>\n",
       "      <td>54</td>\n",
       "    </tr>\n",
       "  </tbody>\n",
       "</table>\n",
       "<p>1599999 rows × 12 columns</p>\n",
       "</div>"
      ],
      "text/plain": [
       "         target          id                date      flag             user  \\\n",
       "0             0  1467810369 2009-04-06 22:19:45  NO_QUERY  _TheSpecialOne_   \n",
       "1             0  1467810672 2009-04-06 22:19:49  NO_QUERY    scotthamilton   \n",
       "2             0  1467810917 2009-04-06 22:19:53  NO_QUERY         mattycus   \n",
       "3             0  1467811184 2009-04-06 22:19:57  NO_QUERY          ElleCTF   \n",
       "4             0  1467811193 2009-04-06 22:19:57  NO_QUERY           Karoli   \n",
       "...         ...         ...                 ...       ...              ...   \n",
       "1599994       4  2193601966 2009-06-16 08:40:49  NO_QUERY  AmandaMarie1028   \n",
       "1599995       4  2193601969 2009-06-16 08:40:49  NO_QUERY      TheWDBoards   \n",
       "1599996       4  2193601991 2009-06-16 08:40:49  NO_QUERY           bpbabe   \n",
       "1599997       4  2193602064 2009-06-16 08:40:49  NO_QUERY     tinydiamondz   \n",
       "1599998       4  2193602129 2009-06-16 08:40:50  NO_QUERY   RyanTrevMorris   \n",
       "\n",
       "                                                      text  twlength  \\\n",
       "0        @switchfoot http://twitpic.com/2y1zl - Awww, t...       115   \n",
       "1        is upset that he can't update his Facebook by ...       111   \n",
       "2        @Kenichan I dived many times for the ball. Man...        89   \n",
       "3          my whole body feels itchy and like its on fire         47   \n",
       "4        @nationwideclass no, it's not behaving at all....       111   \n",
       "...                                                    ...       ...   \n",
       "1599994  Just woke up. Having no school is the best fee...        56   \n",
       "1599995  TheWDB.com - Very cool to hear old Walt interv...        76   \n",
       "1599996  Are you ready for your MoJo Makeover? Ask me f...        57   \n",
       "1599997  Happy 38th Birthday to my boo of alll time!!! ...        65   \n",
       "1599998  happy #charitytuesday @theNSPCC @SparksCharity...        62   \n",
       "\n",
       "             tw_day   tw_time  hour  \\\n",
       "0        2009-04-06  22:19:45    22   \n",
       "1        2009-04-06  22:19:49    22   \n",
       "2        2009-04-06  22:19:53    22   \n",
       "3        2009-04-06  22:19:57    22   \n",
       "4        2009-04-06  22:19:57    22   \n",
       "...             ...       ...   ...   \n",
       "1599994  2009-06-16  08:40:49     8   \n",
       "1599995  2009-06-16  08:40:49     8   \n",
       "1599996  2009-06-16  08:40:49     8   \n",
       "1599997  2009-06-16  08:40:49     8   \n",
       "1599998  2009-06-16  08:40:50     8   \n",
       "\n",
       "                                               clean_tweet  cl_twlength  \n",
       "0        switchfoot http : twitpic com 2y1zl awww that ...           88  \n",
       "1        upset ca not updat facebook text it might cri ...           77  \n",
       "2        kenichan dive mani time ball manag save 50 res...           53  \n",
       "3                          whole bodi feel itchi like fire           31  \n",
       "4        nationwideclass no behav all i am mad here ca ...           59  \n",
       "...                                                    ...          ...  \n",
       "1599994                      woke up school best feel ever           29  \n",
       "1599995  thewdb com cool hear old walt interview ! http...           62  \n",
       "1599996                       readi mojo makeov ask detail           28  \n",
       "1599997  happi 38th birthday boo alll time ! ! ! tupac ...           58  \n",
       "1599998  happi charitytuesday thenspcc sparkschar speak...           54  \n",
       "\n",
       "[1599999 rows x 12 columns]"
      ]
     },
     "execution_count": 30,
     "metadata": {},
     "output_type": "execute_result"
    }
   ],
   "source": [
    "data"
   ]
  },
  {
   "cell_type": "code",
   "execution_count": 282,
   "metadata": {
    "executionInfo": {
     "elapsed": 826215,
     "status": "ok",
     "timestamp": 1604554379979,
     "user": {
      "displayName": "Vishal Arya",
      "photoUrl": "",
      "userId": "05630331593287898441"
     },
     "user_tz": 300
    },
    "id": "Ec9Vrq-VlT3G"
   },
   "outputs": [],
   "source": [
    "##downsample to 100k 50/50 split\n",
    "\n",
    "down_sample = 100000\n",
    "\n",
    "neg_index = np.random.choice(data[data.target == 0].index, size=int(.5*down_sample), replace=False)\n",
    "pos_index = np.random.choice(data[data.target == 4].index, size=int(.5*down_sample), replace=False)\n",
    "\n",
    "red_index = np.concatenate((neg_index, pos_index))\n",
    "\n",
    "red_data = data.iloc[red_index,:]\n",
    "\n"
   ]
  },
  {
   "cell_type": "code",
   "execution_count": 283,
   "metadata": {
    "colab": {
     "base_uri": "https://localhost:8080/",
     "height": 213
    },
    "executionInfo": {
     "elapsed": 826213,
     "status": "ok",
     "timestamp": 1604554379987,
     "user": {
      "displayName": "Vishal Arya",
      "photoUrl": "",
      "userId": "05630331593287898441"
     },
     "user_tz": 300
    },
    "id": "z6Zi-TZwlT3I",
    "outputId": "629716ff-40ab-40d0-e337-a3ef83f3d814"
   },
   "outputs": [
    {
     "data": {
      "text/plain": [
       "(100000, 12)"
      ]
     },
     "execution_count": 283,
     "metadata": {},
     "output_type": "execute_result"
    },
    {
     "data": {
      "text/html": [
       "<div>\n",
       "<style scoped>\n",
       "    .dataframe tbody tr th:only-of-type {\n",
       "        vertical-align: middle;\n",
       "    }\n",
       "\n",
       "    .dataframe tbody tr th {\n",
       "        vertical-align: top;\n",
       "    }\n",
       "\n",
       "    .dataframe thead th {\n",
       "        text-align: right;\n",
       "    }\n",
       "</style>\n",
       "<table border=\"1\" class=\"dataframe\">\n",
       "  <thead>\n",
       "    <tr style=\"text-align: right;\">\n",
       "      <th></th>\n",
       "      <th>target</th>\n",
       "      <th>id</th>\n",
       "      <th>date</th>\n",
       "      <th>flag</th>\n",
       "      <th>user</th>\n",
       "      <th>text</th>\n",
       "      <th>twlength</th>\n",
       "      <th>tw_day</th>\n",
       "      <th>tw_time</th>\n",
       "      <th>hour</th>\n",
       "      <th>clean_tweet</th>\n",
       "      <th>cl_twlength</th>\n",
       "    </tr>\n",
       "  </thead>\n",
       "  <tbody>\n",
       "    <tr>\n",
       "      <th>587938</th>\n",
       "      <td>0</td>\n",
       "      <td>2216495077</td>\n",
       "      <td>2009-06-17 19:33:34</td>\n",
       "      <td>NO_QUERY</td>\n",
       "      <td>NKOTBsSaugaGirl</td>\n",
       "      <td>@1045CHUMFM calling now for the contest! no on...</td>\n",
       "      <td>62</td>\n",
       "      <td>2009-06-17</td>\n",
       "      <td>19:33:34</td>\n",
       "      <td>19</td>\n",
       "      <td>1045chumfm call contest ! one answer !</td>\n",
       "      <td>38</td>\n",
       "    </tr>\n",
       "    <tr>\n",
       "      <th>94280</th>\n",
       "      <td>0</td>\n",
       "      <td>1770999153</td>\n",
       "      <td>2009-05-11 22:52:30</td>\n",
       "      <td>NO_QUERY</td>\n",
       "      <td>iitskayy</td>\n",
       "      <td>bored! dont want skl to be an even day tmrw  e...</td>\n",
       "      <td>63</td>\n",
       "      <td>2009-05-11</td>\n",
       "      <td>22:52:30</td>\n",
       "      <td>22</td>\n",
       "      <td>bore ! dont want skl even day tmrw night twittler</td>\n",
       "      <td>49</td>\n",
       "    </tr>\n",
       "    <tr>\n",
       "      <th>434365</th>\n",
       "      <td>0</td>\n",
       "      <td>2065169856</td>\n",
       "      <td>2009-06-07 08:02:39</td>\n",
       "      <td>NO_QUERY</td>\n",
       "      <td>jennymcniven</td>\n",
       "      <td>five years ago I went to the TONY'S... tonight...</td>\n",
       "      <td>77</td>\n",
       "      <td>2009-06-07</td>\n",
       "      <td>08:02:39</td>\n",
       "      <td>8</td>\n",
       "      <td>five year ago went toni tonight i am watch couch</td>\n",
       "      <td>48</td>\n",
       "    </tr>\n",
       "    <tr>\n",
       "      <th>718027</th>\n",
       "      <td>0</td>\n",
       "      <td>2260180192</td>\n",
       "      <td>2009-06-20 18:48:05</td>\n",
       "      <td>NO_QUERY</td>\n",
       "      <td>NiqueBaybee189</td>\n",
       "      <td>at my grandma's just found out about a friend ...</td>\n",
       "      <td>69</td>\n",
       "      <td>2009-06-20</td>\n",
       "      <td>18:48:05</td>\n",
       "      <td>18</td>\n",
       "      <td>grandma found friend left st ambros ! ! !</td>\n",
       "      <td>41</td>\n",
       "    </tr>\n",
       "    <tr>\n",
       "      <th>72367</th>\n",
       "      <td>0</td>\n",
       "      <td>1694210811</td>\n",
       "      <td>2009-05-04 01:34:56</td>\n",
       "      <td>NO_QUERY</td>\n",
       "      <td>youngparmesan</td>\n",
       "      <td>@cimangss Why did it bring you to tears? Awh</td>\n",
       "      <td>45</td>\n",
       "      <td>2009-05-04</td>\n",
       "      <td>01:34:56</td>\n",
       "      <td>1</td>\n",
       "      <td>cimangss bring tear awh</td>\n",
       "      <td>23</td>\n",
       "    </tr>\n",
       "  </tbody>\n",
       "</table>\n",
       "</div>"
      ],
      "text/plain": [
       "        target          id                date      flag             user  \\\n",
       "587938       0  2216495077 2009-06-17 19:33:34  NO_QUERY  NKOTBsSaugaGirl   \n",
       "94280        0  1770999153 2009-05-11 22:52:30  NO_QUERY         iitskayy   \n",
       "434365       0  2065169856 2009-06-07 08:02:39  NO_QUERY     jennymcniven   \n",
       "718027       0  2260180192 2009-06-20 18:48:05  NO_QUERY   NiqueBaybee189   \n",
       "72367        0  1694210811 2009-05-04 01:34:56  NO_QUERY    youngparmesan   \n",
       "\n",
       "                                                     text  twlength  \\\n",
       "587938  @1045CHUMFM calling now for the contest! no on...        62   \n",
       "94280   bored! dont want skl to be an even day tmrw  e...        63   \n",
       "434365  five years ago I went to the TONY'S... tonight...        77   \n",
       "718027  at my grandma's just found out about a friend ...        69   \n",
       "72367       @cimangss Why did it bring you to tears? Awh         45   \n",
       "\n",
       "            tw_day   tw_time  hour  \\\n",
       "587938  2009-06-17  19:33:34    19   \n",
       "94280   2009-05-11  22:52:30    22   \n",
       "434365  2009-06-07  08:02:39     8   \n",
       "718027  2009-06-20  18:48:05    18   \n",
       "72367   2009-05-04  01:34:56     1   \n",
       "\n",
       "                                              clean_tweet  cl_twlength  \n",
       "587938             1045chumfm call contest ! one answer !           38  \n",
       "94280   bore ! dont want skl even day tmrw night twittler           49  \n",
       "434365   five year ago went toni tonight i am watch couch           48  \n",
       "718027          grandma found friend left st ambros ! ! !           41  \n",
       "72367                             cimangss bring tear awh           23  "
      ]
     },
     "execution_count": 283,
     "metadata": {},
     "output_type": "execute_result"
    }
   ],
   "source": [
    "red_data.shape\n",
    "\n",
    "red_data.head()"
   ]
  },
  {
   "cell_type": "code",
   "execution_count": 284,
   "metadata": {
    "colab": {
     "base_uri": "https://localhost:8080/",
     "height": 399
    },
    "executionInfo": {
     "elapsed": 826205,
     "status": "ok",
     "timestamp": 1604554379989,
     "user": {
      "displayName": "Vishal Arya",
      "photoUrl": "",
      "userId": "05630331593287898441"
     },
     "user_tz": 300
    },
    "id": "xzNVhVkVlT3K",
    "outputId": "85820dca-3236-49b7-9389-ec1246e6cf7a"
   },
   "outputs": [
    {
     "data": {
      "text/html": [
       "<div>\n",
       "<style scoped>\n",
       "    .dataframe tbody tr th:only-of-type {\n",
       "        vertical-align: middle;\n",
       "    }\n",
       "\n",
       "    .dataframe tbody tr th {\n",
       "        vertical-align: top;\n",
       "    }\n",
       "\n",
       "    .dataframe thead th {\n",
       "        text-align: right;\n",
       "    }\n",
       "</style>\n",
       "<table border=\"1\" class=\"dataframe\">\n",
       "  <thead>\n",
       "    <tr style=\"text-align: right;\">\n",
       "      <th></th>\n",
       "      <th>index</th>\n",
       "      <th>target</th>\n",
       "      <th>id</th>\n",
       "      <th>date</th>\n",
       "      <th>flag</th>\n",
       "      <th>user</th>\n",
       "      <th>text</th>\n",
       "      <th>twlength</th>\n",
       "      <th>tw_day</th>\n",
       "      <th>tw_time</th>\n",
       "      <th>hour</th>\n",
       "      <th>clean_tweet</th>\n",
       "      <th>cl_twlength</th>\n",
       "    </tr>\n",
       "  </thead>\n",
       "  <tbody>\n",
       "    <tr>\n",
       "      <th>0</th>\n",
       "      <td>587938</td>\n",
       "      <td>0</td>\n",
       "      <td>2216495077</td>\n",
       "      <td>2009-06-17 19:33:34</td>\n",
       "      <td>NO_QUERY</td>\n",
       "      <td>NKOTBsSaugaGirl</td>\n",
       "      <td>@1045CHUMFM calling now for the contest! no on...</td>\n",
       "      <td>62</td>\n",
       "      <td>2009-06-17</td>\n",
       "      <td>19:33:34</td>\n",
       "      <td>19</td>\n",
       "      <td>1045chumfm call contest ! one answer !</td>\n",
       "      <td>38</td>\n",
       "    </tr>\n",
       "    <tr>\n",
       "      <th>1</th>\n",
       "      <td>94280</td>\n",
       "      <td>0</td>\n",
       "      <td>1770999153</td>\n",
       "      <td>2009-05-11 22:52:30</td>\n",
       "      <td>NO_QUERY</td>\n",
       "      <td>iitskayy</td>\n",
       "      <td>bored! dont want skl to be an even day tmrw  e...</td>\n",
       "      <td>63</td>\n",
       "      <td>2009-05-11</td>\n",
       "      <td>22:52:30</td>\n",
       "      <td>22</td>\n",
       "      <td>bore ! dont want skl even day tmrw night twittler</td>\n",
       "      <td>49</td>\n",
       "    </tr>\n",
       "    <tr>\n",
       "      <th>2</th>\n",
       "      <td>434365</td>\n",
       "      <td>0</td>\n",
       "      <td>2065169856</td>\n",
       "      <td>2009-06-07 08:02:39</td>\n",
       "      <td>NO_QUERY</td>\n",
       "      <td>jennymcniven</td>\n",
       "      <td>five years ago I went to the TONY'S... tonight...</td>\n",
       "      <td>77</td>\n",
       "      <td>2009-06-07</td>\n",
       "      <td>08:02:39</td>\n",
       "      <td>8</td>\n",
       "      <td>five year ago went toni tonight i am watch couch</td>\n",
       "      <td>48</td>\n",
       "    </tr>\n",
       "    <tr>\n",
       "      <th>3</th>\n",
       "      <td>718027</td>\n",
       "      <td>0</td>\n",
       "      <td>2260180192</td>\n",
       "      <td>2009-06-20 18:48:05</td>\n",
       "      <td>NO_QUERY</td>\n",
       "      <td>NiqueBaybee189</td>\n",
       "      <td>at my grandma's just found out about a friend ...</td>\n",
       "      <td>69</td>\n",
       "      <td>2009-06-20</td>\n",
       "      <td>18:48:05</td>\n",
       "      <td>18</td>\n",
       "      <td>grandma found friend left st ambros ! ! !</td>\n",
       "      <td>41</td>\n",
       "    </tr>\n",
       "    <tr>\n",
       "      <th>4</th>\n",
       "      <td>72367</td>\n",
       "      <td>0</td>\n",
       "      <td>1694210811</td>\n",
       "      <td>2009-05-04 01:34:56</td>\n",
       "      <td>NO_QUERY</td>\n",
       "      <td>youngparmesan</td>\n",
       "      <td>@cimangss Why did it bring you to tears? Awh</td>\n",
       "      <td>45</td>\n",
       "      <td>2009-05-04</td>\n",
       "      <td>01:34:56</td>\n",
       "      <td>1</td>\n",
       "      <td>cimangss bring tear awh</td>\n",
       "      <td>23</td>\n",
       "    </tr>\n",
       "    <tr>\n",
       "      <th>...</th>\n",
       "      <td>...</td>\n",
       "      <td>...</td>\n",
       "      <td>...</td>\n",
       "      <td>...</td>\n",
       "      <td>...</td>\n",
       "      <td>...</td>\n",
       "      <td>...</td>\n",
       "      <td>...</td>\n",
       "      <td>...</td>\n",
       "      <td>...</td>\n",
       "      <td>...</td>\n",
       "      <td>...</td>\n",
       "      <td>...</td>\n",
       "    </tr>\n",
       "    <tr>\n",
       "      <th>99995</th>\n",
       "      <td>1246405</td>\n",
       "      <td>4</td>\n",
       "      <td>1995296671</td>\n",
       "      <td>2009-06-01 13:15:51</td>\n",
       "      <td>NO_QUERY</td>\n",
       "      <td>AlexHale</td>\n",
       "      <td>Just heard Demi Lovato on BBC Radio 1.  Just t...</td>\n",
       "      <td>72</td>\n",
       "      <td>2009-06-01</td>\n",
       "      <td>13:15:51</td>\n",
       "      <td>13</td>\n",
       "      <td>heard demi lovato bbc radio thought like know</td>\n",
       "      <td>45</td>\n",
       "    </tr>\n",
       "    <tr>\n",
       "      <th>99996</th>\n",
       "      <td>947014</td>\n",
       "      <td>4</td>\n",
       "      <td>1822901171</td>\n",
       "      <td>2009-05-16 20:39:00</td>\n",
       "      <td>NO_QUERY</td>\n",
       "      <td>lkelly56</td>\n",
       "      <td>@JessicaNTurner Loved Bride Wars, so funny!!!!!</td>\n",
       "      <td>48</td>\n",
       "      <td>2009-05-16</td>\n",
       "      <td>20:39:00</td>\n",
       "      <td>20</td>\n",
       "      <td>jessicanturn love bride war funni ! ! ! ! !</td>\n",
       "      <td>43</td>\n",
       "    </tr>\n",
       "    <tr>\n",
       "      <th>99997</th>\n",
       "      <td>1031499</td>\n",
       "      <td>4</td>\n",
       "      <td>1933071896</td>\n",
       "      <td>2009-05-26 22:55:28</td>\n",
       "      <td>NO_QUERY</td>\n",
       "      <td>Oracl</td>\n",
       "      <td>@peon374 Agree totally!!</td>\n",
       "      <td>25</td>\n",
       "      <td>2009-05-26</td>\n",
       "      <td>22:55:28</td>\n",
       "      <td>22</td>\n",
       "      <td>peon374 agre total ! !</td>\n",
       "      <td>22</td>\n",
       "    </tr>\n",
       "    <tr>\n",
       "      <th>99998</th>\n",
       "      <td>1321884</td>\n",
       "      <td>4</td>\n",
       "      <td>2014736182</td>\n",
       "      <td>2009-06-03 02:31:01</td>\n",
       "      <td>NO_QUERY</td>\n",
       "      <td>pornobobbie</td>\n",
       "      <td>hey twitter peeps!  if you're a big fan of ice...</td>\n",
       "      <td>134</td>\n",
       "      <td>2009-06-03</td>\n",
       "      <td>02:31:01</td>\n",
       "      <td>2</td>\n",
       "      <td>hey twitter peep ! big fan ice cold sweet leaf...</td>\n",
       "      <td>97</td>\n",
       "    </tr>\n",
       "    <tr>\n",
       "      <th>99999</th>\n",
       "      <td>924076</td>\n",
       "      <td>4</td>\n",
       "      <td>1754879360</td>\n",
       "      <td>2009-05-10 07:39:00</td>\n",
       "      <td>NO_QUERY</td>\n",
       "      <td>aec1982</td>\n",
       "      <td>@surfingcowboy4u hope u have a good day</td>\n",
       "      <td>40</td>\n",
       "      <td>2009-05-10</td>\n",
       "      <td>07:39:00</td>\n",
       "      <td>7</td>\n",
       "      <td>surfingcowboy4u hope good day</td>\n",
       "      <td>29</td>\n",
       "    </tr>\n",
       "  </tbody>\n",
       "</table>\n",
       "<p>100000 rows × 13 columns</p>\n",
       "</div>"
      ],
      "text/plain": [
       "         index  target          id                date      flag  \\\n",
       "0       587938       0  2216495077 2009-06-17 19:33:34  NO_QUERY   \n",
       "1        94280       0  1770999153 2009-05-11 22:52:30  NO_QUERY   \n",
       "2       434365       0  2065169856 2009-06-07 08:02:39  NO_QUERY   \n",
       "3       718027       0  2260180192 2009-06-20 18:48:05  NO_QUERY   \n",
       "4        72367       0  1694210811 2009-05-04 01:34:56  NO_QUERY   \n",
       "...        ...     ...         ...                 ...       ...   \n",
       "99995  1246405       4  1995296671 2009-06-01 13:15:51  NO_QUERY   \n",
       "99996   947014       4  1822901171 2009-05-16 20:39:00  NO_QUERY   \n",
       "99997  1031499       4  1933071896 2009-05-26 22:55:28  NO_QUERY   \n",
       "99998  1321884       4  2014736182 2009-06-03 02:31:01  NO_QUERY   \n",
       "99999   924076       4  1754879360 2009-05-10 07:39:00  NO_QUERY   \n",
       "\n",
       "                  user                                               text  \\\n",
       "0      NKOTBsSaugaGirl  @1045CHUMFM calling now for the contest! no on...   \n",
       "1             iitskayy  bored! dont want skl to be an even day tmrw  e...   \n",
       "2         jennymcniven  five years ago I went to the TONY'S... tonight...   \n",
       "3       NiqueBaybee189  at my grandma's just found out about a friend ...   \n",
       "4        youngparmesan      @cimangss Why did it bring you to tears? Awh    \n",
       "...                ...                                                ...   \n",
       "99995         AlexHale  Just heard Demi Lovato on BBC Radio 1.  Just t...   \n",
       "99996         lkelly56   @JessicaNTurner Loved Bride Wars, so funny!!!!!    \n",
       "99997            Oracl                          @peon374 Agree totally!!    \n",
       "99998      pornobobbie  hey twitter peeps!  if you're a big fan of ice...   \n",
       "99999          aec1982           @surfingcowboy4u hope u have a good day    \n",
       "\n",
       "       twlength      tw_day   tw_time  hour  \\\n",
       "0            62  2009-06-17  19:33:34    19   \n",
       "1            63  2009-05-11  22:52:30    22   \n",
       "2            77  2009-06-07  08:02:39     8   \n",
       "3            69  2009-06-20  18:48:05    18   \n",
       "4            45  2009-05-04  01:34:56     1   \n",
       "...         ...         ...       ...   ...   \n",
       "99995        72  2009-06-01  13:15:51    13   \n",
       "99996        48  2009-05-16  20:39:00    20   \n",
       "99997        25  2009-05-26  22:55:28    22   \n",
       "99998       134  2009-06-03  02:31:01     2   \n",
       "99999        40  2009-05-10  07:39:00     7   \n",
       "\n",
       "                                             clean_tweet  cl_twlength  \n",
       "0                 1045chumfm call contest ! one answer !           38  \n",
       "1      bore ! dont want skl even day tmrw night twittler           49  \n",
       "2       five year ago went toni tonight i am watch couch           48  \n",
       "3              grandma found friend left st ambros ! ! !           41  \n",
       "4                                cimangss bring tear awh           23  \n",
       "...                                                  ...          ...  \n",
       "99995      heard demi lovato bbc radio thought like know           45  \n",
       "99996        jessicanturn love bride war funni ! ! ! ! !           43  \n",
       "99997                             peon374 agre total ! !           22  \n",
       "99998  hey twitter peep ! big fan ice cold sweet leaf...           97  \n",
       "99999                      surfingcowboy4u hope good day           29  \n",
       "\n",
       "[100000 rows x 13 columns]"
      ]
     },
     "execution_count": 284,
     "metadata": {},
     "output_type": "execute_result"
    }
   ],
   "source": [
    "red_data.reset_index(level=0, inplace=True)\n",
    "\n",
    "red_data"
   ]
  },
  {
   "cell_type": "code",
   "execution_count": 288,
   "metadata": {
    "colab": {
     "base_uri": "https://localhost:8080/"
    },
    "executionInfo": {
     "elapsed": 826196,
     "status": "ok",
     "timestamp": 1604554379990,
     "user": {
      "displayName": "Vishal Arya",
      "photoUrl": "",
      "userId": "05630331593287898441"
     },
     "user_tz": 300
    },
    "id": "NnAY1Rg4lT3M",
    "outputId": "e9f2d967-dfae-49c3-db46-b2c9d52f5515"
   },
   "outputs": [
    {
     "name": "stderr",
     "output_type": "stream",
     "text": [
      "/home/aryavish/anaconda3/lib/python3.8/site-packages/pandas/core/generic.py:5303: SettingWithCopyWarning:\n",
      "\n",
      "\n",
      "A value is trying to be set on a copy of a slice from a DataFrame.\n",
      "Try using .loc[row_indexer,col_indexer] = value instead\n",
      "\n",
      "See the caveats in the documentation: https://pandas.pydata.org/pandas-docs/stable/user_guide/indexing.html#returning-a-view-versus-a-copy\n",
      "\n"
     ]
    }
   ],
   "source": [
    "red_data.target = red_data.target.apply(lambda x: 1 if x == 4 else 0)\n"
   ]
  },
  {
   "cell_type": "code",
   "execution_count": 325,
   "metadata": {
    "colab": {
     "base_uri": "https://localhost:8080/",
     "height": 399
    },
    "executionInfo": {
     "elapsed": 826185,
     "status": "ok",
     "timestamp": 1604554379991,
     "user": {
      "displayName": "Vishal Arya",
      "photoUrl": "",
      "userId": "05630331593287898441"
     },
     "user_tz": 300
    },
    "id": "9-IcWtQKlT3O",
    "outputId": "84affdf9-4c30-4435-85d8-697d3acc0f68"
   },
   "outputs": [
    {
     "data": {
      "text/html": [
       "<div>\n",
       "<style scoped>\n",
       "    .dataframe tbody tr th:only-of-type {\n",
       "        vertical-align: middle;\n",
       "    }\n",
       "\n",
       "    .dataframe tbody tr th {\n",
       "        vertical-align: top;\n",
       "    }\n",
       "\n",
       "    .dataframe thead th {\n",
       "        text-align: right;\n",
       "    }\n",
       "</style>\n",
       "<table border=\"1\" class=\"dataframe\">\n",
       "  <thead>\n",
       "    <tr style=\"text-align: right;\">\n",
       "      <th></th>\n",
       "      <th>index</th>\n",
       "      <th>target</th>\n",
       "      <th>id</th>\n",
       "      <th>date</th>\n",
       "      <th>flag</th>\n",
       "      <th>user</th>\n",
       "      <th>text</th>\n",
       "      <th>twlength</th>\n",
       "      <th>tw_day</th>\n",
       "      <th>tw_time</th>\n",
       "      <th>hour</th>\n",
       "      <th>clean_tweet</th>\n",
       "      <th>cl_twlength</th>\n",
       "    </tr>\n",
       "  </thead>\n",
       "  <tbody>\n",
       "    <tr>\n",
       "      <th>0</th>\n",
       "      <td>587938</td>\n",
       "      <td>0</td>\n",
       "      <td>2216495077</td>\n",
       "      <td>2009-06-17 19:33:34</td>\n",
       "      <td>NO_QUERY</td>\n",
       "      <td>NKOTBsSaugaGirl</td>\n",
       "      <td>@1045CHUMFM calling now for the contest! no on...</td>\n",
       "      <td>62</td>\n",
       "      <td>2009-06-17</td>\n",
       "      <td>19:33:34</td>\n",
       "      <td>19</td>\n",
       "      <td>1045chumfm call contest ! one answer !</td>\n",
       "      <td>38</td>\n",
       "    </tr>\n",
       "    <tr>\n",
       "      <th>1</th>\n",
       "      <td>94280</td>\n",
       "      <td>0</td>\n",
       "      <td>1770999153</td>\n",
       "      <td>2009-05-11 22:52:30</td>\n",
       "      <td>NO_QUERY</td>\n",
       "      <td>iitskayy</td>\n",
       "      <td>bored! dont want skl to be an even day tmrw  e...</td>\n",
       "      <td>63</td>\n",
       "      <td>2009-05-11</td>\n",
       "      <td>22:52:30</td>\n",
       "      <td>22</td>\n",
       "      <td>bore ! dont want skl even day tmrw night twittler</td>\n",
       "      <td>49</td>\n",
       "    </tr>\n",
       "    <tr>\n",
       "      <th>2</th>\n",
       "      <td>434365</td>\n",
       "      <td>0</td>\n",
       "      <td>2065169856</td>\n",
       "      <td>2009-06-07 08:02:39</td>\n",
       "      <td>NO_QUERY</td>\n",
       "      <td>jennymcniven</td>\n",
       "      <td>five years ago I went to the TONY'S... tonight...</td>\n",
       "      <td>77</td>\n",
       "      <td>2009-06-07</td>\n",
       "      <td>08:02:39</td>\n",
       "      <td>8</td>\n",
       "      <td>five year ago went toni tonight i am watch couch</td>\n",
       "      <td>48</td>\n",
       "    </tr>\n",
       "    <tr>\n",
       "      <th>3</th>\n",
       "      <td>718027</td>\n",
       "      <td>0</td>\n",
       "      <td>2260180192</td>\n",
       "      <td>2009-06-20 18:48:05</td>\n",
       "      <td>NO_QUERY</td>\n",
       "      <td>NiqueBaybee189</td>\n",
       "      <td>at my grandma's just found out about a friend ...</td>\n",
       "      <td>69</td>\n",
       "      <td>2009-06-20</td>\n",
       "      <td>18:48:05</td>\n",
       "      <td>18</td>\n",
       "      <td>grandma found friend left st ambros ! ! !</td>\n",
       "      <td>41</td>\n",
       "    </tr>\n",
       "    <tr>\n",
       "      <th>4</th>\n",
       "      <td>72367</td>\n",
       "      <td>0</td>\n",
       "      <td>1694210811</td>\n",
       "      <td>2009-05-04 01:34:56</td>\n",
       "      <td>NO_QUERY</td>\n",
       "      <td>youngparmesan</td>\n",
       "      <td>@cimangss Why did it bring you to tears? Awh</td>\n",
       "      <td>45</td>\n",
       "      <td>2009-05-04</td>\n",
       "      <td>01:34:56</td>\n",
       "      <td>1</td>\n",
       "      <td>cimangss bring tear awh</td>\n",
       "      <td>23</td>\n",
       "    </tr>\n",
       "    <tr>\n",
       "      <th>...</th>\n",
       "      <td>...</td>\n",
       "      <td>...</td>\n",
       "      <td>...</td>\n",
       "      <td>...</td>\n",
       "      <td>...</td>\n",
       "      <td>...</td>\n",
       "      <td>...</td>\n",
       "      <td>...</td>\n",
       "      <td>...</td>\n",
       "      <td>...</td>\n",
       "      <td>...</td>\n",
       "      <td>...</td>\n",
       "      <td>...</td>\n",
       "    </tr>\n",
       "    <tr>\n",
       "      <th>99995</th>\n",
       "      <td>1246405</td>\n",
       "      <td>1</td>\n",
       "      <td>1995296671</td>\n",
       "      <td>2009-06-01 13:15:51</td>\n",
       "      <td>NO_QUERY</td>\n",
       "      <td>AlexHale</td>\n",
       "      <td>Just heard Demi Lovato on BBC Radio 1.  Just t...</td>\n",
       "      <td>72</td>\n",
       "      <td>2009-06-01</td>\n",
       "      <td>13:15:51</td>\n",
       "      <td>13</td>\n",
       "      <td>heard demi lovato bbc radio thought like know</td>\n",
       "      <td>45</td>\n",
       "    </tr>\n",
       "    <tr>\n",
       "      <th>99996</th>\n",
       "      <td>947014</td>\n",
       "      <td>1</td>\n",
       "      <td>1822901171</td>\n",
       "      <td>2009-05-16 20:39:00</td>\n",
       "      <td>NO_QUERY</td>\n",
       "      <td>lkelly56</td>\n",
       "      <td>@JessicaNTurner Loved Bride Wars, so funny!!!!!</td>\n",
       "      <td>48</td>\n",
       "      <td>2009-05-16</td>\n",
       "      <td>20:39:00</td>\n",
       "      <td>20</td>\n",
       "      <td>jessicanturn love bride war funni ! ! ! ! !</td>\n",
       "      <td>43</td>\n",
       "    </tr>\n",
       "    <tr>\n",
       "      <th>99997</th>\n",
       "      <td>1031499</td>\n",
       "      <td>1</td>\n",
       "      <td>1933071896</td>\n",
       "      <td>2009-05-26 22:55:28</td>\n",
       "      <td>NO_QUERY</td>\n",
       "      <td>Oracl</td>\n",
       "      <td>@peon374 Agree totally!!</td>\n",
       "      <td>25</td>\n",
       "      <td>2009-05-26</td>\n",
       "      <td>22:55:28</td>\n",
       "      <td>22</td>\n",
       "      <td>peon374 agre total ! !</td>\n",
       "      <td>22</td>\n",
       "    </tr>\n",
       "    <tr>\n",
       "      <th>99998</th>\n",
       "      <td>1321884</td>\n",
       "      <td>1</td>\n",
       "      <td>2014736182</td>\n",
       "      <td>2009-06-03 02:31:01</td>\n",
       "      <td>NO_QUERY</td>\n",
       "      <td>pornobobbie</td>\n",
       "      <td>hey twitter peeps!  if you're a big fan of ice...</td>\n",
       "      <td>134</td>\n",
       "      <td>2009-06-03</td>\n",
       "      <td>02:31:01</td>\n",
       "      <td>2</td>\n",
       "      <td>hey twitter peep ! big fan ice cold sweet leaf...</td>\n",
       "      <td>97</td>\n",
       "    </tr>\n",
       "    <tr>\n",
       "      <th>99999</th>\n",
       "      <td>924076</td>\n",
       "      <td>1</td>\n",
       "      <td>1754879360</td>\n",
       "      <td>2009-05-10 07:39:00</td>\n",
       "      <td>NO_QUERY</td>\n",
       "      <td>aec1982</td>\n",
       "      <td>@surfingcowboy4u hope u have a good day</td>\n",
       "      <td>40</td>\n",
       "      <td>2009-05-10</td>\n",
       "      <td>07:39:00</td>\n",
       "      <td>7</td>\n",
       "      <td>surfingcowboy4u hope good day</td>\n",
       "      <td>29</td>\n",
       "    </tr>\n",
       "  </tbody>\n",
       "</table>\n",
       "<p>100000 rows × 13 columns</p>\n",
       "</div>"
      ],
      "text/plain": [
       "         index  target          id                date      flag  \\\n",
       "0       587938       0  2216495077 2009-06-17 19:33:34  NO_QUERY   \n",
       "1        94280       0  1770999153 2009-05-11 22:52:30  NO_QUERY   \n",
       "2       434365       0  2065169856 2009-06-07 08:02:39  NO_QUERY   \n",
       "3       718027       0  2260180192 2009-06-20 18:48:05  NO_QUERY   \n",
       "4        72367       0  1694210811 2009-05-04 01:34:56  NO_QUERY   \n",
       "...        ...     ...         ...                 ...       ...   \n",
       "99995  1246405       1  1995296671 2009-06-01 13:15:51  NO_QUERY   \n",
       "99996   947014       1  1822901171 2009-05-16 20:39:00  NO_QUERY   \n",
       "99997  1031499       1  1933071896 2009-05-26 22:55:28  NO_QUERY   \n",
       "99998  1321884       1  2014736182 2009-06-03 02:31:01  NO_QUERY   \n",
       "99999   924076       1  1754879360 2009-05-10 07:39:00  NO_QUERY   \n",
       "\n",
       "                  user                                               text  \\\n",
       "0      NKOTBsSaugaGirl  @1045CHUMFM calling now for the contest! no on...   \n",
       "1             iitskayy  bored! dont want skl to be an even day tmrw  e...   \n",
       "2         jennymcniven  five years ago I went to the TONY'S... tonight...   \n",
       "3       NiqueBaybee189  at my grandma's just found out about a friend ...   \n",
       "4        youngparmesan      @cimangss Why did it bring you to tears? Awh    \n",
       "...                ...                                                ...   \n",
       "99995         AlexHale  Just heard Demi Lovato on BBC Radio 1.  Just t...   \n",
       "99996         lkelly56   @JessicaNTurner Loved Bride Wars, so funny!!!!!    \n",
       "99997            Oracl                          @peon374 Agree totally!!    \n",
       "99998      pornobobbie  hey twitter peeps!  if you're a big fan of ice...   \n",
       "99999          aec1982           @surfingcowboy4u hope u have a good day    \n",
       "\n",
       "       twlength      tw_day   tw_time  hour  \\\n",
       "0            62  2009-06-17  19:33:34    19   \n",
       "1            63  2009-05-11  22:52:30    22   \n",
       "2            77  2009-06-07  08:02:39     8   \n",
       "3            69  2009-06-20  18:48:05    18   \n",
       "4            45  2009-05-04  01:34:56     1   \n",
       "...         ...         ...       ...   ...   \n",
       "99995        72  2009-06-01  13:15:51    13   \n",
       "99996        48  2009-05-16  20:39:00    20   \n",
       "99997        25  2009-05-26  22:55:28    22   \n",
       "99998       134  2009-06-03  02:31:01     2   \n",
       "99999        40  2009-05-10  07:39:00     7   \n",
       "\n",
       "                                             clean_tweet  cl_twlength  \n",
       "0                 1045chumfm call contest ! one answer !           38  \n",
       "1      bore ! dont want skl even day tmrw night twittler           49  \n",
       "2       five year ago went toni tonight i am watch couch           48  \n",
       "3              grandma found friend left st ambros ! ! !           41  \n",
       "4                                cimangss bring tear awh           23  \n",
       "...                                                  ...          ...  \n",
       "99995      heard demi lovato bbc radio thought like know           45  \n",
       "99996        jessicanturn love bride war funni ! ! ! ! !           43  \n",
       "99997                             peon374 agre total ! !           22  \n",
       "99998  hey twitter peep ! big fan ice cold sweet leaf...           97  \n",
       "99999                      surfingcowboy4u hope good day           29  \n",
       "\n",
       "[100000 rows x 13 columns]"
      ]
     },
     "execution_count": 325,
     "metadata": {},
     "output_type": "execute_result"
    }
   ],
   "source": [
    "red_data"
   ]
  },
  {
   "cell_type": "code",
   "execution_count": 326,
   "metadata": {},
   "outputs": [
    {
     "data": {
      "text/plain": [
       "0        0\n",
       "1        0\n",
       "2        0\n",
       "3        0\n",
       "4        0\n",
       "        ..\n",
       "99995    1\n",
       "99996    1\n",
       "99997    1\n",
       "99998    1\n",
       "99999    1\n",
       "Name: target, Length: 100000, dtype: int64"
      ]
     },
     "execution_count": 326,
     "metadata": {},
     "output_type": "execute_result"
    }
   ],
   "source": [
    "red_data.target"
   ]
  },
  {
   "cell_type": "code",
   "execution_count": 231,
   "metadata": {},
   "outputs": [],
   "source": [
    "## N-GRAM UNI BI TRI ANAL\n",
    "\n",
    "#bi-gram\n",
    "co = CountVectorizer(ngram_range=(2,2),stop_words=stops)\n",
    "counts = co.fit_transform(red_data.clean_tweet)\n",
    "df_bigram = pd.DataFrame(counts.sum(axis=0),columns=co.get_feature_names()).T.sort_values(0,ascending=False)\n",
    "df_bigram.rename(columns={0: 'vcount'}, inplace=True)\n",
    "\n",
    "#tri-gram\n",
    "co = CountVectorizer(ngram_range=(3,3),stop_words=stops)\n",
    "counts = co.fit_transform(red_data.clean_tweet)\n",
    "df_trigram = pd.DataFrame(counts.sum(axis=0),columns=co.get_feature_names()).T.sort_values(0,ascending=False)\n",
    "df_trigram.rename(columns={0: 'vcount'}, inplace=True)\n",
    "\n",
    "#4-gram\n",
    "co = CountVectorizer(ngram_range=(4,4),stop_words=stops)\n",
    "counts = co.fit_transform(red_data.clean_tweet)\n",
    "df_4gram = pd.DataFrame(counts.sum(axis=0),columns=co.get_feature_names()).T.sort_values(0,ascending=False)\n",
    "df_4gram.rename(columns={0: 'vcount'}, inplace=True)\n",
    "\n",
    "#5-gram\n",
    "co = CountVectorizer(ngram_range=(5,5),stop_words=stops)\n",
    "counts = co.fit_transform(red_data.clean_tweet)\n",
    "df_5gram = pd.DataFrame(counts.sum(axis=0),columns=co.get_feature_names()).T.sort_values(0,ascending=False)\n",
    "df_5gram.rename(columns={0: 'vcount'}, inplace=True)\n"
   ]
  },
  {
   "cell_type": "code",
   "execution_count": 232,
   "metadata": {},
   "outputs": [
    {
     "data": {
      "text/plain": [
       "(433363, 1)"
      ]
     },
     "execution_count": 232,
     "metadata": {},
     "output_type": "execute_result"
    },
    {
     "data": {
      "text/html": [
       "<div>\n",
       "<style scoped>\n",
       "    .dataframe tbody tr th:only-of-type {\n",
       "        vertical-align: middle;\n",
       "    }\n",
       "\n",
       "    .dataframe tbody tr th {\n",
       "        vertical-align: top;\n",
       "    }\n",
       "\n",
       "    .dataframe thead th {\n",
       "        text-align: right;\n",
       "    }\n",
       "</style>\n",
       "<table border=\"1\" class=\"dataframe\">\n",
       "  <thead>\n",
       "    <tr style=\"text-align: right;\">\n",
       "      <th></th>\n",
       "      <th>vcount</th>\n",
       "    </tr>\n",
       "  </thead>\n",
       "  <tbody>\n",
       "    <tr>\n",
       "      <th>bit ly</th>\n",
       "      <td>823</td>\n",
       "    </tr>\n",
       "    <tr>\n",
       "      <th>last night</th>\n",
       "      <td>776</td>\n",
       "    </tr>\n",
       "    <tr>\n",
       "      <th>good morn</th>\n",
       "      <td>661</td>\n",
       "    </tr>\n",
       "    <tr>\n",
       "      <th>ca wait</th>\n",
       "      <td>621</td>\n",
       "    </tr>\n",
       "    <tr>\n",
       "      <th>feel like</th>\n",
       "      <td>589</td>\n",
       "    </tr>\n",
       "    <tr>\n",
       "      <th>...</th>\n",
       "      <td>...</td>\n",
       "    </tr>\n",
       "    <tr>\n",
       "      <th>grapeseedco hit</th>\n",
       "      <td>1</td>\n",
       "    </tr>\n",
       "    <tr>\n",
       "      <th>grapefruit orang</th>\n",
       "      <td>1</td>\n",
       "    </tr>\n",
       "    <tr>\n",
       "      <th>grapefruit juic</th>\n",
       "      <td>1</td>\n",
       "    </tr>\n",
       "    <tr>\n",
       "      <th>grapefruit confus</th>\n",
       "      <td>1</td>\n",
       "    </tr>\n",
       "    <tr>\n",
       "      <th>zzzzzzzzzzzzzzzzzzzzzzz soo</th>\n",
       "      <td>1</td>\n",
       "    </tr>\n",
       "  </tbody>\n",
       "</table>\n",
       "<p>433363 rows × 1 columns</p>\n",
       "</div>"
      ],
      "text/plain": [
       "                             vcount\n",
       "bit ly                          823\n",
       "last night                      776\n",
       "good morn                       661\n",
       "ca wait                         621\n",
       "feel like                       589\n",
       "...                             ...\n",
       "grapeseedco hit                   1\n",
       "grapefruit orang                  1\n",
       "grapefruit juic                   1\n",
       "grapefruit confus                 1\n",
       "zzzzzzzzzzzzzzzzzzzzzzz soo       1\n",
       "\n",
       "[433363 rows x 1 columns]"
      ]
     },
     "execution_count": 232,
     "metadata": {},
     "output_type": "execute_result"
    },
    {
     "data": {
      "text/plain": [
       "8013"
      ]
     },
     "execution_count": 232,
     "metadata": {},
     "output_type": "execute_result"
    }
   ],
   "source": [
    "df_bigram.shape\n",
    "\n",
    "bigram_top20 = np.sum(df_bigram.head(20).vcount)\n",
    "\n",
    "df_bigram\n",
    "\n",
    "bigram_top20 #total counts in data"
   ]
  },
  {
   "cell_type": "code",
   "execution_count": 234,
   "metadata": {},
   "outputs": [
    {
     "data": {
      "text/plain": [
       "(522134, 1)"
      ]
     },
     "execution_count": 234,
     "metadata": {},
     "output_type": "execute_result"
    },
    {
     "data": {
      "text/plain": [
       "1609"
      ]
     },
     "execution_count": 234,
     "metadata": {},
     "output_type": "execute_result"
    },
    {
     "data": {
      "text/html": [
       "<div>\n",
       "<style scoped>\n",
       "    .dataframe tbody tr th:only-of-type {\n",
       "        vertical-align: middle;\n",
       "    }\n",
       "\n",
       "    .dataframe tbody tr th {\n",
       "        vertical-align: top;\n",
       "    }\n",
       "\n",
       "    .dataframe thead th {\n",
       "        text-align: right;\n",
       "    }\n",
       "</style>\n",
       "<table border=\"1\" class=\"dataframe\">\n",
       "  <thead>\n",
       "    <tr style=\"text-align: right;\">\n",
       "      <th></th>\n",
       "      <th>vcount</th>\n",
       "    </tr>\n",
       "  </thead>\n",
       "  <tbody>\n",
       "    <tr>\n",
       "      <th>happi mother day</th>\n",
       "      <td>115</td>\n",
       "    </tr>\n",
       "    <tr>\n",
       "      <th>ca wait see</th>\n",
       "      <td>110</td>\n",
       "    </tr>\n",
       "    <tr>\n",
       "      <th>day use www</th>\n",
       "      <td>105</td>\n",
       "    </tr>\n",
       "    <tr>\n",
       "      <th>get 100 follow</th>\n",
       "      <td>105</td>\n",
       "    </tr>\n",
       "    <tr>\n",
       "      <th>follow day use</th>\n",
       "      <td>105</td>\n",
       "    </tr>\n",
       "    <tr>\n",
       "      <th>...</th>\n",
       "      <td>...</td>\n",
       "    </tr>\n",
       "    <tr>\n",
       "      <th>good check repli</th>\n",
       "      <td>1</td>\n",
       "    </tr>\n",
       "    <tr>\n",
       "      <th>good check global</th>\n",
       "      <td>1</td>\n",
       "    </tr>\n",
       "    <tr>\n",
       "      <th>good chat tue</th>\n",
       "      <td>1</td>\n",
       "    </tr>\n",
       "    <tr>\n",
       "      <th>good chat thank</th>\n",
       "      <td>1</td>\n",
       "    </tr>\n",
       "    <tr>\n",
       "      <th>zzzzzzzzzzzzzzzzzzzzzzz soo tire</th>\n",
       "      <td>1</td>\n",
       "    </tr>\n",
       "  </tbody>\n",
       "</table>\n",
       "<p>522134 rows × 1 columns</p>\n",
       "</div>"
      ],
      "text/plain": [
       "                                  vcount\n",
       "happi mother day                     115\n",
       "ca wait see                          110\n",
       "day use www                          105\n",
       "get 100 follow                       105\n",
       "follow day use                       105\n",
       "...                                  ...\n",
       "good check repli                       1\n",
       "good check global                      1\n",
       "good chat tue                          1\n",
       "good chat thank                        1\n",
       "zzzzzzzzzzzzzzzzzzzzzzz soo tire       1\n",
       "\n",
       "[522134 rows x 1 columns]"
      ]
     },
     "execution_count": 234,
     "metadata": {},
     "output_type": "execute_result"
    }
   ],
   "source": [
    "df_trigram.shape\n",
    "\n",
    "trigram_top20 = np.sum(df_trigram.head(20).vcount)\n",
    "\n",
    "trigram_top20\n",
    "\n",
    "df_trigram"
   ]
  },
  {
   "cell_type": "code",
   "execution_count": 235,
   "metadata": {},
   "outputs": [
    {
     "data": {
      "text/plain": [
       "(447003, 1)"
      ]
     },
     "execution_count": 235,
     "metadata": {},
     "output_type": "execute_result"
    },
    {
     "data": {
      "text/plain": [
       "1117"
      ]
     },
     "execution_count": 235,
     "metadata": {},
     "output_type": "execute_result"
    }
   ],
   "source": [
    "df_4gram.shape\n",
    "\n",
    "df_4gram_top20 = np.sum(df_4gram.head(20).vcount)\n",
    "\n",
    "df_4gram_top20"
   ]
  },
  {
   "cell_type": "code",
   "execution_count": 236,
   "metadata": {},
   "outputs": [
    {
     "data": {
      "text/plain": [
       "(365303, 1)"
      ]
     },
     "execution_count": 236,
     "metadata": {},
     "output_type": "execute_result"
    },
    {
     "data": {
      "text/plain": [
       "987"
      ]
     },
     "execution_count": 236,
     "metadata": {},
     "output_type": "execute_result"
    }
   ],
   "source": [
    "df_5gram.shape\n",
    "\n",
    "df_5gram_top20 = np.sum(df_5gram.head(20).vcount)\n",
    "\n",
    "df_5gram_top20"
   ]
  },
  {
   "cell_type": "code",
   "execution_count": 237,
   "metadata": {},
   "outputs": [
    {
     "data": {
      "text/plain": [
       "array([[   2, 8013],\n",
       "       [   3, 1609],\n",
       "       [   4, 1117],\n",
       "       [   5,  987]])"
      ]
     },
     "execution_count": 237,
     "metadata": {},
     "output_type": "execute_result"
    },
    {
     "data": {
      "text/plain": [
       "<BarContainer object of 4 artists>"
      ]
     },
     "execution_count": 237,
     "metadata": {},
     "output_type": "execute_result"
    },
    {
     "data": {
      "text/plain": [
       "Text(0.5, 0, 'N-gram')"
      ]
     },
     "execution_count": 237,
     "metadata": {},
     "output_type": "execute_result"
    },
    {
     "data": {
      "text/plain": [
       "([<matplotlib.axis.XTick at 0x7f406a8a39d0>,\n",
       "  <matplotlib.axis.XTick at 0x7f406a8a3f40>,\n",
       "  <matplotlib.axis.XTick at 0x7f3fb25ae580>,\n",
       "  <matplotlib.axis.XTick at 0x7f4066518340>],\n",
       " <a list of 4 Text major ticklabel objects>)"
      ]
     },
     "execution_count": 237,
     "metadata": {},
     "output_type": "execute_result"
    },
    {
     "data": {
      "image/png": "[encoded data removed]",
      "text/plain": [
       "<Figure size 432x288 with 1 Axes>"
      ]
     },
     "metadata": {
      "needs_background": "light"
     },
     "output_type": "display_data"
    }
   ],
   "source": [
    "## summary N-gram analysis\n",
    "\n",
    "ngrams = np.array([(2,bigram_top20),(3,trigram_top20),(4,df_4gram_top20),(5,df_5gram_top20)])\n",
    "\n",
    "ngrams\n",
    "\n",
    "fig = plt.figure()\n",
    "ax = fig.add_axes([0,0,1,1])\n",
    "ax.bar(ngrams[:,0],ngrams[:,1])\n",
    "ax.set_xlabel('N-gram')\n",
    "plt.xticks(ngrams[:,0])\n",
    "plt.show()\n"
   ]
  },
  {
   "cell_type": "code",
   "execution_count": 166,
   "metadata": {
    "colab": {
     "base_uri": "https://localhost:8080/"
    },
    "executionInfo": {
     "elapsed": 826342,
     "status": "ok",
     "timestamp": 1604554380157,
     "user": {
      "displayName": "Vishal Arya",
      "photoUrl": "",
      "userId": "05630331593287898441"
     },
     "user_tz": 300
    },
    "id": "RE3ZHxaQoE38",
    "outputId": "6eeed75b-5956-43d5-8dc8-33dc9adfdeb7"
   },
   "outputs": [
    {
     "data": {
      "text/plain": [
       "count   100000.00000\n",
       "mean        47.69062\n",
       "std         24.07830\n",
       "min          0.00000\n",
       "25%         28.00000\n",
       "50%         45.00000\n",
       "75%         66.00000\n",
       "max        214.00000\n",
       "Name: cl_twlength, dtype: float64"
      ]
     },
     "execution_count": 166,
     "metadata": {},
     "output_type": "execute_result"
    },
    {
     "name": "stdout",
     "output_type": "stream",
     "text": [
      "\n",
      "\n"
     ]
    },
    {
     "data": {
      "text/plain": [
       "82.0"
      ]
     },
     "execution_count": 166,
     "metadata": {},
     "output_type": "execute_result"
    },
    {
     "data": {
      "text/plain": [
       "90.0"
      ]
     },
     "execution_count": 166,
     "metadata": {},
     "output_type": "execute_result"
    },
    {
     "data": {
      "text/plain": [
       "<matplotlib.axes._subplots.AxesSubplot at 0x7f3fe812e3d0>"
      ]
     },
     "execution_count": 166,
     "metadata": {},
     "output_type": "execute_result"
    },
    {
     "data": {
      "text/plain": [
       "(array([ 14698.,  46995.,  73847.,  92438.,  99342.,  99979.,  99993.,\n",
       "         99997.,  99998., 100000.]),\n",
       " array([  0. ,  21.4,  42.8,  64.2,  85.6, 107. , 128.4, 149.8, 171.2,\n",
       "        192.6, 214. ]),\n",
       " <a list of 1 Patch objects>)"
      ]
     },
     "execution_count": 166,
     "metadata": {},
     "output_type": "execute_result"
    },
    {
     "data": {
      "image/png": "[encoded data removed]",
      "text/plain": [
       "<Figure size 432x288 with 1 Axes>"
      ]
     },
     "metadata": {
      "needs_background": "light"
     },
     "output_type": "display_data"
    }
   ],
   "source": [
    "red_data.cl_twlength.describe()\n",
    "\n",
    "#90th per centile\n",
    "v()\n",
    "np.percentile(red_data.cl_twlength,90)\n",
    "np.percentile(red_data.cl_twlength,95)\n",
    "#tweet length of 82 90%> in length than other tweets; suggest setting sequence dim to 85,  95% @ 90\n",
    "\n",
    "red_data.cl_twlength.plot.hist()\n",
    "\n",
    "plt.hist(red_data.cl_twlength, cumulative=True, label='CDF',\n",
    "         histtype='step', alpha=0.8, color='k')"
   ]
  },
  {
   "cell_type": "code",
   "execution_count": 571,
   "metadata": {
    "executionInfo": {
     "elapsed": 829920,
     "status": "ok",
     "timestamp": 1604554383741,
     "user": {
      "displayName": "Vishal Arya",
      "photoUrl": "",
      "userId": "05630331593287898441"
     },
     "user_tz": 300
    },
    "id": "OgDOBjA6YeC4"
   },
   "outputs": [],
   "source": [
    "## tokenize each word in tweet\n",
    "##INPUT LENGHT HERE\n",
    "\n",
    "maxtw_length = 90 #95% quantile as confirmed up top\n",
    "vocabulary_size = 40000\n",
    "\n",
    "tokenizer = Tokenizer()\n",
    "tokenizer.fit_on_texts(red_data.clean_tweet)\n",
    "sequences = tokenizer.texts_to_sequences(red_data.clean_tweet)\n",
    "tk_data = pad_sequences(sequences, maxlen=maxtw_length)\n",
    "\n"
   ]
  },
  {
   "cell_type": "code",
   "execution_count": 576,
   "metadata": {
    "colab": {
     "base_uri": "https://localhost:8080/"
    },
    "executionInfo": {
     "elapsed": 829913,
     "status": "ok",
     "timestamp": 1604554383743,
     "user": {
      "displayName": "Vishal Arya",
      "photoUrl": "",
      "userId": "05630331593287898441"
     },
     "user_tz": 300
    },
    "id": "Awd_neFMaA6T",
    "outputId": "1b1c69dd-fb0a-46a2-e45e-e0ca997fcce2"
   },
   "outputs": [
    {
     "data": {
      "text/plain": [
       "array([[    0,     0,     0, ...,  1437,    21,   569],\n",
       "       [    0,     0,     0, ...,  1843,    32, 22337],\n",
       "       [    0,     0,     0, ...,     2,    35,  1368],\n",
       "       ...,\n",
       "       [    0,     0,     0, ..., 83785,   480,   257],\n",
       "       [    0,     0,     0, ..., 83786,   585,  1823],\n",
       "       [    0,     0,     0, ...,    33,     5,     4]], dtype=int32)"
      ]
     },
     "execution_count": 576,
     "metadata": {},
     "output_type": "execute_result"
    },
    {
     "data": {
      "text/plain": [
       "83787"
      ]
     },
     "execution_count": 576,
     "metadata": {},
     "output_type": "execute_result"
    },
    {
     "data": {
      "text/plain": [
       "(100000, 90)"
      ]
     },
     "execution_count": 576,
     "metadata": {},
     "output_type": "execute_result"
    }
   ],
   "source": [
    "tk_data # all tweets sequenced using token word indexer and padded to max tweet lngth\n",
    "\n",
    "np.amax(tk_data)\n",
    "\n",
    "tk_data.shape"
   ]
  },
  {
   "cell_type": "code",
   "execution_count": 575,
   "metadata": {
    "executionInfo": {
     "elapsed": 829911,
     "status": "ok",
     "timestamp": 1604554383744,
     "user": {
      "displayName": "Vishal Arya",
      "photoUrl": "",
      "userId": "05630331593287898441"
     },
     "user_tz": 300
    },
    "id": "lqxP_zjkpwVz"
   },
   "outputs": [
    {
     "data": {
      "text/plain": [
       "(100000,)"
      ]
     },
     "execution_count": 575,
     "metadata": {},
     "output_type": "execute_result"
    }
   ],
   "source": [
    "label = red_data.target\n",
    "\n",
    "label.shape"
   ]
  },
  {
   "cell_type": "code",
   "execution_count": 577,
   "metadata": {
    "colab": {
     "base_uri": "https://localhost:8080/"
    },
    "executionInfo": {
     "elapsed": 829900,
     "status": "ok",
     "timestamp": 1604554383744,
     "user": {
      "displayName": "Vishal Arya",
      "photoUrl": "",
      "userId": "05630331593287898441"
     },
     "user_tz": 300
    },
    "id": "WEM40iCUZv2w",
    "outputId": "6bab8141-74c8-4128-e137-8955c6c06f2e"
   },
   "outputs": [],
   "source": [
    "#### SPLIT DATA TEST/TRAIN\n",
    "\n",
    "testsize = .20\n",
    "\n",
    "xtrain, xtest, ytrain, ytest = train_test_split(tk_data, label, test_size=testsize, random_state=42)\n",
    "\n",
    "\n",
    "##pytorch expansion only\n",
    "ytrain_pyt = np.expand_dims(ytrain, axis=1)\n",
    "xtrain_pyt = np.concatenate((xtrain, ytrain_pyt), axis=1)\n",
    "\n",
    "ytest_pyt = np.expand_dims(ytest, axis=1)\n",
    "xtest_pyt = np.concatenate((xtest, ytest_pyt), axis=1)"
   ]
  },
  {
   "cell_type": "code",
   "execution_count": 920,
   "metadata": {},
   "outputs": [
    {
     "data": {
      "text/plain": [
       "array([0, 1])"
      ]
     },
     "execution_count": 920,
     "metadata": {},
     "output_type": "execute_result"
    }
   ],
   "source": [
    "np.unique(ytrain)"
   ]
  },
  {
   "cell_type": "code",
   "execution_count": 562,
   "metadata": {
    "colab": {
     "base_uri": "https://localhost:8080/"
    },
    "executionInfo": {
     "elapsed": 329,
     "status": "ok",
     "timestamp": 1604554411885,
     "user": {
      "displayName": "Vishal Arya",
      "photoUrl": "",
      "userId": "05630331593287898441"
     },
     "user_tz": 300
    },
    "id": "8uJAHpHZVDxt",
    "outputId": "69508a64-0d43-4d51-8060-e530a1dd8fb3"
   },
   "outputs": [
    {
     "name": "stdout",
     "output_type": "stream",
     "text": [
      "Model: \"sequential_17\"\n",
      "_________________________________________________________________\n",
      "Layer (type)                 Output Shape              Param #   \n",
      "=================================================================\n",
      "embedding (Embedding)        (None, 90, 100)           8378800   \n",
      "_________________________________________________________________\n",
      "conv1d_70 (Conv1D)           (None, 89, 32)            6432      \n",
      "_________________________________________________________________\n",
      "global_average_pooling1d_41  (None, 32)                0         \n",
      "_________________________________________________________________\n",
      "dropout_67 (Dropout)         (None, 32)                0         \n",
      "_________________________________________________________________\n",
      "flatten_70 (Flatten)         (None, 32)                0         \n",
      "_________________________________________________________________\n",
      "dense_68 (Dense)             (None, 16)                528       \n",
      "_________________________________________________________________\n",
      "dense_69 (Dense)             (None, 1)                 17        \n",
      "=================================================================\n",
      "Total params: 8,385,777\n",
      "Trainable params: 8,385,777\n",
      "Non-trainable params: 0\n",
      "_________________________________________________________________\n",
      "None\n"
     ]
    }
   ],
   "source": [
    "from tensorflow.keras.layers import Activation, Dense, Embedding, GlobalAveragePooling1D\n",
    "import tensorflow.keras.backend as K\n",
    "import tensorflow as tf\n",
    "\n",
    "\n",
    "cnnvocab = len(tokenizer.word_index)+1\n",
    "\n",
    "# Embedding(cnnvocab, length of word vector dimension, twweet length, name) \n",
    "#GOOD11111111111111111111111111111111111111111111111\n",
    "\n",
    "model = Sequential()\n",
    "model.add(Embedding(cnnvocab, 100, input_length=maxtw_length, name=\"embedding\"))\n",
    "model.add(Conv1D(filters=32, kernel_size=2, activation='relu'))\n",
    "model.add(GlobalAveragePooling1D())\n",
    "model.add(Dropout(0.5, input_shape=(89,)))\n",
    "model.add(Flatten())\n",
    "model.add(Dense(16, activation='relu'))\n",
    "model.add(Dense(1, activation='sigmoid'))\n",
    "print(model.summary())\n"
   ]
  },
  {
   "cell_type": "code",
   "execution_count": 917,
   "metadata": {
    "colab": {
     "base_uri": "https://localhost:8080/"
    },
    "executionInfo": {
     "elapsed": 830821,
     "status": "ok",
     "timestamp": 1604554384723,
     "user": {
      "displayName": "Vishal Arya",
      "photoUrl": "",
      "userId": "05630331593287898441"
     },
     "user_tz": 300
    },
    "id": "msWzkzkrs_Xl",
    "outputId": "0ac2e6e7-8b56-4051-bfd2-60ec30dc4829"
   },
   "outputs": [
    {
     "name": "stdout",
     "output_type": "stream",
     "text": [
      "Num GPUs Available:  0\n",
      "2.3.1\n"
     ]
    },
    {
     "data": {
      "text/plain": [
       "TensorShape([20000, 90])"
      ]
     },
     "execution_count": 917,
     "metadata": {},
     "output_type": "execute_result"
    }
   ],
   "source": [
    "import tensorflow as tf\n",
    "tf.config.run_functions_eagerly(True)\n",
    "\n",
    "from tensorflow.python.client import device_lib\n",
    "#print(device_lib.list_local_devices())\n",
    "\n",
    "print(\"Num GPUs Available: \", len(tf.config.experimental.list_physical_devices('GPU')))\n",
    "\n",
    "\n",
    "print(tf.__version__)\n",
    "\n",
    "xtest_tf.shape\n"
   ]
  },
  {
   "cell_type": "code",
   "execution_count": 919,
   "metadata": {
    "colab": {
     "base_uri": "https://localhost:8080/"
    },
    "executionInfo": {
     "elapsed": 105442,
     "status": "ok",
     "timestamp": 1604554521254,
     "user": {
      "displayName": "Vishal Arya",
      "photoUrl": "",
      "userId": "05630331593287898441"
     },
     "user_tz": 300
    },
    "id": "pIDiaNy8f6X7",
    "outputId": "ee565cc0-8455-4a2a-893c-1f166ca637dd",
    "scrolled": true
   },
   "outputs": [
    {
     "name": "stderr",
     "output_type": "stream",
     "text": [
      "/home/aryavish/anaconda3/lib/python3.8/site-packages/tensorflow/python/data/ops/dataset_ops.py:3349: UserWarning:\n",
      "\n",
      "Even though the tf.config.experimental_run_functions_eagerly option is set, this option does not apply to tf.data functions. tf.data functions are still traced and executed as graphs.\n",
      "\n"
     ]
    },
    {
     "name": "stdout",
     "output_type": "stream",
     "text": [
      "Epoch 1/5\n"
     ]
    },
    {
     "ename": "KeyboardInterrupt",
     "evalue": "",
     "output_type": "error",
     "traceback": [
      "\u001b[0;31m---------------------------------------------------------------------------\u001b[0m",
      "\u001b[0;31mKeyboardInterrupt\u001b[0m                         Traceback (most recent call last)",
      "\u001b[0;32m<ipython-input-919-19bf719c8666>\u001b[0m in \u001b[0;36m<module>\u001b[0;34m\u001b[0m\n\u001b[1;32m      4\u001b[0m \u001b[0mmodel\u001b[0m\u001b[0;34m.\u001b[0m\u001b[0mcompile\u001b[0m\u001b[0;34m(\u001b[0m\u001b[0mloss\u001b[0m\u001b[0;34m=\u001b[0m\u001b[0;34m'binary_crossentropy'\u001b[0m\u001b[0;34m,\u001b[0m \u001b[0moptimizer\u001b[0m\u001b[0;34m=\u001b[0m\u001b[0;34m'adam'\u001b[0m\u001b[0;34m,\u001b[0m \u001b[0mmetrics\u001b[0m\u001b[0;34m=\u001b[0m\u001b[0;34m[\u001b[0m\u001b[0;34m'accuracy'\u001b[0m\u001b[0;34m]\u001b[0m\u001b[0;34m)\u001b[0m\u001b[0;34m\u001b[0m\u001b[0;34m\u001b[0m\u001b[0m\n\u001b[1;32m      5\u001b[0m \u001b[0;31m# fit network\u001b[0m\u001b[0;34m\u001b[0m\u001b[0;34m\u001b[0m\u001b[0;34m\u001b[0m\u001b[0m\n\u001b[0;32m----> 6\u001b[0;31m \u001b[0mhistory\u001b[0m \u001b[0;34m=\u001b[0m \u001b[0mmodel\u001b[0m\u001b[0;34m.\u001b[0m\u001b[0mfit\u001b[0m\u001b[0;34m(\u001b[0m\u001b[0mxtrain\u001b[0m\u001b[0;34m,\u001b[0m \u001b[0mytrain\u001b[0m\u001b[0;34m,\u001b[0m \u001b[0mbatch_size\u001b[0m \u001b[0;34m=\u001b[0m \u001b[0;36m8000\u001b[0m\u001b[0;34m,\u001b[0m \u001b[0mepochs\u001b[0m\u001b[0;34m=\u001b[0m\u001b[0;36m5\u001b[0m\u001b[0;34m,\u001b[0m \u001b[0mverbose\u001b[0m\u001b[0;34m=\u001b[0m\u001b[0;36m2\u001b[0m\u001b[0;34m,\u001b[0m \u001b[0mvalidation_data\u001b[0m\u001b[0;34m=\u001b[0m\u001b[0;34m(\u001b[0m\u001b[0mxtest\u001b[0m\u001b[0;34m,\u001b[0m\u001b[0mytest\u001b[0m\u001b[0;34m)\u001b[0m\u001b[0;34m,\u001b[0m \u001b[0mshuffle\u001b[0m\u001b[0;34m=\u001b[0m\u001b[0;32mTrue\u001b[0m\u001b[0;34m)\u001b[0m\u001b[0;34m\u001b[0m\u001b[0;34m\u001b[0m\u001b[0m\n\u001b[0m\u001b[1;32m      7\u001b[0m \u001b[0mplt\u001b[0m\u001b[0;34m.\u001b[0m\u001b[0mplot\u001b[0m\u001b[0;34m(\u001b[0m\u001b[0mhistory\u001b[0m\u001b[0;34m.\u001b[0m\u001b[0mhistory\u001b[0m\u001b[0;34m[\u001b[0m\u001b[0;34m'accuracy'\u001b[0m\u001b[0;34m]\u001b[0m\u001b[0;34m)\u001b[0m\u001b[0;34m\u001b[0m\u001b[0;34m\u001b[0m\u001b[0m\n\u001b[1;32m      8\u001b[0m \u001b[0mplt\u001b[0m\u001b[0;34m.\u001b[0m\u001b[0mplot\u001b[0m\u001b[0;34m(\u001b[0m\u001b[0mhistory\u001b[0m\u001b[0;34m.\u001b[0m\u001b[0mhistory\u001b[0m\u001b[0;34m[\u001b[0m\u001b[0;34m'val_accuracy'\u001b[0m\u001b[0;34m]\u001b[0m\u001b[0;34m)\u001b[0m\u001b[0;34m\u001b[0m\u001b[0;34m\u001b[0m\u001b[0m\n",
      "\u001b[0;32m~/anaconda3/lib/python3.8/site-packages/tensorflow/python/keras/engine/training.py\u001b[0m in \u001b[0;36m_method_wrapper\u001b[0;34m(self, *args, **kwargs)\u001b[0m\n\u001b[1;32m    106\u001b[0m   \u001b[0;32mdef\u001b[0m \u001b[0m_method_wrapper\u001b[0m\u001b[0;34m(\u001b[0m\u001b[0mself\u001b[0m\u001b[0;34m,\u001b[0m \u001b[0;34m*\u001b[0m\u001b[0margs\u001b[0m\u001b[0;34m,\u001b[0m \u001b[0;34m**\u001b[0m\u001b[0mkwargs\u001b[0m\u001b[0;34m)\u001b[0m\u001b[0;34m:\u001b[0m\u001b[0;34m\u001b[0m\u001b[0;34m\u001b[0m\u001b[0m\n\u001b[1;32m    107\u001b[0m     \u001b[0;32mif\u001b[0m \u001b[0;32mnot\u001b[0m \u001b[0mself\u001b[0m\u001b[0;34m.\u001b[0m\u001b[0m_in_multi_worker_mode\u001b[0m\u001b[0;34m(\u001b[0m\u001b[0;34m)\u001b[0m\u001b[0;34m:\u001b[0m  \u001b[0;31m# pylint: disable=protected-access\u001b[0m\u001b[0;34m\u001b[0m\u001b[0;34m\u001b[0m\u001b[0m\n\u001b[0;32m--> 108\u001b[0;31m       \u001b[0;32mreturn\u001b[0m \u001b[0mmethod\u001b[0m\u001b[0;34m(\u001b[0m\u001b[0mself\u001b[0m\u001b[0;34m,\u001b[0m \u001b[0;34m*\u001b[0m\u001b[0margs\u001b[0m\u001b[0;34m,\u001b[0m \u001b[0;34m**\u001b[0m\u001b[0mkwargs\u001b[0m\u001b[0;34m)\u001b[0m\u001b[0;34m\u001b[0m\u001b[0;34m\u001b[0m\u001b[0m\n\u001b[0m\u001b[1;32m    109\u001b[0m \u001b[0;34m\u001b[0m\u001b[0m\n\u001b[1;32m    110\u001b[0m     \u001b[0;31m# Running inside `run_distribute_coordinator` already.\u001b[0m\u001b[0;34m\u001b[0m\u001b[0;34m\u001b[0m\u001b[0;34m\u001b[0m\u001b[0m\n",
      "\u001b[0;32m~/anaconda3/lib/python3.8/site-packages/tensorflow/python/keras/engine/training.py\u001b[0m in \u001b[0;36mfit\u001b[0;34m(self, x, y, batch_size, epochs, verbose, callbacks, validation_split, validation_data, shuffle, class_weight, sample_weight, initial_epoch, steps_per_epoch, validation_steps, validation_batch_size, validation_freq, max_queue_size, workers, use_multiprocessing)\u001b[0m\n\u001b[1;32m   1096\u001b[0m                 batch_size=batch_size):\n\u001b[1;32m   1097\u001b[0m               \u001b[0mcallbacks\u001b[0m\u001b[0;34m.\u001b[0m\u001b[0mon_train_batch_begin\u001b[0m\u001b[0;34m(\u001b[0m\u001b[0mstep\u001b[0m\u001b[0;34m)\u001b[0m\u001b[0;34m\u001b[0m\u001b[0;34m\u001b[0m\u001b[0m\n\u001b[0;32m-> 1098\u001b[0;31m               \u001b[0mtmp_logs\u001b[0m \u001b[0;34m=\u001b[0m \u001b[0mtrain_function\u001b[0m\u001b[0;34m(\u001b[0m\u001b[0miterator\u001b[0m\u001b[0;34m)\u001b[0m\u001b[0;34m\u001b[0m\u001b[0;34m\u001b[0m\u001b[0m\n\u001b[0m\u001b[1;32m   1099\u001b[0m               \u001b[0;32mif\u001b[0m \u001b[0mdata_handler\u001b[0m\u001b[0;34m.\u001b[0m\u001b[0mshould_sync\u001b[0m\u001b[0;34m:\u001b[0m\u001b[0;34m\u001b[0m\u001b[0;34m\u001b[0m\u001b[0m\n\u001b[1;32m   1100\u001b[0m                 \u001b[0mcontext\u001b[0m\u001b[0;34m.\u001b[0m\u001b[0masync_wait\u001b[0m\u001b[0;34m(\u001b[0m\u001b[0;34m)\u001b[0m\u001b[0;34m\u001b[0m\u001b[0;34m\u001b[0m\u001b[0m\n",
      "\u001b[0;32m~/anaconda3/lib/python3.8/site-packages/tensorflow/python/keras/engine/training.py\u001b[0m in \u001b[0;36mtrain_function\u001b[0;34m(iterator)\u001b[0m\n\u001b[1;32m    804\u001b[0m       \u001b[0;32mdef\u001b[0m \u001b[0mtrain_function\u001b[0m\u001b[0;34m(\u001b[0m\u001b[0miterator\u001b[0m\u001b[0;34m)\u001b[0m\u001b[0;34m:\u001b[0m\u001b[0;34m\u001b[0m\u001b[0;34m\u001b[0m\u001b[0m\n\u001b[1;32m    805\u001b[0m         \u001b[0;34m\"\"\"Runs a training execution with one step.\"\"\"\u001b[0m\u001b[0;34m\u001b[0m\u001b[0;34m\u001b[0m\u001b[0m\n\u001b[0;32m--> 806\u001b[0;31m         \u001b[0;32mreturn\u001b[0m \u001b[0mstep_function\u001b[0m\u001b[0;34m(\u001b[0m\u001b[0mself\u001b[0m\u001b[0;34m,\u001b[0m \u001b[0miterator\u001b[0m\u001b[0;34m)\u001b[0m\u001b[0;34m\u001b[0m\u001b[0;34m\u001b[0m\u001b[0m\n\u001b[0m\u001b[1;32m    807\u001b[0m \u001b[0;34m\u001b[0m\u001b[0m\n\u001b[1;32m    808\u001b[0m     \u001b[0;32melse\u001b[0m\u001b[0;34m:\u001b[0m\u001b[0;34m\u001b[0m\u001b[0;34m\u001b[0m\u001b[0m\n",
      "\u001b[0;32m~/anaconda3/lib/python3.8/site-packages/tensorflow/python/keras/engine/training.py\u001b[0m in \u001b[0;36mstep_function\u001b[0;34m(model, iterator)\u001b[0m\n\u001b[1;32m    793\u001b[0m         \u001b[0;32mreturn\u001b[0m \u001b[0moutputs\u001b[0m\u001b[0;34m\u001b[0m\u001b[0;34m\u001b[0m\u001b[0m\n\u001b[1;32m    794\u001b[0m \u001b[0;34m\u001b[0m\u001b[0m\n\u001b[0;32m--> 795\u001b[0;31m       \u001b[0mdata\u001b[0m \u001b[0;34m=\u001b[0m \u001b[0mnext\u001b[0m\u001b[0;34m(\u001b[0m\u001b[0miterator\u001b[0m\u001b[0;34m)\u001b[0m\u001b[0;34m\u001b[0m\u001b[0;34m\u001b[0m\u001b[0m\n\u001b[0m\u001b[1;32m    796\u001b[0m       \u001b[0moutputs\u001b[0m \u001b[0;34m=\u001b[0m \u001b[0mmodel\u001b[0m\u001b[0;34m.\u001b[0m\u001b[0mdistribute_strategy\u001b[0m\u001b[0;34m.\u001b[0m\u001b[0mrun\u001b[0m\u001b[0;34m(\u001b[0m\u001b[0mrun_step\u001b[0m\u001b[0;34m,\u001b[0m \u001b[0margs\u001b[0m\u001b[0;34m=\u001b[0m\u001b[0;34m(\u001b[0m\u001b[0mdata\u001b[0m\u001b[0;34m,\u001b[0m\u001b[0;34m)\u001b[0m\u001b[0;34m)\u001b[0m\u001b[0;34m\u001b[0m\u001b[0;34m\u001b[0m\u001b[0m\n\u001b[1;32m    797\u001b[0m       outputs = reduce_per_replica(\n",
      "\u001b[0;32m~/anaconda3/lib/python3.8/site-packages/tensorflow/python/data/ops/iterator_ops.py\u001b[0m in \u001b[0;36m__next__\u001b[0;34m(self)\u001b[0m\n\u001b[1;32m    734\u001b[0m \u001b[0;34m\u001b[0m\u001b[0m\n\u001b[1;32m    735\u001b[0m   \u001b[0;32mdef\u001b[0m \u001b[0m__next__\u001b[0m\u001b[0;34m(\u001b[0m\u001b[0mself\u001b[0m\u001b[0;34m)\u001b[0m\u001b[0;34m:\u001b[0m  \u001b[0;31m# For Python 3 compatibility\u001b[0m\u001b[0;34m\u001b[0m\u001b[0;34m\u001b[0m\u001b[0m\n\u001b[0;32m--> 736\u001b[0;31m     \u001b[0;32mreturn\u001b[0m \u001b[0mself\u001b[0m\u001b[0;34m.\u001b[0m\u001b[0mnext\u001b[0m\u001b[0;34m(\u001b[0m\u001b[0;34m)\u001b[0m\u001b[0;34m\u001b[0m\u001b[0;34m\u001b[0m\u001b[0m\n\u001b[0m\u001b[1;32m    737\u001b[0m \u001b[0;34m\u001b[0m\u001b[0m\n\u001b[1;32m    738\u001b[0m   \u001b[0;32mdef\u001b[0m \u001b[0m_next_internal\u001b[0m\u001b[0;34m(\u001b[0m\u001b[0mself\u001b[0m\u001b[0;34m)\u001b[0m\u001b[0;34m:\u001b[0m\u001b[0;34m\u001b[0m\u001b[0;34m\u001b[0m\u001b[0m\n",
      "\u001b[0;32m~/anaconda3/lib/python3.8/site-packages/tensorflow/python/data/ops/iterator_ops.py\u001b[0m in \u001b[0;36mnext\u001b[0;34m(self)\u001b[0m\n\u001b[1;32m    770\u001b[0m   \u001b[0;32mdef\u001b[0m \u001b[0mnext\u001b[0m\u001b[0;34m(\u001b[0m\u001b[0mself\u001b[0m\u001b[0;34m)\u001b[0m\u001b[0;34m:\u001b[0m\u001b[0;34m\u001b[0m\u001b[0;34m\u001b[0m\u001b[0m\n\u001b[1;32m    771\u001b[0m     \u001b[0;32mtry\u001b[0m\u001b[0;34m:\u001b[0m\u001b[0;34m\u001b[0m\u001b[0;34m\u001b[0m\u001b[0m\n\u001b[0;32m--> 772\u001b[0;31m       \u001b[0;32mreturn\u001b[0m \u001b[0mself\u001b[0m\u001b[0;34m.\u001b[0m\u001b[0m_next_internal\u001b[0m\u001b[0;34m(\u001b[0m\u001b[0;34m)\u001b[0m\u001b[0;34m\u001b[0m\u001b[0;34m\u001b[0m\u001b[0m\n\u001b[0m\u001b[1;32m    773\u001b[0m     \u001b[0;32mexcept\u001b[0m \u001b[0merrors\u001b[0m\u001b[0;34m.\u001b[0m\u001b[0mOutOfRangeError\u001b[0m\u001b[0;34m:\u001b[0m\u001b[0;34m\u001b[0m\u001b[0;34m\u001b[0m\u001b[0m\n\u001b[1;32m    774\u001b[0m       \u001b[0;32mraise\u001b[0m \u001b[0mStopIteration\u001b[0m\u001b[0;34m\u001b[0m\u001b[0;34m\u001b[0m\u001b[0m\n",
      "\u001b[0;32m~/anaconda3/lib/python3.8/site-packages/tensorflow/python/data/ops/iterator_ops.py\u001b[0m in \u001b[0;36m_next_internal\u001b[0;34m(self)\u001b[0m\n\u001b[1;32m    753\u001b[0m         \u001b[0;31m# and instead mimic ops placement in graphs: Operations on resource\u001b[0m\u001b[0;34m\u001b[0m\u001b[0;34m\u001b[0m\u001b[0;34m\u001b[0m\u001b[0m\n\u001b[1;32m    754\u001b[0m         \u001b[0;31m# handles execute on the same device as where the resource is placed.\u001b[0m\u001b[0;34m\u001b[0m\u001b[0;34m\u001b[0m\u001b[0;34m\u001b[0m\u001b[0m\n\u001b[0;32m--> 755\u001b[0;31m         ret = gen_dataset_ops.iterator_get_next(\n\u001b[0m\u001b[1;32m    756\u001b[0m             \u001b[0mself\u001b[0m\u001b[0;34m.\u001b[0m\u001b[0m_iterator_resource\u001b[0m\u001b[0;34m,\u001b[0m\u001b[0;34m\u001b[0m\u001b[0;34m\u001b[0m\u001b[0m\n\u001b[1;32m    757\u001b[0m             \u001b[0moutput_types\u001b[0m\u001b[0;34m=\u001b[0m\u001b[0mself\u001b[0m\u001b[0;34m.\u001b[0m\u001b[0m_flat_output_types\u001b[0m\u001b[0;34m,\u001b[0m\u001b[0;34m\u001b[0m\u001b[0;34m\u001b[0m\u001b[0m\n",
      "\u001b[0;32m~/anaconda3/lib/python3.8/site-packages/tensorflow/python/ops/gen_dataset_ops.py\u001b[0m in \u001b[0;36miterator_get_next\u001b[0;34m(iterator, output_types, output_shapes, name)\u001b[0m\n\u001b[1;32m   2602\u001b[0m   \u001b[0;32mif\u001b[0m \u001b[0mtld\u001b[0m\u001b[0;34m.\u001b[0m\u001b[0mis_eager\u001b[0m\u001b[0;34m:\u001b[0m\u001b[0;34m\u001b[0m\u001b[0;34m\u001b[0m\u001b[0m\n\u001b[1;32m   2603\u001b[0m     \u001b[0;32mtry\u001b[0m\u001b[0;34m:\u001b[0m\u001b[0;34m\u001b[0m\u001b[0;34m\u001b[0m\u001b[0m\n\u001b[0;32m-> 2604\u001b[0;31m       _result = pywrap_tfe.TFE_Py_FastPathExecute(\n\u001b[0m\u001b[1;32m   2605\u001b[0m         \u001b[0m_ctx\u001b[0m\u001b[0;34m.\u001b[0m\u001b[0m_context_handle\u001b[0m\u001b[0;34m,\u001b[0m \u001b[0mtld\u001b[0m\u001b[0;34m.\u001b[0m\u001b[0mdevice_name\u001b[0m\u001b[0;34m,\u001b[0m \u001b[0;34m\"IteratorGetNext\"\u001b[0m\u001b[0;34m,\u001b[0m \u001b[0mname\u001b[0m\u001b[0;34m,\u001b[0m\u001b[0;34m\u001b[0m\u001b[0;34m\u001b[0m\u001b[0m\n\u001b[1;32m   2606\u001b[0m         \u001b[0mtld\u001b[0m\u001b[0;34m.\u001b[0m\u001b[0mop_callbacks\u001b[0m\u001b[0;34m,\u001b[0m \u001b[0miterator\u001b[0m\u001b[0;34m,\u001b[0m \u001b[0;34m\"output_types\"\u001b[0m\u001b[0;34m,\u001b[0m \u001b[0moutput_types\u001b[0m\u001b[0;34m,\u001b[0m\u001b[0;34m\u001b[0m\u001b[0;34m\u001b[0m\u001b[0m\n",
      "\u001b[0;31mKeyboardInterrupt\u001b[0m: "
     ]
    }
   ],
   "source": [
    "cnnvocab = len(tokenizer.word_index)+1\n",
    "\n",
    "# compile network\n",
    "model.compile(loss='binary_crossentropy', optimizer='adam', metrics=['accuracy'])\n",
    "# fit network\n",
    "history = model.fit(xtrain, ytrain, batch_size = 8000, epochs=5, verbose=2, validation_data=(xtest,ytest), shuffle=True)\n",
    "plt.plot(history.history['accuracy'])\n",
    "plt.plot(history.history['val_accuracy'])\n",
    "plt.title('model accuracy')\n",
    "plt.ylabel('accuracy')\n",
    "plt.xlabel('epoch')\n",
    "plt.legend(['train', 'val'], loc='upper left')\n",
    "plt.show()\n",
    "v()\n",
    "\n",
    "print('Test Accuracy: %f' % (acc*100))"
   ]
  },
  {
   "cell_type": "code",
   "execution_count": 918,
   "metadata": {},
   "outputs": [
    {
     "data": {
      "text/plain": [
       "83788"
      ]
     },
     "execution_count": 918,
     "metadata": {},
     "output_type": "execute_result"
    }
   ],
   "source": [
    "cnnvocab"
   ]
  },
  {
   "cell_type": "code",
   "execution_count": 581,
   "metadata": {
    "executionInfo": {
     "elapsed": 831434,
     "status": "aborted",
     "timestamp": 1604554385355,
     "user": {
      "displayName": "Vishal Arya",
      "photoUrl": "",
      "userId": "05630331593287898441"
     },
     "user_tz": 300
    },
    "id": "La7HXy8szvdO"
   },
   "outputs": [
    {
     "name": "stdout",
     "output_type": "stream",
     "text": [
      "(83788, 100)\n"
     ]
    },
    {
     "data": {
      "text/plain": [
       "numpy.ndarray"
      ]
     },
     "execution_count": 581,
     "metadata": {},
     "output_type": "execute_result"
    }
   ],
   "source": [
    "weights = model.get_layer('embedding').get_weights()[0]\n",
    "print(weights.shape) \n",
    "\n",
    "type(weights)\n",
    "\n",
    "#np.savetxt(\"weights_emb_cnn1.csv\", weights, delimiter=\",\")"
   ]
  },
  {
   "cell_type": "code",
   "execution_count": 599,
   "metadata": {
    "executionInfo": {
     "elapsed": 299,
     "status": "ok",
     "timestamp": 1604554537916,
     "user": {
      "displayName": "Vishal Arya",
      "photoUrl": "",
      "userId": "05630331593287898441"
     },
     "user_tz": 300
    },
    "id": "87IxtZjQlT35"
   },
   "outputs": [],
   "source": [
    "word_count = [tokenizer.word_counts[key] for key in tokenizer.word_counts]\n",
    "\n",
    "#word_count = word_count.sort(reverse=True)\n",
    "df_wordc = pd.DataFrame(word_count)\n",
    "df_wordc.rename(columns={0: 'wc'}, inplace=True)"
   ]
  },
  {
   "cell_type": "code",
   "execution_count": 600,
   "metadata": {
    "executionInfo": {
     "elapsed": 292,
     "status": "ok",
     "timestamp": 1604554537917,
     "user": {
      "displayName": "Vishal Arya",
      "photoUrl": "",
      "userId": "05630331593287898441"
     },
     "user_tz": 300
    },
    "id": "1ScXqGBNlT37"
   },
   "outputs": [],
   "source": [
    "df_wordc.sort_values(by='wc', ascending=False, inplace=True)\n",
    "\n",
    "\n",
    "top_words = list(df_wordc.head(50).wc)"
   ]
  },
  {
   "cell_type": "code",
   "execution_count": 601,
   "metadata": {
    "colab": {
     "base_uri": "https://localhost:8080/"
    },
    "executionInfo": {
     "elapsed": 504,
     "status": "ok",
     "timestamp": 1604554538134,
     "user": {
      "displayName": "Vishal Arya",
      "photoUrl": "",
      "userId": "05630331593287898441"
     },
     "user_tz": 300
    },
    "id": "F1GA19RVlT39",
    "outputId": "0f61f081-1683-4402-b093-8f9c1e262e80"
   },
   "outputs": [
    {
     "data": {
      "text/plain": [
       "['one',\n",
       " 'want',\n",
       " 'day',\n",
       " 'night',\n",
       " 'i',\n",
       " 'am',\n",
       " 'watch',\n",
       " 'still',\n",
       " 'back',\n",
       " 'work',\n",
       " 'home',\n",
       " 'lol',\n",
       " 'see',\n",
       " 'much',\n",
       " 'http',\n",
       " 'com',\n",
       " 'miss',\n",
       " 'you',\n",
       " 'think',\n",
       " 'need',\n",
       " 'got',\n",
       " 'not',\n",
       " 'get',\n",
       " 'new',\n",
       " 'today',\n",
       " 'go',\n",
       " 'twitter',\n",
       " 'time',\n",
       " 'realli',\n",
       " 'make',\n",
       " 'know',\n",
       " 'morn',\n",
       " 'hope',\n",
       " 'ca',\n",
       " 'feel',\n",
       " 'come',\n",
       " 'good',\n",
       " 'will',\n",
       " 'me',\n",
       " 'last',\n",
       " 'that',\n",
       " 'would',\n",
       " 'it',\n",
       " 'love',\n",
       " 'well',\n",
       " 'like',\n",
       " 'quot',\n",
       " 'amp',\n",
       " 'look',\n",
       " 'thank']"
      ]
     },
     "execution_count": 601,
     "metadata": {},
     "output_type": "execute_result"
    }
   ],
   "source": [
    "top_words = [word for word, count in tokenizer.word_counts.items() if count in top_words]\n",
    "\n",
    "top_words"
   ]
  },
  {
   "cell_type": "code",
   "execution_count": 602,
   "metadata": {
    "executionInfo": {
     "elapsed": 499,
     "status": "ok",
     "timestamp": 1604554538134,
     "user": {
      "displayName": "Vishal Arya",
      "photoUrl": "",
      "userId": "05630331593287898441"
     },
     "user_tz": 300
    },
    "id": "MXUwo4G4lT3_"
   },
   "outputs": [],
   "source": [
    "top_words_ind = list(map(tokenizer.word_index.get, top_words))"
   ]
  },
  {
   "cell_type": "code",
   "execution_count": 603,
   "metadata": {
    "colab": {
     "base_uri": "https://localhost:8080/"
    },
    "executionInfo": {
     "elapsed": 496,
     "status": "ok",
     "timestamp": 1604554538135,
     "user": {
      "displayName": "Vishal Arya",
      "photoUrl": "",
      "userId": "05630331593287898441"
     },
     "user_tz": 300
    },
    "id": "R8hrZZ6WlT4B",
    "outputId": "f9d905fb-912e-47d7-800a-ee98055e64f1"
   },
   "outputs": [
    {
     "data": {
      "text/plain": [
       "[(21, 'one'),\n",
       " (19, 'want'),\n",
       " (4, 'day'),\n",
       " (32, 'night'),\n",
       " (1, 'i'),\n",
       " (2, 'am'),\n",
       " (35, 'watch'),\n",
       " (34, 'still'),\n",
       " (20, 'back'),\n",
       " (6, 'work'),\n",
       " (40, 'home'),\n",
       " (15, 'lol'),\n",
       " (28, 'see'),\n",
       " (45, 'much'),\n",
       " (9, 'http'),\n",
       " (23, 'com'),\n",
       " (17, 'miss'),\n",
       " (50, 'you'),\n",
       " (26, 'think'),\n",
       " (36, 'need'),\n",
       " (14, 'got'),\n",
       " (16, 'not'),\n",
       " (3, 'get'),\n",
       " (39, 'new'),\n",
       " (12, 'today'),\n",
       " (10, 'go'),\n",
       " (46, 'twitter'),\n",
       " (13, 'time'),\n",
       " (27, 'realli'),\n",
       " (38, 'make'),\n",
       " (22, 'know'),\n",
       " (48, 'morn'),\n",
       " (33, 'hope'),\n",
       " (30, 'ca'),\n",
       " (25, 'feel'),\n",
       " (43, 'come'),\n",
       " (5, 'good'),\n",
       " (42, 'will'),\n",
       " (47, 'me'),\n",
       " (49, 'last'),\n",
       " (31, 'that'),\n",
       " (41, 'would'),\n",
       " (24, 'it'),\n",
       " (8, 'love'),\n",
       " (37, 'well'),\n",
       " (7, 'like'),\n",
       " (11, 'quot'),\n",
       " (29, 'amp'),\n",
       " (44, 'look'),\n",
       " (18, 'thank')]"
      ]
     },
     "execution_count": 603,
     "metadata": {},
     "output_type": "execute_result"
    }
   ],
   "source": [
    "words = [(top_words_ind[x], top_words[x]) for x in range(len(top_words))]\n",
    "\n",
    "words"
   ]
  },
  {
   "cell_type": "code",
   "execution_count": 604,
   "metadata": {
    "colab": {
     "base_uri": "https://localhost:8080/",
     "height": 669
    },
    "executionInfo": {
     "elapsed": 1615,
     "status": "ok",
     "timestamp": 1604554539258,
     "user": {
      "displayName": "Vishal Arya",
      "photoUrl": "",
      "userId": "05630331593287898441"
     },
     "user_tz": 300
    },
    "id": "Ay_RLCKClT4F",
    "outputId": "97ea5b6a-7ecd-438c-cab4-e480242223d1"
   },
   "outputs": [
    {
     "data": {
      "text/plain": [
       "PCA(n_components=2)"
      ]
     },
     "execution_count": 604,
     "metadata": {},
     "output_type": "execute_result"
    },
    {
     "data": {
      "text/plain": [
       "(83625, 2)"
      ]
     },
     "execution_count": 604,
     "metadata": {},
     "output_type": "execute_result"
    },
    {
     "data": {
      "text/plain": [
       "<Figure size 720x720 with 0 Axes>"
      ]
     },
     "execution_count": 604,
     "metadata": {},
     "output_type": "execute_result"
    },
    {
     "data": {
      "text/plain": [
       "<matplotlib.collections.PathCollection at 0x7f3fb27d5700>"
      ]
     },
     "execution_count": 604,
     "metadata": {},
     "output_type": "execute_result"
    },
    {
     "data": {
      "text/plain": [
       "Text(-0.0010130061566824679, -0.010557415417918374, \"(21, 'one')\")"
      ]
     },
     "execution_count": 604,
     "metadata": {},
     "output_type": "execute_result"
    },
    {
     "data": {
      "text/plain": [
       "Text(-0.42867915253452016, 1.2764590016384327, \"(19, 'want')\")"
      ]
     },
     "execution_count": 604,
     "metadata": {},
     "output_type": "execute_result"
    },
    {
     "data": {
      "text/plain": [
       "Text(0.12186703830949051, -0.02306891561419227, \"(4, 'day')\")"
      ]
     },
     "execution_count": 604,
     "metadata": {},
     "output_type": "execute_result"
    },
    {
     "data": {
      "text/plain": [
       "Text(-1.7036824490161862, 0.5928775775038746, \"(32, 'night')\")"
      ]
     },
     "execution_count": 604,
     "metadata": {},
     "output_type": "execute_result"
    },
    {
     "data": {
      "text/plain": [
       "Text(0.6900991657275543, 0.043880902843939674, \"(1, 'i')\")"
      ]
     },
     "execution_count": 604,
     "metadata": {},
     "output_type": "execute_result"
    },
    {
     "data": {
      "text/plain": [
       "Text(-0.8588344894910865, -0.15152877451230318, \"(2, 'am')\")"
      ]
     },
     "execution_count": 604,
     "metadata": {},
     "output_type": "execute_result"
    },
    {
     "data": {
      "text/plain": [
       "Text(-1.3718673014196467, 0.6390791175044254, \"(35, 'watch')\")"
      ]
     },
     "execution_count": 604,
     "metadata": {},
     "output_type": "execute_result"
    },
    {
     "data": {
      "text/plain": [
       "Text(-1.5517767255577253, 0.9029464823796997, \"(34, 'still')\")"
      ]
     },
     "execution_count": 604,
     "metadata": {},
     "output_type": "execute_result"
    },
    {
     "data": {
      "text/plain": [
       "Text(1.3825568077557295, 0.6330272278297111, \"(20, 'back')\")"
      ]
     },
     "execution_count": 604,
     "metadata": {},
     "output_type": "execute_result"
    },
    {
     "data": {
      "text/plain": [
       "Text(0.1131544723186044, 1.1327158783097955, \"(6, 'work')\")"
      ]
     },
     "execution_count": 604,
     "metadata": {},
     "output_type": "execute_result"
    },
    {
     "data": {
      "text/plain": [
       "Text(-1.4598698114690154, -1.5803712935936776, \"(40, 'home')\")"
      ]
     },
     "execution_count": 604,
     "metadata": {},
     "output_type": "execute_result"
    },
    {
     "data": {
      "text/plain": [
       "Text(-0.5478330577864504, -0.15280992379254352, \"(15, 'lol')\")"
      ]
     },
     "execution_count": 604,
     "metadata": {},
     "output_type": "execute_result"
    },
    {
     "data": {
      "text/plain": [
       "Text(-2.4643623700908606, 0.28630273745297563, \"(28, 'see')\")"
      ]
     },
     "execution_count": 604,
     "metadata": {},
     "output_type": "execute_result"
    },
    {
     "data": {
      "text/plain": [
       "Text(0.5485463300314911, 0.8819245085277313, \"(45, 'much')\")"
      ]
     },
     "execution_count": 604,
     "metadata": {},
     "output_type": "execute_result"
    },
    {
     "data": {
      "text/plain": [
       "Text(0.8869258485771941, 0.1272145779470303, \"(9, 'http')\")"
      ]
     },
     "execution_count": 604,
     "metadata": {},
     "output_type": "execute_result"
    },
    {
     "data": {
      "text/plain": [
       "Text(0.7024902973968911, -0.8354006387967683, \"(23, 'com')\")"
      ]
     },
     "execution_count": 604,
     "metadata": {},
     "output_type": "execute_result"
    },
    {
     "data": {
      "text/plain": [
       "Text(0.08778001059896597, 0.4850723970932374, \"(17, 'miss')\")"
      ]
     },
     "execution_count": 604,
     "metadata": {},
     "output_type": "execute_result"
    },
    {
     "data": {
      "text/plain": [
       "Text(-0.5559983401997941, 0.07029290607391803, \"(50, 'you')\")"
      ]
     },
     "execution_count": 604,
     "metadata": {},
     "output_type": "execute_result"
    },
    {
     "data": {
      "text/plain": [
       "Text(-0.673704601306424, -0.4365979145093515, \"(26, 'think')\")"
      ]
     },
     "execution_count": 604,
     "metadata": {},
     "output_type": "execute_result"
    },
    {
     "data": {
      "text/plain": [
       "Text(0.3283877905429284, -0.6605921863739151, \"(36, 'need')\")"
      ]
     },
     "execution_count": 604,
     "metadata": {},
     "output_type": "execute_result"
    },
    {
     "data": {
      "text/plain": [
       "Text(0.5730895693846472, 1.424035314965419, \"(14, 'got')\")"
      ]
     },
     "execution_count": 604,
     "metadata": {},
     "output_type": "execute_result"
    },
    {
     "data": {
      "text/plain": [
       "Text(-1.3040955779698562, 1.1709580438682963, \"(16, 'not')\")"
      ]
     },
     "execution_count": 604,
     "metadata": {},
     "output_type": "execute_result"
    },
    {
     "data": {
      "text/plain": [
       "Text(-0.7218854826720269, 0.7810758576723876, \"(3, 'get')\")"
      ]
     },
     "execution_count": 604,
     "metadata": {},
     "output_type": "execute_result"
    },
    {
     "data": {
      "text/plain": [
       "Text(0.37124273606890945, -0.16311033811543657, \"(39, 'new')\")"
      ]
     },
     "execution_count": 604,
     "metadata": {},
     "output_type": "execute_result"
    },
    {
     "data": {
      "text/plain": [
       "Text(-0.7937700809006902, -0.6823049774730408, \"(12, 'today')\")"
      ]
     },
     "execution_count": 604,
     "metadata": {},
     "output_type": "execute_result"
    },
    {
     "data": {
      "text/plain": [
       "Text(-0.517821432939041, 0.8195216381657028, \"(10, 'go')\")"
      ]
     },
     "execution_count": 604,
     "metadata": {},
     "output_type": "execute_result"
    },
    {
     "data": {
      "text/plain": [
       "Text(-0.6365821980135546, -0.06137536831783157, \"(46, 'twitter')\")"
      ]
     },
     "execution_count": 604,
     "metadata": {},
     "output_type": "execute_result"
    },
    {
     "data": {
      "text/plain": [
       "Text(0.9768209795341452, -0.06588282282346006, \"(13, 'time')\")"
      ]
     },
     "execution_count": 604,
     "metadata": {},
     "output_type": "execute_result"
    },
    {
     "data": {
      "text/plain": [
       "Text(0.34788399861180197, 0.385560144431102, \"(27, 'realli')\")"
      ]
     },
     "execution_count": 604,
     "metadata": {},
     "output_type": "execute_result"
    },
    {
     "data": {
      "text/plain": [
       "Text(1.2096692443227062, -1.3621071247829233, \"(38, 'make')\")"
      ]
     },
     "execution_count": 604,
     "metadata": {},
     "output_type": "execute_result"
    },
    {
     "data": {
      "text/plain": [
       "Text(0.9079705078605725, -1.4609101736653696, \"(22, 'know')\")"
      ]
     },
     "execution_count": 604,
     "metadata": {},
     "output_type": "execute_result"
    },
    {
     "data": {
      "text/plain": [
       "Text(1.6161902422747305, -0.07455765819789249, \"(48, 'morn')\")"
      ]
     },
     "execution_count": 604,
     "metadata": {},
     "output_type": "execute_result"
    },
    {
     "data": {
      "text/plain": [
       "Text(0.7060790065541093, -0.5777129086864139, \"(33, 'hope')\")"
      ]
     },
     "execution_count": 604,
     "metadata": {},
     "output_type": "execute_result"
    },
    {
     "data": {
      "text/plain": [
       "Text(0.9619273876739868, 0.5043225057848243, \"(30, 'ca')\")"
      ]
     },
     "execution_count": 604,
     "metadata": {},
     "output_type": "execute_result"
    },
    {
     "data": {
      "text/plain": [
       "Text(-0.6242152983556044, 0.7592051453733406, \"(25, 'feel')\")"
      ]
     },
     "execution_count": 604,
     "metadata": {},
     "output_type": "execute_result"
    },
    {
     "data": {
      "text/plain": [
       "Text(-0.7597505101877002, -0.854539845357861, \"(43, 'come')\")"
      ]
     },
     "execution_count": 604,
     "metadata": {},
     "output_type": "execute_result"
    },
    {
     "data": {
      "text/plain": [
       "Text(2.862554016580934, 1.3904141974334563, \"(5, 'good')\")"
      ]
     },
     "execution_count": 604,
     "metadata": {},
     "output_type": "execute_result"
    },
    {
     "data": {
      "text/plain": [
       "Text(-1.7399643601310368, -1.6919803000456257, \"(42, 'will')\")"
      ]
     },
     "execution_count": 604,
     "metadata": {},
     "output_type": "execute_result"
    },
    {
     "data": {
      "text/plain": [
       "Text(-1.5864595055103259, 1.888709435964973, \"(47, 'me')\")"
      ]
     },
     "execution_count": 604,
     "metadata": {},
     "output_type": "execute_result"
    },
    {
     "data": {
      "text/plain": [
       "Text(-0.15696613363718898, 1.0398985709944493, \"(49, 'last')\")"
      ]
     },
     "execution_count": 604,
     "metadata": {},
     "output_type": "execute_result"
    },
    {
     "data": {
      "text/plain": [
       "Text(-0.12636909810084904, -0.11256876089697543, \"(31, 'that')\")"
      ]
     },
     "execution_count": 604,
     "metadata": {},
     "output_type": "execute_result"
    },
    {
     "data": {
      "text/plain": [
       "Text(0.6629070138243264, 1.5687414762565461, \"(41, 'would')\")"
      ]
     },
     "execution_count": 604,
     "metadata": {},
     "output_type": "execute_result"
    },
    {
     "data": {
      "text/plain": [
       "Text(2.368389133600345, -0.029708755516982342, \"(24, 'it')\")"
      ]
     },
     "execution_count": 604,
     "metadata": {},
     "output_type": "execute_result"
    },
    {
     "data": {
      "text/plain": [
       "Text(-0.3049469836957797, -1.376791750034423, \"(8, 'love')\")"
      ]
     },
     "execution_count": 604,
     "metadata": {},
     "output_type": "execute_result"
    },
    {
     "data": {
      "text/plain": [
       "Text(0.2750717437288111, 0.67199686533781, \"(37, 'well')\")"
      ]
     },
     "execution_count": 604,
     "metadata": {},
     "output_type": "execute_result"
    },
    {
     "data": {
      "text/plain": [
       "Text(-0.8569699559279351, -1.8123150222032547, \"(7, 'like')\")"
      ]
     },
     "execution_count": 604,
     "metadata": {},
     "output_type": "execute_result"
    },
    {
     "data": {
      "text/plain": [
       "Text(0.5676959245350248, -0.3931790840652826, \"(11, 'quot')\")"
      ]
     },
     "execution_count": 604,
     "metadata": {},
     "output_type": "execute_result"
    },
    {
     "data": {
      "text/plain": [
       "Text(0.9374510415216708, 1.3814298654854924, \"(29, 'amp')\")"
      ]
     },
     "execution_count": 604,
     "metadata": {},
     "output_type": "execute_result"
    },
    {
     "data": {
      "text/plain": [
       "Text(-0.24024651705244662, -1.323160817050539, \"(44, 'look')\")"
      ]
     },
     "execution_count": 604,
     "metadata": {},
     "output_type": "execute_result"
    },
    {
     "data": {
      "text/plain": [
       "Text(-0.1279497595441315, -0.5687083636643854, \"(18, 'thank')\")"
      ]
     },
     "execution_count": 604,
     "metadata": {},
     "output_type": "execute_result"
    },
    {
     "data": {
      "image/png": "[encoded data removed]",
      "text/plain": [
       "<Figure size 720x720 with 1 Axes>"
      ]
     },
     "metadata": {
      "needs_background": "light"
     },
     "output_type": "display_data"
    }
   ],
   "source": [
    "\n",
    "\n",
    "pca = decomposition.PCA(n_components=2)\n",
    "\n",
    "pca.fit(weights)\n",
    "\n",
    "X = pca.transform(weights)\n",
    "\n",
    "X.shape\n",
    "\n",
    "result = X\n",
    "\n",
    "pyplot.figure(figsize=(10,10))\n",
    "pyplot.scatter(result[:, 0], result[:, 1])\n",
    "\n",
    "for i, word in enumerate(words):\n",
    "    pyplot.annotate(word, xy=(result[i, 0], result[i, 1]))\n",
    "\n",
    "\n",
    "\n",
    "pyplot.show()"
   ]
  },
  {
   "cell_type": "code",
   "execution_count": 386,
   "metadata": {},
   "outputs": [
    {
     "data": {
      "text/plain": [
       "(83625, 100)"
      ]
     },
     "execution_count": 386,
     "metadata": {},
     "output_type": "execute_result"
    },
    {
     "data": {
      "text/plain": [
       "83625"
      ]
     },
     "execution_count": 386,
     "metadata": {},
     "output_type": "execute_result"
    },
    {
     "data": {
      "text/plain": [
       "83624"
      ]
     },
     "execution_count": 386,
     "metadata": {},
     "output_type": "execute_result"
    },
    {
     "data": {
      "text/plain": [
       "array([ 0.00329058,  0.02309463, -0.01260956,  0.01699292, -0.05613225,\n",
       "        0.02979925,  0.05268583,  0.01216369,  0.05419632, -0.00298881,\n",
       "       -0.03436717,  0.03704486, -0.04022154, -0.0344171 , -0.04156242,\n",
       "       -0.04321704,  0.00272977, -0.00128638, -0.02410396, -0.03169641,\n",
       "       -0.02272655,  0.03915972,  0.00178317, -0.01523028,  0.02082049,\n",
       "        0.02376198,  0.02858229, -0.01204508,  0.00762836,  0.02104647,\n",
       "       -0.03275681,  0.0021378 ,  0.00080341, -0.00303346,  0.02179307,\n",
       "       -0.01216804,  0.05074267, -0.00591302, -0.00507674, -0.04179592,\n",
       "       -0.03692316, -0.04180422,  0.0007735 , -0.01055756, -0.00190031,\n",
       "        0.03923646,  0.02926649,  0.03051353, -0.03951034, -0.01754254,\n",
       "       -0.03957536, -0.04801958,  0.03810098, -0.01011541, -0.01686343,\n",
       "       -0.03827433, -0.01971509,  0.01104466, -0.01552308,  0.04886518,\n",
       "       -0.04037427, -0.0424712 ,  0.01087181, -0.04018621,  0.01057433,\n",
       "       -0.01871627,  0.04685037, -0.03175952,  0.02312838,  0.01041728,\n",
       "        0.02597044,  0.02384381,  0.02246687,  0.04023887, -0.00330829,\n",
       "       -0.01785362, -0.03734654,  0.0297576 , -0.02606468,  0.04563295,\n",
       "        0.05037199, -0.01973483,  0.01477546,  0.00688246, -0.00960268,\n",
       "       -0.00288879,  0.0161903 ,  0.03544155, -0.01932071, -0.03857011,\n",
       "       -0.00132676, -0.04237262, -0.03945315,  0.00904463,  0.00939698,\n",
       "        0.05316262, -0.01255032, -0.03238413, -0.04468014, -0.0230531 ],\n",
       "      dtype=float32)"
      ]
     },
     "execution_count": 386,
     "metadata": {},
     "output_type": "execute_result"
    }
   ],
   "source": [
    "weights.shape #100 dim per word!!\n",
    "\n",
    "cnnvocab\n",
    "\n",
    "max([n for i,n in tokenizer.word_index.items()])\n",
    "\n",
    "weights[0]"
   ]
  },
  {
   "cell_type": "code",
   "execution_count": 745,
   "metadata": {},
   "outputs": [],
   "source": [
    "## pytorch CNN2D\n",
    "# ======================\n",
    "\n",
    "import torch.nn as nn\n",
    "import torch.nn.functional as F\n",
    "import torch\n",
    "\n",
    "\n",
    "# tokenizer.word_index # contains tokenized words\n",
    "# weights contains embeddings learned from CNN 1D specs above\n",
    "\n",
    "INPUT_DIM = cnnvocab\n",
    "EMBEDDING_DIM = 100\n",
    "N_FILTERS = 32\n",
    "FILTER_SIZES = [2,3,4]\n",
    "OUTPUT_DIM = 1\n",
    "DROPOUT = 0.50\n",
    "PAD_IDX = 0     #| token to pad to 0 vector, ie word not in vocab\n",
    "\n",
    "class CNN(nn.Module):\n",
    "    def __init__(self, vocab_size, embedding_dim, n_filters, filter_sizes, output_dim, \n",
    "                 dropout, pad_idx):\n",
    "        \n",
    "        super().__init__()\n",
    "                \n",
    "        self.embedding = nn.Embedding(vocab_size, embedding_dim, padding_idx = pad_idx)\n",
    "        \n",
    "        self.convs = nn.ModuleList([\n",
    "                                    nn.Conv2d(in_channels = 1, \n",
    "                                              out_channels = n_filters, \n",
    "                                              kernel_size = (fs, embedding_dim)) \n",
    "                                    for fs in filter_sizes\n",
    "                                    ])\n",
    "        \n",
    "        self.fc = nn.Linear(len(filter_sizes) * n_filters, output_dim)\n",
    "        \n",
    "        self.dropout = nn.Dropout(dropout)\n",
    "        \n",
    "    def forward(self, text):\n",
    "                \n",
    "            #text = [batch size, sent len]\n",
    "\n",
    "            embedded = self.embedding(text)\n",
    "\n",
    "            #embedded = [batch size, sent len, emb dim]\n",
    "\n",
    "            embedded = embedded.unsqueeze(1)\n",
    "\n",
    "            #embedded = [batch size, 1, sent len, emb dim]\n",
    "\n",
    "            conved = [F.relu(conv(embedded)).squeeze(3) for conv in self.convs]\n",
    "\n",
    "            #conved_n = [batch size, n_filters, sent len - filter_sizes[n] + 1]\n",
    "\n",
    "            pooled = [F.max_pool1d(conv, conv.shape[2]).squeeze(2) for conv in conved]\n",
    "\n",
    "            #pooled_n = [batch size, n_filters]\n",
    "\n",
    "            cat = self.dropout(torch.cat(pooled, dim = 1))\n",
    "\n",
    "            #cat = [batch size, n_filters * len(filter_sizes)]\n",
    "            \n",
    "            return self.fc(cat)\n",
    "            \n",
    "\n",
    "\n",
    "\n",
    "\n"
   ]
  },
  {
   "cell_type": "code",
   "execution_count": 746,
   "metadata": {},
   "outputs": [
    {
     "name": "stdout",
     "output_type": "stream",
     "text": [
      "The model has 8,407,793 trainable parameters\n"
     ]
    }
   ],
   "source": [
    "model_pyt = CNN(INPUT_DIM, EMBEDDING_DIM, N_FILTERS, FILTER_SIZES, OUTPUT_DIM, DROPOUT, PAD_IDX)\n",
    "\n",
    "def count_parameters(model):\n",
    "    return sum(p.numel() for p in model.parameters() if p.requires_grad)\n",
    "\n",
    "\n",
    "print(f'The model has {count_parameters(model_pyt):,} trainable parameters')\n"
   ]
  },
  {
   "cell_type": "code",
   "execution_count": 461,
   "metadata": {},
   "outputs": [
    {
     "data": {
      "text/plain": [
       "tensor([[ 0.0033,  0.0231, -0.0126,  ..., -0.0324, -0.0447, -0.0231],\n",
       "        [-0.0238,  0.0105,  0.0483,  ...,  0.0951,  0.0782,  0.0111],\n",
       "        [-0.0781,  0.0284,  0.0986,  ...,  0.0203,  0.0189,  0.0181],\n",
       "        ...,\n",
       "        [ 0.0188,  0.0224,  0.0254,  ..., -0.0101,  0.0110, -0.0464],\n",
       "        [-0.0371,  0.0050,  0.0132,  ...,  0.0400, -0.0411, -0.0058],\n",
       "        [ 0.0388,  0.0231,  0.0344,  ..., -0.0398,  0.0372, -0.0238]])"
      ]
     },
     "execution_count": 461,
     "metadata": {},
     "output_type": "execute_result"
    }
   ],
   "source": [
    "#pretrained embedding vectors on CNN1D, DO NOT USE IF TRAIN PARAMS SEPARATELY !!!\n",
    "\n",
    "pretrained_embeddings =  torch.from_numpy(weights)\n",
    "\n",
    "model_pyt.embedding.weight.data.copy_(pretrained_embeddings) \n",
    "\n",
    "model_pyt.embedding.weight.data[0] = torch.zeros(EMBEDDING_DIM) ## set 0 vector to not found word"
   ]
  },
  {
   "cell_type": "code",
   "execution_count": 747,
   "metadata": {},
   "outputs": [],
   "source": [
    "batch_size = 4000\n",
    "\n",
    "train_loader = torch.utils.data.DataLoader(dataset=xtrain_pyt, \n",
    "                                           batch_size=batch_size, \n",
    "                                           shuffle=False)\n",
    "\n",
    "\n",
    "test_loader = torch.utils.data.DataLoader(dataset=xtest_pyt, \n",
    "                                          batch_size=batch_size, \n",
    "                                          shuffle=False)\n",
    "\n",
    "#loads as tensors"
   ]
  },
  {
   "cell_type": "code",
   "execution_count": 754,
   "metadata": {},
   "outputs": [
    {
     "data": {
      "text/plain": [
       "{'state': {},\n",
       " 'param_groups': [{'lr': 0.001,\n",
       "   'betas': (0.9, 0.999),\n",
       "   'eps': 1e-08,\n",
       "   'weight_decay': 0,\n",
       "   'amsgrad': False,\n",
       "   'params': [0, 1, 2, 3, 4, 5, 6, 7, 8]}]}"
      ]
     },
     "execution_count": 754,
     "metadata": {},
     "output_type": "execute_result"
    }
   ],
   "source": [
    "import torch.optim as optim\n",
    "\n",
    "optimizer = optim.Adam(model_pyt.parameters())\n",
    "\n",
    "criterion = nn.BCEWithLogitsLoss()\n",
    "\n",
    "optimizer.state_dict()"
   ]
  },
  {
   "cell_type": "code",
   "execution_count": 921,
   "metadata": {},
   "outputs": [],
   "source": [
    "from sklearn.linear_model import LogisticRegression\n",
    "from sklearn import metrics\n",
    "\n",
    "def binary_accuracy(preds, y):\n",
    "    \"\"\"\n",
    "    Returns accuracy per batch, i.e. if you get 8/10 right, this returns 0.8, NOT 8\n",
    "    \"\"\"\n",
    "\n",
    "    #round predictions to the closest integer\n",
    "    rounded_preds = torch.round(torch.sigmoid(preds))\n",
    "    correct = (rounded_preds == y).float() #convert into float for division \n",
    "    acc = correct.sum() / len(correct)\n",
    "    return acc\n",
    "\n",
    "def conf_matrix(label_pred, threshold=.50):\n",
    "\n",
    "    # uses sigmoid activation\n",
    "    \n",
    "    v1 = np.array(label_pred)\n",
    "    tlabel = [v1[x,0].item() for x in range(v1.shape[0])]\n",
    "    tsig = [torch.sigmoid(v1[x,1]).detach().numpy().item() for x in range(v1.shape[0])]\n",
    "    tsig = [1 if tsig[x] >= threshold else 0 for x in range(len(tsig))]\n",
    "    \n",
    "    labels = np.unique(tlabel)\n",
    "\n",
    "    a =  metrics.confusion_matrix(tlabel, tsig, labels=labels)\n",
    "\n",
    "    print(\"\\n Confusion matrix \\n\")\n",
    "    print(\"\\n \",pd.DataFrame(a, index=labels, columns=labels))\n",
    "    #ACTUAL ROWS, PRED COLS\n",
    "    print(\"\\n actual are rows, predicted are cols\")\n",
    "    return None"
   ]
  },
  {
   "cell_type": "code",
   "execution_count": 911,
   "metadata": {},
   "outputs": [],
   "source": [
    "global_weights = []\n"
   ]
  },
  {
   "cell_type": "code",
   "execution_count": 909,
   "metadata": {},
   "outputs": [],
   "source": [
    "maxlen = xtrain_pyt.shape[1]\n",
    "\n",
    "def train_epoch(model, optimizer, maxgrad, batchsize=8000):\n",
    "    loss_log, acc_log, grad_log, tgrad_log = [], [], [], []\n",
    "    model.train()\n",
    "    for batch_num, batch in enumerate(train_loader):\n",
    "        \n",
    "        data = batch[:,0:maxlen-1]\n",
    "        target = batch[:,maxlen-1]\n",
    "        target = target.float()\n",
    "\n",
    "        optimizer.zero_grad()\n",
    "        output = model(data).squeeze(1)\n",
    "        \n",
    "        acc = binary_accuracy(output, target)\n",
    "        acc_log.append(acc)\n",
    "        \n",
    "        loss = criterion(output, target)\n",
    "        \n",
    "        loss.backward()\n",
    "        \n",
    "        tgrad_log.extend(torch.reshape(model.convs[0].weight.grad.clone(), (1,N_FILTERS*1*FILTER_SIZES[0]*EMBEDDING_DIM)).detach().numpy())\n",
    "        tgrad_log.extend(torch.reshape(model.convs[1].weight.grad.clone(), (1,N_FILTERS*1*FILTER_SIZES[1]*EMBEDDING_DIM)).detach().numpy())\n",
    "        tgrad_log.extend(torch.reshape(model.convs[2].weight.grad.clone(), (1,N_FILTERS*1*FILTER_SIZES[2]*EMBEDDING_DIM)).detach().numpy())\n",
    "        # get gradient dl/dw of weight params in each N-gram layer\n",
    "        grad_log.append((batch_num+maxgrad, tgrad_log))\n",
    "        tgrad_log = []\n",
    "        \n",
    "        optimizer.step()\n",
    "        \n",
    "        loss = loss.item()\n",
    "        loss_log.append(loss)\n",
    "        \n",
    "    return loss_log, acc_log, grad_log    \n",
    "\n",
    "def test(model):\n",
    "    loss_log, acc_log, pred_log, label_log = [], [], [], []\n",
    "    \n",
    "    model.eval()\n",
    "    for batch_num, batch in enumerate(test_loader):    \n",
    "        \n",
    "        data = batch[:,0:maxlen-1]\n",
    "        target = batch[:,maxlen-1]\n",
    "        target = target.float()\n",
    "        \n",
    "        output = model(data).squeeze(1)\n",
    "        loss = criterion(output, target)\n",
    "\n",
    "        label_log.extend(target)\n",
    "        pred_log.extend(output)\n",
    "        \n",
    "        acc = binary_accuracy(output, target)\n",
    "        acc_log.append(acc)\n",
    "                \n",
    "        loss = loss.item()\n",
    "        loss_log.append(loss)\n",
    "    \n",
    "    label_pred = list(zip(label_log,pred_log))\n",
    "    return loss_log, acc_log, label_pred\n",
    "\n",
    "def plot_history(train_history, val_history, title='loss'):\n",
    "    plt.figure()\n",
    "    plt.title('{}'.format(title))\n",
    "    plt.plot(train_history, label='train', zorder=1)\n",
    "    \n",
    "    points = np.array(val_history)\n",
    "    \n",
    "    plt.scatter(points[:, 0], points[:, 1], marker='+', s=180, c='orange', label='val', zorder=2)\n",
    "    plt.xlabel('train steps')\n",
    "    \n",
    "    plt.legend(loc='best')\n",
    "    plt.grid()\n",
    "\n",
    "    plt.show()\n",
    "\n",
    "\n",
    "def plot_gradient(grad_log):\n",
    "    gsteps = [grad_log[x][0] for x in range(len(grad_log))]\n",
    "    gnorms = []\n",
    "    gcomp = []\n",
    "\n",
    "    for y in range(len(grad_log)):\n",
    "        for x in range(len(grad_log[y][1])):\n",
    "            gcomp.extend(grad_log[y][1][x])\n",
    "        gcomp = np.array(gcomp)\n",
    "        gnorms.append(np.linalg.norm(gcomp))\n",
    "        gcomp = []\n",
    "\n",
    "    plt.figure(figsize=(10,10))\n",
    "    plt.plot(gsteps,gnorms)\n",
    "    plt.xlabel(\"train steps\")\n",
    "    plt.ylabel(\"gradient magnitude\")\n",
    "    plt.show()\n",
    "    \n",
    "    return None\n",
    "\n",
    "    \n",
    "def train(model, opt, n_epochs):\n",
    "    train_log, train_acc_log, label_pred, grad_log = [], [], [], []\n",
    "    val_log, val_acc_log, grad_train = [], [], []\n",
    "\n",
    "\n",
    "    max_grad=0\n",
    "    for epoch in range(n_epochs):\n",
    "        print(\"Epoch {0} of {1}\".format(epoch, n_epochs))\n",
    "        train_loss, train_acc, grad_train = train_epoch(model, opt, max_grad, batchsize=batch_size)\n",
    "    \n",
    "        val_loss, val_acc, label_pred = test(model)\n",
    "\n",
    "        train_log.extend(train_loss)\n",
    "        train_acc_log.extend(train_acc)\n",
    "        \n",
    "        max_grad = max([grad_train[y][0] for y in range(len(grad_train))])+1\n",
    "        \n",
    "        grad_log.extend(grad_train)\n",
    "\n",
    "        steps = xtrain_pyt.shape[0] / batch_size\n",
    "                       \n",
    "        #assert False, \"VISH-breakpoint\"\n",
    "        val_log.append((steps * (epoch + 1), np.mean(val_loss)))\n",
    "        val_acc_log.append((steps * (epoch + 1), np.mean(val_acc)))\n",
    "        \n",
    "             \n",
    "        clear_output()\n",
    "        plot_history(train_log, val_log)    \n",
    "        plot_history(train_acc_log, val_acc_log, title='accuracy')   \n",
    "        \n",
    "        if epoch == n_epochs - 1:\n",
    "            plot_gradient(grad_log)\n",
    "            conf_matrix(label_pred)\n",
    "            \n",
    "            global global_weights\n",
    "        \n",
    "            global_weights = grad_log\n",
    "            \n",
    "            \n",
    "        print(\"Epoch: {2}, val loss: {0}, val accuracy: {1}\".format(np.mean(val_loss), np.mean(val_acc), epoch))\n",
    "\n",
    "\n"
   ]
  },
  {
   "cell_type": "code",
   "execution_count": 912,
   "metadata": {},
   "outputs": [
    {
     "data": {
      "image/png": "[encoded data removed]",
      "text/plain": [
       "<Figure size 432x288 with 1 Axes>"
      ]
     },
     "metadata": {
      "needs_background": "light"
     },
     "output_type": "display_data"
    },
    {
     "data": {
      "image/png": "[encoded data removed]",
      "text/plain": [
       "<Figure size 432x288 with 1 Axes>"
      ]
     },
     "metadata": {
      "needs_background": "light"
     },
     "output_type": "display_data"
    },
    {
     "data": {
      "image/png": "[encoded data removed]",
      "text/plain": [
       "<Figure size 720x720 with 1 Axes>"
      ]
     },
     "metadata": {
      "needs_background": "light"
     },
     "output_type": "display_data"
    },
    {
     "name": "stdout",
     "output_type": "stream",
     "text": [
      "\n",
      "           0.00000  1.00000\n",
      "0.00000     7359     2676\n",
      "1.00000     2750     7215\n",
      "\n",
      " actual are rows, predicted are cols\n",
      "Epoch: 4, val loss: 0.6250774383544921, val accuracy: 0.7287000417709351\n"
     ]
    }
   ],
   "source": [
    "train(model_pyt, optimizer, 5)"
   ]
  },
  {
   "cell_type": "code",
   "execution_count": 908,
   "metadata": {},
   "outputs": [
    {
     "data": {
      "text/plain": [
       "<Figure size 720x720 with 0 Axes>"
      ]
     },
     "execution_count": 908,
     "metadata": {},
     "output_type": "execute_result"
    },
    {
     "data": {
      "text/plain": [
       "[<matplotlib.lines.Line2D at 0x7f3fd34c8700>]"
      ]
     },
     "execution_count": 908,
     "metadata": {},
     "output_type": "execute_result"
    },
    {
     "data": {
      "text/plain": [
       "Text(0.5, 0, 'steps')"
      ]
     },
     "execution_count": 908,
     "metadata": {},
     "output_type": "execute_result"
    },
    {
     "data": {
      "text/plain": [
       "Text(0, 0.5, 'Gradient Magnitude')"
      ]
     },
     "execution_count": 908,
     "metadata": {},
     "output_type": "execute_result"
    },
    {
     "data": {
      "image/png": "[encoded data removed]",
      "text/plain": [
       "<Figure size 720x720 with 1 Axes>"
      ]
     },
     "metadata": {
      "needs_background": "light"
     },
     "output_type": "display_data"
    }
   ],
   "source": [
    "gsteps = [global_weights[x][0] for x in range(len(global_weights))]\n",
    "gnorms = []\n",
    "gcomp = []\n",
    "gorth = []\n",
    "\n",
    "\n",
    "for y in range(len(global_weights)):\n",
    "    for x in range(len(global_weights[y][1])):\n",
    "        gcomp.extend(global_weights[y][1][x])\n",
    "    gcomp = np.array(gcomp)\n",
    "    gorth.append((gcomp))\n",
    "    gnorms.append(np.linalg.norm(gcomp))\n",
    "    gcomp = []\n",
    "\n",
    "gnorms\n",
    "gsteps\n",
    "\n",
    "clear_output()\n",
    "plt.figure(figsize=(10,10))\n",
    "plt.plot(gsteps,gnorms)\n",
    "plt.xlabel(\"steps\")\n",
    "plt.ylabel(\"Gradient Magnitude\")"
   ]
  },
  {
   "cell_type": "code",
   "execution_count": 594,
   "metadata": {},
   "outputs": [
    {
     "data": {
      "text/plain": [
       "PCA(n_components=2)"
      ]
     },
     "execution_count": 594,
     "metadata": {},
     "output_type": "execute_result"
    },
    {
     "data": {
      "text/plain": [
       "(83625, 2)"
      ]
     },
     "execution_count": 594,
     "metadata": {},
     "output_type": "execute_result"
    },
    {
     "data": {
      "text/plain": [
       "<Figure size 720x720 with 0 Axes>"
      ]
     },
     "execution_count": 594,
     "metadata": {},
     "output_type": "execute_result"
    },
    {
     "data": {
      "text/plain": [
       "<matplotlib.collections.PathCollection at 0x7f4066fa8af0>"
      ]
     },
     "execution_count": 594,
     "metadata": {},
     "output_type": "execute_result"
    },
    {
     "data": {
      "text/plain": [
       "Text(-0.0011069908149642551, 0.002004357163888928, \"(21, 'one')\")"
      ]
     },
     "execution_count": 594,
     "metadata": {},
     "output_type": "execute_result"
    },
    {
     "data": {
      "text/plain": [
       "Text(-0.47510305799148006, -0.2912986650467082, \"(19, 'want')\")"
      ]
     },
     "execution_count": 594,
     "metadata": {},
     "output_type": "execute_result"
    },
    {
     "data": {
      "text/plain": [
       "Text(-0.15206706464646647, -0.845411638333469, \"(4, 'day')\")"
      ]
     },
     "execution_count": 594,
     "metadata": {},
     "output_type": "execute_result"
    },
    {
     "data": {
      "text/plain": [
       "Text(0.3103830454932403, 1.5845404979972633, \"(32, 'night')\")"
      ]
     },
     "execution_count": 594,
     "metadata": {},
     "output_type": "execute_result"
    },
    {
     "data": {
      "text/plain": [
       "Text(0.12021110116883323, -2.1968737132237512, \"(1, 'i')\")"
      ]
     },
     "execution_count": 594,
     "metadata": {},
     "output_type": "execute_result"
    },
    {
     "data": {
      "text/plain": [
       "Text(-0.7708486158557555, 1.577567095523818, \"(2, 'am')\")"
      ]
     },
     "execution_count": 594,
     "metadata": {},
     "output_type": "execute_result"
    },
    {
     "data": {
      "text/plain": [
       "Text(-1.5389165349725498, -1.15618217355999, \"(35, 'watch')\")"
      ]
     },
     "execution_count": 594,
     "metadata": {},
     "output_type": "execute_result"
    },
    {
     "data": {
      "text/plain": [
       "Text(-0.6315399183035767, 0.5133232281635245, \"(34, 'still')\")"
      ]
     },
     "execution_count": 594,
     "metadata": {},
     "output_type": "execute_result"
    },
    {
     "data": {
      "text/plain": [
       "Text(-0.40913672872516116, 0.1992958267870231, \"(20, 'back')\")"
      ]
     },
     "execution_count": 594,
     "metadata": {},
     "output_type": "execute_result"
    },
    {
     "data": {
      "text/plain": [
       "Text(-0.515533909644721, -0.8021792654634784, \"(6, 'work')\")"
      ]
     },
     "execution_count": 594,
     "metadata": {},
     "output_type": "execute_result"
    },
    {
     "data": {
      "text/plain": [
       "Text(-0.9382191198258198, -0.29646341086827077, \"(40, 'home')\")"
      ]
     },
     "execution_count": 594,
     "metadata": {},
     "output_type": "execute_result"
    },
    {
     "data": {
      "text/plain": [
       "Text(0.44694102454597334, 0.0792267856743114, \"(15, 'lol')\")"
      ]
     },
     "execution_count": 594,
     "metadata": {},
     "output_type": "execute_result"
    },
    {
     "data": {
      "text/plain": [
       "Text(-0.3495388587402789, 0.7904572129855968, \"(28, 'see')\")"
      ]
     },
     "execution_count": 594,
     "metadata": {},
     "output_type": "execute_result"
    },
    {
     "data": {
      "text/plain": [
       "Text(-1.8737637894224404, -0.4538516687842698, \"(45, 'much')\")"
      ]
     },
     "execution_count": 594,
     "metadata": {},
     "output_type": "execute_result"
    },
    {
     "data": {
      "text/plain": [
       "Text(1.6764630214092981, -1.2702360849720866, \"(9, 'http')\")"
      ]
     },
     "execution_count": 594,
     "metadata": {},
     "output_type": "execute_result"
    },
    {
     "data": {
      "text/plain": [
       "Text(0.09764161654791281, 0.12709003970669083, \"(23, 'com')\")"
      ]
     },
     "execution_count": 594,
     "metadata": {},
     "output_type": "execute_result"
    },
    {
     "data": {
      "text/plain": [
       "Text(0.6364447289701035, -1.276152775369753, \"(17, 'miss')\")"
      ]
     },
     "execution_count": 594,
     "metadata": {},
     "output_type": "execute_result"
    },
    {
     "data": {
      "text/plain": [
       "Text(1.010602557641671, -1.7891164659183745, \"(50, 'you')\")"
      ]
     },
     "execution_count": 594,
     "metadata": {},
     "output_type": "execute_result"
    },
    {
     "data": {
      "text/plain": [
       "Text(1.1242981979719266, 1.3307667443292304, \"(26, 'think')\")"
      ]
     },
     "execution_count": 594,
     "metadata": {},
     "output_type": "execute_result"
    },
    {
     "data": {
      "text/plain": [
       "Text(0.36517638015886256, 0.01725353215558224, \"(36, 'need')\")"
      ]
     },
     "execution_count": 594,
     "metadata": {},
     "output_type": "execute_result"
    },
    {
     "data": {
      "text/plain": [
       "Text(1.5657593659070965, -0.5019436733443746, \"(14, 'got')\")"
      ]
     },
     "execution_count": 594,
     "metadata": {},
     "output_type": "execute_result"
    },
    {
     "data": {
      "text/plain": [
       "Text(-0.5225283452467648, -0.8669408543949801, \"(16, 'not')\")"
      ]
     },
     "execution_count": 594,
     "metadata": {},
     "output_type": "execute_result"
    },
    {
     "data": {
      "text/plain": [
       "Text(-1.3220775279781463, -2.1446454712517014, \"(3, 'get')\")"
      ]
     },
     "execution_count": 594,
     "metadata": {},
     "output_type": "execute_result"
    },
    {
     "data": {
      "text/plain": [
       "Text(-1.9442896709047262, 0.5979034579536696, \"(39, 'new')\")"
      ]
     },
     "execution_count": 594,
     "metadata": {},
     "output_type": "execute_result"
    },
    {
     "data": {
      "text/plain": [
       "Text(-0.7563383381015726, -0.5599599338374565, \"(12, 'today')\")"
      ]
     },
     "execution_count": 594,
     "metadata": {},
     "output_type": "execute_result"
    },
    {
     "data": {
      "text/plain": [
       "Text(-0.017396248018064425, 1.8357529387494527, \"(10, 'go')\")"
      ]
     },
     "execution_count": 594,
     "metadata": {},
     "output_type": "execute_result"
    },
    {
     "data": {
      "text/plain": [
       "Text(-1.124504776961797, -0.9505364178119344, \"(46, 'twitter')\")"
      ]
     },
     "execution_count": 594,
     "metadata": {},
     "output_type": "execute_result"
    },
    {
     "data": {
      "text/plain": [
       "Text(1.4807911664772844, -0.9972741177068869, \"(13, 'time')\")"
      ]
     },
     "execution_count": 594,
     "metadata": {},
     "output_type": "execute_result"
    },
    {
     "data": {
      "text/plain": [
       "Text(-0.9939912710274957, -1.6244217605552664, \"(27, 'realli')\")"
      ]
     },
     "execution_count": 594,
     "metadata": {},
     "output_type": "execute_result"
    },
    {
     "data": {
      "text/plain": [
       "Text(0.6717651819239789, 0.5525794177731843, \"(38, 'make')\")"
      ]
     },
     "execution_count": 594,
     "metadata": {},
     "output_type": "execute_result"
    },
    {
     "data": {
      "text/plain": [
       "Text(-0.7221477740798632, 1.4990329325502387, \"(22, 'know')\")"
      ]
     },
     "execution_count": 594,
     "metadata": {},
     "output_type": "execute_result"
    },
    {
     "data": {
      "text/plain": [
       "Text(1.9362372551515645, 0.25425994572446703, \"(48, 'morn')\")"
      ]
     },
     "execution_count": 594,
     "metadata": {},
     "output_type": "execute_result"
    },
    {
     "data": {
      "text/plain": [
       "Text(-1.0974351891041974, 0.8707973324128626, \"(33, 'hope')\")"
      ]
     },
     "execution_count": 594,
     "metadata": {},
     "output_type": "execute_result"
    },
    {
     "data": {
      "text/plain": [
       "Text(-0.5937973238474998, -1.511700511077886, \"(30, 'ca')\")"
      ]
     },
     "execution_count": 594,
     "metadata": {},
     "output_type": "execute_result"
    },
    {
     "data": {
      "text/plain": [
       "Text(-1.893594800240967, 2.0074232742923073, \"(25, 'feel')\")"
      ]
     },
     "execution_count": 594,
     "metadata": {},
     "output_type": "execute_result"
    },
    {
     "data": {
      "text/plain": [
       "Text(0.10046995570279289, 0.9509523754843908, \"(43, 'come')\")"
      ]
     },
     "execution_count": 594,
     "metadata": {},
     "output_type": "execute_result"
    },
    {
     "data": {
      "text/plain": [
       "Text(1.6701957657592446, -2.3209725095582714, \"(5, 'good')\")"
      ]
     },
     "execution_count": 594,
     "metadata": {},
     "output_type": "execute_result"
    },
    {
     "data": {
      "text/plain": [
       "Text(-0.1877098892927594, 0.5614392913581628, \"(42, 'will')\")"
      ]
     },
     "execution_count": 594,
     "metadata": {},
     "output_type": "execute_result"
    },
    {
     "data": {
      "text/plain": [
       "Text(0.055186228892118626, -1.1751413986051844, \"(47, 'me')\")"
      ]
     },
     "execution_count": 594,
     "metadata": {},
     "output_type": "execute_result"
    },
    {
     "data": {
      "text/plain": [
       "Text(-1.0232348190440514, -1.9580048736263824, \"(49, 'last')\")"
      ]
     },
     "execution_count": 594,
     "metadata": {},
     "output_type": "execute_result"
    },
    {
     "data": {
      "text/plain": [
       "Text(-3.1237327970844544, -0.5093645214726078, \"(31, 'that')\")"
      ]
     },
     "execution_count": 594,
     "metadata": {},
     "output_type": "execute_result"
    },
    {
     "data": {
      "text/plain": [
       "Text(0.4067526057733501, 0.18219349734465592, \"(41, 'would')\")"
      ]
     },
     "execution_count": 594,
     "metadata": {},
     "output_type": "execute_result"
    },
    {
     "data": {
      "text/plain": [
       "Text(0.9988112090716799, 1.6146122548042086, \"(24, 'it')\")"
      ]
     },
     "execution_count": 594,
     "metadata": {},
     "output_type": "execute_result"
    },
    {
     "data": {
      "text/plain": [
       "Text(1.2416186284650008, 1.4125601872386817, \"(8, 'love')\")"
      ]
     },
     "execution_count": 594,
     "metadata": {},
     "output_type": "execute_result"
    },
    {
     "data": {
      "text/plain": [
       "Text(-2.174923720232743, -0.22919214736054735, \"(37, 'well')\")"
      ]
     },
     "execution_count": 594,
     "metadata": {},
     "output_type": "execute_result"
    },
    {
     "data": {
      "text/plain": [
       "Text(0.3396977911199013, -0.7228232825017181, \"(7, 'like')\")"
      ]
     },
     "execution_count": 594,
     "metadata": {},
     "output_type": "execute_result"
    },
    {
     "data": {
      "text/plain": [
       "Text(1.132737332779695, -1.0983414780016565, \"(11, 'quot')\")"
      ]
     },
     "execution_count": 594,
     "metadata": {},
     "output_type": "execute_result"
    },
    {
     "data": {
      "text/plain": [
       "Text(0.05604672322429462, -1.174065966692227, \"(29, 'amp')\")"
      ]
     },
     "execution_count": 594,
     "metadata": {},
     "output_type": "execute_result"
    },
    {
     "data": {
      "text/plain": [
       "Text(-0.04054211288048747, 0.014939157168633584, \"(44, 'look')\")"
      ]
     },
     "execution_count": 594,
     "metadata": {},
     "output_type": "execute_result"
    },
    {
     "data": {
      "text/plain": [
       "Text(1.6462815333877934, -1.0209207021856352, \"(18, 'thank')\")"
      ]
     },
     "execution_count": 594,
     "metadata": {},
     "output_type": "execute_result"
    },
    {
     "data": {
      "image/png": "[encoded data removed]",
      "text/plain": [
       "<Figure size 720x720 with 1 Axes>"
      ]
     },
     "metadata": {
      "needs_background": "light"
     },
     "output_type": "display_data"
    }
   ],
   "source": [
    "weights = model_pyt.embedding.weight.data\n",
    "\n",
    "pca = decomposition.PCA(n_components=2)\n",
    "\n",
    "pca.fit(weights)\n",
    "\n",
    "X = pca.transform(weights)\n",
    "\n",
    "X.shape\n",
    "\n",
    "result = X\n",
    "\n",
    "pyplot.figure(figsize=(10,10))\n",
    "pyplot.scatter(result[:, 0], result[:, 1])\n",
    "\n",
    "for i, word in enumerate(words):\n",
    "    pyplot.annotate(word, xy=(result[i, 0], result[i, 1]))\n",
    "\n",
    "\n",
    "\n",
    "pyplot.show()"
   ]
  }
 ],
 "metadata": {
  "colab": {
   "collapsed_sections": [],
   "name": "LSTMFINAL.ipynb",
   "provenance": []
  },
  "kernelspec": {
   "display_name": "Python 3",
   "language": "python",
   "name": "python3"
  },
  "language_info": {
   "codemirror_mode": {
    "name": "ipython",
    "version": 3
   },
   "file_extension": ".py",
   "mimetype": "text/x-python",
   "name": "python",
   "nbconvert_exporter": "python",
   "pygments_lexer": "ipython3",
   "version": "3.8.3"
  }
 },
 "nbformat": 4,
 "nbformat_minor": 1
}
