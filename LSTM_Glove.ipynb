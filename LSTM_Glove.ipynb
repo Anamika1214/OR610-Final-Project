{
  "nbformat": 4,
  "nbformat_minor": 0,
  "metadata": {
    "kernelspec": {
      "display_name": "Python 3",
      "language": "python",
      "name": "python3"
    },
    "language_info": {
      "codemirror_mode": {
        "name": "ipython",
        "version": 3
      },
      "file_extension": ".py",
      "mimetype": "text/x-python",
      "name": "python",
      "nbconvert_exporter": "python",
      "pygments_lexer": "ipython3",
      "version": "3.7.6"
    },
    "colab": {
      "name": "LSTM_Glove.ipynb",
      "provenance": [],
      "collapsed_sections": []
    },
    "accelerator": "GPU"
  },
  "cells": [
    {
      "cell_type": "code",
      "metadata": {
        "id": "SYXQ4sw_LE-W",
        "outputId": "a891e397-6b28-41cc-9db1-81df0c48b107",
        "colab": {
          "base_uri": "https://localhost:8080/"
        }
      },
      "source": [
        "!pip install Torchtext==0.04\n",
        "!pip install hiddenlayer\n",
        "!pip install torch\n",
        "#print(torch.__version__)\n"
      ],
      "execution_count": 1,
      "outputs": [
        {
          "output_type": "stream",
          "text": [
            "Collecting Torchtext==0.04\n",
            "\u001b[?25l  Downloading https://files.pythonhosted.org/packages/43/94/929d6bd236a4fb5c435982a7eb9730b78dcd8659acf328fd2ef9de85f483/torchtext-0.4.0-py3-none-any.whl (53kB)\n",
            "\r\u001b[K     |██████▏                         | 10kB 18.3MB/s eta 0:00:01\r\u001b[K     |████████████▍                   | 20kB 23.7MB/s eta 0:00:01\r\u001b[K     |██████████████████▌             | 30kB 17.2MB/s eta 0:00:01\r\u001b[K     |████████████████████████▊       | 40kB 14.8MB/s eta 0:00:01\r\u001b[K     |██████████████████████████████▉ | 51kB 9.1MB/s eta 0:00:01\r\u001b[K     |████████████████████████████████| 61kB 5.6MB/s \n",
            "\u001b[?25hRequirement already satisfied: six in /usr/local/lib/python3.6/dist-packages (from Torchtext==0.04) (1.15.0)\n",
            "Requirement already satisfied: requests in /usr/local/lib/python3.6/dist-packages (from Torchtext==0.04) (2.23.0)\n",
            "Requirement already satisfied: torch in /usr/local/lib/python3.6/dist-packages (from Torchtext==0.04) (1.7.0+cu101)\n",
            "Requirement already satisfied: tqdm in /usr/local/lib/python3.6/dist-packages (from Torchtext==0.04) (4.41.1)\n",
            "Requirement already satisfied: numpy in /usr/local/lib/python3.6/dist-packages (from Torchtext==0.04) (1.18.5)\n",
            "Requirement already satisfied: urllib3!=1.25.0,!=1.25.1,<1.26,>=1.21.1 in /usr/local/lib/python3.6/dist-packages (from requests->Torchtext==0.04) (1.24.3)\n",
            "Requirement already satisfied: idna<3,>=2.5 in /usr/local/lib/python3.6/dist-packages (from requests->Torchtext==0.04) (2.10)\n",
            "Requirement already satisfied: chardet<4,>=3.0.2 in /usr/local/lib/python3.6/dist-packages (from requests->Torchtext==0.04) (3.0.4)\n",
            "Requirement already satisfied: certifi>=2017.4.17 in /usr/local/lib/python3.6/dist-packages (from requests->Torchtext==0.04) (2020.6.20)\n",
            "Requirement already satisfied: typing-extensions in /usr/local/lib/python3.6/dist-packages (from torch->Torchtext==0.04) (3.7.4.3)\n",
            "Requirement already satisfied: future in /usr/local/lib/python3.6/dist-packages (from torch->Torchtext==0.04) (0.16.0)\n",
            "Requirement already satisfied: dataclasses in /usr/local/lib/python3.6/dist-packages (from torch->Torchtext==0.04) (0.7)\n",
            "Installing collected packages: Torchtext\n",
            "  Found existing installation: torchtext 0.3.1\n",
            "    Uninstalling torchtext-0.3.1:\n",
            "      Successfully uninstalled torchtext-0.3.1\n",
            "Successfully installed Torchtext-0.4.0\n",
            "Collecting hiddenlayer\n",
            "  Downloading https://files.pythonhosted.org/packages/64/f8/ea51d02695a4dc397f3b2487fae462cd3f2ce707c54250e0fdfaec2ff92e/hiddenlayer-0.3-py3-none-any.whl\n",
            "Installing collected packages: hiddenlayer\n",
            "Successfully installed hiddenlayer-0.3\n",
            "Requirement already satisfied: torch in /usr/local/lib/python3.6/dist-packages (1.7.0+cu101)\n",
            "Requirement already satisfied: dataclasses in /usr/local/lib/python3.6/dist-packages (from torch) (0.7)\n",
            "Requirement already satisfied: typing-extensions in /usr/local/lib/python3.6/dist-packages (from torch) (3.7.4.3)\n",
            "Requirement already satisfied: future in /usr/local/lib/python3.6/dist-packages (from torch) (0.16.0)\n",
            "Requirement already satisfied: numpy in /usr/local/lib/python3.6/dist-packages (from torch) (1.18.5)\n"
          ],
          "name": "stdout"
        }
      ]
    },
    {
      "cell_type": "code",
      "metadata": {
        "id": "MrtXbo8ML4jy",
        "outputId": "04cbbd3e-188f-41b4-cb11-663dec928d4d",
        "colab": {
          "base_uri": "https://localhost:8080/"
        }
      },
      "source": [
        "from google.colab import drive\n",
        "drive.mount('/content/drive')"
      ],
      "execution_count": 35,
      "outputs": [
        {
          "output_type": "stream",
          "text": [
            "Drive already mounted at /content/drive; to attempt to forcibly remount, call drive.mount(\"/content/drive\", force_remount=True).\n"
          ],
          "name": "stdout"
        }
      ]
    },
    {
      "cell_type": "code",
      "metadata": {
        "id": "-34x8APl9pxv"
      },
      "source": [
        "import re\n",
        "import numpy as np\n",
        "import pandas as pd\n",
        "import matplotlib.pyplot as plt\n",
        "%matplotlib inline\n",
        "import seaborn as sn\n",
        "from sklearn.model_selection import train_test_split\n",
        "import hiddenlayer as hl\n",
        "\n",
        "from collections import defaultdict\n",
        "\n",
        "import torch\n",
        "import torch.nn as nn\n",
        "import torch.nn.functional as F\n",
        "import torch.optim as optim\n",
        "from torch.optim.optimizer import Optimizer\n",
        "\n",
        "import torchtext\n",
        "from torchtext import data"
      ],
      "execution_count": 62,
      "outputs": []
    },
    {
      "cell_type": "code",
      "metadata": {
        "id": "xnOKz81Al6OJ",
        "outputId": "5b78dfd8-5274-4098-870a-de3d92830bce",
        "colab": {
          "base_uri": "https://localhost:8080/"
        }
      },
      "source": [
        "print(torch.__version__)"
      ],
      "execution_count": 37,
      "outputs": [
        {
          "output_type": "stream",
          "text": [
            "1.7.0+cu101\n"
          ],
          "name": "stdout"
        }
      ]
    },
    {
      "cell_type": "code",
      "metadata": {
        "id": "ik_tUPkx9px9"
      },
      "source": [
        "TEXT = data.Field(tokenize = 'spacy', include_lengths=True)\n",
        "LABEL = data.LabelField(dtype=torch.float)\n",
        "fields = [('text', TEXT), ('label', LABEL)]"
      ],
      "execution_count": 64,
      "outputs": []
    },
    {
      "cell_type": "code",
      "metadata": {
        "id": "3EnCoZKJ9pyJ"
      },
      "source": [
        "trainds, testds = data.TabularDataset.splits(path='drive/My Drive/Colab Notebooks/Data', format='csv', train='train_1.csv', test='test_1.csv', fields=fields, skip_header=True)"
      ],
      "execution_count": 65,
      "outputs": []
    },
    {
      "cell_type": "code",
      "metadata": {
        "id": "D1-6cnZ89pyX",
        "outputId": "cd3acdd8-0b35-4acb-c629-0b2903ff484d",
        "colab": {
          "base_uri": "https://localhost:8080/"
        }
      },
      "source": [
        "len(trainds)"
      ],
      "execution_count": 66,
      "outputs": [
        {
          "output_type": "execute_result",
          "data": {
            "text/plain": [
              "80000"
            ]
          },
          "metadata": {
            "tags": []
          },
          "execution_count": 66
        }
      ]
    },
    {
      "cell_type": "code",
      "metadata": {
        "id": "hKP4wT9D9pyt"
      },
      "source": [
        "TEXT.build_vocab(trainds, max_size=2000000, vectors='glove.twitter.27B.100d', unk_init=torch.Tensor.normal_)"
      ],
      "execution_count": 67,
      "outputs": []
    },
    {
      "cell_type": "code",
      "metadata": {
        "id": "7wzXErks9py_"
      },
      "source": [
        "LABEL.build_vocab(trainds)"
      ],
      "execution_count": 68,
      "outputs": []
    },
    {
      "cell_type": "code",
      "metadata": {
        "id": "OSzdzPvQ9pzP",
        "outputId": "a7a45304-8b20-4d60-850c-de668f338626",
        "colab": {
          "base_uri": "https://localhost:8080/"
        }
      },
      "source": [
        "LABEL.vocab.stoi['0'] = 0\n",
        "LABEL.vocab.stoi['1'] = 1\n",
        "LABEL.vocab.stoi"
      ],
      "execution_count": 69,
      "outputs": [
        {
          "output_type": "execute_result",
          "data": {
            "text/plain": [
              "defaultdict(None, {'0': 0, '1': 1})"
            ]
          },
          "metadata": {
            "tags": []
          },
          "execution_count": 69
        }
      ]
    },
    {
      "cell_type": "code",
      "metadata": {
        "id": "CHPi9H-T9pzZ"
      },
      "source": [
        "device = torch.device('cuda' if torch.cuda.is_available() else 'cpu')\n",
        "\n",
        "BATCH_SIZE = 1024\n",
        "\n",
        "train_iterator, test_iterator = data.BucketIterator.splits(datasets=(trainds, testds), \n",
        "                                                           batch_sizes=(BATCH_SIZE, BATCH_SIZE), \n",
        "                                                           sort_key=lambda x: len(x.text), \n",
        "                                                           sort_within_batch=True, \n",
        "                                                           device=device)"
      ],
      "execution_count": 70,
      "outputs": []
    },
    {
      "cell_type": "code",
      "metadata": {
        "id": "b9cSuKzpTLWJ",
        "outputId": "1d502f4d-eddb-46a6-ef83-b8196a7c198e",
        "colab": {
          "base_uri": "https://localhost:8080/"
        }
      },
      "source": [
        "torch.cuda.is_available()"
      ],
      "execution_count": 46,
      "outputs": [
        {
          "output_type": "execute_result",
          "data": {
            "text/plain": [
              "True"
            ]
          },
          "metadata": {
            "tags": []
          },
          "execution_count": 46
        }
      ]
    },
    {
      "cell_type": "code",
      "metadata": {
        "id": "fRkXmlAN9pzh"
      },
      "source": [
        "class Lookahead(Optimizer):\n",
        "    r\"\"\"PyTorch implementation of the lookahead wrapper.\n",
        "    Lookahead Optimizer: https://arxiv.org/abs/1907.08610\n",
        "    \"\"\"\n",
        "\n",
        "    def __init__(self, optimizer, la_steps=5, la_alpha=0.8, pullback_momentum=\"none\"):\n",
        "        \"\"\"optimizer: inner optimizer\n",
        "        la_steps (int): number of lookahead steps\n",
        "        la_alpha (float): linear interpolation factor. 1.0 recovers the inner optimizer.\n",
        "        pullback_momentum (str): change to inner optimizer momentum on interpolation update\n",
        "        \"\"\"\n",
        "        self.optimizer = optimizer\n",
        "        self._la_step = 0  # counter for inner optimizer\n",
        "        self.la_alpha = la_alpha\n",
        "        self._total_la_steps = la_steps\n",
        "        pullback_momentum = pullback_momentum.lower()\n",
        "        assert pullback_momentum in [\"reset\", \"pullback\", \"none\"]\n",
        "        self.pullback_momentum = pullback_momentum\n",
        "\n",
        "        self.state = defaultdict(dict)\n",
        "\n",
        "        # Cache the current optimizer parameters\n",
        "        for group in optimizer.param_groups:\n",
        "            for p in group['params']:\n",
        "                param_state = self.state[p]\n",
        "                param_state['cached_params'] = torch.zeros_like(p.data)\n",
        "                param_state['cached_params'].copy_(p.data)\n",
        "                if self.pullback_momentum == \"pullback\":\n",
        "                    param_state['cached_mom'] = torch.zeros_like(p.data)\n",
        "\n",
        "    def __getstate__(self):\n",
        "        return {\n",
        "            'state': self.state,\n",
        "            'optimizer': self.optimizer,\n",
        "            'la_alpha': self.la_alpha,\n",
        "            '_la_step': self._la_step,\n",
        "            '_total_la_steps': self._total_la_steps,\n",
        "            'pullback_momentum': self.pullback_momentum\n",
        "        }\n",
        "\n",
        "    def zero_grad(self):\n",
        "        self.optimizer.zero_grad()\n",
        "\n",
        "    def get_la_step(self):\n",
        "        return self._la_step\n",
        "\n",
        "    def state_dict(self):\n",
        "        return self.optimizer.state_dict()\n",
        "\n",
        "    def load_state_dict(self, state_dict):\n",
        "        self.optimizer.load_state_dict(state_dict)\n",
        "\n",
        "    def _backup_and_load_cache(self):\n",
        "        \"\"\"Useful for performing evaluation on the slow weights (which typically generalize better)\n",
        "        \"\"\"\n",
        "        for group in self.optimizer.param_groups:\n",
        "            for p in group['params']:\n",
        "                param_state = self.state[p]\n",
        "                param_state['backup_params'] = torch.zeros_like(p.data)\n",
        "                param_state['backup_params'].copy_(p.data)\n",
        "                p.data.copy_(param_state['cached_params'])\n",
        "\n",
        "    def _clear_and_load_backup(self):\n",
        "        for group in self.optimizer.param_groups:\n",
        "            for p in group['params']:\n",
        "                param_state = self.state[p]\n",
        "                p.data.copy_(param_state['backup_params'])\n",
        "                del param_state['backup_params']\n",
        "\n",
        "    @property\n",
        "    def param_groups(self):\n",
        "        return self.optimizer.param_groups\n",
        "\n",
        "    def step(self, closure=None):\n",
        "        \"\"\"Performs a single Lookahead optimization step.\n",
        "        Arguments:\n",
        "            closure (callable, optional): A closure that reevaluates the model\n",
        "                and returns the loss.\n",
        "        \"\"\"\n",
        "        loss = self.optimizer.step(closure)\n",
        "        self._la_step += 1\n",
        "\n",
        "        if self._la_step >= self._total_la_steps:\n",
        "            self._la_step = 0\n",
        "            # Lookahead and cache the current optimizer parameters\n",
        "            for group in self.optimizer.param_groups:\n",
        "                for p in group['params']:\n",
        "                    param_state = self.state[p]\n",
        "                    p.data.mul_(self.la_alpha).add_(1.0 - self.la_alpha, param_state['cached_params'])  # crucial line\n",
        "                    param_state['cached_params'].copy_(p.data)\n",
        "                    if self.pullback_momentum == \"pullback\":\n",
        "                        internal_momentum = self.optimizer.state[p][\"momentum_buffer\"]\n",
        "                        self.optimizer.state[p][\"momentum_buffer\"] = internal_momentum.mul_(self.la_alpha).add_(\n",
        "                            1.0 - self.la_alpha, param_state[\"cached_mom\"])\n",
        "                        param_state[\"cached_mom\"] = self.optimizer.state[p][\"momentum_buffer\"]\n",
        "                    elif self.pullback_momentum == \"reset\":\n",
        "                        self.optimizer.state[p][\"momentum_buffer\"] = torch.zeros_like(p.data)\n",
        "\n",
        "        return loss"
      ],
      "execution_count": 71,
      "outputs": []
    },
    {
      "cell_type": "code",
      "metadata": {
        "id": "o9wz66Yo9pzl"
      },
      "source": [
        "class SentimentPredictor(nn.Module):\n",
        "    def __init__(self, vocab_size, embedding_dim, pretrained_embeddings, hidden_dim, output_dim, n_layers, pad_idx, bidirectional):\n",
        "        super(SentimentPredictor, self).__init__()\n",
        "\n",
        "        self.embedding = nn.Embedding(vocab_size, embedding_dim, padding_idx=pad_idx)\n",
        "        self.embedding.weight.data.copy_(pretrained_embeddings)  # Initialize embeddings\n",
        "\n",
        "        # Define LSTM Layers\n",
        "        self.lstm = nn.LSTM(input_size=embedding_dim, hidden_size=hidden_dim, num_layers=n_layers, dropout=0.5, bidirectional=bidirectional)\n",
        "\n",
        "        # Final dense\n",
        "        self.dense1 = nn.Linear(hidden_dim * 2, output_dim)\n",
        "        self.dropout = nn.Dropout(0.5)\n",
        "    \n",
        "\n",
        "    def forward(self, input, lengths):\n",
        "\n",
        "        #embed = self.embedding(input)\n",
        "        embed = self.dropout(self.embedding(input))\n",
        "\n",
        "        # Pack sequence\n",
        "        packed_embed = nn.utils.rnn.pack_padded_sequence(embed, lengths)\n",
        "        packed_output, (hidden, cell) = self.lstm(packed_embed)\n",
        "\n",
        "        # Take the hidden state of the last layer for output\n",
        "        hidden = self.dropout(torch.cat((hidden[-2, :, :], hidden[-1, :, :]), dim=1))\n",
        "        out = self.dense1(hidden)\n",
        "\n",
        "        return out"
      ],
      "execution_count": 78,
      "outputs": []
    },
    {
      "cell_type": "code",
      "metadata": {
        "id": "Wl5Uq0J-9pzp",
        "outputId": "64b93937-ba21-43e3-f0cb-ce673d674c5d",
        "colab": {
          "base_uri": "https://localhost:8080/"
        }
      },
      "source": [
        "INPUT_DIM = len(TEXT.vocab)\n",
        "print(\"INPUT_DIM\", INPUT_DIM)\n",
        "EMBEDDING_DIM = len(TEXT.vocab.vectors[0])\n",
        "print(\"EMBEDDING_DIM\", EMBEDDING_DIM)\n",
        "PRETRAINED_EMBEDDINGS = TEXT.vocab.vectors\n",
        "print(\"PRETRAINED_EMBEDDINGS\", len(PRETRAINED_EMBEDDINGS))\n",
        "HIDDEN_DIM = 256\n",
        "OUTPUT_DIM = 1\n",
        "N_LAYERS = 2\n",
        "PAD_IDX = TEXT.vocab.stoi[TEXT.pad_token]\n",
        "BIDIRECTIONAL = True\n",
        "\n",
        "model = SentimentPredictor(INPUT_DIM, EMBEDDING_DIM, PRETRAINED_EMBEDDINGS, HIDDEN_DIM, OUTPUT_DIM, N_LAYERS, PAD_IDX, BIDIRECTIONAL).to(device)"
      ],
      "execution_count": 79,
      "outputs": [
        {
          "output_type": "stream",
          "text": [
            "INPUT_DIM 47089\n",
            "EMBEDDING_DIM 100\n",
            "PRETRAINED_EMBEDDINGS 47089\n"
          ],
          "name": "stdout"
        }
      ]
    },
    {
      "cell_type": "code",
      "metadata": {
        "id": "SosrI1ODhSlj",
        "outputId": "87e56167-6ab0-418b-9f8a-4209654072de",
        "colab": {
          "base_uri": "https://localhost:8080/"
        }
      },
      "source": [
        "PRETRAINED_EMBEDDINGS = TEXT.vocab.vectors\n",
        "\n",
        "print(PRETRAINED_EMBEDDINGS.shape)"
      ],
      "execution_count": 80,
      "outputs": [
        {
          "output_type": "stream",
          "text": [
            "torch.Size([47089, 100])\n"
          ],
          "name": "stdout"
        }
      ]
    },
    {
      "cell_type": "code",
      "metadata": {
        "id": "SUnBDWzQhZON"
      },
      "source": [
        "#model.embedding.weight.data.copy_(PRETRAINED_EMBEDDINGS)"
      ],
      "execution_count": 51,
      "outputs": []
    },
    {
      "cell_type": "code",
      "metadata": {
        "id": "P3xw7U_Ghc6k",
        "outputId": "c432b552-d1de-4f72-fdbd-8b1ea3f73959",
        "colab": {
          "base_uri": "https://localhost:8080/"
        }
      },
      "source": [
        "UNK_IDX = TEXT.vocab.stoi[TEXT.unk_token]\n",
        "\n",
        "model.embedding.weight.data[UNK_IDX] = torch.zeros(EMBEDDING_DIM)\n",
        "model.embedding.weight.data[PAD_IDX] = torch.zeros(EMBEDDING_DIM)\n",
        "\n",
        "print(model.embedding.weight.data)"
      ],
      "execution_count": 81,
      "outputs": [
        {
          "output_type": "stream",
          "text": [
            "tensor([[ 0.0000,  0.0000,  0.0000,  ...,  0.0000,  0.0000,  0.0000],\n",
            "        [ 0.0000,  0.0000,  0.0000,  ...,  0.0000,  0.0000,  0.0000],\n",
            "        [ 0.0557, -1.0494,  0.2031,  ..., -0.0382, -0.1536,  0.4969],\n",
            "        ...,\n",
            "        [ 0.7883, -1.9981, -2.2271,  ...,  2.2173,  0.2310,  1.7849],\n",
            "        [-0.5198,  0.3934, -0.4353,  ...,  0.4917, -0.7413, -1.1673],\n",
            "        [ 0.4833,  1.3180,  1.0125,  ...,  0.6478,  0.6429, -2.2443]])\n"
          ],
          "name": "stdout"
        }
      ]
    },
    {
      "cell_type": "code",
      "metadata": {
        "id": "ALsXWDDl9pzu"
      },
      "source": [
        "def calculate_accuracy(output, labels):\n",
        "    preds = torch.round(torch.sigmoid(output))\n",
        "    correct = (preds == labels).float()\n",
        "    acc = correct.sum() / len(correct)\n",
        "    return acc"
      ],
      "execution_count": 82,
      "outputs": []
    },
    {
      "cell_type": "code",
      "metadata": {
        "id": "SBT8qyxS9p0L",
        "outputId": "6ab31efc-d582-49e0-e077-0f9dd21b7426",
        "colab": {
          "base_uri": "https://localhost:8080/"
        }
      },
      "source": [
        "# Define loss criterion\n",
        "criterion = nn.BCEWithLogitsLoss()\n",
        "\n",
        "# Define optimizer\n",
        "opt = optim.Adam(model.parameters())\n",
        "opt = Lookahead(optimizer=opt, la_steps=10)\n",
        "\n",
        "#import torch.optim as optim\n",
        "\n",
        "#opt = optim.Adam(model.parameters())\n",
        "#criterion = nn.BCEWithLogitsLoss()\n",
        "\n",
        "model = model.to(device)\n",
        "print(device)\n",
        "criterion = criterion.to(device)"
      ],
      "execution_count": 83,
      "outputs": [
        {
          "output_type": "stream",
          "text": [
            "cuda\n"
          ],
          "name": "stdout"
        }
      ]
    },
    {
      "cell_type": "code",
      "metadata": {
        "id": "5ZDd1Wdc9p0Q",
        "outputId": "c97124a6-ad22-4896-a51e-e94928500fa0",
        "colab": {
          "base_uri": "https://localhost:8080/",
          "height": 465
        }
      },
      "source": [
        "history = hl.History()\n",
        "canvas = hl.Canvas()\n",
        "EPOCHS = 10\n",
        "iters = 0\n",
        "\n",
        "model.train()\n",
        "# Training loop\n",
        "for epoch in range(EPOCHS):\n",
        "    # Iterate over all the batches\n",
        "    for batch in train_iterator:\n",
        "        # Reset gradients\n",
        "        opt.zero_grad()\n",
        "\n",
        "        # Get the data and lengths from the batch\n",
        "        data, data_lengths = batch.text\n",
        "        data_lengths = torch.as_tensor(data_lengths, dtype=torch.int64, device='cpu')\n",
        "\n",
        "        # Calculate loss and accuracy\n",
        "        outputs = model(data, data_lengths).squeeze()\n",
        "        \n",
        "        loss = criterion(outputs, batch.label)\n",
        "        accuracy = calculate_accuracy(outputs, batch.label)\n",
        "\n",
        "        # Backpropagate the loss\n",
        "        loss.backward()\n",
        "\n",
        "        # Update model parameters\n",
        "        opt.step()\n",
        "        print(epoch, ': loss %.2f acc %.1f' % (loss, accuracy*100))\n",
        "\n",
        "        # Update loss plot every 10th batch\n",
        "        if iters % 10 == 0:\n",
        "            history.log(iters, loss=loss, accuracy=accuracy)\n",
        "            canvas.draw_plot([history['loss'], history['accuracy']])\n",
        "        iters +=1\n",
        "\n",
        "print('Done!!')"
      ],
      "execution_count": 84,
      "outputs": [
        {
          "output_type": "display_data",
          "data": {
            "image/png": "[encoded data removed]",
            "text/plain": [
              "<Figure size 864x288 with 1 Axes>"
            ]
          },
          "metadata": {
            "tags": [],
            "needs_background": "light"
          }
        },
        {
          "output_type": "stream",
          "text": [
            "9 : loss 0.38 acc 82.7\n",
            "9 : loss 0.35 acc 84.9\n",
            "9 : loss 0.43 acc 79.8\n",
            "9 : loss 0.37 acc 84.5\n",
            "9 : loss 0.44 acc 80.1\n",
            "9 : loss 0.35 acc 85.4\n",
            "9 : loss 0.41 acc 80.4\n",
            "9 : loss 0.40 acc 82.4\n",
            "9 : loss 0.37 acc 82.2\n",
            "Done!!\n"
          ],
          "name": "stdout"
        }
      ]
    },
    {
      "cell_type": "code",
      "metadata": {
        "id": "Qw2hIeZ19p0Y",
        "outputId": "3fe6f54f-0c94-4d99-c670-f3e602a801f1",
        "colab": {
          "base_uri": "https://localhost:8080/",
          "height": 314
        }
      },
      "source": [
        "test_hist = hl.History()\n",
        "test_graph = hl.Canvas()\n",
        "test_iters = 0\n",
        "preds = np.array([])\n",
        "labels = np.array([])\n",
        "acc = []\n",
        "\n",
        "model.eval()\n",
        "with torch.no_grad():\n",
        "    for batch in test_iterator:\n",
        "        data, data_lengths = batch.text\n",
        "        data_lengths = torch.as_tensor(data_lengths, dtype=torch.int64, device='cpu')\n",
        "\n",
        "        opt._backup_and_load_cache()\n",
        "        outputs = model(data, data_lengths).squeeze()\n",
        "        preds = np.append(preds, torch.round(torch.sigmoid(outputs)).detach().cpu().numpy())\n",
        "        labels = np.append(labels, batch.label.detach().cpu().numpy())\n",
        "        loss = criterion(outputs, batch.label)\n",
        "        accuracy = calculate_accuracy(outputs, batch.label)\n",
        "        opt._clear_and_load_backup()\n",
        "        acc.append(accuracy)\n",
        "\n",
        "        if test_iters % 10 == 0:\n",
        "            test_hist.log(test_iters, loss=loss, accuracy=accuracy)\n",
        "            test_graph.draw_plot([test_hist['loss'], test_hist['accuracy']])\n",
        "        test_iters += 1\n",
        "print(f'Average accuracy: {sum(acc) / len(acc)}')"
      ],
      "execution_count": 85,
      "outputs": [
        {
          "output_type": "display_data",
          "data": {
            "image/png": "[encoded data removed]",
            "text/plain": [
              "<Figure size 864x288 with 1 Axes>"
            ]
          },
          "metadata": {
            "tags": [],
            "needs_background": "light"
          }
        },
        {
          "output_type": "stream",
          "text": [
            "Average accuracy: 0.8082922101020813\n"
          ],
          "name": "stdout"
        }
      ]
    },
    {
      "cell_type": "code",
      "metadata": {
        "id": "7YJRH_Ac9p0b",
        "outputId": "258fc3ef-d864-4bdc-8897-1f517c25f961",
        "colab": {
          "base_uri": "https://localhost:8080/",
          "height": 279
        }
      },
      "source": [
        "cm_data = {'preds': preds, 'true': labels}\n",
        "cm_df = pd.DataFrame.from_dict(cm_data)\n",
        "cm = pd.crosstab(cm_df['true'], cm_df['preds'], rownames=['Actual'], colnames=['Predicted'])\n",
        "\n",
        "sn.heatmap(cm, annot=True)\n",
        "plt.show()"
      ],
      "execution_count": 86,
      "outputs": [
        {
          "output_type": "display_data",
          "data": {
            "image/png": "[encoded data removed]",
            "text/plain": [
              "<Figure size 432x288 with 2 Axes>"
            ]
          },
          "metadata": {
            "tags": [],
            "needs_background": "light"
          }
        }
      ]
    },
    {
      "cell_type": "code",
      "metadata": {
        "id": "kIa7T-wF9p0d"
      },
      "source": [
        "def predict(text):\n",
        "    #clean_text = clean(text)\n",
        "    tokenized = [word for word in text.split(' ') if word != '']\n",
        "    indexed = [TEXT.vocab.stoi[w] for w in tokenized]\n",
        "    length = [len(indexed)]\n",
        "    tensor = torch.LongTensor(indexed).to(device)\n",
        "    tensor = tensor.unsqueeze(1)\n",
        "    length_tensor = torch.LongTensor(length)\n",
        "    prediction = torch.sigmoid(model(tensor, length_tensor))\n",
        "    return prediction.item()"
      ],
      "execution_count": 87,
      "outputs": []
    },
    {
      "cell_type": "code",
      "metadata": {
        "id": "6C1ibfgV9p0g",
        "outputId": "264d7b4d-7507-41ff-8c47-eb0c55a7d7b7",
        "colab": {
          "base_uri": "https://localhost:8080/"
        }
      },
      "source": [
        "predict(\"took my dog out for a walk, the weather was pretty good\")"
      ],
      "execution_count": 88,
      "outputs": [
        {
          "output_type": "execute_result",
          "data": {
            "text/plain": [
              "0.859732449054718"
            ]
          },
          "metadata": {
            "tags": []
          },
          "execution_count": 88
        }
      ]
    },
    {
      "cell_type": "code",
      "metadata": {
        "id": "77gXlkYd9p0i"
      },
      "source": [
        "import pickle\n",
        "\n",
        "torch.save(model.state_dict(), './twitter_sentiment_state_dict.pt')\n",
        "\n",
        "model_config = {'stoi' : TEXT.vocab.stoi,\n",
        "        'input_dim': INPUT_DIM,\n",
        "        'hidden_dim': HIDDEN_DIM,\n",
        "        'embedding_dim': EMBEDDING_DIM,\n",
        "        'output_dim': OUTPUT_DIM,\n",
        "        'n_layers': N_LAYERS,\n",
        "        'pad_idx': PAD_IDX}\n",
        "\n",
        "with open('config.pickle', 'wb') as handle:\n",
        "    pickle.dump(model_config, handle, protocol=pickle.HIGHEST_PROTOCOL)"
      ],
      "execution_count": 89,
      "outputs": []
    }
  ]
}