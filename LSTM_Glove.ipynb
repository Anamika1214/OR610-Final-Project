{
 "cells": [
  {
   "cell_type": "code",
   "execution_count": 1,
   "metadata": {},
   "outputs": [],
   "source": [
    "import re\n",
    "import numpy as np\n",
    "import pandas as pd\n",
    "import matplotlib.pyplot as plt\n",
    "%matplotlib inline\n",
    "import seaborn as sn\n",
    "from sklearn.model_selection import train_test_split\n",
    "import hiddenlayer as hl\n",
    "\n",
    "from collections import defaultdict\n",
    "\n",
    "import torch\n",
    "import torch.nn as nn\n",
    "import torch.nn.functional as F\n",
    "import torch.optim as optim\n",
    "from torch.optim.optimizer import Optimizer\n",
    "\n",
    "import torchtext\n",
    "from torchtext import data"
   ]
  },
  {
   "cell_type": "code",
   "execution_count": 2,
   "metadata": {},
   "outputs": [],
   "source": [
    "TEXT = data.Field(include_lengths=True)\n",
    "LABEL = data.LabelField(dtype=torch.float)\n",
    "fields = [('text', TEXT), ('label', LABEL)]"
   ]
  },
  {
   "cell_type": "code",
   "execution_count": 3,
   "metadata": {},
   "outputs": [],
   "source": [
    "trainds, testds = data.TabularDataset.splits(path='./data', format='csv', train='train.csv', test='test.csv', fields=fields, skip_header=True)"
   ]
  },
  {
   "cell_type": "code",
   "execution_count": 4,
   "metadata": {},
   "outputs": [],
   "source": [
    "TEXT.build_vocab(trainds, max_size=2000000, vectors='glove.twitter.27B.50d', unk_init=torch.normal)"
   ]
  },
  {
   "cell_type": "code",
   "execution_count": 5,
   "metadata": {},
   "outputs": [],
   "source": [
    "LABEL.build_vocab(trainds)"
   ]
  },
  {
   "cell_type": "code",
   "execution_count": 6,
   "metadata": {},
   "outputs": [
    {
     "data": {
      "text/plain": [
       "defaultdict(None, {'0': 0, '1': 1})"
      ]
     },
     "execution_count": 6,
     "metadata": {},
     "output_type": "execute_result"
    }
   ],
   "source": [
    "LABEL.vocab.stoi['0'] = 0\n",
    "LABEL.vocab.stoi['1'] = 1\n",
    "LABEL.vocab.stoi"
   ]
  },
  {
   "cell_type": "code",
   "execution_count": 7,
   "metadata": {},
   "outputs": [],
   "source": [
    "device = torch.device('cuda:0' if torch.cuda.is_available() else 'cpu')\n",
    "BATCH_SIZE = 1024\n",
    "\n",
    "train_iterator, test_iterator = data.BucketIterator.splits(datasets=(trainds, testds), \n",
    "                                                           batch_sizes=(BATCH_SIZE, BATCH_SIZE), \n",
    "                                                           sort_key=lambda x: len(x.text), \n",
    "                                                           sort_within_batch=True, \n",
    "                                                           device=device)"
   ]
  },
  {
   "cell_type": "code",
   "execution_count": 8,
   "metadata": {},
   "outputs": [],
   "source": [
    "class Lookahead(Optimizer):\n",
    "    r\"\"\"PyTorch implementation of the lookahead wrapper.\n",
    "    Lookahead Optimizer: https://arxiv.org/abs/1907.08610\n",
    "    \"\"\"\n",
    "\n",
    "    def __init__(self, optimizer, la_steps=5, la_alpha=0.8, pullback_momentum=\"none\"):\n",
    "        \"\"\"optimizer: inner optimizer\n",
    "        la_steps (int): number of lookahead steps\n",
    "        la_alpha (float): linear interpolation factor. 1.0 recovers the inner optimizer.\n",
    "        pullback_momentum (str): change to inner optimizer momentum on interpolation update\n",
    "        \"\"\"\n",
    "        self.optimizer = optimizer\n",
    "        self._la_step = 0  # counter for inner optimizer\n",
    "        self.la_alpha = la_alpha\n",
    "        self._total_la_steps = la_steps\n",
    "        pullback_momentum = pullback_momentum.lower()\n",
    "        assert pullback_momentum in [\"reset\", \"pullback\", \"none\"]\n",
    "        self.pullback_momentum = pullback_momentum\n",
    "\n",
    "        self.state = defaultdict(dict)\n",
    "\n",
    "        # Cache the current optimizer parameters\n",
    "        for group in optimizer.param_groups:\n",
    "            for p in group['params']:\n",
    "                param_state = self.state[p]\n",
    "                param_state['cached_params'] = torch.zeros_like(p.data)\n",
    "                param_state['cached_params'].copy_(p.data)\n",
    "                if self.pullback_momentum == \"pullback\":\n",
    "                    param_state['cached_mom'] = torch.zeros_like(p.data)\n",
    "\n",
    "    def __getstate__(self):\n",
    "        return {\n",
    "            'state': self.state,\n",
    "            'optimizer': self.optimizer,\n",
    "            'la_alpha': self.la_alpha,\n",
    "            '_la_step': self._la_step,\n",
    "            '_total_la_steps': self._total_la_steps,\n",
    "            'pullback_momentum': self.pullback_momentum\n",
    "        }\n",
    "\n",
    "    def zero_grad(self):\n",
    "        self.optimizer.zero_grad()\n",
    "\n",
    "    def get_la_step(self):\n",
    "        return self._la_step\n",
    "\n",
    "    def state_dict(self):\n",
    "        return self.optimizer.state_dict()\n",
    "\n",
    "    def load_state_dict(self, state_dict):\n",
    "        self.optimizer.load_state_dict(state_dict)\n",
    "\n",
    "    def _backup_and_load_cache(self):\n",
    "        \"\"\"Useful for performing evaluation on the slow weights (which typically generalize better)\n",
    "        \"\"\"\n",
    "        for group in self.optimizer.param_groups:\n",
    "            for p in group['params']:\n",
    "                param_state = self.state[p]\n",
    "                param_state['backup_params'] = torch.zeros_like(p.data)\n",
    "                param_state['backup_params'].copy_(p.data)\n",
    "                p.data.copy_(param_state['cached_params'])\n",
    "\n",
    "    def _clear_and_load_backup(self):\n",
    "        for group in self.optimizer.param_groups:\n",
    "            for p in group['params']:\n",
    "                param_state = self.state[p]\n",
    "                p.data.copy_(param_state['backup_params'])\n",
    "                del param_state['backup_params']\n",
    "\n",
    "    @property\n",
    "    def param_groups(self):\n",
    "        return self.optimizer.param_groups\n",
    "\n",
    "    def step(self, closure=None):\n",
    "        \"\"\"Performs a single Lookahead optimization step.\n",
    "        Arguments:\n",
    "            closure (callable, optional): A closure that reevaluates the model\n",
    "                and returns the loss.\n",
    "        \"\"\"\n",
    "        loss = self.optimizer.step(closure)\n",
    "        self._la_step += 1\n",
    "\n",
    "        if self._la_step >= self._total_la_steps:\n",
    "            self._la_step = 0\n",
    "            # Lookahead and cache the current optimizer parameters\n",
    "            for group in self.optimizer.param_groups:\n",
    "                for p in group['params']:\n",
    "                    param_state = self.state[p]\n",
    "                    p.data.mul_(self.la_alpha).add_(1.0 - self.la_alpha, param_state['cached_params'])  # crucial line\n",
    "                    param_state['cached_params'].copy_(p.data)\n",
    "                    if self.pullback_momentum == \"pullback\":\n",
    "                        internal_momentum = self.optimizer.state[p][\"momentum_buffer\"]\n",
    "                        self.optimizer.state[p][\"momentum_buffer\"] = internal_momentum.mul_(self.la_alpha).add_(\n",
    "                            1.0 - self.la_alpha, param_state[\"cached_mom\"])\n",
    "                        param_state[\"cached_mom\"] = self.optimizer.state[p][\"momentum_buffer\"]\n",
    "                    elif self.pullback_momentum == \"reset\":\n",
    "                        self.optimizer.state[p][\"momentum_buffer\"] = torch.zeros_like(p.data)\n",
    "\n",
    "        return loss"
   ]
  },
  {
   "cell_type": "code",
   "execution_count": 9,
   "metadata": {},
   "outputs": [],
   "source": [
    "class SentimentPredictor(nn.Module):\n",
    "    def __init__(self, vocab_size, embedding_dim, pretrained_embeddings, hidden_dim, output_dim, n_layers, pad_idx, bidirectional):\n",
    "        super(SentimentPredictor, self).__init__()\n",
    "\n",
    "        self.embedding = nn.Embedding(vocab_size, embedding_dim, padding_idx=pad_idx)\n",
    "        self.embedding.weight.data.copy_(pretrained_embeddings)  # Initialize embeddings\n",
    "\n",
    "        # Define LSTM Layers\n",
    "        self.lstm = nn.LSTM(input_size=embedding_dim, hidden_size=hidden_dim, num_layers=n_layers, dropout=0.8, bidirectional=bidirectional)\n",
    "\n",
    "        # Final dense\n",
    "        self.dropout = nn.Dropout(0.8)\n",
    "        self.dense1 = nn.Linear(hidden_dim * 2, output_dim)\n",
    "    \n",
    "\n",
    "    def forward(self, input, lengths):\n",
    "\n",
    "        embed = self.embedding(input)\n",
    "\n",
    "        # Pack sequence\n",
    "        packed_embed = nn.utils.rnn.pack_padded_sequence(embed, lengths)\n",
    "        packed_output, (hidden, cell) = self.lstm(packed_embed)\n",
    "\n",
    "        # Take the hidden state of the last layer for output\n",
    "        hidden = self.dropout(torch.cat((hidden[-2, :, :], hidden[-1, :, :]), dim=1))\n",
    "        out = self.dense1(hidden)\n",
    "\n",
    "        return out"
   ]
  },
  {
   "cell_type": "code",
   "execution_count": 10,
   "metadata": {},
   "outputs": [],
   "source": [
    "INPUT_DIM = len(TEXT.vocab)\n",
    "EMBEDDING_DIM = len(TEXT.vocab.vectors[0])\n",
    "PRETRAINED_EMBEDDINGS = TEXT.vocab.vectors\n",
    "HIDDEN_DIM = 256\n",
    "OUTPUT_DIM = 1\n",
    "N_LAYERS = 2\n",
    "PAD_IDX = TEXT.vocab.stoi[TEXT.pad_token]\n",
    "BIDIRECTIONAL = True\n",
    "\n",
    "model = SentimentPredictor(INPUT_DIM, EMBEDDING_DIM, PRETRAINED_EMBEDDINGS, HIDDEN_DIM, OUTPUT_DIM, N_LAYERS, PAD_IDX, BIDIRECTIONAL).to(device)"
   ]
  },
  {
   "cell_type": "code",
   "execution_count": 11,
   "metadata": {},
   "outputs": [],
   "source": [
    "def calculate_accuracy(output, labels):\n",
    "    preds = torch.round(torch.sigmoid(output))\n",
    "    correct = (preds == labels).float()\n",
    "    acc = correct.sum() / len(correct)\n",
    "    return acc"
   ]
  },
  {
   "cell_type": "code",
   "execution_count": 12,
   "metadata": {},
   "outputs": [],
   "source": [
    "# Define loss criterion\n",
    "criterion = nn.BCEWithLogitsLoss()\n",
    "\n",
    "# Define optimizer\n",
    "opt = optim.Adam(model.parameters())\n",
    "opt = Lookahead(optimizer=opt, la_steps=10)"
   ]
  },
  {
   "cell_type": "code",
   "execution_count": 13,
   "metadata": {},
   "outputs": [
    {
     "data": {
      "image/png": "[encoded data removed]",
      "text/plain": [
       "<Figure size 864x288 with 1 Axes>"
      ]
     },
     "metadata": {
      "needs_background": "light"
     },
     "output_type": "display_data"
    },
    {
     "name": "stdout",
     "output_type": "stream",
     "text": [
      "Done!!\n"
     ]
    }
   ],
   "source": [
    "history = hl.History()\n",
    "canvas = hl.Canvas()\n",
    "EPOCHS = 10\n",
    "iters = 0\n",
    "\n",
    "model.train()\n",
    "# Training loop\n",
    "for epoch in range(EPOCHS):\n",
    "    # Iterate over all the batches\n",
    "    for batch in train_iterator:\n",
    "        # Reset gradients\n",
    "        opt.zero_grad()\n",
    "\n",
    "        # Get the data and lengths from the batch\n",
    "        data, data_lengths = batch.text\n",
    "\n",
    "        # Calculate loss and accuracy\n",
    "        outputs = model(data, data_lengths).squeeze()\n",
    "\n",
    "        loss = criterion(outputs, batch.label)\n",
    "        accuracy = calculate_accuracy(outputs, batch.label)\n",
    "\n",
    "        # Backpropagate the loss\n",
    "        loss.backward()\n",
    "\n",
    "        # Update model parameters\n",
    "        opt.step()\n",
    "\n",
    "        # Update loss plot every 10th batch\n",
    "        if iters % 10 == 0:\n",
    "            history.log(iters, loss=loss, accuracy=accuracy)\n",
    "            canvas.draw_plot([history['loss'], history['accuracy']])\n",
    "        iters +=1\n",
    "\n",
    "print('Done!!')"
   ]
  },
  {
   "cell_type": "code",
   "execution_count": 15,
   "metadata": {},
   "outputs": [
    {
     "data": {
      "image/png": "[encoded data removed]",
      "text/plain": [
       "<Figure size 864x288 with 1 Axes>"
      ]
     },
     "metadata": {
      "needs_background": "light"
     },
     "output_type": "display_data"
    },
    {
     "name": "stdout",
     "output_type": "stream",
     "text": [
      "Average accuracy: 0.7864487767219543\n"
     ]
    }
   ],
   "source": [
    "test_hist = hl.History()\n",
    "test_graph = hl.Canvas()\n",
    "test_iters = 0\n",
    "preds = np.array([])\n",
    "labels = np.array([])\n",
    "acc = []\n",
    "\n",
    "model.eval()\n",
    "with torch.no_grad():\n",
    "    for batch in test_iterator:\n",
    "        data, data_lengths = batch.text\n",
    "\n",
    "        opt._backup_and_load_cache()\n",
    "        outputs = model(data, data_lengths).squeeze()\n",
    "        preds = np.append(preds, torch.round(torch.sigmoid(outputs)).detach().cpu().numpy())\n",
    "        labels = np.append(labels, batch.label.detach().cpu().numpy())\n",
    "        loss = criterion(outputs, batch.label)\n",
    "        accuracy = calculate_accuracy(outputs, batch.label)\n",
    "        opt._clear_and_load_backup()\n",
    "        acc.append(accuracy)\n",
    "\n",
    "        if test_iters % 10 == 0:\n",
    "            test_hist.log(test_iters, loss=loss, accuracy=accuracy)\n",
    "            test_graph.draw_plot([test_hist['loss'], test_hist['accuracy']])\n",
    "        test_iters += 1\n",
    "print(f'Average accuracy: {sum(acc) / len(acc)}')"
   ]
  },
  {
   "cell_type": "code",
   "execution_count": 16,
   "metadata": {},
   "outputs": [
    {
     "data": {
      "image/png": "[encoded data removed]",
      "text/plain": [
       "<Figure size 432x288 with 2 Axes>"
      ]
     },
     "metadata": {
      "needs_background": "light"
     },
     "output_type": "display_data"
    }
   ],
   "source": [
    "cm_data = {'preds': preds, 'true': labels}\n",
    "cm_df = pd.DataFrame.from_dict(cm_data)\n",
    "cm = pd.crosstab(cm_df['true'], cm_df['preds'], rownames=['Actual'], colnames=['Predicted'])\n",
    "\n",
    "sn.heatmap(cm, annot=True)\n",
    "plt.show()"
   ]
  },
  {
   "cell_type": "code",
   "execution_count": 21,
   "metadata": {},
   "outputs": [],
   "source": [
    "def predict(text):\n",
    "    #clean_text = clean(text)\n",
    "    tokenized = [word for word in text.split(' ') if word != '']\n",
    "    indexed = [TEXT.vocab.stoi[w] for w in tokenized]\n",
    "    length = [len(indexed)]\n",
    "    tensor = torch.LongTensor(indexed).to(device)\n",
    "    tensor = tensor.unsqueeze(1)\n",
    "    length_tensor = torch.LongTensor(length)\n",
    "    prediction = torch.sigmoid(model(tensor, length_tensor))\n",
    "    return prediction.item()"
   ]
  },
  {
   "cell_type": "code",
   "execution_count": 22,
   "metadata": {},
   "outputs": [
    {
     "data": {
      "text/plain": [
       "0.8160519599914551"
      ]
     },
     "execution_count": 22,
     "metadata": {},
     "output_type": "execute_result"
    }
   ],
   "source": [
    "predict(\"took my dog out for a walk, the weather was pretty good\")"
   ]
  },
  {
   "cell_type": "code",
   "execution_count": 23,
   "metadata": {},
   "outputs": [],
   "source": [
    "import pickle\n",
    "\n",
    "torch.save(model.state_dict(), './twitter_sentiment_state_dict.pt')\n",
    "\n",
    "model_config = {'stoi' : TEXT.vocab.stoi,\n",
    "        'input_dim': INPUT_DIM,\n",
    "        'hidden_dim': HIDDEN_DIM,\n",
    "        'embedding_dim': EMBEDDING_DIM,\n",
    "        'output_dim': OUTPUT_DIM,\n",
    "        'n_layers': N_LAYERS,\n",
    "        'pad_idx': PAD_IDX}\n",
    "\n",
    "with open('config.pickle', 'wb') as handle:\n",
    "    pickle.dump(model_config, handle, protocol=pickle.HIGHEST_PROTOCOL)"
   ]
  }
 ],
 "metadata": {
  "kernelspec": {
   "display_name": "Python 3",
   "language": "python",
   "name": "python3"
  },
  "language_info": {
   "codemirror_mode": {
    "name": "ipython",
    "version": 3
   },
   "file_extension": ".py",
   "mimetype": "text/x-python",
   "name": "python",
   "nbconvert_exporter": "python",
   "pygments_lexer": "ipython3",
   "version": "3.7.6"
  }
 },
 "nbformat": 4,
 "nbformat_minor": 4
}
