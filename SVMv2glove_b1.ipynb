{
 "cells": [
  {
   "cell_type": "code",
   "execution_count": 1,
   "metadata": {
    "scrolled": true
   },
   "outputs": [
    {
     "data": {
      "text/html": [
       "        <script type=\"text/javascript\">\n",
       "        window.PlotlyConfig = {MathJaxConfig: 'local'};\n",
       "        if (window.MathJax) {MathJax.Hub.Config({SVG: {font: \"STIX-Web\"}});}\n",
       "        if (typeof require !== 'undefined') {\n",
       "        require.undef(\"plotly\");\n",
       "        requirejs.config({\n",
       "            paths: {\n",
       "                'plotly': ['https://cdn.plot.ly/plotly-latest.min']\n",
       "            }\n",
       "        });\n",
       "        require(['plotly'], function(Plotly) {\n",
       "            window._Plotly = Plotly;\n",
       "        });\n",
       "        }\n",
       "        </script>\n",
       "        "
      ]
     },
     "metadata": {},
     "output_type": "display_data"
    },
    {
     "name": "stderr",
     "output_type": "stream",
     "text": [
      "[nltk_data] Downloading package stopwords to\n",
      "[nltk_data]     /home/aryavish/nltk_data...\n",
      "[nltk_data]   Package stopwords is already up-to-date!\n"
     ]
    },
    {
     "name": "stdout",
     "output_type": "stream",
     "text": [
      "\n",
      "\n",
      "[[IMPORT OK]]\n"
     ]
    }
   ],
   "source": [
    "import numpy as np\n",
    "%matplotlib inline\n",
    "import matplotlib.pyplot as plt\n",
    "import math\n",
    "import datetime\n",
    "\n",
    "## stat imports\n",
    "from statsmodels.graphics.tsaplots import plot_pacf\n",
    "from statsmodels.graphics.tsaplots import plot_acf\n",
    "from scipy.stats import linregress\n",
    "\n",
    "#import researchpy as rp\n",
    "import scipy.stats as stats\n",
    "from scipy.stats import skew \n",
    "\n",
    "\n",
    "from IPython.core.interactiveshell import InteractiveShell\n",
    "InteractiveShell.ast_node_interactivity = \"all\"\n",
    "\n",
    "\n",
    "\n",
    "import pandas as pd\n",
    "\n",
    "pd.set_option('display.max_columns', None)\n",
    "pd.set_option(\"max_rows\", 150)\n",
    "pd.set_option('display.float_format', lambda x: '%.5f' % x)\n",
    "#reset pd.reset_option('display.float_format')\n",
    "\n",
    "from numpy import linalg as LA\n",
    "\n",
    "from IPython.display import clear_output\n",
    "\n",
    "\n",
    "\n",
    "## Plotly\n",
    "import plotly.offline as py\n",
    "import plotly.graph_objs as go\n",
    "py.init_notebook_mode(connected=True)\n",
    "\n",
    "# Others\n",
    "import nltk\n",
    "import string\n",
    "import re\n",
    "from collections import Counter\n",
    "from matplotlib import pyplot\n",
    "\n",
    "from nltk.tokenize import sent_tokenize, word_tokenize \n",
    "import gensim \n",
    "from gensim.models import Word2Vec\n",
    "from gensim.models import KeyedVectors\n",
    "from gensim import models\n",
    "\n",
    "from nltk.stem import SnowballStemmer\n",
    "nltk.download('stopwords')\n",
    "\n",
    "from nltk.corpus import stopwords\n",
    "from sklearn.feature_extraction.text import CountVectorizer\n",
    "\n",
    "from sklearn.manifold import TSNE\n",
    "\n",
    "import csv\n",
    "\n",
    "from sklearn import decomposition\n",
    "from sklearn import datasets\n",
    "from sklearn.model_selection import train_test_split\n",
    "from sklearn.preprocessing import StandardScaler\n",
    "\n",
    "import itertools\n",
    "from gensim.models.word2vec import Text8Corpus\n",
    "\n",
    "\n",
    "from collections import defaultdict\n",
    "\n",
    "\n",
    "\n",
    "from sklearn.linear_model import LogisticRegression\n",
    "from sklearn import metrics\n",
    "\n",
    "import os\n",
    "\n",
    "\n",
    "#critical function spacing print\n",
    "def v():\n",
    "  print(\"\\n\")\n",
    "  return None\n",
    "\n",
    "\n",
    "\n",
    "from nltk.tokenize import word_tokenize\n",
    "from nltk import pos_tag\n",
    "from nltk.corpus import stopwords\n",
    "from nltk.stem import WordNetLemmatizer\n",
    "from sklearn.preprocessing import LabelEncoder\n",
    "from nltk.corpus import wordnet as wn\n",
    "from sklearn.feature_extraction.text import TfidfVectorizer\n",
    "from sklearn import model_selection, naive_bayes, svm\n",
    "from sklearn.metrics import accuracy_score\n",
    "\n",
    "\n",
    "v()\n",
    "print(\"[[IMPORT OK]]\")"
   ]
  },
  {
   "cell_type": "code",
   "execution_count": 2,
   "metadata": {},
   "outputs": [],
   "source": [
    "xtrain = pd.read_csv(\"xtrain_exp.csv\")\n",
    "xtest = pd.read_csv(\"xtest_exp.csv\")\n"
   ]
  },
  {
   "cell_type": "code",
   "execution_count": 3,
   "metadata": {},
   "outputs": [
    {
     "data": {
      "text/html": [
       "<div>\n",
       "<style scoped>\n",
       "    .dataframe tbody tr th:only-of-type {\n",
       "        vertical-align: middle;\n",
       "    }\n",
       "\n",
       "    .dataframe tbody tr th {\n",
       "        vertical-align: top;\n",
       "    }\n",
       "\n",
       "    .dataframe thead th {\n",
       "        text-align: right;\n",
       "    }\n",
       "</style>\n",
       "<table border=\"1\" class=\"dataframe\">\n",
       "  <thead>\n",
       "    <tr style=\"text-align: right;\">\n",
       "      <th></th>\n",
       "      <th>target</th>\n",
       "      <th>clean_tweet</th>\n",
       "    </tr>\n",
       "  </thead>\n",
       "  <tbody>\n",
       "    <tr>\n",
       "      <th>0</th>\n",
       "      <td>1</td>\n",
       "      <td>danieloh lookin forward hear remix track sosweet</td>\n",
       "    </tr>\n",
       "    <tr>\n",
       "      <th>1</th>\n",
       "      <td>0</td>\n",
       "      <td>scari dream</td>\n",
       "    </tr>\n",
       "    <tr>\n",
       "      <th>2</th>\n",
       "      <td>0</td>\n",
       "      <td>maggiesnail quit amaz ! wish could seen well !...</td>\n",
       "    </tr>\n",
       "    <tr>\n",
       "      <th>3</th>\n",
       "      <td>0</td>\n",
       "      <td>sunsetjello sunset realli angri right give awa...</td>\n",
       "    </tr>\n",
       "    <tr>\n",
       "      <th>4</th>\n",
       "      <td>1</td>\n",
       "      <td>clean room</td>\n",
       "    </tr>\n",
       "    <tr>\n",
       "      <th>...</th>\n",
       "      <td>...</td>\n",
       "      <td>...</td>\n",
       "    </tr>\n",
       "    <tr>\n",
       "      <th>79995</th>\n",
       "      <td>0</td>\n",
       "      <td>ugh realli realli realli dread work today case...</td>\n",
       "    </tr>\n",
       "    <tr>\n",
       "      <th>79996</th>\n",
       "      <td>1</td>\n",
       "      <td>unveil footsi latest team jersey follow cake c...</td>\n",
       "    </tr>\n",
       "    <tr>\n",
       "      <th>79997</th>\n",
       "      <td>1</td>\n",
       "      <td>divasoria let set up ! jill thesi mad lang let...</td>\n",
       "    </tr>\n",
       "    <tr>\n",
       "      <th>79998</th>\n",
       "      <td>0</td>\n",
       "      <td>mann stori takin like it ! ! ! ! !</td>\n",
       "    </tr>\n",
       "    <tr>\n",
       "      <th>79999</th>\n",
       "      <td>0</td>\n",
       "      <td>amyspipsqueak would give anyth garden like tha...</td>\n",
       "    </tr>\n",
       "  </tbody>\n",
       "</table>\n",
       "<p>80000 rows × 2 columns</p>\n",
       "</div>"
      ],
      "text/plain": [
       "       target                                        clean_tweet\n",
       "0           1   danieloh lookin forward hear remix track sosweet\n",
       "1           0                                        scari dream\n",
       "2           0  maggiesnail quit amaz ! wish could seen well !...\n",
       "3           0  sunsetjello sunset realli angri right give awa...\n",
       "4           1                                         clean room\n",
       "...       ...                                                ...\n",
       "79995       0  ugh realli realli realli dread work today case...\n",
       "79996       1  unveil footsi latest team jersey follow cake c...\n",
       "79997       1  divasoria let set up ! jill thesi mad lang let...\n",
       "79998       0                 mann stori takin like it ! ! ! ! !\n",
       "79999       0  amyspipsqueak would give anyth garden like tha...\n",
       "\n",
       "[80000 rows x 2 columns]"
      ]
     },
     "execution_count": 3,
     "metadata": {},
     "output_type": "execute_result"
    }
   ],
   "source": [
    "xtrain # contains target and cleaned up tweet, needs to be tokenized"
   ]
  },
  {
   "cell_type": "code",
   "execution_count": 4,
   "metadata": {},
   "outputs": [
    {
     "data": {
      "text/html": [
       "<div>\n",
       "<style scoped>\n",
       "    .dataframe tbody tr th:only-of-type {\n",
       "        vertical-align: middle;\n",
       "    }\n",
       "\n",
       "    .dataframe tbody tr th {\n",
       "        vertical-align: top;\n",
       "    }\n",
       "\n",
       "    .dataframe thead th {\n",
       "        text-align: right;\n",
       "    }\n",
       "</style>\n",
       "<table border=\"1\" class=\"dataframe\">\n",
       "  <thead>\n",
       "    <tr style=\"text-align: right;\">\n",
       "      <th></th>\n",
       "      <th>target</th>\n",
       "      <th>clean_tweet</th>\n",
       "    </tr>\n",
       "  </thead>\n",
       "  <tbody>\n",
       "    <tr>\n",
       "      <th>0</th>\n",
       "      <td>1</td>\n",
       "      <td>danni need help research time pleas answer onl...</td>\n",
       "    </tr>\n",
       "    <tr>\n",
       "      <th>1</th>\n",
       "      <td>1</td>\n",
       "      <td>yes sun arriv here still seem mediterranean</td>\n",
       "    </tr>\n",
       "    <tr>\n",
       "      <th>2</th>\n",
       "      <td>0</td>\n",
       "      <td>dhabz awww thank dana ! realli wish could spen...</td>\n",
       "    </tr>\n",
       "    <tr>\n",
       "      <th>3</th>\n",
       "      <td>1</td>\n",
       "      <td>jayc1980 hope someon extra tix give you i will...</td>\n",
       "    </tr>\n",
       "    <tr>\n",
       "      <th>4</th>\n",
       "      <td>1</td>\n",
       "      <td>singpolymatest yep twitter user thank</td>\n",
       "    </tr>\n",
       "    <tr>\n",
       "      <th>...</th>\n",
       "      <td>...</td>\n",
       "      <td>...</td>\n",
       "    </tr>\n",
       "    <tr>\n",
       "      <th>19995</th>\n",
       "      <td>0</td>\n",
       "      <td>lilsqueaky68 well pipe dream die everyon got m...</td>\n",
       "    </tr>\n",
       "    <tr>\n",
       "      <th>19996</th>\n",
       "      <td>0</td>\n",
       "      <td>finish extrem loud incred close lay down would...</td>\n",
       "    </tr>\n",
       "    <tr>\n",
       "      <th>19997</th>\n",
       "      <td>0</td>\n",
       "      <td>got readi leav back pari coupl hour !</td>\n",
       "    </tr>\n",
       "    <tr>\n",
       "      <th>19998</th>\n",
       "      <td>1</td>\n",
       "      <td>hahah eminem hilari</td>\n",
       "    </tr>\n",
       "    <tr>\n",
       "      <th>19999</th>\n",
       "      <td>0</td>\n",
       "      <td>still put weight</td>\n",
       "    </tr>\n",
       "  </tbody>\n",
       "</table>\n",
       "<p>20000 rows × 2 columns</p>\n",
       "</div>"
      ],
      "text/plain": [
       "       target                                        clean_tweet\n",
       "0           1  danni need help research time pleas answer onl...\n",
       "1           1        yes sun arriv here still seem mediterranean\n",
       "2           0  dhabz awww thank dana ! realli wish could spen...\n",
       "3           1  jayc1980 hope someon extra tix give you i will...\n",
       "4           1              singpolymatest yep twitter user thank\n",
       "...       ...                                                ...\n",
       "19995       0  lilsqueaky68 well pipe dream die everyon got m...\n",
       "19996       0  finish extrem loud incred close lay down would...\n",
       "19997       0              got readi leav back pari coupl hour !\n",
       "19998       1                                hahah eminem hilari\n",
       "19999       0                                   still put weight\n",
       "\n",
       "[20000 rows x 2 columns]"
      ]
     },
     "execution_count": 4,
     "metadata": {},
     "output_type": "execute_result"
    }
   ],
   "source": [
    "xtest"
   ]
  },
  {
   "cell_type": "code",
   "execution_count": 5,
   "metadata": {},
   "outputs": [],
   "source": [
    "combined = pd.concat([xtrain,xtest])\n",
    "\n",
    "combined.reset_index(level=0, inplace=True)\n",
    "\n",
    "combined = combined.drop(columns=\"index\")"
   ]
  },
  {
   "cell_type": "code",
   "execution_count": 6,
   "metadata": {},
   "outputs": [
    {
     "data": {
      "text/html": [
       "<div>\n",
       "<style scoped>\n",
       "    .dataframe tbody tr th:only-of-type {\n",
       "        vertical-align: middle;\n",
       "    }\n",
       "\n",
       "    .dataframe tbody tr th {\n",
       "        vertical-align: top;\n",
       "    }\n",
       "\n",
       "    .dataframe thead th {\n",
       "        text-align: right;\n",
       "    }\n",
       "</style>\n",
       "<table border=\"1\" class=\"dataframe\">\n",
       "  <thead>\n",
       "    <tr style=\"text-align: right;\">\n",
       "      <th></th>\n",
       "      <th>target</th>\n",
       "      <th>clean_tweet</th>\n",
       "    </tr>\n",
       "  </thead>\n",
       "  <tbody>\n",
       "    <tr>\n",
       "      <th>0</th>\n",
       "      <td>1</td>\n",
       "      <td>danieloh lookin forward hear remix track sosweet</td>\n",
       "    </tr>\n",
       "    <tr>\n",
       "      <th>1</th>\n",
       "      <td>0</td>\n",
       "      <td>scari dream</td>\n",
       "    </tr>\n",
       "    <tr>\n",
       "      <th>2</th>\n",
       "      <td>0</td>\n",
       "      <td>maggiesnail quit amaz ! wish could seen well !...</td>\n",
       "    </tr>\n",
       "    <tr>\n",
       "      <th>3</th>\n",
       "      <td>0</td>\n",
       "      <td>sunsetjello sunset realli angri right give awa...</td>\n",
       "    </tr>\n",
       "    <tr>\n",
       "      <th>4</th>\n",
       "      <td>1</td>\n",
       "      <td>clean room</td>\n",
       "    </tr>\n",
       "    <tr>\n",
       "      <th>...</th>\n",
       "      <td>...</td>\n",
       "      <td>...</td>\n",
       "    </tr>\n",
       "    <tr>\n",
       "      <th>99995</th>\n",
       "      <td>0</td>\n",
       "      <td>lilsqueaky68 well pipe dream die everyon got m...</td>\n",
       "    </tr>\n",
       "    <tr>\n",
       "      <th>99996</th>\n",
       "      <td>0</td>\n",
       "      <td>finish extrem loud incred close lay down would...</td>\n",
       "    </tr>\n",
       "    <tr>\n",
       "      <th>99997</th>\n",
       "      <td>0</td>\n",
       "      <td>got readi leav back pari coupl hour !</td>\n",
       "    </tr>\n",
       "    <tr>\n",
       "      <th>99998</th>\n",
       "      <td>1</td>\n",
       "      <td>hahah eminem hilari</td>\n",
       "    </tr>\n",
       "    <tr>\n",
       "      <th>99999</th>\n",
       "      <td>0</td>\n",
       "      <td>still put weight</td>\n",
       "    </tr>\n",
       "  </tbody>\n",
       "</table>\n",
       "<p>100000 rows × 2 columns</p>\n",
       "</div>"
      ],
      "text/plain": [
       "       target                                        clean_tweet\n",
       "0           1   danieloh lookin forward hear remix track sosweet\n",
       "1           0                                        scari dream\n",
       "2           0  maggiesnail quit amaz ! wish could seen well !...\n",
       "3           0  sunsetjello sunset realli angri right give awa...\n",
       "4           1                                         clean room\n",
       "...       ...                                                ...\n",
       "99995       0  lilsqueaky68 well pipe dream die everyon got m...\n",
       "99996       0  finish extrem loud incred close lay down would...\n",
       "99997       0              got readi leav back pari coupl hour !\n",
       "99998       1                                hahah eminem hilari\n",
       "99999       0                                   still put weight\n",
       "\n",
       "[100000 rows x 2 columns]"
      ]
     },
     "execution_count": 6,
     "metadata": {},
     "output_type": "execute_result"
    }
   ],
   "source": [
    "combined"
   ]
  },
  {
   "cell_type": "code",
   "execution_count": 7,
   "metadata": {},
   "outputs": [
    {
     "data": {
      "text/plain": [
       "target         0\n",
       "clean_tweet    0\n",
       "dtype: int64"
      ]
     },
     "execution_count": 7,
     "metadata": {},
     "output_type": "execute_result"
    }
   ],
   "source": [
    "combined.dropna(inplace=True)\n",
    "\n",
    "combined.isnull().sum()"
   ]
  },
  {
   "cell_type": "code",
   "execution_count": 8,
   "metadata": {},
   "outputs": [],
   "source": [
    "# tokenize and prep for svm\n",
    "\n",
    "combined['token']= [word_tokenize(entry) for entry in combined['clean_tweet']]"
   ]
  },
  {
   "cell_type": "code",
   "execution_count": 9,
   "metadata": {},
   "outputs": [],
   "source": [
    "combined['len_token'] = combined.token.apply(lambda x: len(x))"
   ]
  },
  {
   "cell_type": "code",
   "execution_count": 10,
   "metadata": {},
   "outputs": [
    {
     "data": {
      "text/plain": [
       "count   99976.00000\n",
       "mean        9.00387\n",
       "std         4.89394\n",
       "min         1.00000\n",
       "25%         5.00000\n",
       "50%         8.00000\n",
       "75%        12.00000\n",
       "max        79.00000\n",
       "Name: len_token, dtype: float64"
      ]
     },
     "execution_count": 10,
     "metadata": {},
     "output_type": "execute_result"
    },
    {
     "data": {
      "text/plain": [
       "<matplotlib.axes._subplots.AxesSubplot at 0x7f1ecd59f460>"
      ]
     },
     "execution_count": 10,
     "metadata": {},
     "output_type": "execute_result"
    },
    {
     "data": {
      "image/png": "[encoded data removed]",
      "text/plain": [
       "<Figure size 432x288 with 1 Axes>"
      ]
     },
     "metadata": {
      "needs_background": "light"
     },
     "output_type": "display_data"
    }
   ],
   "source": [
    "combined.len_token.describe()\n",
    "\n",
    "combined.len_token.plot.hist(bins=40) #keep 15 token length padding"
   ]
  },
  {
   "cell_type": "code",
   "execution_count": 11,
   "metadata": {},
   "outputs": [],
   "source": [
    "combined.reset_index(level=0, inplace=True)\n",
    "combined = combined.drop(columns=\"index\")"
   ]
  },
  {
   "cell_type": "code",
   "execution_count": 12,
   "metadata": {},
   "outputs": [
    {
     "data": {
      "text/html": [
       "<div>\n",
       "<style scoped>\n",
       "    .dataframe tbody tr th:only-of-type {\n",
       "        vertical-align: middle;\n",
       "    }\n",
       "\n",
       "    .dataframe tbody tr th {\n",
       "        vertical-align: top;\n",
       "    }\n",
       "\n",
       "    .dataframe thead th {\n",
       "        text-align: right;\n",
       "    }\n",
       "</style>\n",
       "<table border=\"1\" class=\"dataframe\">\n",
       "  <thead>\n",
       "    <tr style=\"text-align: right;\">\n",
       "      <th></th>\n",
       "      <th>target</th>\n",
       "      <th>clean_tweet</th>\n",
       "      <th>token</th>\n",
       "      <th>len_token</th>\n",
       "    </tr>\n",
       "  </thead>\n",
       "  <tbody>\n",
       "    <tr>\n",
       "      <th>0</th>\n",
       "      <td>1</td>\n",
       "      <td>danieloh lookin forward hear remix track sosweet</td>\n",
       "      <td>[danieloh, lookin, forward, hear, remix, track...</td>\n",
       "      <td>7</td>\n",
       "    </tr>\n",
       "    <tr>\n",
       "      <th>1</th>\n",
       "      <td>0</td>\n",
       "      <td>scari dream</td>\n",
       "      <td>[scari, dream]</td>\n",
       "      <td>2</td>\n",
       "    </tr>\n",
       "    <tr>\n",
       "      <th>2</th>\n",
       "      <td>0</td>\n",
       "      <td>maggiesnail quit amaz ! wish could seen well !...</td>\n",
       "      <td>[maggiesnail, quit, amaz, !, wish, could, seen...</td>\n",
       "      <td>12</td>\n",
       "    </tr>\n",
       "    <tr>\n",
       "      <th>3</th>\n",
       "      <td>0</td>\n",
       "      <td>sunsetjello sunset realli angri right give awa...</td>\n",
       "      <td>[sunsetjello, sunset, realli, angri, right, gi...</td>\n",
       "      <td>8</td>\n",
       "    </tr>\n",
       "    <tr>\n",
       "      <th>4</th>\n",
       "      <td>1</td>\n",
       "      <td>clean room</td>\n",
       "      <td>[clean, room]</td>\n",
       "      <td>2</td>\n",
       "    </tr>\n",
       "    <tr>\n",
       "      <th>...</th>\n",
       "      <td>...</td>\n",
       "      <td>...</td>\n",
       "      <td>...</td>\n",
       "      <td>...</td>\n",
       "    </tr>\n",
       "    <tr>\n",
       "      <th>99971</th>\n",
       "      <td>0</td>\n",
       "      <td>lilsqueaky68 well pipe dream die everyon got m...</td>\n",
       "      <td>[lilsqueaky68, well, pipe, dream, die, everyon...</td>\n",
       "      <td>17</td>\n",
       "    </tr>\n",
       "    <tr>\n",
       "      <th>99972</th>\n",
       "      <td>0</td>\n",
       "      <td>finish extrem loud incred close lay down would...</td>\n",
       "      <td>[finish, extrem, loud, incred, close, lay, dow...</td>\n",
       "      <td>15</td>\n",
       "    </tr>\n",
       "    <tr>\n",
       "      <th>99973</th>\n",
       "      <td>0</td>\n",
       "      <td>got readi leav back pari coupl hour !</td>\n",
       "      <td>[got, readi, leav, back, pari, coupl, hour, !]</td>\n",
       "      <td>8</td>\n",
       "    </tr>\n",
       "    <tr>\n",
       "      <th>99974</th>\n",
       "      <td>1</td>\n",
       "      <td>hahah eminem hilari</td>\n",
       "      <td>[hahah, eminem, hilari]</td>\n",
       "      <td>3</td>\n",
       "    </tr>\n",
       "    <tr>\n",
       "      <th>99975</th>\n",
       "      <td>0</td>\n",
       "      <td>still put weight</td>\n",
       "      <td>[still, put, weight]</td>\n",
       "      <td>3</td>\n",
       "    </tr>\n",
       "  </tbody>\n",
       "</table>\n",
       "<p>99976 rows × 4 columns</p>\n",
       "</div>"
      ],
      "text/plain": [
       "       target                                        clean_tweet  \\\n",
       "0           1   danieloh lookin forward hear remix track sosweet   \n",
       "1           0                                        scari dream   \n",
       "2           0  maggiesnail quit amaz ! wish could seen well !...   \n",
       "3           0  sunsetjello sunset realli angri right give awa...   \n",
       "4           1                                         clean room   \n",
       "...       ...                                                ...   \n",
       "99971       0  lilsqueaky68 well pipe dream die everyon got m...   \n",
       "99972       0  finish extrem loud incred close lay down would...   \n",
       "99973       0              got readi leav back pari coupl hour !   \n",
       "99974       1                                hahah eminem hilari   \n",
       "99975       0                                   still put weight   \n",
       "\n",
       "                                                   token  len_token  \n",
       "0      [danieloh, lookin, forward, hear, remix, track...          7  \n",
       "1                                         [scari, dream]          2  \n",
       "2      [maggiesnail, quit, amaz, !, wish, could, seen...         12  \n",
       "3      [sunsetjello, sunset, realli, angri, right, gi...          8  \n",
       "4                                          [clean, room]          2  \n",
       "...                                                  ...        ...  \n",
       "99971  [lilsqueaky68, well, pipe, dream, die, everyon...         17  \n",
       "99972  [finish, extrem, loud, incred, close, lay, dow...         15  \n",
       "99973     [got, readi, leav, back, pari, coupl, hour, !]          8  \n",
       "99974                            [hahah, eminem, hilari]          3  \n",
       "99975                               [still, put, weight]          3  \n",
       "\n",
       "[99976 rows x 4 columns]"
      ]
     },
     "execution_count": 12,
     "metadata": {},
     "output_type": "execute_result"
    }
   ],
   "source": [
    "combined"
   ]
  },
  {
   "cell_type": "markdown",
   "metadata": {},
   "source": [
    "WORD2VEC SVM GLOVE TRAINED\n",
    "===========\n"
   ]
  },
  {
   "cell_type": "code",
   "execution_count": 13,
   "metadata": {},
   "outputs": [],
   "source": [
    "glove_dict = {}\n",
    "with open(\"dataset/glove.twitter.27B.100d.txt\", 'r') as f:\n",
    "    for line in f:\n",
    "        values = line.split()\n",
    "        word = values[0]\n",
    "        vector = np.asarray(values[1:], \"float32\")\n",
    "        glove_dict[word] = vector"
   ]
  },
  {
   "cell_type": "code",
   "execution_count": 14,
   "metadata": {},
   "outputs": [
    {
     "data": {
      "text/plain": [
       "(99976, 15, 100)"
      ]
     },
     "execution_count": 14,
     "metadata": {},
     "output_type": "execute_result"
    }
   ],
   "source": [
    "## ebedding matrix on combined\n",
    "\n",
    "max_len = 15\n",
    "embed_dim = 100\n",
    "\n",
    "embed = np.zeros([combined.shape[0],max_len,embed_dim])\n",
    "\n",
    "embed.shape"
   ]
  },
  {
   "cell_type": "code",
   "execution_count": 18,
   "metadata": {},
   "outputs": [],
   "source": [
    "# vectorize each tokenized tweet\n",
    "\n",
    "for i in range(combined.shape[0]):\n",
    "    vtok = combined.loc[i,'token']\n",
    "\n",
    "    for x in range(min(max_len,len(vtok))):\n",
    "        getvec = glove_dict.get(vtok[x])\n",
    "        if getvec is not None:\n",
    "            embed[i][x] = getvec\n",
    "\n",
    "\n"
   ]
  },
  {
   "cell_type": "code",
   "execution_count": 19,
   "metadata": {},
   "outputs": [
    {
     "data": {
      "text/plain": [
       "(99976, 100)"
      ]
     },
     "execution_count": 19,
     "metadata": {},
     "output_type": "execute_result"
    },
    {
     "data": {
      "text/plain": [
       "array([-1.01897064e-01,  8.28847339e-02, -1.73920657e-02, -8.64017988e-02,\n",
       "        4.26666657e-02,  8.29400023e-02,  1.68789334e-01, -1.78974003e-02,\n",
       "       -8.02442687e-02,  2.43184666e-02, -1.03666266e-01,  1.13942717e-01,\n",
       "       -1.18606066e+00, -1.08443988e-02,  6.94646676e-02, -1.11461868e-01,\n",
       "        8.23973318e-02,  1.15354002e-01,  5.75818582e-02,  8.27939966e-02,\n",
       "        4.36842008e-02,  1.05172007e-02,  1.17746666e-01, -8.23886469e-03,\n",
       "        1.50435398e-01,  8.25619966e-02, -2.26887359e-02, -1.11406201e-01,\n",
       "       -2.30316670e-01, -9.70633298e-02, -8.23028684e-02,  6.94466650e-02,\n",
       "       -2.04176003e-01,  1.99238026e-02,  1.05545999e-01,  1.20272003e-02,\n",
       "       -3.23993335e-02, -1.17708933e-01, -1.15282667e-01,  1.67129283e-02,\n",
       "       -5.14338652e-02,  7.06302670e-02,  1.18069401e-01,  6.22427983e-02,\n",
       "        8.67975981e-02, -3.86006673e-02,  6.90193315e-02,  3.43743309e-02,\n",
       "       -6.20845993e-02,  8.59133323e-02, -8.97973180e-03, -1.39626672e-02,\n",
       "        8.20540001e-02, -4.56535337e-02,  9.42831958e-02, -2.54227328e-02,\n",
       "       -1.83810000e-01,  4.25939987e-02,  2.15570666e-01, -8.26951305e-02,\n",
       "        7.64842670e-02, -3.90402665e-02,  6.78866655e-02, -5.28539990e-02,\n",
       "        1.95450808e-03, -6.28716638e-02, -1.07365331e-01,  2.29460150e-03,\n",
       "       -6.49640651e-02, -2.06266701e-02,  1.39889335e-01,  1.38327196e-01,\n",
       "       -2.94014663e-02,  4.00640007e-02, -7.54201412e-04, -8.58680000e-02,\n",
       "        1.42870131e-01,  1.12894669e-02,  1.48229592e-02,  2.56640700e-02,\n",
       "        4.99604795e-01,  5.22279998e-02, -3.69950677e-02, -1.54375325e-02,\n",
       "       -1.25577331e-01,  9.06918691e-02,  7.18090011e-02,  4.43245984e-02,\n",
       "        7.02706685e-02,  1.42271983e-02,  1.32229269e-01,  2.03059195e-01,\n",
       "       -1.28172137e-01, -8.49881321e-02, -3.79866660e-03, -1.23783346e-02,\n",
       "        4.22389331e-02,  8.44748665e-02,  4.52880010e-02, -5.92337988e-02])"
      ]
     },
     "execution_count": 19,
     "metadata": {},
     "output_type": "execute_result"
    }
   ],
   "source": [
    "svm_data = np.mean(embed, axis=1) # compute mean of dimension vector (100)\n",
    "\n",
    "svm_data.shape # tweets x word2vector dim 100\n",
    "\n",
    "svm_data[0]"
   ]
  },
  {
   "cell_type": "code",
   "execution_count": 20,
   "metadata": {},
   "outputs": [],
   "source": [
    "Train_X, Test_X, Train_Y, Test_Y = \\\n",
    "model_selection.train_test_split(svm_data,combined['target'],test_size=0.2)"
   ]
  },
  {
   "cell_type": "code",
   "execution_count": 21,
   "metadata": {},
   "outputs": [
    {
     "data": {
      "text/plain": [
       "SVC(gamma='auto')"
      ]
     },
     "execution_count": 21,
     "metadata": {},
     "output_type": "execute_result"
    },
    {
     "name": "stdout",
     "output_type": "stream",
     "text": [
      "SVM Accuracy Score ->  70.32906581316263\n"
     ]
    }
   ],
   "source": [
    "# Classifier - Algorithm - SVM\n",
    "# fit the training dataset on the classifier\n",
    "SVM = svm.SVC(C=1.0, kernel='rbf', gamma='auto')\n",
    "SVM.fit(Train_X,Train_Y)\n",
    "# predict the labels on validation dataset\n",
    "predictions_SVM = SVM.predict(Test_X)\n",
    "# Use accuracy_score function to get the accuracy\n",
    "print(\"SVM Accuracy Score -> \",accuracy_score(predictions_SVM, Test_Y)*100)"
   ]
  }
 ],
 "metadata": {
  "kernelspec": {
   "display_name": "Python 3",
   "language": "python",
   "name": "python3"
  },
  "language_info": {
   "codemirror_mode": {
    "name": "ipython",
    "version": 3
   },
   "file_extension": ".py",
   "mimetype": "text/x-python",
   "name": "python",
   "nbconvert_exporter": "python",
   "pygments_lexer": "ipython3",
   "version": "3.8.3"
  }
 },
 "nbformat": 4,
 "nbformat_minor": 4
}
