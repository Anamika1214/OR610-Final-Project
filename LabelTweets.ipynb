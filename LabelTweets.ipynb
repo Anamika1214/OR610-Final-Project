{
  "nbformat": 4,
  "nbformat_minor": 0,
  "metadata": {
    "colab": {
      "name": "LabelTweets.ipynb",
      "provenance": [],
      "collapsed_sections": [],
      "machine_shape": "hm"
    },
    "kernelspec": {
      "name": "python3",
      "display_name": "Python 3"
    }
  },
  "cells": [
    {
      "cell_type": "code",
      "metadata": {
        "colab": {
          "base_uri": "https://localhost:8080/"
        },
        "id": "n3L4fTY5yv0j",
        "outputId": "dd983a93-8df0-4307-a28f-4beeefa23ff4"
      },
      "source": [
        "!pip install textblob\n",
        "!pip install plotly"
      ],
      "execution_count": 1,
      "outputs": [
        {
          "output_type": "stream",
          "text": [
            "Requirement already satisfied: textblob in /usr/local/lib/python3.6/dist-packages (0.15.3)\n",
            "Requirement already satisfied: nltk>=3.1 in /usr/local/lib/python3.6/dist-packages (from textblob) (3.2.5)\n",
            "Requirement already satisfied: six in /usr/local/lib/python3.6/dist-packages (from nltk>=3.1->textblob) (1.15.0)\n",
            "Requirement already satisfied: plotly in /usr/local/lib/python3.6/dist-packages (4.4.1)\n",
            "Requirement already satisfied: six in /usr/local/lib/python3.6/dist-packages (from plotly) (1.15.0)\n",
            "Requirement already satisfied: retrying>=1.3.3 in /usr/local/lib/python3.6/dist-packages (from plotly) (1.3.3)\n"
          ],
          "name": "stdout"
        }
      ]
    },
    {
      "cell_type": "code",
      "metadata": {
        "id": "C22BrIgtzjvE"
      },
      "source": [
        "import numpy as np\n",
        "import pandas as pd\n",
        "from datetime import datetime, timedelta\n",
        "from textblob import TextBlob\n",
        "import re\n",
        "import plotly.express as px\n",
        "import plotly.graph_objects as go\n",
        "import pandas as pd"
      ],
      "execution_count": 2,
      "outputs": []
    },
    {
      "cell_type": "code",
      "metadata": {
        "colab": {
          "base_uri": "https://localhost:8080/"
        },
        "id": "UhGRaFRc9jTe",
        "outputId": "cd1162ed-aa14-4074-fc08-b24c99e48ed1"
      },
      "source": [
        "from google.colab import drive\n",
        "drive.mount('/content/drive')"
      ],
      "execution_count": 3,
      "outputs": [
        {
          "output_type": "stream",
          "text": [
            "Drive already mounted at /content/drive; to attempt to forcibly remount, call drive.mount(\"/content/drive\", force_remount=True).\n"
          ],
          "name": "stdout"
        }
      ]
    },
    {
      "cell_type": "code",
      "metadata": {
        "id": "fA5rYfiSrveC"
      },
      "source": [
        "dataset = pd.read_csv(\"drive/MyDrive/Colab Notebooks/tweets_11-06-2020.csv\", \n",
        "                encoding='latin-1', error_bad_lines=False)"
      ],
      "execution_count": 4,
      "outputs": []
    },
    {
      "cell_type": "code",
      "metadata": {
        "colab": {
          "base_uri": "https://localhost:8080/",
          "height": 195
        },
        "id": "hoJgnH8XsUfQ",
        "outputId": "45750cdf-d0c6-424d-f485-d36de13470d0"
      },
      "source": [
        "dataset.head()"
      ],
      "execution_count": 5,
      "outputs": [
        {
          "output_type": "execute_result",
          "data": {
            "text/html": [
              "<div>\n",
              "<style scoped>\n",
              "    .dataframe tbody tr th:only-of-type {\n",
              "        vertical-align: middle;\n",
              "    }\n",
              "\n",
              "    .dataframe tbody tr th {\n",
              "        vertical-align: top;\n",
              "    }\n",
              "\n",
              "    .dataframe thead th {\n",
              "        text-align: right;\n",
              "    }\n",
              "</style>\n",
              "<table border=\"1\" class=\"dataframe\">\n",
              "  <thead>\n",
              "    <tr style=\"text-align: right;\">\n",
              "      <th></th>\n",
              "      <th>id</th>\n",
              "      <th>text</th>\n",
              "      <th>isRetweet</th>\n",
              "      <th>isDeleted</th>\n",
              "      <th>device</th>\n",
              "      <th>favorites</th>\n",
              "      <th>retweets</th>\n",
              "      <th>date</th>\n",
              "    </tr>\n",
              "  </thead>\n",
              "  <tbody>\n",
              "    <tr>\n",
              "      <th>0</th>\n",
              "      <td>98454970654916608</td>\n",
              "      <td>Republicans and Democrats have both created ou...</td>\n",
              "      <td>f</td>\n",
              "      <td>f</td>\n",
              "      <td>TweetDeck</td>\n",
              "      <td>49</td>\n",
              "      <td>255</td>\n",
              "      <td>2011-08-02 18:07:48</td>\n",
              "    </tr>\n",
              "    <tr>\n",
              "      <th>1</th>\n",
              "      <td>1234653427789070336</td>\n",
              "      <td>I was thrilled to be back in the Great city of...</td>\n",
              "      <td>f</td>\n",
              "      <td>f</td>\n",
              "      <td>Twitter for iPhone</td>\n",
              "      <td>73748</td>\n",
              "      <td>17404</td>\n",
              "      <td>2020-03-03 01:34:50</td>\n",
              "    </tr>\n",
              "    <tr>\n",
              "      <th>2</th>\n",
              "      <td>1218010753434820614</td>\n",
              "      <td>RT @CBS_Herridge: READ: Letter to surveillance...</td>\n",
              "      <td>t</td>\n",
              "      <td>f</td>\n",
              "      <td>Twitter for iPhone</td>\n",
              "      <td>0</td>\n",
              "      <td>7396</td>\n",
              "      <td>2020-01-17 03:22:47</td>\n",
              "    </tr>\n",
              "    <tr>\n",
              "      <th>3</th>\n",
              "      <td>1304875170860015617</td>\n",
              "      <td>The Unsolicited Mail In Ballot Scam is a major...</td>\n",
              "      <td>f</td>\n",
              "      <td>f</td>\n",
              "      <td>Twitter for iPhone</td>\n",
              "      <td>80527</td>\n",
              "      <td>23502</td>\n",
              "      <td>2020-09-12 20:10:58</td>\n",
              "    </tr>\n",
              "    <tr>\n",
              "      <th>4</th>\n",
              "      <td>1218159531554897920</td>\n",
              "      <td>RT @MZHemingway: Very friendly telling of even...</td>\n",
              "      <td>t</td>\n",
              "      <td>f</td>\n",
              "      <td>Twitter for iPhone</td>\n",
              "      <td>0</td>\n",
              "      <td>9081</td>\n",
              "      <td>2020-01-17 13:13:59</td>\n",
              "    </tr>\n",
              "  </tbody>\n",
              "</table>\n",
              "</div>"
            ],
            "text/plain": [
              "                    id  ...                 date\n",
              "0    98454970654916608  ...  2011-08-02 18:07:48\n",
              "1  1234653427789070336  ...  2020-03-03 01:34:50\n",
              "2  1218010753434820614  ...  2020-01-17 03:22:47\n",
              "3  1304875170860015617  ...  2020-09-12 20:10:58\n",
              "4  1218159531554897920  ...  2020-01-17 13:13:59\n",
              "\n",
              "[5 rows x 8 columns]"
            ]
          },
          "metadata": {
            "tags": []
          },
          "execution_count": 5
        }
      ]
    },
    {
      "cell_type": "code",
      "metadata": {
        "id": "UukVwadnvvRG"
      },
      "source": [
        "df = pd.DataFrame(data=[tweet for tweet in dataset.text], columns=['Tweet'])"
      ],
      "execution_count": 8,
      "outputs": []
    },
    {
      "cell_type": "code",
      "metadata": {
        "id": "zS0obVdiwUYU"
      },
      "source": [
        "df['Date'] = np.array([dt for dt in dataset.date])"
      ],
      "execution_count": 11,
      "outputs": []
    },
    {
      "cell_type": "code",
      "metadata": {
        "colab": {
          "base_uri": "https://localhost:8080/",
          "height": 195
        },
        "id": "-5yv8qwuv5rS",
        "outputId": "8472df45-ce15-4f87-ba45-7cdf1e0a1d5b"
      },
      "source": [
        "df.head()"
      ],
      "execution_count": 12,
      "outputs": [
        {
          "output_type": "execute_result",
          "data": {
            "text/html": [
              "<div>\n",
              "<style scoped>\n",
              "    .dataframe tbody tr th:only-of-type {\n",
              "        vertical-align: middle;\n",
              "    }\n",
              "\n",
              "    .dataframe tbody tr th {\n",
              "        vertical-align: top;\n",
              "    }\n",
              "\n",
              "    .dataframe thead th {\n",
              "        text-align: right;\n",
              "    }\n",
              "</style>\n",
              "<table border=\"1\" class=\"dataframe\">\n",
              "  <thead>\n",
              "    <tr style=\"text-align: right;\">\n",
              "      <th></th>\n",
              "      <th>Tweet</th>\n",
              "      <th>Date</th>\n",
              "    </tr>\n",
              "  </thead>\n",
              "  <tbody>\n",
              "    <tr>\n",
              "      <th>0</th>\n",
              "      <td>Republicans and Democrats have both created ou...</td>\n",
              "      <td>2011-08-02 18:07:48</td>\n",
              "    </tr>\n",
              "    <tr>\n",
              "      <th>1</th>\n",
              "      <td>I was thrilled to be back in the Great city of...</td>\n",
              "      <td>2020-03-03 01:34:50</td>\n",
              "    </tr>\n",
              "    <tr>\n",
              "      <th>2</th>\n",
              "      <td>RT @CBS_Herridge: READ: Letter to surveillance...</td>\n",
              "      <td>2020-01-17 03:22:47</td>\n",
              "    </tr>\n",
              "    <tr>\n",
              "      <th>3</th>\n",
              "      <td>The Unsolicited Mail In Ballot Scam is a major...</td>\n",
              "      <td>2020-09-12 20:10:58</td>\n",
              "    </tr>\n",
              "    <tr>\n",
              "      <th>4</th>\n",
              "      <td>RT @MZHemingway: Very friendly telling of even...</td>\n",
              "      <td>2020-01-17 13:13:59</td>\n",
              "    </tr>\n",
              "  </tbody>\n",
              "</table>\n",
              "</div>"
            ],
            "text/plain": [
              "                                               Tweet                 Date\n",
              "0  Republicans and Democrats have both created ou...  2011-08-02 18:07:48\n",
              "1  I was thrilled to be back in the Great city of...  2020-03-03 01:34:50\n",
              "2  RT @CBS_Herridge: READ: Letter to surveillance...  2020-01-17 03:22:47\n",
              "3  The Unsolicited Mail In Ballot Scam is a major...  2020-09-12 20:10:58\n",
              "4  RT @MZHemingway: Very friendly telling of even...  2020-01-17 13:13:59"
            ]
          },
          "metadata": {
            "tags": []
          },
          "execution_count": 12
        }
      ]
    },
    {
      "cell_type": "code",
      "metadata": {
        "id": "LyUBpq-utlXL"
      },
      "source": [
        "df['Date'] = pd.to_datetime(df['Date'])"
      ],
      "execution_count": 14,
      "outputs": []
    },
    {
      "cell_type": "code",
      "metadata": {
        "colab": {
          "base_uri": "https://localhost:8080/"
        },
        "id": "jXL2mkastrzw",
        "outputId": "bd12c2ca-e97f-4354-d6e1-0f80b6cc4930"
      },
      "source": [
        "df.dtypes"
      ],
      "execution_count": 15,
      "outputs": [
        {
          "output_type": "execute_result",
          "data": {
            "text/plain": [
              "Tweet            object\n",
              "Date     datetime64[ns]\n",
              "dtype: object"
            ]
          },
          "metadata": {
            "tags": []
          },
          "execution_count": 15
        }
      ]
    },
    {
      "cell_type": "code",
      "metadata": {
        "id": "C-D1Oh7GwfmN"
      },
      "source": [
        "def cleanUpTweet(txt):\n",
        "    # Remove mentions\n",
        "    txt = re.sub(r'@[A-Za-z0-9_]+', '', txt)\n",
        "    # Remove hashtags\n",
        "    txt = re.sub(r'#', '', txt)\n",
        "    # Remove retweets:\n",
        "    txt = re.sub(r'RT : ', '', txt)\n",
        "    # Remove urls\n",
        "    txt = re.sub(r'https?:\\/\\/[A-Za-z0-9\\.\\/]+', '', txt)\n",
        "    return txt"
      ],
      "execution_count": 16,
      "outputs": []
    },
    {
      "cell_type": "code",
      "metadata": {
        "id": "S0BKgwEpwkNY"
      },
      "source": [
        "df['Tweet'] = df['Tweet'].apply(cleanUpTweet)\n"
      ],
      "execution_count": 17,
      "outputs": []
    },
    {
      "cell_type": "code",
      "metadata": {
        "id": "ZqD_f12Cwsax"
      },
      "source": [
        "def getTextSubjectivity(txt):\n",
        "    return TextBlob(txt).sentiment.subjectivity\n",
        "\n",
        "def getTextPolarity(txt):\n",
        "    return TextBlob(txt).sentiment.polarity"
      ],
      "execution_count": 18,
      "outputs": []
    },
    {
      "cell_type": "code",
      "metadata": {
        "id": "Yq7jmQ91wv8A"
      },
      "source": [
        "df['Subjectivity'] = df['Tweet'].apply(getTextSubjectivity)\n",
        "df['Polarity'] = df['Tweet'].apply(getTextPolarity)"
      ],
      "execution_count": 19,
      "outputs": []
    },
    {
      "cell_type": "code",
      "metadata": {
        "colab": {
          "base_uri": "https://localhost:8080/",
          "height": 343
        },
        "id": "detLk4b9w2fW",
        "outputId": "b2c19655-a0a0-4663-c5f1-d08a90e3e188"
      },
      "source": [
        "df.head(10)"
      ],
      "execution_count": 20,
      "outputs": [
        {
          "output_type": "execute_result",
          "data": {
            "text/html": [
              "<div>\n",
              "<style scoped>\n",
              "    .dataframe tbody tr th:only-of-type {\n",
              "        vertical-align: middle;\n",
              "    }\n",
              "\n",
              "    .dataframe tbody tr th {\n",
              "        vertical-align: top;\n",
              "    }\n",
              "\n",
              "    .dataframe thead th {\n",
              "        text-align: right;\n",
              "    }\n",
              "</style>\n",
              "<table border=\"1\" class=\"dataframe\">\n",
              "  <thead>\n",
              "    <tr style=\"text-align: right;\">\n",
              "      <th></th>\n",
              "      <th>Tweet</th>\n",
              "      <th>Date</th>\n",
              "      <th>Subjectivity</th>\n",
              "      <th>Polarity</th>\n",
              "    </tr>\n",
              "  </thead>\n",
              "  <tbody>\n",
              "    <tr>\n",
              "      <th>0</th>\n",
              "      <td>Republicans and Democrats have both created ou...</td>\n",
              "      <td>2011-08-02 18:07:48</td>\n",
              "      <td>0.200000</td>\n",
              "      <td>0.200000</td>\n",
              "    </tr>\n",
              "    <tr>\n",
              "      <th>1</th>\n",
              "      <td>I was thrilled to be back in the Great city of...</td>\n",
              "      <td>2020-03-03 01:34:50</td>\n",
              "      <td>0.483333</td>\n",
              "      <td>0.458929</td>\n",
              "    </tr>\n",
              "    <tr>\n",
              "      <th>2</th>\n",
              "      <td>READ: Letter to surveillance court obtained by...</td>\n",
              "      <td>2020-01-17 03:22:47</td>\n",
              "      <td>0.300000</td>\n",
              "      <td>0.050000</td>\n",
              "    </tr>\n",
              "    <tr>\n",
              "      <th>3</th>\n",
              "      <td>The Unsolicited Mail In Ballot Scam is a major...</td>\n",
              "      <td>2020-09-12 20:10:58</td>\n",
              "      <td>0.454762</td>\n",
              "      <td>0.021131</td>\n",
              "    </tr>\n",
              "    <tr>\n",
              "      <th>4</th>\n",
              "      <td>Very friendly telling of events here about Com...</td>\n",
              "      <td>2020-01-17 13:13:59</td>\n",
              "      <td>0.500000</td>\n",
              "      <td>0.268750</td>\n",
              "    </tr>\n",
              "    <tr>\n",
              "      <th>5</th>\n",
              "      <td>President  announced historic steps to protect...</td>\n",
              "      <td>2020-01-17 00:11:56</td>\n",
              "      <td>0.200794</td>\n",
              "      <td>0.095238</td>\n",
              "    </tr>\n",
              "    <tr>\n",
              "      <th>6</th>\n",
              "      <td>âIâm running as a proud Democrat, for the ...</td>\n",
              "      <td>2020-10-12 22:22:39</td>\n",
              "      <td>0.900000</td>\n",
              "      <td>0.350000</td>\n",
              "    </tr>\n",
              "    <tr>\n",
              "      <th>7</th>\n",
              "      <td>Getting a little exercise this morning!</td>\n",
              "      <td>2020-02-01 16:14:02</td>\n",
              "      <td>0.500000</td>\n",
              "      <td>-0.234375</td>\n",
              "    </tr>\n",
              "    <tr>\n",
              "      <th>8</th>\n",
              "      <td></td>\n",
              "      <td>2020-10-23 04:52:14</td>\n",
              "      <td>0.000000</td>\n",
              "      <td>0.000000</td>\n",
              "    </tr>\n",
              "    <tr>\n",
              "      <th>9</th>\n",
              "      <td></td>\n",
              "      <td>2020-10-23 04:46:53</td>\n",
              "      <td>0.000000</td>\n",
              "      <td>0.000000</td>\n",
              "    </tr>\n",
              "  </tbody>\n",
              "</table>\n",
              "</div>"
            ],
            "text/plain": [
              "                                               Tweet  ...  Polarity\n",
              "0  Republicans and Democrats have both created ou...  ...  0.200000\n",
              "1  I was thrilled to be back in the Great city of...  ...  0.458929\n",
              "2  READ: Letter to surveillance court obtained by...  ...  0.050000\n",
              "3  The Unsolicited Mail In Ballot Scam is a major...  ...  0.021131\n",
              "4  Very friendly telling of events here about Com...  ...  0.268750\n",
              "5  President  announced historic steps to protect...  ...  0.095238\n",
              "6  âIâm running as a proud Democrat, for the ...  ...  0.350000\n",
              "7           Getting a little exercise this morning!   ... -0.234375\n",
              "8                                                     ...  0.000000\n",
              "9                                                     ...  0.000000\n",
              "\n",
              "[10 rows x 4 columns]"
            ]
          },
          "metadata": {
            "tags": []
          },
          "execution_count": 20
        }
      ]
    },
    {
      "cell_type": "code",
      "metadata": {
        "id": "9mjvh4Yexf5s"
      },
      "source": [
        "df = df.drop(df[df['Tweet'] == ''].index)"
      ],
      "execution_count": 21,
      "outputs": []
    },
    {
      "cell_type": "code",
      "metadata": {
        "id": "j2Mq8sK4xh-C"
      },
      "source": [
        "def getTextAnalysis(a):\n",
        "    if a < 0:\n",
        "        return \"Negative\"\n",
        "    elif a == 0:\n",
        "        return \"Neutral\"\n",
        "    else:\n",
        "        return \"Positive\""
      ],
      "execution_count": 22,
      "outputs": []
    },
    {
      "cell_type": "code",
      "metadata": {
        "id": "Ltbrwg0pxn94"
      },
      "source": [
        "df['Sentiment'] = df['Polarity'].apply(getTextAnalysis)"
      ],
      "execution_count": 23,
      "outputs": []
    },
    {
      "cell_type": "code",
      "metadata": {
        "colab": {
          "base_uri": "https://localhost:8080/"
        },
        "id": "q7_4KJj1xuGn",
        "outputId": "e6911f7a-60a6-4a95-e5e8-761c7d07579b"
      },
      "source": [
        "positive = df[df['Sentiment'] == 'Positive']\n",
        "\n",
        "print(str(positive.shape[0]/(df.shape[0])*100) + \" % of positive tweets\")"
      ],
      "execution_count": 24,
      "outputs": [
        {
          "output_type": "stream",
          "text": [
            "53.709761356033006 % of positive tweets\n"
          ],
          "name": "stdout"
        }
      ]
    },
    {
      "cell_type": "code",
      "metadata": {
        "id": "CEHq3AQGyEsc"
      },
      "source": [
        "start_date = '2020-01-01'\n",
        "end_date = '2020-10-01'"
      ],
      "execution_count": 26,
      "outputs": []
    },
    {
      "cell_type": "code",
      "metadata": {
        "id": "B92laLynyXzg"
      },
      "source": [
        "mask = (df['Date'] > start_date) & (df['Date'] <= end_date)"
      ],
      "execution_count": 27,
      "outputs": []
    },
    {
      "cell_type": "code",
      "metadata": {
        "id": "EXEo_7zUydt_"
      },
      "source": [
        "newdf = df.loc[mask]\n"
      ],
      "execution_count": 28,
      "outputs": []
    },
    {
      "cell_type": "code",
      "metadata": {
        "colab": {
          "base_uri": "https://localhost:8080/",
          "height": 195
        },
        "id": "44qdW9q7ym79",
        "outputId": "e2625050-f389-4687-8ba6-490eb6cb98ee"
      },
      "source": [
        "newdf.head()"
      ],
      "execution_count": 29,
      "outputs": [
        {
          "output_type": "execute_result",
          "data": {
            "text/html": [
              "<div>\n",
              "<style scoped>\n",
              "    .dataframe tbody tr th:only-of-type {\n",
              "        vertical-align: middle;\n",
              "    }\n",
              "\n",
              "    .dataframe tbody tr th {\n",
              "        vertical-align: top;\n",
              "    }\n",
              "\n",
              "    .dataframe thead th {\n",
              "        text-align: right;\n",
              "    }\n",
              "</style>\n",
              "<table border=\"1\" class=\"dataframe\">\n",
              "  <thead>\n",
              "    <tr style=\"text-align: right;\">\n",
              "      <th></th>\n",
              "      <th>Tweet</th>\n",
              "      <th>Date</th>\n",
              "      <th>Subjectivity</th>\n",
              "      <th>Polarity</th>\n",
              "      <th>Sentiment</th>\n",
              "    </tr>\n",
              "  </thead>\n",
              "  <tbody>\n",
              "    <tr>\n",
              "      <th>1</th>\n",
              "      <td>I was thrilled to be back in the Great city of...</td>\n",
              "      <td>2020-03-03 01:34:50</td>\n",
              "      <td>0.483333</td>\n",
              "      <td>0.458929</td>\n",
              "      <td>Positive</td>\n",
              "    </tr>\n",
              "    <tr>\n",
              "      <th>2</th>\n",
              "      <td>READ: Letter to surveillance court obtained by...</td>\n",
              "      <td>2020-01-17 03:22:47</td>\n",
              "      <td>0.300000</td>\n",
              "      <td>0.050000</td>\n",
              "      <td>Positive</td>\n",
              "    </tr>\n",
              "    <tr>\n",
              "      <th>3</th>\n",
              "      <td>The Unsolicited Mail In Ballot Scam is a major...</td>\n",
              "      <td>2020-09-12 20:10:58</td>\n",
              "      <td>0.454762</td>\n",
              "      <td>0.021131</td>\n",
              "      <td>Positive</td>\n",
              "    </tr>\n",
              "    <tr>\n",
              "      <th>4</th>\n",
              "      <td>Very friendly telling of events here about Com...</td>\n",
              "      <td>2020-01-17 13:13:59</td>\n",
              "      <td>0.500000</td>\n",
              "      <td>0.268750</td>\n",
              "      <td>Positive</td>\n",
              "    </tr>\n",
              "    <tr>\n",
              "      <th>5</th>\n",
              "      <td>President  announced historic steps to protect...</td>\n",
              "      <td>2020-01-17 00:11:56</td>\n",
              "      <td>0.200794</td>\n",
              "      <td>0.095238</td>\n",
              "      <td>Positive</td>\n",
              "    </tr>\n",
              "  </tbody>\n",
              "</table>\n",
              "</div>"
            ],
            "text/plain": [
              "                                               Tweet  ... Sentiment\n",
              "1  I was thrilled to be back in the Great city of...  ...  Positive\n",
              "2  READ: Letter to surveillance court obtained by...  ...  Positive\n",
              "3  The Unsolicited Mail In Ballot Scam is a major...  ...  Positive\n",
              "4  Very friendly telling of events here about Com...  ...  Positive\n",
              "5  President  announced historic steps to protect...  ...  Positive\n",
              "\n",
              "[5 rows x 5 columns]"
            ]
          },
          "metadata": {
            "tags": []
          },
          "execution_count": 29
        }
      ]
    },
    {
      "cell_type": "code",
      "metadata": {
        "id": "XbEjl_OPxI-N"
      },
      "source": [
        "newdf.to_csv('trump_tweets_v1.csv', index=False)"
      ],
      "execution_count": 30,
      "outputs": []
    }
  ]
}