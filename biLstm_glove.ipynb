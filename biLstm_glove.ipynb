{
  "nbformat": 4,
  "nbformat_minor": 0,
  "metadata": {
    "colab": {
      "name": "biLstm_glove.ipynb",
      "provenance": [],
      "collapsed_sections": [],
      "machine_shape": "hm"
    },
    "kernelspec": {
      "name": "python3",
      "display_name": "Python 3"
    },
    "accelerator": "GPU"
  },
  "cells": [
    {
      "cell_type": "code",
      "metadata": {
        "id": "yON8gqgvFTKO"
      },
      "source": [
        "import pandas as pd\n",
        "import numpy as np\n",
        "import time\n",
        "import spacy\n",
        "import random\n",
        "from pathlib import Path\n",
        "import torch \n",
        "import torch.nn as nn\n",
        "import torch.nn.functional as F\n",
        "import torch.optim as optim\n",
        "from torchtext import data \n",
        "import torchtext\n",
        "from nltk.tokenize.treebank import TreebankWordDetokenizer"
      ],
      "execution_count": null,
      "outputs": []
    },
    {
      "cell_type": "code",
      "metadata": {
        "colab": {
          "base_uri": "https://localhost:8080/"
        },
        "id": "o_lCq6OBFgHA",
        "outputId": "4a7a32d1-5785-4f7a-a19d-b4c6fbb332ca"
      },
      "source": [
        "# Setting device on GPU if available\n",
        "device = torch.device('cuda' if torch.cuda.is_available() else 'cpu')\n",
        "print('Using device:', device)\n",
        "print()\n",
        "\n",
        "if device.type == 'cuda':\n",
        "    print(torch.cuda.get_device_name(0))\n",
        "    print('Memory Usage:')\n",
        "    print('Allocated:', round(torch.cuda.memory_allocated(0)/1024**3,1), 'GB')\n",
        "    print('Cached:   ', round(torch.cuda.memory_cached(0)/1024**3,1), 'GB')\n",
        "\n",
        "torch.backends.cudnn.deterministic = True"
      ],
      "execution_count": null,
      "outputs": [
        {
          "output_type": "stream",
          "text": [
            "Using device: cuda\n",
            "\n",
            "Tesla V100-SXM2-16GB\n",
            "Memory Usage:\n",
            "Allocated: 0.0 GB\n",
            "Cached:    0.0 GB\n"
          ],
          "name": "stdout"
        },
        {
          "output_type": "stream",
          "text": [
            "/usr/local/lib/python3.6/dist-packages/torch/cuda/memory.py:346: FutureWarning: torch.cuda.memory_cached has been renamed to torch.cuda.memory_reserved\n",
            "  FutureWarning)\n"
          ],
          "name": "stderr"
        }
      ]
    },
    {
      "cell_type": "code",
      "metadata": {
        "id": "X95sjS80GBMd"
      },
      "source": [
        "TEXT = data.Field(tokenize='spacy', lower=True, include_lengths= True)\n",
        "LABEL = data.LabelField(dtype=torch.float)\n",
        "\n",
        "# Map data to fields\n",
        "fields = [('target', LABEL), ('id',None),('date',None),('query',None),\n",
        "      ('name',None), ('text', TEXT),('category',None)]\n",
        "\n",
        "# Apply field definition to create torch dataset\n",
        "dataset = torchtext.data.TabularDataset(\n",
        "        path=\"/content/drive/MyDrive/Colab Notebooks/tweet_final1.csv\",\n",
        "        format=\"CSV\",\n",
        "        fields=fields,\n",
        "        skip_header=False)\n",
        "\n"
      ],
      "execution_count": null,
      "outputs": []
    },
    {
      "cell_type": "code",
      "metadata": {
        "colab": {
          "base_uri": "https://localhost:8080/"
        },
        "id": "lfC_-a6ZZbK0",
        "outputId": "6d92193a-9d12-4164-c173-2c0c4919ce97"
      },
      "source": [
        "# Split data into train, test, validation sets\n",
        "(train_data, test_data, valid_data) = dataset.split(split_ratio=[0.8,0.1,0.1])\n",
        "\n",
        "print(\"Number of train data: {}\".format(len(train_data)))\n",
        "print(\"Number of test data: {}\".format(len(test_data)))\n",
        "print(\"Number of validation data: {}\".format(len(valid_data)))"
      ],
      "execution_count": null,
      "outputs": [
        {
          "output_type": "stream",
          "text": [
            "Number of train data: 79866\n",
            "Number of test data: 9983\n",
            "Number of validation data: 9983\n"
          ],
          "name": "stdout"
        }
      ]
    },
    {
      "cell_type": "markdown",
      "metadata": {
        "id": "rSaqSL9eODJE"
      },
      "source": [
        "### Build Vocabulary using GloVe\n"
      ]
    },
    {
      "cell_type": "code",
      "metadata": {
        "colab": {
          "base_uri": "https://localhost:8080/"
        },
        "id": "GcdN5wvUOQ6t",
        "outputId": "a59e2aee-ecb3-4673-cc56-75727a9c5080"
      },
      "source": [
        "MAX_VOCAB_SIZE = 25000\n",
        "TEXT.build_vocab(train_data, \n",
        "                 max_size = MAX_VOCAB_SIZE,\n",
        "                 vectors = \"glove.6B.100d\",\n",
        "                 unk_init = torch.Tensor.normal_)\n",
        "\n",
        "# build vocab for training set - convert words into integers\n",
        "LABEL.build_vocab(train_data)\n",
        "\n",
        "# Most frequent tokens\n",
        "TEXT.vocab.freqs.most_common(10)"
      ],
      "execution_count": null,
      "outputs": [
        {
          "output_type": "stream",
          "text": [
            ".vector_cache/glove.6B.zip: 862MB [06:41, 2.15MB/s]                           \n",
            "100%|█████████▉| 398990/400000 [00:18<00:00, 21560.95it/s]"
          ],
          "name": "stderr"
        },
        {
          "output_type": "execute_result",
          "data": {
            "text/plain": [
              "[('i', 49516),\n",
              " ('!', 45061),\n",
              " ('.', 40080),\n",
              " ('to', 28151),\n",
              " ('the', 26304),\n",
              " (',', 23793),\n",
              " ('a', 19062),\n",
              " ('my', 15851),\n",
              " ('you', 15222),\n",
              " ('it', 15212)]"
            ]
          },
          "metadata": {
            "tags": []
          },
          "execution_count": 8
        }
      ]
    },
    {
      "cell_type": "code",
      "metadata": {
        "id": "Y5qyV_1WOfrh"
      },
      "source": [
        "BATCH_SIZE = 1024\n",
        "\n",
        "# sort_within_batch sorts all the tensors within a batch by their lengths\n",
        "train_iterator, valid_iterator, test_iterator = data.BucketIterator.splits(\n",
        "    (train_data, valid_data, test_data),\n",
        "    device = device,\n",
        "    batch_size = BATCH_SIZE,\n",
        "    sort_key = lambda x: len(x.text),\n",
        "    sort_within_batch = True)"
      ],
      "execution_count": null,
      "outputs": []
    },
    {
      "cell_type": "markdown",
      "metadata": {
        "id": "4zKXA3cXOzKF"
      },
      "source": [
        "### Define Model"
      ]
    },
    {
      "cell_type": "code",
      "metadata": {
        "id": "04z7ya_FO7X3"
      },
      "source": [
        "class LSTM(nn.Module):\n",
        "    def __init__(self, vocab_size, embedding_dim, hidden_dim, output_dim, n_layers, \n",
        "                 bidirectional, dropout, pad_idx):\n",
        "        \"\"\"\n",
        "        Define the layers of the module.\n",
        "\n",
        "        vocab_size - vocabulary size\n",
        "        embedding_dim - size of the dense word vectors\n",
        "        hidden_dim - size of the hidden states\n",
        "        output_dim - number of classes\n",
        "        n_layers - number of multi-layer RNN\n",
        "        bidirectional - boolean - use both directions of LSTM\n",
        "        dropout - dropout probability\n",
        "        pad_idx -  string representing the pad token\n",
        "        \"\"\"\n",
        "        \n",
        "        super().__init__()\n",
        "\n",
        "        # 1. Feed the tweets in the embedding layer\n",
        "        # padding_idx set to not learn the emedding for the <pad> token - irrelevant to determining sentiment\n",
        "        self.embedding = nn.Embedding(vocab_size, embedding_dim, padding_idx = pad_idx)\n",
        "\n",
        "        # 2. LSTM layer\n",
        "        # returns the output and a tuple of the final hidden state and final cell state\n",
        "        self.encoder = nn.LSTM(embedding_dim, \n",
        "                               hidden_dim, \n",
        "                               num_layers=n_layers,\n",
        "                               bidirectional=bidirectional,\n",
        "                               dropout=dropout)\n",
        "        \n",
        "        # 3. Fully-connected layer\n",
        "        # Final hidden state has both a forward and a backward component concatenated together\n",
        "        # The size of the input to the nn.Linear layer is twice that of the hidden dimension size\n",
        "        self.predictor = nn.Linear(hidden_dim*2, output_dim)\n",
        "\n",
        "        # Initialize dropout layer for regularization\n",
        "        self.dropout = nn.Dropout(dropout)\n",
        "      \n",
        "    def forward(self, text, text_lengths):\n",
        "        \"\"\"\n",
        "        The forward method is called when data is fed into the model.\n",
        "\n",
        "        text - [tweet length, batch size]\n",
        "        text_lengths - lengths of tweet\n",
        "        \"\"\"\n",
        "\n",
        "        # embedded = [sentence len, batch size, emb dim]\n",
        "        embedded = self.dropout(self.embedding(text))    \n",
        "        #seq_lengths_clamped = text_lengths.clamp(min=1, max=self.max_length)\n",
        "        # Pack the embeddings - cause RNN to only process non-padded elements\n",
        "        # Speeds up computation\n",
        "        #text_lengths = torch.as_tensor(text_lengths, dtype=torch.int64, device='cpu')\n",
        "        packed_embedded = nn.utils.rnn.pack_padded_sequence(embedded, text_lengths)\n",
        "\n",
        "        # output of encoder\n",
        "        packed_output, (hidden, cell) = self.encoder(packed_embedded)\n",
        "\n",
        "        # unpack sequence - transform packed sequence to a tensor\n",
        "        output, output_lengths = nn.utils.rnn.pad_packed_sequence(packed_output)\n",
        "\n",
        "        # output = [sentence len, batch size, hid dim * num directions]\n",
        "        # output over padding tokens are zero tensors\n",
        "        \n",
        "        # hidden = [num layers * num directions, batch size, hid dim]\n",
        "        # cell = [num layers * num directions, batch size, hid dim]\n",
        "        \n",
        "        # Get the final layer forward and backward hidden states  \n",
        "        # concat the final forward and backward hidden layers and apply dropout\n",
        "        hidden = self.dropout(torch.cat((hidden[-2,:,:], hidden[-1,:,:]), dim = 1))\n",
        "\n",
        "        # hidden = [batch size, hid dim * num directions]\n",
        "\n",
        "        return self.predictor(hidden)"
      ],
      "execution_count": null,
      "outputs": []
    },
    {
      "cell_type": "markdown",
      "metadata": {
        "id": "19OqQnBnQbJF"
      },
      "source": [
        "### Initialize the model with parameters\n"
      ]
    },
    {
      "cell_type": "code",
      "metadata": {
        "id": "sKSW593qQlBN"
      },
      "source": [
        "INPUT_DIM = len(TEXT.vocab)\n",
        "# dim must be equal to the dim of pre-trained GloVe vectors\n",
        "EMBEDDING_DIM = 100\n",
        "HIDDEN_DIM = 256\n",
        "OUTPUT_DIM = 1\n",
        "# 2 layers of biLSTM\n",
        "N_LAYERS = 2\n",
        "BIDIRECTIONAL = True\n",
        "# Dropout probability\n",
        "DROPOUT = 0.25\n",
        "# Get pad token index from vocab\n",
        "PAD_IDX = TEXT.vocab.stoi[TEXT.pad_token]\n",
        "\n",
        "# Create an instance of LSTM class\n",
        "model = LSTM(INPUT_DIM,\n",
        "            EMBEDDING_DIM,\n",
        "            HIDDEN_DIM,\n",
        "            OUTPUT_DIM,\n",
        "            N_LAYERS,\n",
        "            BIDIRECTIONAL,\n",
        "            DROPOUT,\n",
        "            PAD_IDX)"
      ],
      "execution_count": null,
      "outputs": []
    },
    {
      "cell_type": "code",
      "metadata": {
        "colab": {
          "base_uri": "https://localhost:8080/"
        },
        "id": "9aKrPko-QpFO",
        "outputId": "be40a7a9-565c-47ca-e80c-99b2ccf8ea88"
      },
      "source": [
        "pretrained_embeddings = TEXT.vocab.vectors\n",
        "\n",
        "# [vocab size, embedding dim]\n",
        "print(pretrained_embeddings.shape)"
      ],
      "execution_count": null,
      "outputs": [
        {
          "output_type": "stream",
          "text": [
            "torch.Size([25002, 100])\n"
          ],
          "name": "stdout"
        }
      ]
    },
    {
      "cell_type": "code",
      "metadata": {
        "colab": {
          "base_uri": "https://localhost:8080/"
        },
        "id": "59erZnpBQvAg",
        "outputId": "7863ba3b-d9f0-4366-d313-3130b5b7d7f8"
      },
      "source": [
        "model.embedding.weight.data.copy_(pretrained_embeddings)"
      ],
      "execution_count": null,
      "outputs": [
        {
          "output_type": "execute_result",
          "data": {
            "text/plain": [
              "tensor([[ 0.7552, -0.1380,  0.4462,  ..., -0.4996,  0.2208, -0.8153],\n",
              "        [ 1.9378, -1.5777, -0.9838,  ..., -1.6226,  1.1531, -2.1276],\n",
              "        [-0.0465,  0.6197,  0.5665,  ..., -0.3762, -0.0325,  0.8062],\n",
              "        ...,\n",
              "        [ 0.1159, -0.0809,  1.1418,  ..., -0.5731, -0.7754,  1.8549],\n",
              "        [-0.3582, -0.3215, -0.5117,  ..., -0.3059,  0.1725, -0.1838],\n",
              "        [-0.2101,  0.1676,  0.2300,  ...,  0.8337, -1.5538,  0.2893]])"
            ]
          },
          "metadata": {
            "tags": []
          },
          "execution_count": 51
        }
      ]
    },
    {
      "cell_type": "code",
      "metadata": {
        "colab": {
          "base_uri": "https://localhost:8080/"
        },
        "id": "EsOW4iJ6QyDj",
        "outputId": "7b414199-9814-4487-b740-d0341faf3c15"
      },
      "source": [
        "UNK_IDX = TEXT.vocab.stoi[TEXT.unk_token]\n",
        "\n",
        "# Setting row in the embedding weights matrix to zero using the token index\n",
        "model.embedding.weight.data[UNK_IDX] = torch.zeros(EMBEDDING_DIM)\n",
        "model.embedding.weight.data[PAD_IDX] = torch.zeros(EMBEDDING_DIM)\n",
        "\n",
        "print(model.embedding.weight.data)"
      ],
      "execution_count": null,
      "outputs": [
        {
          "output_type": "stream",
          "text": [
            "tensor([[ 0.0000,  0.0000,  0.0000,  ...,  0.0000,  0.0000,  0.0000],\n",
            "        [ 0.0000,  0.0000,  0.0000,  ...,  0.0000,  0.0000,  0.0000],\n",
            "        [-0.0465,  0.6197,  0.5665,  ..., -0.3762, -0.0325,  0.8062],\n",
            "        ...,\n",
            "        [ 0.1159, -0.0809,  1.1418,  ..., -0.5731, -0.7754,  1.8549],\n",
            "        [-0.3582, -0.3215, -0.5117,  ..., -0.3059,  0.1725, -0.1838],\n",
            "        [-0.2101,  0.1676,  0.2300,  ...,  0.8337, -1.5538,  0.2893]])\n"
          ],
          "name": "stdout"
        }
      ]
    },
    {
      "cell_type": "code",
      "metadata": {
        "id": "fZFUp72wQ21h"
      },
      "source": [
        "optimizer = optim.Adam(model.parameters(), lr=2e-2)\n",
        "\n",
        "# Loss function: binary cross entropy with logits\n",
        "# It restricts the predictions to a number between 0 and 1 using the logit function\n",
        "# then use the bound scarlar to calculate the loss using binary cross entropy\n",
        "criterion = nn.BCEWithLogitsLoss()\n",
        "\n",
        "# Use GPU\n",
        "model = model.to(device)\n",
        "criterion = criterion.to(device)"
      ],
      "execution_count": null,
      "outputs": []
    },
    {
      "cell_type": "code",
      "metadata": {
        "id": "1nUy2ociQ6ug"
      },
      "source": [
        "def batch_accuracy(predictions, label):\n",
        "    \"\"\"\n",
        "    Returns accuracy per batch.\n",
        "\n",
        "    predictions - float\n",
        "    label - 0 or 1\n",
        "    \"\"\"\n",
        "\n",
        "    # Round predictions to the closest integer using the sigmoid function\n",
        "    preds = torch.round(torch.sigmoid(predictions))\n",
        "    # If prediction is equal to label\n",
        "    correct = (preds == label).float()\n",
        "    # Average correct predictions\n",
        "    accuracy = correct.sum() / len(correct)\n",
        "\n",
        "    return accuracy\n",
        "\n",
        "def timer(start_time, end_time):\n",
        "    \"\"\"\n",
        "    Returns the minutes and seconds.\n",
        "    \"\"\"\n",
        "\n",
        "    time = end_time - start_time\n",
        "    mins = int(time / 60)\n",
        "    secs = int(time - (mins * 60))\n",
        "\n",
        "    return mins, secs"
      ],
      "execution_count": null,
      "outputs": []
    },
    {
      "cell_type": "code",
      "metadata": {
        "id": "JDLObEX3Q-8f"
      },
      "source": [
        "def train(model, iterator, optimizer, criterion):\n",
        "    \"\"\"\n",
        "    Function to evaluate training loss and accuracy.\n",
        "\n",
        "    iterator - train iterator\n",
        "    \"\"\"\n",
        "    \n",
        "    # Cumulated Training loss\n",
        "    training_loss = 0.0\n",
        "    # Cumulated Training accuracy\n",
        "    training_acc = 0.0\n",
        "    \n",
        "    # Set model to training mode\n",
        "    model.train()\n",
        "    \n",
        "    # For each batch in the training iterator\n",
        "    for batch in iterator:\n",
        "        \n",
        "        # 1. Zero the gradients\n",
        "        optimizer.zero_grad()\n",
        "        \n",
        "        # batch.text is a tuple (tensor, len of seq)\n",
        "        text, text_lengths = batch.text\n",
        "        text_lengths = torch.as_tensor(text_lengths, dtype=torch.int64, device='cpu')\n",
        "        \n",
        "        # 2. Compute the predictions\n",
        "        predictions = model(text, text_lengths).squeeze(1)\n",
        "        \n",
        "        # 3. Compute loss\n",
        "        loss = criterion(predictions, batch.target)\n",
        "        \n",
        "        # Compute accuracy\n",
        "        accuracy = batch_accuracy(predictions, batch.target)\n",
        "        \n",
        "        # 4. Use loss to compute gradients\n",
        "        loss.backward()\n",
        "        \n",
        "        # 5. Use optimizer to take gradient step\n",
        "        optimizer.step()\n",
        "        \n",
        "        training_loss += loss.item()\n",
        "        training_acc += accuracy.item()\n",
        "    \n",
        "    # Return the loss and accuracy, averaged across each epoch\n",
        "    # len of iterator = num of batches in the iterator\n",
        "    return training_loss / len(iterator), training_acc / len(iterator)"
      ],
      "execution_count": null,
      "outputs": []
    },
    {
      "cell_type": "code",
      "metadata": {
        "id": "FU9GpSpTRGAK"
      },
      "source": [
        "def evaluate(model, iterator, criterion):\n",
        "    \"\"\"\n",
        "    Function to evaluate the loss and accuracy of validation and test sets.\n",
        "\n",
        "    iterator - validation or test iterator\n",
        "    \"\"\"\n",
        "    \n",
        "    # Cumulated Training loss\n",
        "    eval_loss = 0.0\n",
        "    # Cumulated Training accuracy\n",
        "    eval_acc = 0\n",
        "    \n",
        "    # Set model to evaluation mode\n",
        "    model.eval()\n",
        "    \n",
        "    # Don't calculate the gradients\n",
        "    with torch.no_grad():\n",
        "    \n",
        "        for batch in iterator:\n",
        "\n",
        "            text, text_lengths = batch.text\n",
        "            text_lengths = torch.as_tensor(text_lengths, dtype=torch.int64, device='cpu')\n",
        "            \n",
        "            predictions = model(text, text_lengths).squeeze(1)\n",
        "            \n",
        "            loss = criterion(predictions, batch.target)\n",
        "            \n",
        "            accuracy = batch_accuracy(predictions, batch.target)\n",
        "\n",
        "            eval_loss += loss.item()\n",
        "            eval_acc += accuracy.item()\n",
        "        \n",
        "    return eval_loss / len(iterator), eval_acc / len(iterator)"
      ],
      "execution_count": null,
      "outputs": []
    },
    {
      "cell_type": "code",
      "metadata": {
        "colab": {
          "base_uri": "https://localhost:8080/"
        },
        "id": "6cz8v1BtRJ9P",
        "outputId": "04dddae3-6355-411d-b5ba-945ea2527b65"
      },
      "source": [
        "# Number of epochs\n",
        "NUM_EPOCHS = 10\n",
        "\n",
        "# Lowest validation lost\n",
        "best_valid_loss = float('inf')\n",
        "\n",
        "for epoch in range(NUM_EPOCHS):\n",
        "\n",
        "    start_time = time.time()\n",
        "    \n",
        "    # Evaluate training loss and accuracy\n",
        "    train_loss, train_acc = train(model, train_iterator, optimizer, criterion)\n",
        "    # Evaluate validation loss and accuracy\n",
        "    valid_loss, valid_acc = evaluate(model, valid_iterator, criterion)\n",
        "    \n",
        "    end_time = time.time()\n",
        "\n",
        "    mins, secs = timer(start_time, end_time)\n",
        "    \n",
        "    # At each epoch, if the validation loss is the best\n",
        "    if valid_loss < best_valid_loss:\n",
        "        best_valid_loss = valid_loss\n",
        "        # Save the parameters of the model\n",
        "        torch.save(model.state_dict(), 'best-model.pt')\n",
        "\n",
        "    print(\"Epoch {}:\".format(epoch+1))\n",
        "    print(\"\\t Total Time: {}m {}s\".format(mins, secs))\n",
        "    print(\"\\t Train Loss {} | Train Accuracy: {}%\".format(round(train_loss, 2), round(train_acc*100, 2)))\n",
        "    print(\"\\t Validation Loss {} | Validation Accuracy: {}%\".format(round(valid_loss, 2), round(valid_acc*100, 2)))"
      ],
      "execution_count": null,
      "outputs": [
        {
          "output_type": "stream",
          "text": [
            "Epoch 1:\n",
            "\t Total Time: 0m 3s\n",
            "\t Train Loss 0.64 | Train Accuracy: 67.93%\n",
            "\t Validation Loss 0.46 | Validation Accuracy: 79.26%\n",
            "Epoch 2:\n",
            "\t Total Time: 0m 3s\n",
            "\t Train Loss 0.42 | Train Accuracy: 80.96%\n",
            "\t Validation Loss 0.44 | Validation Accuracy: 79.47%\n",
            "Epoch 3:\n",
            "\t Total Time: 0m 3s\n",
            "\t Train Loss 0.36 | Train Accuracy: 84.55%\n",
            "\t Validation Loss 0.46 | Validation Accuracy: 78.81%\n",
            "Epoch 4:\n",
            "\t Total Time: 0m 3s\n",
            "\t Train Loss 0.31 | Train Accuracy: 86.81%\n",
            "\t Validation Loss 0.5 | Validation Accuracy: 78.41%\n",
            "Epoch 5:\n",
            "\t Total Time: 0m 3s\n",
            "\t Train Loss 0.28 | Train Accuracy: 88.22%\n",
            "\t Validation Loss 0.54 | Validation Accuracy: 78.58%\n",
            "Epoch 6:\n",
            "\t Total Time: 0m 3s\n",
            "\t Train Loss 0.25 | Train Accuracy: 89.39%\n",
            "\t Validation Loss 0.58 | Validation Accuracy: 77.83%\n",
            "Epoch 7:\n",
            "\t Total Time: 0m 3s\n",
            "\t Train Loss 0.22 | Train Accuracy: 90.78%\n",
            "\t Validation Loss 0.62 | Validation Accuracy: 77.47%\n",
            "Epoch 8:\n",
            "\t Total Time: 0m 3s\n",
            "\t Train Loss 0.21 | Train Accuracy: 91.33%\n",
            "\t Validation Loss 0.65 | Validation Accuracy: 77.1%\n",
            "Epoch 9:\n",
            "\t Total Time: 0m 3s\n",
            "\t Train Loss 0.2 | Train Accuracy: 91.69%\n",
            "\t Validation Loss 0.69 | Validation Accuracy: 77.24%\n",
            "Epoch 10:\n",
            "\t Total Time: 0m 3s\n",
            "\t Train Loss 0.19 | Train Accuracy: 92.04%\n",
            "\t Validation Loss 0.69 | Validation Accuracy: 77.25%\n"
          ],
          "name": "stdout"
        }
      ]
    },
    {
      "cell_type": "code",
      "metadata": {
        "colab": {
          "base_uri": "https://localhost:8080/"
        },
        "id": "H9NOBLjCR_KM",
        "outputId": "b2e612b0-f4c2-4904-b176-73abee6b8bff"
      },
      "source": [
        "# Load the model with the best validation loss\n",
        "model.load_state_dict(torch.load('best-model.pt'))\n",
        "\n",
        "# Evaluate test loss and accuracy\n",
        "test_loss, test_acc = evaluate(model, test_iterator, criterion)\n",
        "\n",
        "print(\"Test Loss: {} | Test Acc: {}%\".format(round(test_loss, 2), round(test_acc*100, 2)))"
      ],
      "execution_count": null,
      "outputs": [
        {
          "output_type": "stream",
          "text": [
            "Test Loss: 0.45 | Test Acc: 79.2%\n"
          ],
          "name": "stdout"
        }
      ]
    },
    {
      "cell_type": "code",
      "metadata": {
        "id": "0yvs9u4bSF5V"
      },
      "source": [
        "nlp = spacy.load('en')\n",
        "\n",
        "def predict(model, text, tokenized=True):\n",
        "    \"\"\"\n",
        "    Given a tweet, predict the sentiment.\n",
        "\n",
        "    text - a string or a a list of tokens\n",
        "    tokenized - True if text is a list of tokens, False if passing in a string\n",
        "    \"\"\"\n",
        "\n",
        "    # Sets the model to evaluation mode\n",
        "    model.eval()\n",
        "\n",
        "    if tokenized == False:\n",
        "        # Tokenizes the sentence\n",
        "        tokens = [token.text for token in nlp.tokenizer(text)]\n",
        "    else:\n",
        "        tokens = text\n",
        "\n",
        "    # Index the tokens by converting to the integer representation from the vocabulary\n",
        "    indexed_tokens = [TEXT.vocab.stoi[t] for t in tokens]\n",
        "    # Get the length of the text\n",
        "    length = [len(indexed_tokens)]\n",
        "    # Convert the indices to a tensor\n",
        "    tensor = torch.LongTensor(indexed_tokens).to(device)\n",
        "    # Add a batch dimension by unsqueezeing\n",
        "    tensor = tensor.unsqueeze(1)\n",
        "    # Converts the length into a tensor\n",
        "    length_tensor = torch.LongTensor(length)\n",
        "    # Convert prediction to be between 0 and 1 with the sigmoid function\n",
        "    prediction = torch.sigmoid(model(tensor, length_tensor))\n",
        "\n",
        "    # Return a single value from the prediction\n",
        "    return prediction.item()"
      ],
      "execution_count": null,
      "outputs": []
    },
    {
      "cell_type": "code",
      "metadata": {
        "colab": {
          "base_uri": "https://localhost:8080/"
        },
        "id": "rRqjD-oqRbBZ",
        "outputId": "7e2122ed-3574-4cb3-ea32-b01b2fa1e331"
      },
      "source": [
        "print(\"Tweet: {}\".format(TreebankWordDetokenizer().detokenize(test_data[20].text)))\n",
        "\n",
        "print(\"Prediction: {}\".format(round(predict(model, test_data[20].text), 2)))\n",
        "\n",
        "print(\"True Label: {}\".format(test_data[10].target))"
      ],
      "execution_count": null,
      "outputs": [
        {
          "output_type": "stream",
          "text": [
            "Tweet: i'll miss all ya'll guys and girls!!!\n",
            "Prediction: 0.19\n",
            "True Label: 1\n"
          ],
          "name": "stdout"
        }
      ]
    },
    {
      "cell_type": "code",
      "metadata": {
        "colab": {
          "base_uri": "https://localhost:8080/",
          "height": 343
        },
        "id": "jVz5YPPE-Ev5",
        "outputId": "c4bcdb1b-bd0a-447a-b385-31bed6016c53"
      },
      "source": [
        "# List to append data to\n",
        "d = []\n",
        "\n",
        "\n",
        "for idx in range(10):\n",
        "\n",
        "    # Detokenize the tweets from the test set\n",
        "    tweet = TreebankWordDetokenizer().detokenize(test_data[idx].text)\n",
        "                                                 \n",
        "    # Append tweet, prediction, and true label\n",
        "    d.append({'Tweet': tweet, 'Prediction': predict(model, test_data[idx].text), 'True Label': test_data[idx].target})\n",
        "\n",
        "# Convert list to dataframe\n",
        "pd.DataFrame(d)"
      ],
      "execution_count": null,
      "outputs": [
        {
          "output_type": "execute_result",
          "data": {
            "text/html": [
              "<div>\n",
              "<style scoped>\n",
              "    .dataframe tbody tr th:only-of-type {\n",
              "        vertical-align: middle;\n",
              "    }\n",
              "\n",
              "    .dataframe tbody tr th {\n",
              "        vertical-align: top;\n",
              "    }\n",
              "\n",
              "    .dataframe thead th {\n",
              "        text-align: right;\n",
              "    }\n",
              "</style>\n",
              "<table border=\"1\" class=\"dataframe\">\n",
              "  <thead>\n",
              "    <tr style=\"text-align: right;\">\n",
              "      <th></th>\n",
              "      <th>Tweet</th>\n",
              "      <th>Prediction</th>\n",
              "      <th>True Label</th>\n",
              "    </tr>\n",
              "  </thead>\n",
              "  <tbody>\n",
              "    <tr>\n",
              "      <th>0</th>\n",
              "      <td>new skins, buttons &amp; backgrounds added to foru...</td>\n",
              "      <td>0.963014</td>\n",
              "      <td>1</td>\n",
              "    </tr>\n",
              "    <tr>\n",
              "      <th>1</th>\n",
              "      <td>really wants tomorrow to happen! i need a dean...</td>\n",
              "      <td>0.148461</td>\n",
              "      <td>0</td>\n",
              "    </tr>\n",
              "    <tr>\n",
              "      <th>2</th>\n",
              "      <td>ahahah...yes i love it!!!!! i love jane austin...</td>\n",
              "      <td>0.979038</td>\n",
              "      <td>1</td>\n",
              "    </tr>\n",
              "    <tr>\n",
              "      <th>3</th>\n",
              "      <td>fuck . now i work 12 - 6</td>\n",
              "      <td>0.098094</td>\n",
              "      <td>0</td>\n",
              "    </tr>\n",
              "    <tr>\n",
              "      <th>4</th>\n",
              "      <td>jus got finished eatin dis kickin chicken sand...</td>\n",
              "      <td>0.294405</td>\n",
              "      <td>0</td>\n",
              "    </tr>\n",
              "    <tr>\n",
              "      <th>5</th>\n",
              "      <td>wierd .... when i merged mine , 2 minutes afte...</td>\n",
              "      <td>0.221346</td>\n",
              "      <td>0</td>\n",
              "    </tr>\n",
              "    <tr>\n",
              "      <th>6</th>\n",
              "      <td>i agree with you don't look bad in normal clot...</td>\n",
              "      <td>0.297863</td>\n",
              "      <td>1</td>\n",
              "    </tr>\n",
              "    <tr>\n",
              "      <th>7</th>\n",
              "      <td>ok, so laying in bed watching grease with leah...</td>\n",
              "      <td>0.712903</td>\n",
              "      <td>0</td>\n",
              "    </tr>\n",
              "    <tr>\n",
              "      <th>8</th>\n",
              "      <td>seriously . want . to . scream . breathe ....</td>\n",
              "      <td>0.543282</td>\n",
              "      <td>0</td>\n",
              "    </tr>\n",
              "    <tr>\n",
              "      <th>9</th>\n",
              "      <td>yes! got a seat without a hella tall person in...</td>\n",
              "      <td>0.117583</td>\n",
              "      <td>1</td>\n",
              "    </tr>\n",
              "  </tbody>\n",
              "</table>\n",
              "</div>"
            ],
            "text/plain": [
              "                                               Tweet  Prediction True Label\n",
              "0  new skins, buttons & backgrounds added to foru...    0.963014          1\n",
              "1  really wants tomorrow to happen! i need a dean...    0.148461          0\n",
              "2  ahahah...yes i love it!!!!! i love jane austin...    0.979038          1\n",
              "3                           fuck . now i work 12 - 6    0.098094          0\n",
              "4  jus got finished eatin dis kickin chicken sand...    0.294405          0\n",
              "5  wierd .... when i merged mine , 2 minutes afte...    0.221346          0\n",
              "6  i agree with you don't look bad in normal clot...    0.297863          1\n",
              "7  ok, so laying in bed watching grease with leah...    0.712903          0\n",
              "8      seriously . want . to . scream . breathe ....    0.543282          0\n",
              "9  yes! got a seat without a hella tall person in...    0.117583          1"
            ]
          },
          "metadata": {
            "tags": []
          },
          "execution_count": 61
        }
      ]
    }
  ]
}