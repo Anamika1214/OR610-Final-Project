{
 "cells": [
  {
   "cell_type": "code",
   "execution_count": null,
   "metadata": {
    "id": "sWyBZmU-s733"
   },
   "outputs": [],
   "source": []
  },
  {
   "cell_type": "code",
   "execution_count": 1,
   "metadata": {
    "colab": {
     "base_uri": "https://localhost:8080/"
    },
    "executionInfo": {
     "elapsed": 3388,
     "status": "ok",
     "timestamp": 1605147709697,
     "user": {
      "displayName": "Vishal Arya",
      "photoUrl": "",
      "userId": "05630331593287898441"
     },
     "user_tz": 300
    },
    "id": "ZO4UYIfSJvpV",
    "outputId": "b3444f4b-9f70-43d3-ec8d-027eb69e1df8"
   },
   "outputs": [
    {
     "name": "stdout",
     "output_type": "stream",
     "text": [
      "Collecting researchpy\n",
      "  Downloading https://files.pythonhosted.org/packages/4b/a3/b16ea25a5416f7c35824b2fc3ee1cdc9f9d8ab6d9fc4119679504d43b8a8/researchpy-0.2.3-py3-none-any.whl\n",
      "Requirement already satisfied: statsmodels in /usr/local/lib/python3.6/dist-packages (from researchpy) (0.10.2)\n",
      "Requirement already satisfied: pandas in /usr/local/lib/python3.6/dist-packages (from researchpy) (1.1.4)\n",
      "Requirement already satisfied: numpy in /usr/local/lib/python3.6/dist-packages (from researchpy) (1.18.5)\n",
      "Requirement already satisfied: scipy in /usr/local/lib/python3.6/dist-packages (from researchpy) (1.4.1)\n",
      "Requirement already satisfied: patsy>=0.4.0 in /usr/local/lib/python3.6/dist-packages (from statsmodels->researchpy) (0.5.1)\n",
      "Requirement already satisfied: pytz>=2017.2 in /usr/local/lib/python3.6/dist-packages (from pandas->researchpy) (2018.9)\n",
      "Requirement already satisfied: python-dateutil>=2.7.3 in /usr/local/lib/python3.6/dist-packages (from pandas->researchpy) (2.8.1)\n",
      "Requirement already satisfied: six in /usr/local/lib/python3.6/dist-packages (from patsy>=0.4.0->statsmodels->researchpy) (1.15.0)\n",
      "Installing collected packages: researchpy\n",
      "Successfully installed researchpy-0.2.3\n"
     ]
    }
   ],
   "source": [
    "! pip install researchpy\n",
    "\n"
   ]
  },
  {
   "cell_type": "code",
   "execution_count": 66,
   "metadata": {
    "colab": {
     "base_uri": "https://localhost:8080/",
     "height": 151
    },
    "executionInfo": {
     "elapsed": 7968,
     "status": "ok",
     "timestamp": 1605147717921,
     "user": {
      "displayName": "Vishal Arya",
      "photoUrl": "",
      "userId": "05630331593287898441"
     },
     "user_tz": 300
    },
    "id": "n5M34K5b86ot",
    "outputId": "56e363c4-b001-456a-e023-1f2ad7233732"
   },
   "outputs": [
    {
     "data": {
      "text/html": [
       "        <script type=\"text/javascript\">\n",
       "        window.PlotlyConfig = {MathJaxConfig: 'local'};\n",
       "        if (window.MathJax) {MathJax.Hub.Config({SVG: {font: \"STIX-Web\"}});}\n",
       "        if (typeof require !== 'undefined') {\n",
       "        require.undef(\"plotly\");\n",
       "        requirejs.config({\n",
       "            paths: {\n",
       "                'plotly': ['https://cdn.plot.ly/plotly-latest.min']\n",
       "            }\n",
       "        });\n",
       "        require(['plotly'], function(Plotly) {\n",
       "            window._Plotly = Plotly;\n",
       "        });\n",
       "        }\n",
       "        </script>\n",
       "        "
      ]
     },
     "metadata": {},
     "output_type": "display_data"
    },
    {
     "name": "stderr",
     "output_type": "stream",
     "text": [
      "[nltk_data] Downloading package stopwords to\n",
      "[nltk_data]     /home/aryavish/nltk_data...\n",
      "[nltk_data]   Package stopwords is already up-to-date!\n"
     ]
    },
    {
     "data": {
      "text/plain": [
       "True"
      ]
     },
     "execution_count": 66,
     "metadata": {},
     "output_type": "execute_result"
    },
    {
     "data": {
      "text/plain": [
       "<torch._C.Generator at 0x7f53bce98890>"
      ]
     },
     "execution_count": 66,
     "metadata": {},
     "output_type": "execute_result"
    },
    {
     "name": "stdout",
     "output_type": "stream",
     "text": [
      "\n",
      "\n",
      "[[IMPORT OK]]\n"
     ]
    }
   ],
   "source": [
    "import numpy as np\n",
    "%matplotlib inline\n",
    "import matplotlib.pyplot as plt\n",
    "import math\n",
    "import datetime\n",
    "\n",
    "## stat imports\n",
    "from statsmodels.graphics.tsaplots import plot_pacf\n",
    "from statsmodels.graphics.tsaplots import plot_acf\n",
    "from scipy.stats import linregress\n",
    "\n",
    "import researchpy as rp\n",
    "import scipy.stats as stats\n",
    "from scipy.stats import skew \n",
    "\n",
    "\n",
    "from IPython.core.interactiveshell import InteractiveShell\n",
    "InteractiveShell.ast_node_interactivity = \"all\"\n",
    "\n",
    "\n",
    "\n",
    "import pandas as pd\n",
    "\n",
    "pd.set_option('display.max_columns', None)\n",
    "pd.set_option(\"max_rows\", 150)\n",
    "pd.set_option('display.float_format', lambda x: '%.5f' % x)\n",
    "#reset pd.reset_option('display.float_format')\n",
    "\n",
    "from numpy import linalg as LA\n",
    "\n",
    "from IPython.display import clear_output\n",
    "\n",
    "\n",
    "\n",
    "# Keras\n",
    "from keras.preprocessing.text import Tokenizer\n",
    "from keras.preprocessing.sequence import pad_sequences\n",
    "from keras.models import Sequential\n",
    "from keras.layers import Dense, Flatten, LSTM, Conv1D, MaxPooling1D, Dropout, Activation\n",
    "from keras.layers.embeddings import Embedding\n",
    "\n",
    "## Plotly\n",
    "import plotly.offline as py\n",
    "import plotly.graph_objs as go\n",
    "py.init_notebook_mode(connected=True)\n",
    "\n",
    "# Others\n",
    "import nltk\n",
    "import string\n",
    "import re\n",
    "from collections import Counter\n",
    "from matplotlib import pyplot\n",
    "\n",
    "from nltk.tokenize import sent_tokenize, word_tokenize \n",
    "import gensim \n",
    "from gensim.models import Word2Vec\n",
    "from gensim.models import KeyedVectors\n",
    "from gensim import models\n",
    "\n",
    "from nltk.stem import SnowballStemmer\n",
    "nltk.download('stopwords')\n",
    "\n",
    "from nltk.corpus import stopwords\n",
    "from sklearn.feature_extraction.text import CountVectorizer\n",
    "from sklearn.feature_extraction.text import TfidfVectorizer\n",
    "\n",
    "from sklearn.manifold import TSNE\n",
    "\n",
    "import csv\n",
    "\n",
    "from sklearn import decomposition\n",
    "from sklearn import datasets\n",
    "from sklearn.model_selection import train_test_split\n",
    "from sklearn.preprocessing import StandardScaler\n",
    "\n",
    "#tensorflow\n",
    "import tensorflow.keras.backend as K\n",
    "import tensorflow as tf\n",
    "\n",
    "from tensorflow.keras.layers import Activation, Dense, Embedding, GlobalAveragePooling1D\n",
    "import tensorflow.keras.backend as K\n",
    "import tensorflow as tf\n",
    "\n",
    "tf.config.run_functions_eagerly(True)\n",
    "\n",
    "from tensorflow.python.client import device_lib\n",
    "\n",
    "## running NN models\n",
    "\n",
    "import torch.optim as optim\n",
    "\n",
    "import torch.nn as nn\n",
    "import torch.nn.functional as F\n",
    "import torch\n",
    "\n",
    "torch.manual_seed(1)\n",
    "\n",
    "\n",
    "\n",
    "from sklearn.linear_model import LogisticRegression\n",
    "from sklearn import metrics\n",
    "\n",
    "import os\n",
    "\n",
    "\n",
    "#critical function spacing print\n",
    "def v():\n",
    "  print(\"\\n\")\n",
    "  return None\n",
    "\n",
    "v()\n",
    "print(\"[[IMPORT OK]]\")"
   ]
  },
  {
   "cell_type": "code",
   "execution_count": 3,
   "metadata": {
    "colab": {
     "base_uri": "https://localhost:8080/"
    },
    "executionInfo": {
     "elapsed": 25552,
     "status": "ok",
     "timestamp": 1605147746121,
     "user": {
      "displayName": "Vishal Arya",
      "photoUrl": "",
      "userId": "05630331593287898441"
     },
     "user_tz": 300
    },
    "id": "V3Op1RCz9U_O",
    "outputId": "3618bc05-2bbb-410a-f5a3-6d879883a571"
   },
   "outputs": [
    {
     "name": "stdout",
     "output_type": "stream",
     "text": [
      "/content\n",
      "Mounted at /content/drive\n"
     ]
    }
   ],
   "source": [
    "!pwd\n",
    "\n",
    "\n",
    "from google.colab import drive\n",
    "drive.mount('/content/drive') "
   ]
  },
  {
   "cell_type": "code",
   "execution_count": 4,
   "metadata": {
    "executionInfo": {
     "elapsed": 2466,
     "status": "ok",
     "timestamp": 1605147751457,
     "user": {
      "displayName": "Vishal Arya",
      "photoUrl": "",
      "userId": "05630331593287898441"
     },
     "user_tz": 300
    },
    "id": "OcQXYonQ-ioj"
   },
   "outputs": [],
   "source": [
    "os.chdir(\"/content/drive/My Drive/Capcelona/Deals/Bus Dev/coursera review crap/math review/GMU Dept of Math/pred ana/OR 610 DLNN/hw/proj\")"
   ]
  },
  {
   "cell_type": "code",
   "execution_count": 2,
   "metadata": {
    "colab": {
     "base_uri": "https://localhost:8080/",
     "height": 270
    },
    "executionInfo": {
     "elapsed": 13454,
     "status": "ok",
     "timestamp": 1605147769376,
     "user": {
      "displayName": "Vishal Arya",
      "photoUrl": "",
      "userId": "05630331593287898441"
     },
     "user_tz": 300
    },
    "id": "pGSA0wqM88Xz",
    "outputId": "8d2eafff-d67f-49a4-fc33-7aa5eca8113d"
   },
   "outputs": [
    {
     "data": {
      "text/plain": [
       "RangeIndex(start=0, stop=1600000, step=1)"
      ]
     },
     "execution_count": 2,
     "metadata": {},
     "output_type": "execute_result"
    },
    {
     "data": {
      "text/html": [
       "<div>\n",
       "<style scoped>\n",
       "    .dataframe tbody tr th:only-of-type {\n",
       "        vertical-align: middle;\n",
       "    }\n",
       "\n",
       "    .dataframe tbody tr th {\n",
       "        vertical-align: top;\n",
       "    }\n",
       "\n",
       "    .dataframe thead th {\n",
       "        text-align: right;\n",
       "    }\n",
       "</style>\n",
       "<table border=\"1\" class=\"dataframe\">\n",
       "  <thead>\n",
       "    <tr style=\"text-align: right;\">\n",
       "      <th></th>\n",
       "      <th>0</th>\n",
       "      <th>1</th>\n",
       "      <th>2</th>\n",
       "      <th>3</th>\n",
       "      <th>4</th>\n",
       "      <th>5</th>\n",
       "    </tr>\n",
       "  </thead>\n",
       "  <tbody>\n",
       "    <tr>\n",
       "      <th>0</th>\n",
       "      <td>0</td>\n",
       "      <td>1467810369</td>\n",
       "      <td>Mon Apr 06 22:19:45 PDT 2009</td>\n",
       "      <td>NO_QUERY</td>\n",
       "      <td>_TheSpecialOne_</td>\n",
       "      <td>@switchfoot http://twitpic.com/2y1zl - Awww, t...</td>\n",
       "    </tr>\n",
       "    <tr>\n",
       "      <th>1</th>\n",
       "      <td>0</td>\n",
       "      <td>1467810672</td>\n",
       "      <td>Mon Apr 06 22:19:49 PDT 2009</td>\n",
       "      <td>NO_QUERY</td>\n",
       "      <td>scotthamilton</td>\n",
       "      <td>is upset that he can't update his Facebook by ...</td>\n",
       "    </tr>\n",
       "    <tr>\n",
       "      <th>2</th>\n",
       "      <td>0</td>\n",
       "      <td>1467810917</td>\n",
       "      <td>Mon Apr 06 22:19:53 PDT 2009</td>\n",
       "      <td>NO_QUERY</td>\n",
       "      <td>mattycus</td>\n",
       "      <td>@Kenichan I dived many times for the ball. Man...</td>\n",
       "    </tr>\n",
       "    <tr>\n",
       "      <th>3</th>\n",
       "      <td>0</td>\n",
       "      <td>1467811184</td>\n",
       "      <td>Mon Apr 06 22:19:57 PDT 2009</td>\n",
       "      <td>NO_QUERY</td>\n",
       "      <td>ElleCTF</td>\n",
       "      <td>my whole body feels itchy and like its on fire</td>\n",
       "    </tr>\n",
       "    <tr>\n",
       "      <th>4</th>\n",
       "      <td>0</td>\n",
       "      <td>1467811193</td>\n",
       "      <td>Mon Apr 06 22:19:57 PDT 2009</td>\n",
       "      <td>NO_QUERY</td>\n",
       "      <td>Karoli</td>\n",
       "      <td>@nationwideclass no, it's not behaving at all....</td>\n",
       "    </tr>\n",
       "  </tbody>\n",
       "</table>\n",
       "</div>"
      ],
      "text/plain": [
       "   0           1                             2         3                4  \\\n",
       "0  0  1467810369  Mon Apr 06 22:19:45 PDT 2009  NO_QUERY  _TheSpecialOne_   \n",
       "1  0  1467810672  Mon Apr 06 22:19:49 PDT 2009  NO_QUERY    scotthamilton   \n",
       "2  0  1467810917  Mon Apr 06 22:19:53 PDT 2009  NO_QUERY         mattycus   \n",
       "3  0  1467811184  Mon Apr 06 22:19:57 PDT 2009  NO_QUERY          ElleCTF   \n",
       "4  0  1467811193  Mon Apr 06 22:19:57 PDT 2009  NO_QUERY           Karoli   \n",
       "\n",
       "                                                   5  \n",
       "0  @switchfoot http://twitpic.com/2y1zl - Awww, t...  \n",
       "1  is upset that he can't update his Facebook by ...  \n",
       "2  @Kenichan I dived many times for the ball. Man...  \n",
       "3    my whole body feels itchy and like its on fire   \n",
       "4  @nationwideclass no, it's not behaving at all....  "
      ]
     },
     "execution_count": 2,
     "metadata": {},
     "output_type": "execute_result"
    },
    {
     "data": {
      "text/plain": [
       "[0, 1, 2, 3, 4, 5]"
      ]
     },
     "execution_count": 2,
     "metadata": {},
     "output_type": "execute_result"
    },
    {
     "name": "stdout",
     "output_type": "stream",
     "text": [
      "\n",
      "\n"
     ]
    },
    {
     "data": {
      "text/plain": [
       "(1600000, 6)"
      ]
     },
     "execution_count": 2,
     "metadata": {},
     "output_type": "execute_result"
    }
   ],
   "source": [
    "#play with twitter data\n",
    "\n",
    "data = pd.read_csv(\"dataset/twitterfinal.csv\", engine='python', header=None)\n",
    "\n",
    "\n",
    "\n",
    "data.index\n",
    "data.head()\n",
    "list(data)\n",
    "v()\n",
    "data.shape"
   ]
  },
  {
   "cell_type": "code",
   "execution_count": 3,
   "metadata": {
    "executionInfo": {
     "elapsed": 272,
     "status": "ok",
     "timestamp": 1605147773192,
     "user": {
      "displayName": "Vishal Arya",
      "photoUrl": "",
      "userId": "05630331593287898441"
     },
     "user_tz": 300
    },
    "id": "PovWj-LrApFN"
   },
   "outputs": [],
   "source": [
    "data.rename(columns={0: 'target',1: 'id', 2: 'date', 3: 'flag', 4: 'user', 5: 'text' }, inplace=True)\n",
    "\n",
    "# polarity of the tweet (0 = negative, 2 = neutral, 4 = positive)"
   ]
  },
  {
   "cell_type": "code",
   "execution_count": 4,
   "metadata": {
    "colab": {
     "base_uri": "https://localhost:8080/",
     "height": 399
    },
    "executionInfo": {
     "elapsed": 16380,
     "status": "ok",
     "timestamp": 1604553569865,
     "user": {
      "displayName": "Vishal Arya",
      "photoUrl": "",
      "userId": "05630331593287898441"
     },
     "user_tz": 300
    },
    "id": "12AKaBD6yc7H",
    "outputId": "6a36b9b7-06cd-4add-c23d-af5ee7a5308a"
   },
   "outputs": [
    {
     "data": {
      "text/html": [
       "<div>\n",
       "<style scoped>\n",
       "    .dataframe tbody tr th:only-of-type {\n",
       "        vertical-align: middle;\n",
       "    }\n",
       "\n",
       "    .dataframe tbody tr th {\n",
       "        vertical-align: top;\n",
       "    }\n",
       "\n",
       "    .dataframe thead th {\n",
       "        text-align: right;\n",
       "    }\n",
       "</style>\n",
       "<table border=\"1\" class=\"dataframe\">\n",
       "  <thead>\n",
       "    <tr style=\"text-align: right;\">\n",
       "      <th></th>\n",
       "      <th>target</th>\n",
       "      <th>id</th>\n",
       "      <th>date</th>\n",
       "      <th>flag</th>\n",
       "      <th>user</th>\n",
       "      <th>text</th>\n",
       "    </tr>\n",
       "  </thead>\n",
       "  <tbody>\n",
       "    <tr>\n",
       "      <th>0</th>\n",
       "      <td>0</td>\n",
       "      <td>1467810369</td>\n",
       "      <td>Mon Apr 06 22:19:45 PDT 2009</td>\n",
       "      <td>NO_QUERY</td>\n",
       "      <td>_TheSpecialOne_</td>\n",
       "      <td>@switchfoot http://twitpic.com/2y1zl - Awww, t...</td>\n",
       "    </tr>\n",
       "    <tr>\n",
       "      <th>1</th>\n",
       "      <td>0</td>\n",
       "      <td>1467810672</td>\n",
       "      <td>Mon Apr 06 22:19:49 PDT 2009</td>\n",
       "      <td>NO_QUERY</td>\n",
       "      <td>scotthamilton</td>\n",
       "      <td>is upset that he can't update his Facebook by ...</td>\n",
       "    </tr>\n",
       "    <tr>\n",
       "      <th>2</th>\n",
       "      <td>0</td>\n",
       "      <td>1467810917</td>\n",
       "      <td>Mon Apr 06 22:19:53 PDT 2009</td>\n",
       "      <td>NO_QUERY</td>\n",
       "      <td>mattycus</td>\n",
       "      <td>@Kenichan I dived many times for the ball. Man...</td>\n",
       "    </tr>\n",
       "    <tr>\n",
       "      <th>3</th>\n",
       "      <td>0</td>\n",
       "      <td>1467811184</td>\n",
       "      <td>Mon Apr 06 22:19:57 PDT 2009</td>\n",
       "      <td>NO_QUERY</td>\n",
       "      <td>ElleCTF</td>\n",
       "      <td>my whole body feels itchy and like its on fire</td>\n",
       "    </tr>\n",
       "    <tr>\n",
       "      <th>4</th>\n",
       "      <td>0</td>\n",
       "      <td>1467811193</td>\n",
       "      <td>Mon Apr 06 22:19:57 PDT 2009</td>\n",
       "      <td>NO_QUERY</td>\n",
       "      <td>Karoli</td>\n",
       "      <td>@nationwideclass no, it's not behaving at all....</td>\n",
       "    </tr>\n",
       "    <tr>\n",
       "      <th>...</th>\n",
       "      <td>...</td>\n",
       "      <td>...</td>\n",
       "      <td>...</td>\n",
       "      <td>...</td>\n",
       "      <td>...</td>\n",
       "      <td>...</td>\n",
       "    </tr>\n",
       "    <tr>\n",
       "      <th>1599995</th>\n",
       "      <td>4</td>\n",
       "      <td>2193601966</td>\n",
       "      <td>Tue Jun 16 08:40:49 PDT 2009</td>\n",
       "      <td>NO_QUERY</td>\n",
       "      <td>AmandaMarie1028</td>\n",
       "      <td>Just woke up. Having no school is the best fee...</td>\n",
       "    </tr>\n",
       "    <tr>\n",
       "      <th>1599996</th>\n",
       "      <td>4</td>\n",
       "      <td>2193601969</td>\n",
       "      <td>Tue Jun 16 08:40:49 PDT 2009</td>\n",
       "      <td>NO_QUERY</td>\n",
       "      <td>TheWDBoards</td>\n",
       "      <td>TheWDB.com - Very cool to hear old Walt interv...</td>\n",
       "    </tr>\n",
       "    <tr>\n",
       "      <th>1599997</th>\n",
       "      <td>4</td>\n",
       "      <td>2193601991</td>\n",
       "      <td>Tue Jun 16 08:40:49 PDT 2009</td>\n",
       "      <td>NO_QUERY</td>\n",
       "      <td>bpbabe</td>\n",
       "      <td>Are you ready for your MoJo Makeover? Ask me f...</td>\n",
       "    </tr>\n",
       "    <tr>\n",
       "      <th>1599998</th>\n",
       "      <td>4</td>\n",
       "      <td>2193602064</td>\n",
       "      <td>Tue Jun 16 08:40:49 PDT 2009</td>\n",
       "      <td>NO_QUERY</td>\n",
       "      <td>tinydiamondz</td>\n",
       "      <td>Happy 38th Birthday to my boo of alll time!!! ...</td>\n",
       "    </tr>\n",
       "    <tr>\n",
       "      <th>1599999</th>\n",
       "      <td>4</td>\n",
       "      <td>2193602129</td>\n",
       "      <td>Tue Jun 16 08:40:50 PDT 2009</td>\n",
       "      <td>NO_QUERY</td>\n",
       "      <td>RyanTrevMorris</td>\n",
       "      <td>happy #charitytuesday @theNSPCC @SparksCharity...</td>\n",
       "    </tr>\n",
       "  </tbody>\n",
       "</table>\n",
       "<p>1600000 rows × 6 columns</p>\n",
       "</div>"
      ],
      "text/plain": [
       "         target          id                          date      flag  \\\n",
       "0             0  1467810369  Mon Apr 06 22:19:45 PDT 2009  NO_QUERY   \n",
       "1             0  1467810672  Mon Apr 06 22:19:49 PDT 2009  NO_QUERY   \n",
       "2             0  1467810917  Mon Apr 06 22:19:53 PDT 2009  NO_QUERY   \n",
       "3             0  1467811184  Mon Apr 06 22:19:57 PDT 2009  NO_QUERY   \n",
       "4             0  1467811193  Mon Apr 06 22:19:57 PDT 2009  NO_QUERY   \n",
       "...         ...         ...                           ...       ...   \n",
       "1599995       4  2193601966  Tue Jun 16 08:40:49 PDT 2009  NO_QUERY   \n",
       "1599996       4  2193601969  Tue Jun 16 08:40:49 PDT 2009  NO_QUERY   \n",
       "1599997       4  2193601991  Tue Jun 16 08:40:49 PDT 2009  NO_QUERY   \n",
       "1599998       4  2193602064  Tue Jun 16 08:40:49 PDT 2009  NO_QUERY   \n",
       "1599999       4  2193602129  Tue Jun 16 08:40:50 PDT 2009  NO_QUERY   \n",
       "\n",
       "                    user                                               text  \n",
       "0        _TheSpecialOne_  @switchfoot http://twitpic.com/2y1zl - Awww, t...  \n",
       "1          scotthamilton  is upset that he can't update his Facebook by ...  \n",
       "2               mattycus  @Kenichan I dived many times for the ball. Man...  \n",
       "3                ElleCTF    my whole body feels itchy and like its on fire   \n",
       "4                 Karoli  @nationwideclass no, it's not behaving at all....  \n",
       "...                  ...                                                ...  \n",
       "1599995  AmandaMarie1028  Just woke up. Having no school is the best fee...  \n",
       "1599996      TheWDBoards  TheWDB.com - Very cool to hear old Walt interv...  \n",
       "1599997           bpbabe  Are you ready for your MoJo Makeover? Ask me f...  \n",
       "1599998     tinydiamondz  Happy 38th Birthday to my boo of alll time!!! ...  \n",
       "1599999   RyanTrevMorris  happy #charitytuesday @theNSPCC @SparksCharity...  \n",
       "\n",
       "[1600000 rows x 6 columns]"
      ]
     },
     "execution_count": 4,
     "metadata": {},
     "output_type": "execute_result"
    }
   ],
   "source": [
    "data"
   ]
  },
  {
   "cell_type": "code",
   "execution_count": 6,
   "metadata": {
    "colab": {
     "base_uri": "https://localhost:8080/"
    },
    "executionInfo": {
     "elapsed": 16902,
     "status": "ok",
     "timestamp": 1604553570397,
     "user": {
      "displayName": "Vishal Arya",
      "photoUrl": "",
      "userId": "05630331593287898441"
     },
     "user_tz": 300
    },
    "id": "mn1HCBKgAoiq",
    "outputId": "f87d4477-577a-4630-8c87-3a1194625830"
   },
   "outputs": [
    {
     "data": {
      "text/plain": [
       "target   0.00000\n",
       "id       0.00000\n",
       "date     0.00000\n",
       "flag     0.00000\n",
       "user     0.00000\n",
       "text     0.00000\n",
       "dtype: float64"
      ]
     },
     "execution_count": 6,
     "metadata": {},
     "output_type": "execute_result"
    }
   ],
   "source": [
    "data.isnull().sum() / data.shape[0] ## no nulls"
   ]
  },
  {
   "cell_type": "code",
   "execution_count": 7,
   "metadata": {
    "colab": {
     "base_uri": "https://localhost:8080/"
    },
    "executionInfo": {
     "elapsed": 222403,
     "status": "ok",
     "timestamp": 1605148003273,
     "user": {
      "displayName": "Vishal Arya",
      "photoUrl": "",
      "userId": "05630331593287898441"
     },
     "user_tz": 300
    },
    "id": "LO7gT3Ds_dDM",
    "outputId": "ca6b2352-8e60-4361-e199-f9601ba4ea7a"
   },
   "outputs": [],
   "source": [
    "# basic EDA on his tweets\n",
    "\n",
    "data['twlength'] = data.text.apply(lambda x: len(x))"
   ]
  },
  {
   "cell_type": "code",
   "execution_count": 7,
   "metadata": {
    "colab": {
     "base_uri": "https://localhost:8080/"
    },
    "executionInfo": {
     "elapsed": 222403,
     "status": "ok",
     "timestamp": 1605148003273,
     "user": {
      "displayName": "Vishal Arya",
      "photoUrl": "",
      "userId": "05630331593287898441"
     },
     "user_tz": 300
    },
    "id": "LO7gT3Ds_dDM",
    "outputId": "ca6b2352-8e60-4361-e199-f9601ba4ea7a"
   },
   "outputs": [
    {
     "name": "stderr",
     "output_type": "stream",
     "text": [
      "/home/aryavish/anaconda3/lib/python3.8/site-packages/dateutil/parser/_parser.py:1213: UnknownTimezoneWarning:\n",
      "\n",
      "tzname PDT identified but not understood.  Pass `tzinfos` argument in order to correctly return a timezone-aware datetime.  In a future version, this will raise an exception.\n",
      "\n"
     ]
    }
   ],
   "source": [
    "data.date = pd.to_datetime(data['date'])\n",
    "\n",
    "data['tw_day'] = [d.date() for d in data['date']]\n",
    "data['tw_time'] = [d.time() for d in data['date']]"
   ]
  },
  {
   "cell_type": "code",
   "execution_count": 8,
   "metadata": {
    "colab": {
     "base_uri": "https://localhost:8080/",
     "height": 193
    },
    "executionInfo": {
     "elapsed": 271792,
     "status": "ok",
     "timestamp": 1604553825330,
     "user": {
      "displayName": "Vishal Arya",
      "photoUrl": "",
      "userId": "05630331593287898441"
     },
     "user_tz": 300
    },
    "id": "B6RXFMG_A3P9",
    "outputId": "ff074f65-0aaf-4d82-dc36-a6237f305d30"
   },
   "outputs": [
    {
     "data": {
      "text/html": [
       "<div>\n",
       "<style scoped>\n",
       "    .dataframe tbody tr th:only-of-type {\n",
       "        vertical-align: middle;\n",
       "    }\n",
       "\n",
       "    .dataframe tbody tr th {\n",
       "        vertical-align: top;\n",
       "    }\n",
       "\n",
       "    .dataframe thead th {\n",
       "        text-align: right;\n",
       "    }\n",
       "</style>\n",
       "<table border=\"1\" class=\"dataframe\">\n",
       "  <thead>\n",
       "    <tr style=\"text-align: right;\">\n",
       "      <th></th>\n",
       "      <th>target</th>\n",
       "      <th>id</th>\n",
       "      <th>date</th>\n",
       "      <th>flag</th>\n",
       "      <th>user</th>\n",
       "      <th>text</th>\n",
       "      <th>twlength</th>\n",
       "      <th>tw_day</th>\n",
       "      <th>tw_time</th>\n",
       "    </tr>\n",
       "  </thead>\n",
       "  <tbody>\n",
       "    <tr>\n",
       "      <th>0</th>\n",
       "      <td>0</td>\n",
       "      <td>1467810369</td>\n",
       "      <td>2009-04-06 22:19:45</td>\n",
       "      <td>NO_QUERY</td>\n",
       "      <td>_TheSpecialOne_</td>\n",
       "      <td>@switchfoot http://twitpic.com/2y1zl - Awww, t...</td>\n",
       "      <td>115</td>\n",
       "      <td>2009-04-06</td>\n",
       "      <td>22:19:45</td>\n",
       "    </tr>\n",
       "    <tr>\n",
       "      <th>1</th>\n",
       "      <td>0</td>\n",
       "      <td>1467810672</td>\n",
       "      <td>2009-04-06 22:19:49</td>\n",
       "      <td>NO_QUERY</td>\n",
       "      <td>scotthamilton</td>\n",
       "      <td>is upset that he can't update his Facebook by ...</td>\n",
       "      <td>111</td>\n",
       "      <td>2009-04-06</td>\n",
       "      <td>22:19:49</td>\n",
       "    </tr>\n",
       "    <tr>\n",
       "      <th>2</th>\n",
       "      <td>0</td>\n",
       "      <td>1467810917</td>\n",
       "      <td>2009-04-06 22:19:53</td>\n",
       "      <td>NO_QUERY</td>\n",
       "      <td>mattycus</td>\n",
       "      <td>@Kenichan I dived many times for the ball. Man...</td>\n",
       "      <td>89</td>\n",
       "      <td>2009-04-06</td>\n",
       "      <td>22:19:53</td>\n",
       "    </tr>\n",
       "    <tr>\n",
       "      <th>3</th>\n",
       "      <td>0</td>\n",
       "      <td>1467811184</td>\n",
       "      <td>2009-04-06 22:19:57</td>\n",
       "      <td>NO_QUERY</td>\n",
       "      <td>ElleCTF</td>\n",
       "      <td>my whole body feels itchy and like its on fire</td>\n",
       "      <td>47</td>\n",
       "      <td>2009-04-06</td>\n",
       "      <td>22:19:57</td>\n",
       "    </tr>\n",
       "    <tr>\n",
       "      <th>4</th>\n",
       "      <td>0</td>\n",
       "      <td>1467811193</td>\n",
       "      <td>2009-04-06 22:19:57</td>\n",
       "      <td>NO_QUERY</td>\n",
       "      <td>Karoli</td>\n",
       "      <td>@nationwideclass no, it's not behaving at all....</td>\n",
       "      <td>111</td>\n",
       "      <td>2009-04-06</td>\n",
       "      <td>22:19:57</td>\n",
       "    </tr>\n",
       "  </tbody>\n",
       "</table>\n",
       "</div>"
      ],
      "text/plain": [
       "   target          id                date      flag             user  \\\n",
       "0       0  1467810369 2009-04-06 22:19:45  NO_QUERY  _TheSpecialOne_   \n",
       "1       0  1467810672 2009-04-06 22:19:49  NO_QUERY    scotthamilton   \n",
       "2       0  1467810917 2009-04-06 22:19:53  NO_QUERY         mattycus   \n",
       "3       0  1467811184 2009-04-06 22:19:57  NO_QUERY          ElleCTF   \n",
       "4       0  1467811193 2009-04-06 22:19:57  NO_QUERY           Karoli   \n",
       "\n",
       "                                                text  twlength      tw_day  \\\n",
       "0  @switchfoot http://twitpic.com/2y1zl - Awww, t...       115  2009-04-06   \n",
       "1  is upset that he can't update his Facebook by ...       111  2009-04-06   \n",
       "2  @Kenichan I dived many times for the ball. Man...        89  2009-04-06   \n",
       "3    my whole body feels itchy and like its on fire         47  2009-04-06   \n",
       "4  @nationwideclass no, it's not behaving at all....       111  2009-04-06   \n",
       "\n",
       "    tw_time  \n",
       "0  22:19:45  \n",
       "1  22:19:49  \n",
       "2  22:19:53  \n",
       "3  22:19:57  \n",
       "4  22:19:57  "
      ]
     },
     "execution_count": 8,
     "metadata": {},
     "output_type": "execute_result"
    }
   ],
   "source": [
    "data.head()"
   ]
  },
  {
   "cell_type": "code",
   "execution_count": 9,
   "metadata": {
    "colab": {
     "base_uri": "https://localhost:8080/"
    },
    "executionInfo": {
     "elapsed": 271778,
     "status": "ok",
     "timestamp": 1604553825331,
     "user": {
      "displayName": "Vishal Arya",
      "photoUrl": "",
      "userId": "05630331593287898441"
     },
     "user_tz": 300
    },
    "id": "Ab_E46RMBwdP",
    "outputId": "b8770383-0c34-41e8-d3e4-37996336fbd9"
   },
   "outputs": [
    {
     "data": {
      "text/plain": [
       "count   1600000.00000\n",
       "mean         74.04177\n",
       "std          36.38800\n",
       "min           6.00000\n",
       "25%          44.00000\n",
       "50%          69.00000\n",
       "75%         104.00000\n",
       "max         359.00000\n",
       "Name: twlength, dtype: float64"
      ]
     },
     "execution_count": 9,
     "metadata": {},
     "output_type": "execute_result"
    }
   ],
   "source": [
    "data.twlength.describe() #outliers"
   ]
  },
  {
   "cell_type": "code",
   "execution_count": 10,
   "metadata": {
    "executionInfo": {
     "elapsed": 212228,
     "status": "ok",
     "timestamp": 1605148003875,
     "user": {
      "displayName": "Vishal Arya",
      "photoUrl": "",
      "userId": "05630331593287898441"
     },
     "user_tz": 300
    },
    "id": "ogwPLuZhCBtS"
   },
   "outputs": [],
   "source": [
    "cap = 280 # MAX tweet length as of 10/2020\n",
    "\n",
    "data = data[data.twlength <= cap]\n",
    "\n"
   ]
  },
  {
   "cell_type": "code",
   "execution_count": 11,
   "metadata": {
    "colab": {
     "base_uri": "https://localhost:8080/",
     "height": 475
    },
    "executionInfo": {
     "elapsed": 210491,
     "status": "ok",
     "timestamp": 1605148004465,
     "user": {
      "displayName": "Vishal Arya",
      "photoUrl": "",
      "userId": "05630331593287898441"
     },
     "user_tz": 300
    },
    "id": "HJD_nTknC6Ix",
    "outputId": "72d07e8a-385d-4af4-c681-8c4057bc80ab"
   },
   "outputs": [
    {
     "data": {
      "text/plain": [
       "<matplotlib.axes._subplots.AxesSubplot at 0x7fa252847910>"
      ]
     },
     "execution_count": 11,
     "metadata": {},
     "output_type": "execute_result"
    },
    {
     "data": {
      "text/plain": [
       "count   1599999.00000\n",
       "mean         74.04159\n",
       "std          36.38731\n",
       "min           6.00000\n",
       "25%          44.00000\n",
       "50%          69.00000\n",
       "75%         104.00000\n",
       "max         235.00000\n",
       "Name: twlength, dtype: float64"
      ]
     },
     "execution_count": 11,
     "metadata": {},
     "output_type": "execute_result"
    },
    {
     "name": "stdout",
     "output_type": "stream",
     "text": [
      "\n",
      "\n"
     ]
    },
    {
     "data": {
      "text/plain": [
       "0.2629637089661638"
      ]
     },
     "execution_count": 11,
     "metadata": {},
     "output_type": "execute_result"
    },
    {
     "data": {
      "image/png": "[encoded data removed]",
      "text/plain": [
       "<Figure size 432x288 with 1 Axes>"
      ]
     },
     "metadata": {
      "needs_background": "light"
     },
     "output_type": "display_data"
    }
   ],
   "source": [
    "data.twlength.plot.hist()\n",
    "\n",
    "data.twlength.describe()\n",
    "\n",
    "v()\n",
    "\n",
    "skew(data.twlength) #mean tweet length of 75\n",
    "\n"
   ]
  },
  {
   "cell_type": "code",
   "execution_count": 35,
   "metadata": {
    "colab": {
     "base_uri": "https://localhost:8080/",
     "height": 473
    },
    "executionInfo": {
     "elapsed": 273492,
     "status": "ok",
     "timestamp": 1604553827087,
     "user": {
      "displayName": "Vishal Arya",
      "photoUrl": "",
      "userId": "05630331593287898441"
     },
     "user_tz": 300
    },
    "id": "Qrrug9SzFGW9",
    "outputId": "a7853af3-fbf4-413c-df34-23b480a63cb2"
   },
   "outputs": [
    {
     "data": {
      "text/html": [
       "<div>\n",
       "<style scoped>\n",
       "    .dataframe tbody tr th:only-of-type {\n",
       "        vertical-align: middle;\n",
       "    }\n",
       "\n",
       "    .dataframe tbody tr th {\n",
       "        vertical-align: top;\n",
       "    }\n",
       "\n",
       "    .dataframe thead th {\n",
       "        text-align: right;\n",
       "    }\n",
       "</style>\n",
       "<table border=\"1\" class=\"dataframe\">\n",
       "  <thead>\n",
       "    <tr style=\"text-align: right;\">\n",
       "      <th></th>\n",
       "      <th>vcount</th>\n",
       "    </tr>\n",
       "    <tr>\n",
       "      <th>user</th>\n",
       "      <th></th>\n",
       "    </tr>\n",
       "  </thead>\n",
       "  <tbody>\n",
       "    <tr>\n",
       "      <th>lost_dog</th>\n",
       "      <td>549</td>\n",
       "    </tr>\n",
       "    <tr>\n",
       "      <th>webwoke</th>\n",
       "      <td>345</td>\n",
       "    </tr>\n",
       "    <tr>\n",
       "      <th>tweetpet</th>\n",
       "      <td>310</td>\n",
       "    </tr>\n",
       "    <tr>\n",
       "      <th>SallytheShizzle</th>\n",
       "      <td>281</td>\n",
       "    </tr>\n",
       "    <tr>\n",
       "      <th>VioletsCRUK</th>\n",
       "      <td>279</td>\n",
       "    </tr>\n",
       "    <tr>\n",
       "      <th>mcraddictal</th>\n",
       "      <td>276</td>\n",
       "    </tr>\n",
       "    <tr>\n",
       "      <th>tsarnick</th>\n",
       "      <td>248</td>\n",
       "    </tr>\n",
       "    <tr>\n",
       "      <th>what_bugs_u</th>\n",
       "      <td>246</td>\n",
       "    </tr>\n",
       "    <tr>\n",
       "      <th>Karen230683</th>\n",
       "      <td>238</td>\n",
       "    </tr>\n",
       "    <tr>\n",
       "      <th>DarkPiano</th>\n",
       "      <td>236</td>\n",
       "    </tr>\n",
       "    <tr>\n",
       "      <th>SongoftheOss</th>\n",
       "      <td>227</td>\n",
       "    </tr>\n",
       "    <tr>\n",
       "      <th>Jayme1988</th>\n",
       "      <td>225</td>\n",
       "    </tr>\n",
       "    <tr>\n",
       "      <th>keza34</th>\n",
       "      <td>219</td>\n",
       "    </tr>\n",
       "    <tr>\n",
       "      <th>ramdomthoughts</th>\n",
       "      <td>216</td>\n",
       "    </tr>\n",
       "    <tr>\n",
       "      <th>shanajaca</th>\n",
       "      <td>213</td>\n",
       "    </tr>\n",
       "    <tr>\n",
       "      <th>wowlew</th>\n",
       "      <td>212</td>\n",
       "    </tr>\n",
       "    <tr>\n",
       "      <th>nuttychris</th>\n",
       "      <td>211</td>\n",
       "    </tr>\n",
       "    <tr>\n",
       "      <th>TraceyHewins</th>\n",
       "      <td>211</td>\n",
       "    </tr>\n",
       "    <tr>\n",
       "      <th>thisgoeshere</th>\n",
       "      <td>207</td>\n",
       "    </tr>\n",
       "    <tr>\n",
       "      <th>Spidersamm</th>\n",
       "      <td>205</td>\n",
       "    </tr>\n",
       "    <tr>\n",
       "      <th>StDAY</th>\n",
       "      <td>202</td>\n",
       "    </tr>\n",
       "    <tr>\n",
       "      <th>felicityfuller</th>\n",
       "      <td>195</td>\n",
       "    </tr>\n",
       "    <tr>\n",
       "      <th>Dogbook</th>\n",
       "      <td>192</td>\n",
       "    </tr>\n",
       "    <tr>\n",
       "      <th>_magic8ball</th>\n",
       "      <td>189</td>\n",
       "    </tr>\n",
       "    <tr>\n",
       "      <th>Djalfy</th>\n",
       "      <td>182</td>\n",
       "    </tr>\n",
       "    <tr>\n",
       "      <th>torilovesbradie</th>\n",
       "      <td>182</td>\n",
       "    </tr>\n",
       "    <tr>\n",
       "      <th>Dutchrudder</th>\n",
       "      <td>181</td>\n",
       "    </tr>\n",
       "    <tr>\n",
       "      <th>Quimo</th>\n",
       "      <td>180</td>\n",
       "    </tr>\n",
       "    <tr>\n",
       "      <th>twebbstack</th>\n",
       "      <td>180</td>\n",
       "    </tr>\n",
       "    <tr>\n",
       "      <th>enamoredsoul</th>\n",
       "      <td>179</td>\n",
       "    </tr>\n",
       "  </tbody>\n",
       "</table>\n",
       "</div>"
      ],
      "text/plain": [
       "                 vcount\n",
       "user                   \n",
       "lost_dog            549\n",
       "webwoke             345\n",
       "tweetpet            310\n",
       "SallytheShizzle     281\n",
       "VioletsCRUK         279\n",
       "mcraddictal         276\n",
       "tsarnick            248\n",
       "what_bugs_u         246\n",
       "Karen230683         238\n",
       "DarkPiano           236\n",
       "SongoftheOss        227\n",
       "Jayme1988           225\n",
       "keza34              219\n",
       "ramdomthoughts      216\n",
       "shanajaca           213\n",
       "wowlew              212\n",
       "nuttychris          211\n",
       "TraceyHewins        211\n",
       "thisgoeshere        207\n",
       "Spidersamm          205\n",
       "StDAY               202\n",
       "felicityfuller      195\n",
       "Dogbook             192\n",
       "_magic8ball         189\n",
       "Djalfy              182\n",
       "torilovesbradie     182\n",
       "Dutchrudder         181\n",
       "Quimo               180\n",
       "twebbstack          180\n",
       "enamoredsoul        179"
      ]
     },
     "execution_count": 35,
     "metadata": {},
     "output_type": "execute_result"
    },
    {
     "data": {
      "text/plain": [
       "count   254498.00000\n",
       "mean         4.69443\n",
       "std          7.01059\n",
       "min          2.00000\n",
       "25%          2.00000\n",
       "50%          3.00000\n",
       "75%          5.00000\n",
       "max        549.00000\n",
       "Name: vcount, dtype: float64"
      ]
     },
     "execution_count": 35,
     "metadata": {},
     "output_type": "execute_result"
    },
    {
     "data": {
      "text/plain": [
       "659775"
      ]
     },
     "execution_count": 35,
     "metadata": {},
     "output_type": "execute_result"
    },
    {
     "name": "stdout",
     "output_type": "stream",
     "text": [
      "# days in period data:  80\n",
      "\n",
      " mean tweets per day is:  19999.9875\n"
     ]
    }
   ],
   "source": [
    "user_tweet_freq = data.groupby('user').agg(vcount = ('id','count')).sort_values(by=\"vcount\", ascending=False)\n",
    "\n",
    "user_tweet_freq.head(30)\n",
    "user_tweet_freq[user_tweet_freq.vcount >= 2].vcount.describe()\n",
    "\n",
    "user_tweet_freq.shape[0] # users\n",
    "\n",
    "oldest = min(data.tw_day)\n",
    "newest = max(data.tw_day)\n",
    "\n",
    "dateper = (newest - oldest).days\n",
    "\n",
    "print(f\"# days in period data: \", dateper)\n",
    "\n",
    "print(\"\\n mean tweets per day is: \", user_tweet_freq.vcount.sum() / dateper)"
   ]
  },
  {
   "cell_type": "code",
   "execution_count": 36,
   "metadata": {
    "colab": {
     "base_uri": "https://localhost:8080/",
     "height": 812
    },
    "executionInfo": {
     "elapsed": 274461,
     "status": "ok",
     "timestamp": 1604553828067,
     "user": {
      "displayName": "Vishal Arya",
      "photoUrl": "",
      "userId": "05630331593287898441"
     },
     "user_tz": 300
    },
    "id": "Zp-Ei9ilHeFC",
    "outputId": "71663e85-877e-412d-ccd0-500f0c694dbc"
   },
   "outputs": [
    {
     "data": {
      "text/plain": [
       "<matplotlib.axes._subplots.AxesSubplot at 0x7fa2239eb1f0>"
      ]
     },
     "execution_count": 36,
     "metadata": {},
     "output_type": "execute_result"
    },
    {
     "data": {
      "image/png": "[encoded data removed]",
      "text/plain": [
       "<Figure size 432x288 with 1 Axes>"
      ]
     },
     "execution_count": 36,
     "metadata": {},
     "output_type": "execute_result"
    },
    {
     "data": {
      "image/png": "[encoded data removed]",
      "text/plain": [
       "<Figure size 432x288 with 1 Axes>"
      ]
     },
     "metadata": {
      "needs_background": "light"
     },
     "output_type": "display_data"
    },
    {
     "data": {
      "image/png": "[encoded data removed]",
      "text/plain": [
       "<Figure size 432x288 with 1 Axes>"
      ]
     },
     "metadata": {
      "needs_background": "light"
     },
     "output_type": "display_data"
    }
   ],
   "source": [
    "twperday = data.groupby('tw_day').agg(vcount = ('id','count'))\n",
    "\n",
    "twperday.plot.hist()\n",
    "\n",
    "plot_acf(twperday.vcount, lags=20) #clear indication of trend and looks like some periodicitity at lag = 7 --> weekly"
   ]
  },
  {
   "cell_type": "code",
   "execution_count": 37,
   "metadata": {
    "colab": {
     "base_uri": "https://localhost:8080/"
    },
    "executionInfo": {
     "elapsed": 275837,
     "status": "ok",
     "timestamp": 1604553829453,
     "user": {
      "displayName": "Vishal Arya",
      "photoUrl": "",
      "userId": "05630331593287898441"
     },
     "user_tz": 300
    },
    "id": "8xpfxPMlONaa",
    "outputId": "5967fcea-4766-4118-f82e-6d0db402f25b"
   },
   "outputs": [
    {
     "data": {
      "text/plain": [
       "count      1599999\n",
       "unique       86386\n",
       "top       07:29:48\n",
       "freq            66\n",
       "Name: tw_time, dtype: object"
      ]
     },
     "execution_count": 37,
     "metadata": {},
     "output_type": "execute_result"
    },
    {
     "name": "stdout",
     "output_type": "stream",
     "text": [
      "\n",
      "\n"
     ]
    },
    {
     "data": {
      "text/plain": [
       "datetime.time(0, 0)"
      ]
     },
     "execution_count": 37,
     "metadata": {},
     "output_type": "execute_result"
    },
    {
     "name": "stdout",
     "output_type": "stream",
     "text": [
      "\n",
      "\n"
     ]
    },
    {
     "data": {
      "text/plain": [
       "datetime.time(23, 59, 59)"
      ]
     },
     "execution_count": 37,
     "metadata": {},
     "output_type": "execute_result"
    },
    {
     "name": "stderr",
     "output_type": "stream",
     "text": [
      "<ipython-input-37-49c72c71dee6>:10: SettingWithCopyWarning:\n",
      "\n",
      "\n",
      "A value is trying to be set on a copy of a slice from a DataFrame.\n",
      "Try using .loc[row_indexer,col_indexer] = value instead\n",
      "\n",
      "See the caveats in the documentation: https://pandas.pydata.org/pandas-docs/stable/user_guide/indexing.html#returning-a-view-versus-a-copy\n",
      "\n"
     ]
    }
   ],
   "source": [
    "## explore tweeting times\n",
    "\n",
    "data.tw_time.describe()\n",
    "v()\n",
    "min(data.tw_time)\n",
    "v()\n",
    "max(data.tw_time) #he tweets 24 hrs a day\n",
    "\n",
    "# add hour\n",
    "data['hour'] = data.tw_time.apply(lambda x: x.hour)\n",
    "\n",
    "twtime = data.groupby('hour').agg(vc = ('id','count'))\n"
   ]
  },
  {
   "cell_type": "code",
   "execution_count": 38,
   "metadata": {
    "colab": {
     "base_uri": "https://localhost:8080/",
     "height": 591
    },
    "executionInfo": {
     "elapsed": 276107,
     "status": "ok",
     "timestamp": 1604553829733,
     "user": {
      "displayName": "Vishal Arya",
      "photoUrl": "",
      "userId": "05630331593287898441"
     },
     "user_tz": 300
    },
    "id": "rtboI7loPOk6",
    "outputId": "c5b12ba8-f6dc-4d1e-e5d4-7e87dce5e98e"
   },
   "outputs": [
    {
     "data": {
      "image/png": "[encoded data removed]",
      "text/plain": [
       "<Figure size 720x720 with 1 Axes>"
      ]
     },
     "metadata": {
      "needs_background": "light"
     },
     "output_type": "display_data"
    }
   ],
   "source": [
    "plt.figure(figsize=(10,10))\n",
    "plt.plot(twtime.index,twtime.vc)\n",
    "plt.ylabel(\"# tweets\")\n",
    "plt.xticks(twtime.index)\n",
    "clear_output() \n",
    "\n",
    "#tweet peaks around 12-1pm, significant late night tweeting between 2-3AM and late night 10-11PM\n",
    "#suspect he's asleep 4-8AM\n",
    "\n",
    "##meaningless analysis since not normalized for specific time region"
   ]
  },
  {
   "cell_type": "code",
   "execution_count": null,
   "metadata": {
    "colab": {
     "base_uri": "https://localhost:8080/",
     "height": 322
    },
    "executionInfo": {
     "elapsed": 276376,
     "status": "ok",
     "timestamp": 1604553830012,
     "user": {
      "displayName": "Vishal Arya",
      "photoUrl": "",
      "userId": "05630331593287898441"
     },
     "user_tz": 300
    },
    "id": "jnKL8a1z3yEc",
    "outputId": "15351506-e8f9-4077-e7a0-4ff81d693b28"
   },
   "outputs": [
    {
     "data": {
      "text/plain": [
       "<matplotlib.axes._subplots.AxesSubplot at 0x7f40606d2430>"
      ]
     },
     "execution_count": 16,
     "metadata": {
      "tags": []
     },
     "output_type": "execute_result"
    },
    {
     "name": "stdout",
     "output_type": "stream",
     "text": [
      "\n",
      "\n"
     ]
    },
    {
     "data": {
      "text/plain": [
       "array([0, 4])"
      ]
     },
     "execution_count": 16,
     "metadata": {
      "tags": []
     },
     "output_type": "execute_result"
    },
    {
     "data": {
      "image/png": "[encoded data removed]",
      "text/plain": [
       "<Figure size 432x288 with 1 Axes>"
      ]
     },
     "metadata": {
      "needs_background": "light",
      "tags": []
     },
     "output_type": "display_data"
    }
   ],
   "source": [
    "data.target.plot.hist()\n",
    "v()\n",
    "data.target.unique() ##this data ONLY contains negative and positive tweets\n"
   ]
  },
  {
   "cell_type": "code",
   "execution_count": 39,
   "metadata": {
    "id": "NbNZ4wVyZM23"
   },
   "outputs": [],
   "source": [
    "#unique words eda\n",
    "\n",
    "stops =  set(stopwords.words('english')+['com'])\n",
    "co = CountVectorizer(stop_words=stops)\n",
    "counts = co.fit_transform(data.text)\n",
    "\n",
    "df_words = pd.DataFrame(counts.sum(axis=0),columns=co.get_feature_names()).T.sort_values(0,ascending=False)\n"
   ]
  },
  {
   "cell_type": "code",
   "execution_count": 40,
   "metadata": {
    "colab": {
     "base_uri": "https://localhost:8080/"
    },
    "executionInfo": {
     "elapsed": 306430,
     "status": "ok",
     "timestamp": 1604553860079,
     "user": {
      "displayName": "Vishal Arya",
      "photoUrl": "",
      "userId": "05630331593287898441"
     },
     "user_tz": 300
    },
    "id": "huAUk_LBbYq_",
    "outputId": "5a603515-6673-4a36-f961-c02daef66802"
   },
   "outputs": [
    {
     "data": {
      "text/plain": [
       "(686634, 1)"
      ]
     },
     "execution_count": 40,
     "metadata": {},
     "output_type": "execute_result"
    }
   ],
   "source": [
    "df_words.shape #686k unique words\n",
    "\n",
    "df_words.rename(columns={0: 'vcount'}, inplace=True)\n",
    "\n"
   ]
  },
  {
   "cell_type": "code",
   "execution_count": 41,
   "metadata": {
    "colab": {
     "base_uri": "https://localhost:8080/",
     "height": 281
    },
    "executionInfo": {
     "elapsed": 306420,
     "status": "ok",
     "timestamp": 1604553860080,
     "user": {
      "displayName": "Vishal Arya",
      "photoUrl": "",
      "userId": "05630331593287898441"
     },
     "user_tz": 300
    },
    "id": "JwvJlAnLduNI",
    "outputId": "e8e83ae8-ee16-4c89-b399-904ccbddf708"
   },
   "outputs": [
    {
     "data": {
      "text/html": [
       "<div>\n",
       "<style scoped>\n",
       "    .dataframe tbody tr th:only-of-type {\n",
       "        vertical-align: middle;\n",
       "    }\n",
       "\n",
       "    .dataframe tbody tr th {\n",
       "        vertical-align: top;\n",
       "    }\n",
       "\n",
       "    .dataframe thead th {\n",
       "        text-align: right;\n",
       "    }\n",
       "</style>\n",
       "<table border=\"1\" class=\"dataframe\">\n",
       "  <thead>\n",
       "    <tr style=\"text-align: right;\">\n",
       "      <th></th>\n",
       "      <th>vcount</th>\n",
       "    </tr>\n",
       "  </thead>\n",
       "  <tbody>\n",
       "    <tr>\n",
       "      <th>count</th>\n",
       "      <td>10000.00000</td>\n",
       "    </tr>\n",
       "    <tr>\n",
       "      <th>mean</th>\n",
       "      <td>1028.79710</td>\n",
       "    </tr>\n",
       "    <tr>\n",
       "      <th>std</th>\n",
       "      <td>4062.55795</td>\n",
       "    </tr>\n",
       "    <tr>\n",
       "      <th>min</th>\n",
       "      <td>78.00000</td>\n",
       "    </tr>\n",
       "    <tr>\n",
       "      <th>25%</th>\n",
       "      <td>120.00000</td>\n",
       "    </tr>\n",
       "    <tr>\n",
       "      <th>50%</th>\n",
       "      <td>211.00000</td>\n",
       "    </tr>\n",
       "    <tr>\n",
       "      <th>75%</th>\n",
       "      <td>546.00000</td>\n",
       "    </tr>\n",
       "    <tr>\n",
       "      <th>max</th>\n",
       "      <td>91332.00000</td>\n",
       "    </tr>\n",
       "  </tbody>\n",
       "</table>\n",
       "</div>"
      ],
      "text/plain": [
       "           vcount\n",
       "count 10000.00000\n",
       "mean   1028.79710\n",
       "std    4062.55795\n",
       "min      78.00000\n",
       "25%     120.00000\n",
       "50%     211.00000\n",
       "75%     546.00000\n",
       "max   91332.00000"
      ]
     },
     "execution_count": 41,
     "metadata": {},
     "output_type": "execute_result"
    }
   ],
   "source": [
    "df_words.head(10000).describe() #mean top 10k words appears 1028 times in all tweets"
   ]
  },
  {
   "cell_type": "code",
   "execution_count": 42,
   "metadata": {
    "colab": {
     "base_uri": "https://localhost:8080/",
     "height": 687
    },
    "executionInfo": {
     "elapsed": 306552,
     "status": "ok",
     "timestamp": 1604553860223,
     "user": {
      "displayName": "Vishal Arya",
      "photoUrl": "",
      "userId": "05630331593287898441"
     },
     "user_tz": 300
    },
    "id": "iBj7P7o9dROA",
    "outputId": "003db4fe-1fc0-4afa-8068-9e3baaeaa202"
   },
   "outputs": [
    {
     "data": {
      "text/plain": [
       "<Figure size 2160x720 with 0 Axes>"
      ]
     },
     "execution_count": 42,
     "metadata": {},
     "output_type": "execute_result"
    },
    {
     "data": {
      "text/plain": [
       "<matplotlib.axes._subplots.AxesSubplot at 0x7fa223abe4c0>"
      ]
     },
     "execution_count": 42,
     "metadata": {},
     "output_type": "execute_result"
    },
    {
     "data": {
      "text/plain": [
       "([<matplotlib.axis.XTick at 0x7fa21d004670>,\n",
       "  <matplotlib.axis.XTick at 0x7fa21d004640>,\n",
       "  <matplotlib.axis.XTick at 0x7fa21d00aa00>,\n",
       "  <matplotlib.axis.XTick at 0x7fa21d00da60>],\n",
       " <a list of 4 Text major ticklabel objects>)"
      ]
     },
     "execution_count": 42,
     "metadata": {},
     "output_type": "execute_result"
    },
    {
     "data": {
      "image/png": "[encoded data removed]",
      "text/plain": [
       "<Figure size 2160x720 with 1 Axes>"
      ]
     },
     "metadata": {
      "needs_background": "light"
     },
     "output_type": "display_data"
    }
   ],
   "source": [
    "binlist = [10,75,250,600]\n",
    "binwidth = 100\n",
    "\n",
    "plt.figure(figsize=[30,10])\n",
    "df_words.vcount.plot.hist(bins=binlist)\n",
    "plt.xticks(binlist)"
   ]
  },
  {
   "cell_type": "code",
   "execution_count": 49,
   "metadata": {},
   "outputs": [
    {
     "name": "stderr",
     "output_type": "stream",
     "text": [
      "<ipython-input-49-a661141992f3>:1: SettingWithCopyWarning:\n",
      "\n",
      "\n",
      "A value is trying to be set on a copy of a slice from a DataFrame.\n",
      "Try using .loc[row_indexer,col_indexer] = value instead\n",
      "\n",
      "See the caveats in the documentation: https://pandas.pydata.org/pandas-docs/stable/user_guide/indexing.html#returning-a-view-versus-a-copy\n",
      "\n"
     ]
    }
   ],
   "source": [
    "data['hashcount'] = data.text.apply(lambda x: x.count('@') + x.count('#') )"
   ]
  },
  {
   "cell_type": "code",
   "execution_count": 51,
   "metadata": {},
   "outputs": [
    {
     "data": {
      "text/plain": [
       "count   1599999.00000\n",
       "mean          0.52754\n",
       "std           0.64063\n",
       "min           0.00000\n",
       "25%           0.00000\n",
       "50%           0.00000\n",
       "75%           1.00000\n",
       "max          59.00000\n",
       "Name: hashcount, dtype: float64"
      ]
     },
     "execution_count": 51,
     "metadata": {},
     "output_type": "execute_result"
    }
   ],
   "source": [
    "data.hashcount.describe() #75% tweets have less than 1 hashtag"
   ]
  },
  {
   "cell_type": "code",
   "execution_count": 8,
   "metadata": {},
   "outputs": [
    {
     "data": {
      "text/html": [
       "<div>\n",
       "<style scoped>\n",
       "    .dataframe tbody tr th:only-of-type {\n",
       "        vertical-align: middle;\n",
       "    }\n",
       "\n",
       "    .dataframe tbody tr th {\n",
       "        vertical-align: top;\n",
       "    }\n",
       "\n",
       "    .dataframe thead th {\n",
       "        text-align: right;\n",
       "    }\n",
       "</style>\n",
       "<table border=\"1\" class=\"dataframe\">\n",
       "  <thead>\n",
       "    <tr style=\"text-align: right;\">\n",
       "      <th></th>\n",
       "      <th>target</th>\n",
       "      <th>id</th>\n",
       "      <th>date</th>\n",
       "      <th>flag</th>\n",
       "      <th>user</th>\n",
       "      <th>text</th>\n",
       "      <th>twlength</th>\n",
       "    </tr>\n",
       "  </thead>\n",
       "  <tbody>\n",
       "    <tr>\n",
       "      <th>0</th>\n",
       "      <td>0</td>\n",
       "      <td>1467810369</td>\n",
       "      <td>Mon Apr 06 22:19:45 PDT 2009</td>\n",
       "      <td>NO_QUERY</td>\n",
       "      <td>_TheSpecialOne_</td>\n",
       "      <td>@switchfoot http://twitpic.com/2y1zl - Awww, t...</td>\n",
       "      <td>115</td>\n",
       "    </tr>\n",
       "    <tr>\n",
       "      <th>1</th>\n",
       "      <td>0</td>\n",
       "      <td>1467810672</td>\n",
       "      <td>Mon Apr 06 22:19:49 PDT 2009</td>\n",
       "      <td>NO_QUERY</td>\n",
       "      <td>scotthamilton</td>\n",
       "      <td>is upset that he can't update his Facebook by ...</td>\n",
       "      <td>111</td>\n",
       "    </tr>\n",
       "    <tr>\n",
       "      <th>2</th>\n",
       "      <td>0</td>\n",
       "      <td>1467810917</td>\n",
       "      <td>Mon Apr 06 22:19:53 PDT 2009</td>\n",
       "      <td>NO_QUERY</td>\n",
       "      <td>mattycus</td>\n",
       "      <td>@Kenichan I dived many times for the ball. Man...</td>\n",
       "      <td>89</td>\n",
       "    </tr>\n",
       "    <tr>\n",
       "      <th>3</th>\n",
       "      <td>0</td>\n",
       "      <td>1467811184</td>\n",
       "      <td>Mon Apr 06 22:19:57 PDT 2009</td>\n",
       "      <td>NO_QUERY</td>\n",
       "      <td>ElleCTF</td>\n",
       "      <td>my whole body feels itchy and like its on fire</td>\n",
       "      <td>47</td>\n",
       "    </tr>\n",
       "    <tr>\n",
       "      <th>4</th>\n",
       "      <td>0</td>\n",
       "      <td>1467811193</td>\n",
       "      <td>Mon Apr 06 22:19:57 PDT 2009</td>\n",
       "      <td>NO_QUERY</td>\n",
       "      <td>Karoli</td>\n",
       "      <td>@nationwideclass no, it's not behaving at all....</td>\n",
       "      <td>111</td>\n",
       "    </tr>\n",
       "    <tr>\n",
       "      <th>...</th>\n",
       "      <td>...</td>\n",
       "      <td>...</td>\n",
       "      <td>...</td>\n",
       "      <td>...</td>\n",
       "      <td>...</td>\n",
       "      <td>...</td>\n",
       "      <td>...</td>\n",
       "    </tr>\n",
       "    <tr>\n",
       "      <th>1599995</th>\n",
       "      <td>4</td>\n",
       "      <td>2193601966</td>\n",
       "      <td>Tue Jun 16 08:40:49 PDT 2009</td>\n",
       "      <td>NO_QUERY</td>\n",
       "      <td>AmandaMarie1028</td>\n",
       "      <td>Just woke up. Having no school is the best fee...</td>\n",
       "      <td>56</td>\n",
       "    </tr>\n",
       "    <tr>\n",
       "      <th>1599996</th>\n",
       "      <td>4</td>\n",
       "      <td>2193601969</td>\n",
       "      <td>Tue Jun 16 08:40:49 PDT 2009</td>\n",
       "      <td>NO_QUERY</td>\n",
       "      <td>TheWDBoards</td>\n",
       "      <td>TheWDB.com - Very cool to hear old Walt interv...</td>\n",
       "      <td>76</td>\n",
       "    </tr>\n",
       "    <tr>\n",
       "      <th>1599997</th>\n",
       "      <td>4</td>\n",
       "      <td>2193601991</td>\n",
       "      <td>Tue Jun 16 08:40:49 PDT 2009</td>\n",
       "      <td>NO_QUERY</td>\n",
       "      <td>bpbabe</td>\n",
       "      <td>Are you ready for your MoJo Makeover? Ask me f...</td>\n",
       "      <td>57</td>\n",
       "    </tr>\n",
       "    <tr>\n",
       "      <th>1599998</th>\n",
       "      <td>4</td>\n",
       "      <td>2193602064</td>\n",
       "      <td>Tue Jun 16 08:40:49 PDT 2009</td>\n",
       "      <td>NO_QUERY</td>\n",
       "      <td>tinydiamondz</td>\n",
       "      <td>Happy 38th Birthday to my boo of alll time!!! ...</td>\n",
       "      <td>65</td>\n",
       "    </tr>\n",
       "    <tr>\n",
       "      <th>1599999</th>\n",
       "      <td>4</td>\n",
       "      <td>2193602129</td>\n",
       "      <td>Tue Jun 16 08:40:50 PDT 2009</td>\n",
       "      <td>NO_QUERY</td>\n",
       "      <td>RyanTrevMorris</td>\n",
       "      <td>happy #charitytuesday @theNSPCC @SparksCharity...</td>\n",
       "      <td>62</td>\n",
       "    </tr>\n",
       "  </tbody>\n",
       "</table>\n",
       "<p>1600000 rows × 7 columns</p>\n",
       "</div>"
      ],
      "text/plain": [
       "         target          id                          date      flag  \\\n",
       "0             0  1467810369  Mon Apr 06 22:19:45 PDT 2009  NO_QUERY   \n",
       "1             0  1467810672  Mon Apr 06 22:19:49 PDT 2009  NO_QUERY   \n",
       "2             0  1467810917  Mon Apr 06 22:19:53 PDT 2009  NO_QUERY   \n",
       "3             0  1467811184  Mon Apr 06 22:19:57 PDT 2009  NO_QUERY   \n",
       "4             0  1467811193  Mon Apr 06 22:19:57 PDT 2009  NO_QUERY   \n",
       "...         ...         ...                           ...       ...   \n",
       "1599995       4  2193601966  Tue Jun 16 08:40:49 PDT 2009  NO_QUERY   \n",
       "1599996       4  2193601969  Tue Jun 16 08:40:49 PDT 2009  NO_QUERY   \n",
       "1599997       4  2193601991  Tue Jun 16 08:40:49 PDT 2009  NO_QUERY   \n",
       "1599998       4  2193602064  Tue Jun 16 08:40:49 PDT 2009  NO_QUERY   \n",
       "1599999       4  2193602129  Tue Jun 16 08:40:50 PDT 2009  NO_QUERY   \n",
       "\n",
       "                    user                                               text  \\\n",
       "0        _TheSpecialOne_  @switchfoot http://twitpic.com/2y1zl - Awww, t...   \n",
       "1          scotthamilton  is upset that he can't update his Facebook by ...   \n",
       "2               mattycus  @Kenichan I dived many times for the ball. Man...   \n",
       "3                ElleCTF    my whole body feels itchy and like its on fire    \n",
       "4                 Karoli  @nationwideclass no, it's not behaving at all....   \n",
       "...                  ...                                                ...   \n",
       "1599995  AmandaMarie1028  Just woke up. Having no school is the best fee...   \n",
       "1599996      TheWDBoards  TheWDB.com - Very cool to hear old Walt interv...   \n",
       "1599997           bpbabe  Are you ready for your MoJo Makeover? Ask me f...   \n",
       "1599998     tinydiamondz  Happy 38th Birthday to my boo of alll time!!! ...   \n",
       "1599999   RyanTrevMorris  happy #charitytuesday @theNSPCC @SparksCharity...   \n",
       "\n",
       "         twlength  \n",
       "0             115  \n",
       "1             111  \n",
       "2              89  \n",
       "3              47  \n",
       "4             111  \n",
       "...           ...  \n",
       "1599995        56  \n",
       "1599996        76  \n",
       "1599997        57  \n",
       "1599998        65  \n",
       "1599999        62  \n",
       "\n",
       "[1600000 rows x 7 columns]"
      ]
     },
     "execution_count": 8,
     "metadata": {},
     "output_type": "execute_result"
    }
   ],
   "source": [
    "data"
   ]
  },
  {
   "cell_type": "code",
   "execution_count": 16,
   "metadata": {},
   "outputs": [],
   "source": [
    "data_tfidf = data[data.twlength > 70] #only look at top 50% tweets by length"
   ]
  },
  {
   "cell_type": "code",
   "execution_count": 28,
   "metadata": {},
   "outputs": [
    {
     "data": {
      "text/plain": [
       "(781297, 7)"
      ]
     },
     "execution_count": 28,
     "metadata": {},
     "output_type": "execute_result"
    }
   ],
   "source": [
    "data_tfidf.shape"
   ]
  },
  {
   "cell_type": "code",
   "execution_count": 60,
   "metadata": {},
   "outputs": [
    {
     "data": {
      "text/html": [
       "<div>\n",
       "<style scoped>\n",
       "    .dataframe tbody tr th:only-of-type {\n",
       "        vertical-align: middle;\n",
       "    }\n",
       "\n",
       "    .dataframe tbody tr th {\n",
       "        vertical-align: top;\n",
       "    }\n",
       "\n",
       "    .dataframe thead th {\n",
       "        text-align: right;\n",
       "    }\n",
       "</style>\n",
       "<table border=\"1\" class=\"dataframe\">\n",
       "  <thead>\n",
       "    <tr style=\"text-align: right;\">\n",
       "      <th></th>\n",
       "      <th>term</th>\n",
       "      <th>rank</th>\n",
       "    </tr>\n",
       "  </thead>\n",
       "  <tbody>\n",
       "    <tr>\n",
       "      <th>113</th>\n",
       "      <td>twitpic com</td>\n",
       "      <td>8066.54882</td>\n",
       "    </tr>\n",
       "    <tr>\n",
       "      <th>58</th>\n",
       "      <td>http twitpic</td>\n",
       "      <td>7995.57614</td>\n",
       "    </tr>\n",
       "    <tr>\n",
       "      <th>5</th>\n",
       "      <td>bit ly</td>\n",
       "      <td>6170.14927</td>\n",
       "    </tr>\n",
       "    <tr>\n",
       "      <th>67</th>\n",
       "      <td>just got</td>\n",
       "      <td>6155.96056</td>\n",
       "    </tr>\n",
       "    <tr>\n",
       "      <th>50</th>\n",
       "      <td>http bit</td>\n",
       "      <td>6120.00209</td>\n",
       "    </tr>\n",
       "    <tr>\n",
       "      <th>14</th>\n",
       "      <td>don know</td>\n",
       "      <td>4568.86706</td>\n",
       "    </tr>\n",
       "    <tr>\n",
       "      <th>36</th>\n",
       "      <td>good morning</td>\n",
       "      <td>4040.50952</td>\n",
       "    </tr>\n",
       "    <tr>\n",
       "      <th>26</th>\n",
       "      <td>feel like</td>\n",
       "      <td>3953.07126</td>\n",
       "    </tr>\n",
       "    <tr>\n",
       "      <th>81</th>\n",
       "      <td>looking forward</td>\n",
       "      <td>3703.28416</td>\n",
       "    </tr>\n",
       "    <tr>\n",
       "      <th>108</th>\n",
       "      <td>tinyurl com</td>\n",
       "      <td>3679.51898</td>\n",
       "    </tr>\n",
       "    <tr>\n",
       "      <th>55</th>\n",
       "      <td>http tinyurl</td>\n",
       "      <td>3647.92427</td>\n",
       "    </tr>\n",
       "    <tr>\n",
       "      <th>82</th>\n",
       "      <td>looks like</td>\n",
       "      <td>3640.62970</td>\n",
       "    </tr>\n",
       "    <tr>\n",
       "      <th>59</th>\n",
       "      <td>http www</td>\n",
       "      <td>3498.91891</td>\n",
       "    </tr>\n",
       "    <tr>\n",
       "      <th>74</th>\n",
       "      <td>let know</td>\n",
       "      <td>2655.88449</td>\n",
       "    </tr>\n",
       "    <tr>\n",
       "      <th>35</th>\n",
       "      <td>good luck</td>\n",
       "      <td>2618.01470</td>\n",
       "    </tr>\n",
       "    <tr>\n",
       "      <th>16</th>\n",
       "      <td>don think</td>\n",
       "      <td>2576.72367</td>\n",
       "    </tr>\n",
       "    <tr>\n",
       "      <th>18</th>\n",
       "      <td>don want</td>\n",
       "      <td>2559.47553</td>\n",
       "    </tr>\n",
       "    <tr>\n",
       "      <th>115</th>\n",
       "      <td>ve got</td>\n",
       "      <td>2542.38720</td>\n",
       "    </tr>\n",
       "    <tr>\n",
       "      <th>29</th>\n",
       "      <td>getting ready</td>\n",
       "      <td>2438.13496</td>\n",
       "    </tr>\n",
       "    <tr>\n",
       "      <th>96</th>\n",
       "      <td>quot quot</td>\n",
       "      <td>2316.35950</td>\n",
       "    </tr>\n",
       "  </tbody>\n",
       "</table>\n",
       "</div>"
      ],
      "text/plain": [
       "                term       rank\n",
       "113      twitpic com 8066.54882\n",
       "58      http twitpic 7995.57614\n",
       "5             bit ly 6170.14927\n",
       "67          just got 6155.96056\n",
       "50          http bit 6120.00209\n",
       "14          don know 4568.86706\n",
       "36      good morning 4040.50952\n",
       "26         feel like 3953.07126\n",
       "81   looking forward 3703.28416\n",
       "108      tinyurl com 3679.51898\n",
       "55      http tinyurl 3647.92427\n",
       "82        looks like 3640.62970\n",
       "59          http www 3498.91891\n",
       "74          let know 2655.88449\n",
       "35         good luck 2618.01470\n",
       "16         don think 2576.72367\n",
       "18          don want 2559.47553\n",
       "115           ve got 2542.38720\n",
       "29     getting ready 2438.13496\n",
       "96         quot quot 2316.35950"
      ]
     },
     "execution_count": 60,
     "metadata": {},
     "output_type": "execute_result"
    }
   ],
   "source": [
    "## BI-gram tf/idf analysis\n",
    "\n",
    "tfidf = TfidfVectorizer(analyzer=\"word\", stop_words = 'english', ngram_range=(2,2), min_df=.001)\n",
    "counts = tfidf.fit_transform(data_tfidf.text)\n",
    "\n",
    "\n",
    "feature_names = tfidf.get_feature_names()\n",
    "\n",
    "sums = counts.sum(axis = 0) \n",
    "data1 = [] \n",
    "for col, term in enumerate(feature_names): \n",
    "    data1.append( (term, sums[0,col] )) \n",
    "ranking = pd.DataFrame(data1, columns = ['term','rank']) \n",
    "words = (ranking.sort_values('rank', ascending = False)) \n",
    "\n",
    "words.head(20)\n",
    "#tf-idf top 20 by tf-idf score in top 50 data\n",
    "\n",
    "bigram_top20 = words.head(20).iloc[:,1].sum()\n"
   ]
  },
  {
   "cell_type": "code",
   "execution_count": 62,
   "metadata": {},
   "outputs": [
    {
     "data": {
      "text/html": [
       "<div>\n",
       "<style scoped>\n",
       "    .dataframe tbody tr th:only-of-type {\n",
       "        vertical-align: middle;\n",
       "    }\n",
       "\n",
       "    .dataframe tbody tr th {\n",
       "        vertical-align: top;\n",
       "    }\n",
       "\n",
       "    .dataframe thead th {\n",
       "        text-align: right;\n",
       "    }\n",
       "</style>\n",
       "<table border=\"1\" class=\"dataframe\">\n",
       "  <thead>\n",
       "    <tr style=\"text-align: right;\">\n",
       "      <th></th>\n",
       "      <th>term</th>\n",
       "      <th>rank</th>\n",
       "    </tr>\n",
       "  </thead>\n",
       "  <tbody>\n",
       "    <tr>\n",
       "      <th>11</th>\n",
       "      <td>http twitpic com</td>\n",
       "      <td>11620.54001</td>\n",
       "    </tr>\n",
       "    <tr>\n",
       "      <th>5</th>\n",
       "      <td>http bit ly</td>\n",
       "      <td>8876.39631</td>\n",
       "    </tr>\n",
       "    <tr>\n",
       "      <th>8</th>\n",
       "      <td>http tinyurl com</td>\n",
       "      <td>5261.76157</td>\n",
       "    </tr>\n",
       "    <tr>\n",
       "      <th>7</th>\n",
       "      <td>http plurk com</td>\n",
       "      <td>2813.69847</td>\n",
       "    </tr>\n",
       "    <tr>\n",
       "      <th>6</th>\n",
       "      <td>http blip fm</td>\n",
       "      <td>1883.65260</td>\n",
       "    </tr>\n",
       "    <tr>\n",
       "      <th>12</th>\n",
       "      <td>just got home</td>\n",
       "      <td>1428.57018</td>\n",
       "    </tr>\n",
       "    <tr>\n",
       "      <th>10</th>\n",
       "      <td>http tumblr com</td>\n",
       "      <td>1022.00000</td>\n",
       "    </tr>\n",
       "    <tr>\n",
       "      <th>9</th>\n",
       "      <td>http tr im</td>\n",
       "      <td>826.09248</td>\n",
       "    </tr>\n",
       "    <tr>\n",
       "      <th>0</th>\n",
       "      <td>100 followers day</td>\n",
       "      <td>539.17343</td>\n",
       "    </tr>\n",
       "    <tr>\n",
       "      <th>1</th>\n",
       "      <td>add train pay</td>\n",
       "      <td>536.32240</td>\n",
       "    </tr>\n",
       "    <tr>\n",
       "      <th>4</th>\n",
       "      <td>followers day using</td>\n",
       "      <td>536.32240</td>\n",
       "    </tr>\n",
       "    <tr>\n",
       "      <th>3</th>\n",
       "      <td>day using www</td>\n",
       "      <td>536.32240</td>\n",
       "    </tr>\n",
       "    <tr>\n",
       "      <th>2</th>\n",
       "      <td>com add train</td>\n",
       "      <td>536.32240</td>\n",
       "    </tr>\n",
       "    <tr>\n",
       "      <th>13</th>\n",
       "      <td>train pay vip</td>\n",
       "      <td>536.32240</td>\n",
       "    </tr>\n",
       "    <tr>\n",
       "      <th>14</th>\n",
       "      <td>tweeteradder com add</td>\n",
       "      <td>290.83485</td>\n",
       "    </tr>\n",
       "    <tr>\n",
       "      <th>15</th>\n",
       "      <td>using www tweeteradder</td>\n",
       "      <td>290.83485</td>\n",
       "    </tr>\n",
       "    <tr>\n",
       "      <th>16</th>\n",
       "      <td>www tweeteradder com</td>\n",
       "      <td>290.83485</td>\n",
       "    </tr>\n",
       "  </tbody>\n",
       "</table>\n",
       "</div>"
      ],
      "text/plain": [
       "                      term        rank\n",
       "11        http twitpic com 11620.54001\n",
       "5              http bit ly  8876.39631\n",
       "8         http tinyurl com  5261.76157\n",
       "7           http plurk com  2813.69847\n",
       "6             http blip fm  1883.65260\n",
       "12           just got home  1428.57018\n",
       "10         http tumblr com  1022.00000\n",
       "9               http tr im   826.09248\n",
       "0        100 followers day   539.17343\n",
       "1            add train pay   536.32240\n",
       "4      followers day using   536.32240\n",
       "3            day using www   536.32240\n",
       "2            com add train   536.32240\n",
       "13           train pay vip   536.32240\n",
       "14    tweeteradder com add   290.83485\n",
       "15  using www tweeteradder   290.83485\n",
       "16    www tweeteradder com   290.83485"
      ]
     },
     "execution_count": 62,
     "metadata": {},
     "output_type": "execute_result"
    }
   ],
   "source": [
    "## TRI-gram tf/idf analysis\n",
    "\n",
    "tfidf = TfidfVectorizer(analyzer=\"word\", stop_words = 'english', ngram_range=(3,3), min_df=.001)\n",
    "counts = tfidf.fit_transform(data_tfidf.text)\n",
    "\n",
    "\n",
    "feature_names = tfidf.get_feature_names()\n",
    "\n",
    "sums = counts.sum(axis = 0) \n",
    "data1 = [] \n",
    "for col, term in enumerate(feature_names): \n",
    "    data1.append( (term, sums[0,col] )) \n",
    "ranking = pd.DataFrame(data1, columns = ['term','rank']) \n",
    "words = (ranking.sort_values('rank', ascending = False)) \n",
    "\n",
    "words.head(20)\n",
    "#tf-idf top 20 by tf-idf score in top 50 data\n",
    "\n",
    "trigram_top20 = words.head(20).iloc[:,1].sum()\n"
   ]
  },
  {
   "cell_type": "code",
   "execution_count": 63,
   "metadata": {},
   "outputs": [
    {
     "data": {
      "text/html": [
       "<div>\n",
       "<style scoped>\n",
       "    .dataframe tbody tr th:only-of-type {\n",
       "        vertical-align: middle;\n",
       "    }\n",
       "\n",
       "    .dataframe tbody tr th {\n",
       "        vertical-align: top;\n",
       "    }\n",
       "\n",
       "    .dataframe thead th {\n",
       "        text-align: right;\n",
       "    }\n",
       "</style>\n",
       "<table border=\"1\" class=\"dataframe\">\n",
       "  <thead>\n",
       "    <tr style=\"text-align: right;\">\n",
       "      <th></th>\n",
       "      <th>term</th>\n",
       "      <th>rank</th>\n",
       "    </tr>\n",
       "  </thead>\n",
       "  <tbody>\n",
       "    <tr>\n",
       "      <th>0</th>\n",
       "      <td>100 followers day using</td>\n",
       "      <td>608.96794</td>\n",
       "    </tr>\n",
       "    <tr>\n",
       "      <th>1</th>\n",
       "      <td>add train pay vip</td>\n",
       "      <td>608.96794</td>\n",
       "    </tr>\n",
       "    <tr>\n",
       "      <th>2</th>\n",
       "      <td>com add train pay</td>\n",
       "      <td>608.96794</td>\n",
       "    </tr>\n",
       "    <tr>\n",
       "      <th>4</th>\n",
       "      <td>followers day using www</td>\n",
       "      <td>608.96794</td>\n",
       "    </tr>\n",
       "    <tr>\n",
       "      <th>3</th>\n",
       "      <td>day using www tweeteradder</td>\n",
       "      <td>304.49808</td>\n",
       "    </tr>\n",
       "    <tr>\n",
       "      <th>5</th>\n",
       "      <td>tweeteradder com add train</td>\n",
       "      <td>304.49808</td>\n",
       "    </tr>\n",
       "    <tr>\n",
       "      <th>6</th>\n",
       "      <td>using www tweeteradder com</td>\n",
       "      <td>304.49808</td>\n",
       "    </tr>\n",
       "    <tr>\n",
       "      <th>7</th>\n",
       "      <td>www tweeteradder com add</td>\n",
       "      <td>304.49808</td>\n",
       "    </tr>\n",
       "  </tbody>\n",
       "</table>\n",
       "</div>"
      ],
      "text/plain": [
       "                         term      rank\n",
       "0     100 followers day using 608.96794\n",
       "1           add train pay vip 608.96794\n",
       "2           com add train pay 608.96794\n",
       "4     followers day using www 608.96794\n",
       "3  day using www tweeteradder 304.49808\n",
       "5  tweeteradder com add train 304.49808\n",
       "6  using www tweeteradder com 304.49808\n",
       "7    www tweeteradder com add 304.49808"
      ]
     },
     "execution_count": 63,
     "metadata": {},
     "output_type": "execute_result"
    }
   ],
   "source": [
    "## 4-gram tf/idf analysis\n",
    "\n",
    "tfidf = TfidfVectorizer(analyzer=\"word\", stop_words = 'english', ngram_range=(4,4), min_df=.001)\n",
    "counts = tfidf.fit_transform(data_tfidf.text)\n",
    "\n",
    "\n",
    "feature_names = tfidf.get_feature_names()\n",
    "\n",
    "sums = counts.sum(axis = 0) \n",
    "data1 = [] \n",
    "for col, term in enumerate(feature_names): \n",
    "    data1.append( (term, sums[0,col] )) \n",
    "ranking = pd.DataFrame(data1, columns = ['term','rank']) \n",
    "words = (ranking.sort_values('rank', ascending = False)) \n",
    "\n",
    "words.head(20)\n",
    "#tf-idf top 20 by tf-idf score in top 50 data\n",
    "\n",
    "fourgram_top20 = words.head(20).iloc[:,1].sum()"
   ]
  },
  {
   "cell_type": "code",
   "execution_count": 65,
   "metadata": {},
   "outputs": [
    {
     "data": {
      "text/plain": [
       "array([[2.00000000e+00, 8.29479408e+04],\n",
       "       [3.00000000e+00, 3.78260016e+04],\n",
       "       [4.00000000e+00, 3.65386408e+03]])"
      ]
     },
     "execution_count": 65,
     "metadata": {},
     "output_type": "execute_result"
    },
    {
     "data": {
      "text/plain": [
       "<BarContainer object of 3 artists>"
      ]
     },
     "execution_count": 65,
     "metadata": {},
     "output_type": "execute_result"
    },
    {
     "data": {
      "text/plain": [
       "Text(0.5, 0, 'N-gram')"
      ]
     },
     "execution_count": 65,
     "metadata": {},
     "output_type": "execute_result"
    },
    {
     "data": {
      "text/plain": [
       "Text(0, 0.5, 'Sum Rank top 20')"
      ]
     },
     "execution_count": 65,
     "metadata": {},
     "output_type": "execute_result"
    },
    {
     "data": {
      "text/plain": [
       "([<matplotlib.axis.XTick at 0x7f537dc87fa0>,\n",
       "  <matplotlib.axis.XTick at 0x7f537dc87c40>,\n",
       "  <matplotlib.axis.XTick at 0x7f53895cb7c0>],\n",
       " <a list of 3 Text major ticklabel objects>)"
      ]
     },
     "execution_count": 65,
     "metadata": {},
     "output_type": "execute_result"
    },
    {
     "data": {
      "image/png": "[encoded data removed]",
      "text/plain": [
       "<Figure size 432x288 with 1 Axes>"
      ]
     },
     "metadata": {
      "needs_background": "light"
     },
     "output_type": "display_data"
    }
   ],
   "source": [
    "## plot n-grams\n",
    "\n",
    "ngrams = np.array([(2,bigram_top20),(3,trigram_top20),(4,fourgram_top20)])\n",
    "\n",
    "ngrams\n",
    "\n",
    "fig = plt.figure()\n",
    "ax = fig.add_axes([0,0,1,1])\n",
    "ax.bar(ngrams[:,0],ngrams[:,1])\n",
    "ax.set_xlabel('N-gram')\n",
    "ax.set_ylabel('Sum Rank top 20')\n",
    "plt.xticks(ngrams[:,0])\n",
    "plt.show()"
   ]
  },
  {
   "cell_type": "code",
   "execution_count": 45,
   "metadata": {
    "executionInfo": {
     "elapsed": 191772,
     "status": "ok",
     "timestamp": 1605148004466,
     "user": {
      "displayName": "Vishal Arya",
      "photoUrl": "",
      "userId": "05630331593287898441"
     },
     "user_tz": 300
    },
    "id": "v40oykU1VXEt"
   },
   "outputs": [],
   "source": [
    "## text preprocessing\n",
    "\n",
    "## this needs to be augmented after reviewing top word frequences, for ex need to remmove https://, re, and other crap -- review individually analysis to be done in excel\n",
    "\n",
    "def clean_text(text):\n",
    "    \n",
    "    ## Remove puncuation\n",
    "    text = text.translate(string.punctuation)\n",
    "    \n",
    "    ## Convert words to lower case and split them\n",
    "    text = text.lower().split()\n",
    "    \n",
    "    ## Remove stop words\n",
    "    stops = set(stopwords.words(\"english\"))\n",
    "    text = [w for w in text if not w in stops and len(w) >= 3]\n",
    "    \n",
    "    text = \" \".join(text)\n",
    "    ## Clean the text\n",
    "    text = re.sub(r\"[^A-Za-z0-9^,!.\\/'+-=]\", \" \", text)\n",
    "    text = re.sub(r\"what's\", \"what is \", text)\n",
    "    text = re.sub(r\"\\'s\", \" \", text)\n",
    "    text = re.sub(r\"\\'ve\", \" have \", text)\n",
    "    text = re.sub(r\"n't\", \" not \", text)\n",
    "    text = re.sub(r\"i'm\", \"i am \", text)\n",
    "    text = re.sub(r\"\\'re\", \" are \", text)\n",
    "    text = re.sub(r\"\\'d\", \" would \", text)\n",
    "    text = re.sub(r\"\\'ll\", \" will \", text)\n",
    "    text = re.sub(r\",\", \" \", text)\n",
    "    text = re.sub(r\"\\.\", \" \", text)\n",
    "    text = re.sub(r\"!\", \" ! \", text)\n",
    "    text = re.sub(r\"\\/\", \" \", text)\n",
    "    text = re.sub(r\"\\^\", \" ^ \", text)\n",
    "    text = re.sub(r\"\\+\", \" + \", text)\n",
    "    text = re.sub(r\"\\-\", \" - \", text)\n",
    "    text = re.sub(r\"\\=\", \" = \", text)\n",
    "    text = re.sub(r\"'\", \" \", text)\n",
    "    text = re.sub(r\"(\\d+)(k)\", r\"\\g<1>000\", text)\n",
    "    text = re.sub(r\":\", \" : \", text)\n",
    "    text = re.sub(r\" e g \", \" eg \", text)\n",
    "    text = re.sub(r\" b g \", \" bg \", text)\n",
    "    text = re.sub(r\" u s \", \" american \", text)\n",
    "    text = re.sub(r\"\\0s\", \"0\", text)\n",
    "    text = re.sub(r\" 9 11 \", \"911\", text)\n",
    "    text = re.sub(r\"e - mail\", \"email\", text)\n",
    "    text = re.sub(r\"j k\", \"jk\", text)\n",
    "    text = re.sub(r\"\\s{2,}\", \" \", text)\n",
    "    text = re.sub(r\"http://\", \" \", text)\n",
    "    text = re.sub(r\"http\", \" \", text)\n",
    "    ## Stemming\n",
    "    text = text.split()\n",
    "    stemmer = SnowballStemmer('english')\n",
    "    stemmed_words = [stemmer.stem(word) for word in text]\n",
    "    text = \" \".join(stemmed_words)\n",
    "    return text\n",
    "    \n"
   ]
  },
  {
   "cell_type": "code",
   "execution_count": 46,
   "metadata": {
    "executionInfo": {
     "elapsed": 638352,
     "status": "ok",
     "timestamp": 1605148453105,
     "user": {
      "displayName": "Vishal Arya",
      "photoUrl": "",
      "userId": "05630331593287898441"
     },
     "user_tz": 300
    },
    "id": "VEwSD1bRWzDe"
   },
   "outputs": [
    {
     "name": "stderr",
     "output_type": "stream",
     "text": [
      "<ipython-input-46-fc12198f2792>:1: SettingWithCopyWarning:\n",
      "\n",
      "\n",
      "A value is trying to be set on a copy of a slice from a DataFrame.\n",
      "Try using .loc[row_indexer,col_indexer] = value instead\n",
      "\n",
      "See the caveats in the documentation: https://pandas.pydata.org/pandas-docs/stable/user_guide/indexing.html#returning-a-view-versus-a-copy\n",
      "\n"
     ]
    }
   ],
   "source": [
    "data['clean_tweet'] = data.text.apply(lambda x: clean_text(x))"
   ]
  },
  {
   "cell_type": "code",
   "execution_count": null,
   "metadata": {
    "colab": {
     "base_uri": "https://localhost:8080/"
    },
    "executionInfo": {
     "elapsed": 824683,
     "status": "ok",
     "timestamp": 1604554378410,
     "user": {
      "displayName": "Vishal Arya",
      "photoUrl": "",
      "userId": "05630331593287898441"
     },
     "user_tz": 300
    },
    "id": "8Tm5a30En63m",
    "outputId": "abc6a054-c9d2-4a7f-d844-763ed9efdb5c"
   },
   "outputs": [
    {
     "name": "stderr",
     "output_type": "stream",
     "text": [
      "<ipython-input-26-9387d1370271>:1: SettingWithCopyWarning:\n",
      "\n",
      "\n",
      "A value is trying to be set on a copy of a slice from a DataFrame.\n",
      "Try using .loc[row_indexer,col_indexer] = value instead\n",
      "\n",
      "See the caveats in the documentation: https://pandas.pydata.org/pandas-docs/stable/user_guide/indexing.html#returning-a-view-versus-a-copy\n",
      "\n"
     ]
    }
   ],
   "source": [
    "data['cl_twlength'] = data.clean_tweet.apply(lambda x: len(x))"
   ]
  },
  {
   "cell_type": "code",
   "execution_count": null,
   "metadata": {
    "colab": {
     "base_uri": "https://localhost:8080/",
     "height": 399
    },
    "executionInfo": {
     "elapsed": 824674,
     "status": "ok",
     "timestamp": 1604554378412,
     "user": {
      "displayName": "Vishal Arya",
      "photoUrl": "",
      "userId": "05630331593287898441"
     },
     "user_tz": 300
    },
    "id": "VukzV4e4Ad0R",
    "outputId": "d9727867-f763-4ed2-b4aa-fe63265c9780"
   },
   "outputs": [
    {
     "data": {
      "text/html": [
       "<div>\n",
       "<style scoped>\n",
       "    .dataframe tbody tr th:only-of-type {\n",
       "        vertical-align: middle;\n",
       "    }\n",
       "\n",
       "    .dataframe tbody tr th {\n",
       "        vertical-align: top;\n",
       "    }\n",
       "\n",
       "    .dataframe thead th {\n",
       "        text-align: right;\n",
       "    }\n",
       "</style>\n",
       "<table border=\"1\" class=\"dataframe\">\n",
       "  <thead>\n",
       "    <tr style=\"text-align: right;\">\n",
       "      <th></th>\n",
       "      <th>target</th>\n",
       "      <th>id</th>\n",
       "      <th>date</th>\n",
       "      <th>flag</th>\n",
       "      <th>user</th>\n",
       "      <th>text</th>\n",
       "      <th>twlength</th>\n",
       "      <th>tw_day</th>\n",
       "      <th>tw_time</th>\n",
       "      <th>hour</th>\n",
       "      <th>clean_tweet</th>\n",
       "      <th>cl_twlength</th>\n",
       "    </tr>\n",
       "  </thead>\n",
       "  <tbody>\n",
       "    <tr>\n",
       "      <th>0</th>\n",
       "      <td>0</td>\n",
       "      <td>1467810369</td>\n",
       "      <td>2009-04-06 22:19:45</td>\n",
       "      <td>NO_QUERY</td>\n",
       "      <td>_TheSpecialOne_</td>\n",
       "      <td>@switchfoot http://twitpic.com/2y1zl - Awww, t...</td>\n",
       "      <td>115</td>\n",
       "      <td>2009-04-06</td>\n",
       "      <td>22:19:45</td>\n",
       "      <td>22</td>\n",
       "      <td>switchfoot http : twitpic com 2y1zl awww that ...</td>\n",
       "      <td>88</td>\n",
       "    </tr>\n",
       "    <tr>\n",
       "      <th>1</th>\n",
       "      <td>0</td>\n",
       "      <td>1467810672</td>\n",
       "      <td>2009-04-06 22:19:49</td>\n",
       "      <td>NO_QUERY</td>\n",
       "      <td>scotthamilton</td>\n",
       "      <td>is upset that he can't update his Facebook by ...</td>\n",
       "      <td>111</td>\n",
       "      <td>2009-04-06</td>\n",
       "      <td>22:19:49</td>\n",
       "      <td>22</td>\n",
       "      <td>upset ca not updat facebook text it might cri ...</td>\n",
       "      <td>77</td>\n",
       "    </tr>\n",
       "    <tr>\n",
       "      <th>2</th>\n",
       "      <td>0</td>\n",
       "      <td>1467810917</td>\n",
       "      <td>2009-04-06 22:19:53</td>\n",
       "      <td>NO_QUERY</td>\n",
       "      <td>mattycus</td>\n",
       "      <td>@Kenichan I dived many times for the ball. Man...</td>\n",
       "      <td>89</td>\n",
       "      <td>2009-04-06</td>\n",
       "      <td>22:19:53</td>\n",
       "      <td>22</td>\n",
       "      <td>kenichan dive mani time ball manag save 50 res...</td>\n",
       "      <td>53</td>\n",
       "    </tr>\n",
       "    <tr>\n",
       "      <th>3</th>\n",
       "      <td>0</td>\n",
       "      <td>1467811184</td>\n",
       "      <td>2009-04-06 22:19:57</td>\n",
       "      <td>NO_QUERY</td>\n",
       "      <td>ElleCTF</td>\n",
       "      <td>my whole body feels itchy and like its on fire</td>\n",
       "      <td>47</td>\n",
       "      <td>2009-04-06</td>\n",
       "      <td>22:19:57</td>\n",
       "      <td>22</td>\n",
       "      <td>whole bodi feel itchi like fire</td>\n",
       "      <td>31</td>\n",
       "    </tr>\n",
       "    <tr>\n",
       "      <th>4</th>\n",
       "      <td>0</td>\n",
       "      <td>1467811193</td>\n",
       "      <td>2009-04-06 22:19:57</td>\n",
       "      <td>NO_QUERY</td>\n",
       "      <td>Karoli</td>\n",
       "      <td>@nationwideclass no, it's not behaving at all....</td>\n",
       "      <td>111</td>\n",
       "      <td>2009-04-06</td>\n",
       "      <td>22:19:57</td>\n",
       "      <td>22</td>\n",
       "      <td>nationwideclass no behav all i am mad here ca ...</td>\n",
       "      <td>59</td>\n",
       "    </tr>\n",
       "    <tr>\n",
       "      <th>...</th>\n",
       "      <td>...</td>\n",
       "      <td>...</td>\n",
       "      <td>...</td>\n",
       "      <td>...</td>\n",
       "      <td>...</td>\n",
       "      <td>...</td>\n",
       "      <td>...</td>\n",
       "      <td>...</td>\n",
       "      <td>...</td>\n",
       "      <td>...</td>\n",
       "      <td>...</td>\n",
       "      <td>...</td>\n",
       "    </tr>\n",
       "    <tr>\n",
       "      <th>1599995</th>\n",
       "      <td>4</td>\n",
       "      <td>2193601966</td>\n",
       "      <td>2009-06-16 08:40:49</td>\n",
       "      <td>NO_QUERY</td>\n",
       "      <td>AmandaMarie1028</td>\n",
       "      <td>Just woke up. Having no school is the best fee...</td>\n",
       "      <td>56</td>\n",
       "      <td>2009-06-16</td>\n",
       "      <td>08:40:49</td>\n",
       "      <td>8</td>\n",
       "      <td>woke up school best feel ever</td>\n",
       "      <td>29</td>\n",
       "    </tr>\n",
       "    <tr>\n",
       "      <th>1599996</th>\n",
       "      <td>4</td>\n",
       "      <td>2193601969</td>\n",
       "      <td>2009-06-16 08:40:49</td>\n",
       "      <td>NO_QUERY</td>\n",
       "      <td>TheWDBoards</td>\n",
       "      <td>TheWDB.com - Very cool to hear old Walt interv...</td>\n",
       "      <td>76</td>\n",
       "      <td>2009-06-16</td>\n",
       "      <td>08:40:49</td>\n",
       "      <td>8</td>\n",
       "      <td>thewdb com cool hear old walt interview ! http...</td>\n",
       "      <td>62</td>\n",
       "    </tr>\n",
       "    <tr>\n",
       "      <th>1599997</th>\n",
       "      <td>4</td>\n",
       "      <td>2193601991</td>\n",
       "      <td>2009-06-16 08:40:49</td>\n",
       "      <td>NO_QUERY</td>\n",
       "      <td>bpbabe</td>\n",
       "      <td>Are you ready for your MoJo Makeover? Ask me f...</td>\n",
       "      <td>57</td>\n",
       "      <td>2009-06-16</td>\n",
       "      <td>08:40:49</td>\n",
       "      <td>8</td>\n",
       "      <td>readi mojo makeov ask detail</td>\n",
       "      <td>28</td>\n",
       "    </tr>\n",
       "    <tr>\n",
       "      <th>1599998</th>\n",
       "      <td>4</td>\n",
       "      <td>2193602064</td>\n",
       "      <td>2009-06-16 08:40:49</td>\n",
       "      <td>NO_QUERY</td>\n",
       "      <td>tinydiamondz</td>\n",
       "      <td>Happy 38th Birthday to my boo of alll time!!! ...</td>\n",
       "      <td>65</td>\n",
       "      <td>2009-06-16</td>\n",
       "      <td>08:40:49</td>\n",
       "      <td>8</td>\n",
       "      <td>happi 38th birthday boo alll time ! ! ! tupac ...</td>\n",
       "      <td>58</td>\n",
       "    </tr>\n",
       "    <tr>\n",
       "      <th>1599999</th>\n",
       "      <td>4</td>\n",
       "      <td>2193602129</td>\n",
       "      <td>2009-06-16 08:40:50</td>\n",
       "      <td>NO_QUERY</td>\n",
       "      <td>RyanTrevMorris</td>\n",
       "      <td>happy #charitytuesday @theNSPCC @SparksCharity...</td>\n",
       "      <td>62</td>\n",
       "      <td>2009-06-16</td>\n",
       "      <td>08:40:50</td>\n",
       "      <td>8</td>\n",
       "      <td>happi charitytuesday thenspcc sparkschar speak...</td>\n",
       "      <td>54</td>\n",
       "    </tr>\n",
       "  </tbody>\n",
       "</table>\n",
       "<p>1599999 rows × 12 columns</p>\n",
       "</div>"
      ],
      "text/plain": [
       "         target          id                date      flag             user  \\\n",
       "0             0  1467810369 2009-04-06 22:19:45  NO_QUERY  _TheSpecialOne_   \n",
       "1             0  1467810672 2009-04-06 22:19:49  NO_QUERY    scotthamilton   \n",
       "2             0  1467810917 2009-04-06 22:19:53  NO_QUERY         mattycus   \n",
       "3             0  1467811184 2009-04-06 22:19:57  NO_QUERY          ElleCTF   \n",
       "4             0  1467811193 2009-04-06 22:19:57  NO_QUERY           Karoli   \n",
       "...         ...         ...                 ...       ...              ...   \n",
       "1599995       4  2193601966 2009-06-16 08:40:49  NO_QUERY  AmandaMarie1028   \n",
       "1599996       4  2193601969 2009-06-16 08:40:49  NO_QUERY      TheWDBoards   \n",
       "1599997       4  2193601991 2009-06-16 08:40:49  NO_QUERY           bpbabe   \n",
       "1599998       4  2193602064 2009-06-16 08:40:49  NO_QUERY     tinydiamondz   \n",
       "1599999       4  2193602129 2009-06-16 08:40:50  NO_QUERY   RyanTrevMorris   \n",
       "\n",
       "                                                      text  twlength  \\\n",
       "0        @switchfoot http://twitpic.com/2y1zl - Awww, t...       115   \n",
       "1        is upset that he can't update his Facebook by ...       111   \n",
       "2        @Kenichan I dived many times for the ball. Man...        89   \n",
       "3          my whole body feels itchy and like its on fire         47   \n",
       "4        @nationwideclass no, it's not behaving at all....       111   \n",
       "...                                                    ...       ...   \n",
       "1599995  Just woke up. Having no school is the best fee...        56   \n",
       "1599996  TheWDB.com - Very cool to hear old Walt interv...        76   \n",
       "1599997  Are you ready for your MoJo Makeover? Ask me f...        57   \n",
       "1599998  Happy 38th Birthday to my boo of alll time!!! ...        65   \n",
       "1599999  happy #charitytuesday @theNSPCC @SparksCharity...        62   \n",
       "\n",
       "             tw_day   tw_time  hour  \\\n",
       "0        2009-04-06  22:19:45    22   \n",
       "1        2009-04-06  22:19:49    22   \n",
       "2        2009-04-06  22:19:53    22   \n",
       "3        2009-04-06  22:19:57    22   \n",
       "4        2009-04-06  22:19:57    22   \n",
       "...             ...       ...   ...   \n",
       "1599995  2009-06-16  08:40:49     8   \n",
       "1599996  2009-06-16  08:40:49     8   \n",
       "1599997  2009-06-16  08:40:49     8   \n",
       "1599998  2009-06-16  08:40:49     8   \n",
       "1599999  2009-06-16  08:40:50     8   \n",
       "\n",
       "                                               clean_tweet  cl_twlength  \n",
       "0        switchfoot http : twitpic com 2y1zl awww that ...           88  \n",
       "1        upset ca not updat facebook text it might cri ...           77  \n",
       "2        kenichan dive mani time ball manag save 50 res...           53  \n",
       "3                          whole bodi feel itchi like fire           31  \n",
       "4        nationwideclass no behav all i am mad here ca ...           59  \n",
       "...                                                    ...          ...  \n",
       "1599995                      woke up school best feel ever           29  \n",
       "1599996  thewdb com cool hear old walt interview ! http...           62  \n",
       "1599997                       readi mojo makeov ask detail           28  \n",
       "1599998  happi 38th birthday boo alll time ! ! ! tupac ...           58  \n",
       "1599999  happi charitytuesday thenspcc sparkschar speak...           54  \n",
       "\n",
       "[1599999 rows x 12 columns]"
      ]
     },
     "execution_count": 27,
     "metadata": {
      "tags": []
     },
     "output_type": "execute_result"
    }
   ],
   "source": [
    "data"
   ]
  },
  {
   "cell_type": "code",
   "execution_count": 12,
   "metadata": {
    "executionInfo": {
     "elapsed": 331,
     "status": "ok",
     "timestamp": 1605148785747,
     "user": {
      "displayName": "Vishal Arya",
      "photoUrl": "",
      "userId": "05630331593287898441"
     },
     "user_tz": 300
    },
    "id": "1OOxS7GglT3A"
   },
   "outputs": [],
   "source": [
    "data.reset_index(level=0, inplace=True)"
   ]
  },
  {
   "cell_type": "code",
   "execution_count": 14,
   "metadata": {
    "executionInfo": {
     "elapsed": 893,
     "status": "ok",
     "timestamp": 1605148802284,
     "user": {
      "displayName": "Vishal Arya",
      "photoUrl": "",
      "userId": "05630331593287898441"
     },
     "user_tz": 300
    },
    "id": "6DgiD3lelT3C"
   },
   "outputs": [],
   "source": [
    "data.drop('index', axis=1, inplace=True)"
   ]
  },
  {
   "cell_type": "code",
   "execution_count": 15,
   "metadata": {
    "colab": {
     "base_uri": "https://localhost:8080/",
     "height": 399
    },
    "executionInfo": {
     "elapsed": 398,
     "status": "ok",
     "timestamp": 1605148803952,
     "user": {
      "displayName": "Vishal Arya",
      "photoUrl": "",
      "userId": "05630331593287898441"
     },
     "user_tz": 300
    },
    "id": "8O4vbH-3lT3E",
    "outputId": "ac10ca60-eb27-4849-e492-9b5bc0933c47"
   },
   "outputs": [
    {
     "data": {
      "text/html": [
       "<div>\n",
       "<style scoped>\n",
       "    .dataframe tbody tr th:only-of-type {\n",
       "        vertical-align: middle;\n",
       "    }\n",
       "\n",
       "    .dataframe tbody tr th {\n",
       "        vertical-align: top;\n",
       "    }\n",
       "\n",
       "    .dataframe thead th {\n",
       "        text-align: right;\n",
       "    }\n",
       "</style>\n",
       "<table border=\"1\" class=\"dataframe\">\n",
       "  <thead>\n",
       "    <tr style=\"text-align: right;\">\n",
       "      <th></th>\n",
       "      <th>target</th>\n",
       "      <th>id</th>\n",
       "      <th>date</th>\n",
       "      <th>flag</th>\n",
       "      <th>user</th>\n",
       "      <th>text</th>\n",
       "      <th>twlength</th>\n",
       "      <th>tw_day</th>\n",
       "      <th>tw_time</th>\n",
       "      <th>clean_tweet</th>\n",
       "    </tr>\n",
       "  </thead>\n",
       "  <tbody>\n",
       "    <tr>\n",
       "      <th>0</th>\n",
       "      <td>0</td>\n",
       "      <td>1467810369</td>\n",
       "      <td>2009-04-06 22:19:45</td>\n",
       "      <td>NO_QUERY</td>\n",
       "      <td>_TheSpecialOne_</td>\n",
       "      <td>@switchfoot http://twitpic.com/2y1zl - Awww, t...</td>\n",
       "      <td>115</td>\n",
       "      <td>2009-04-06</td>\n",
       "      <td>22:19:45</td>\n",
       "      <td>switchfoot : twitpic com 2y1zl awww that bumme...</td>\n",
       "    </tr>\n",
       "    <tr>\n",
       "      <th>1</th>\n",
       "      <td>0</td>\n",
       "      <td>1467810672</td>\n",
       "      <td>2009-04-06 22:19:49</td>\n",
       "      <td>NO_QUERY</td>\n",
       "      <td>scotthamilton</td>\n",
       "      <td>is upset that he can't update his Facebook by ...</td>\n",
       "      <td>111</td>\n",
       "      <td>2009-04-06</td>\n",
       "      <td>22:19:49</td>\n",
       "      <td>upset ca not updat facebook text it might cri ...</td>\n",
       "    </tr>\n",
       "    <tr>\n",
       "      <th>2</th>\n",
       "      <td>0</td>\n",
       "      <td>1467810917</td>\n",
       "      <td>2009-04-06 22:19:53</td>\n",
       "      <td>NO_QUERY</td>\n",
       "      <td>mattycus</td>\n",
       "      <td>@Kenichan I dived many times for the ball. Man...</td>\n",
       "      <td>89</td>\n",
       "      <td>2009-04-06</td>\n",
       "      <td>22:19:53</td>\n",
       "      <td>kenichan dive mani time ball manag save 50 res...</td>\n",
       "    </tr>\n",
       "    <tr>\n",
       "      <th>3</th>\n",
       "      <td>0</td>\n",
       "      <td>1467811184</td>\n",
       "      <td>2009-04-06 22:19:57</td>\n",
       "      <td>NO_QUERY</td>\n",
       "      <td>ElleCTF</td>\n",
       "      <td>my whole body feels itchy and like its on fire</td>\n",
       "      <td>47</td>\n",
       "      <td>2009-04-06</td>\n",
       "      <td>22:19:57</td>\n",
       "      <td>whole bodi feel itchi like fire</td>\n",
       "    </tr>\n",
       "    <tr>\n",
       "      <th>4</th>\n",
       "      <td>0</td>\n",
       "      <td>1467811193</td>\n",
       "      <td>2009-04-06 22:19:57</td>\n",
       "      <td>NO_QUERY</td>\n",
       "      <td>Karoli</td>\n",
       "      <td>@nationwideclass no, it's not behaving at all....</td>\n",
       "      <td>111</td>\n",
       "      <td>2009-04-06</td>\n",
       "      <td>22:19:57</td>\n",
       "      <td>nationwideclass no behav all i am mad here ca ...</td>\n",
       "    </tr>\n",
       "    <tr>\n",
       "      <th>...</th>\n",
       "      <td>...</td>\n",
       "      <td>...</td>\n",
       "      <td>...</td>\n",
       "      <td>...</td>\n",
       "      <td>...</td>\n",
       "      <td>...</td>\n",
       "      <td>...</td>\n",
       "      <td>...</td>\n",
       "      <td>...</td>\n",
       "      <td>...</td>\n",
       "    </tr>\n",
       "    <tr>\n",
       "      <th>1599994</th>\n",
       "      <td>4</td>\n",
       "      <td>2193601966</td>\n",
       "      <td>2009-06-16 08:40:49</td>\n",
       "      <td>NO_QUERY</td>\n",
       "      <td>AmandaMarie1028</td>\n",
       "      <td>Just woke up. Having no school is the best fee...</td>\n",
       "      <td>56</td>\n",
       "      <td>2009-06-16</td>\n",
       "      <td>08:40:49</td>\n",
       "      <td>woke up school best feel ever</td>\n",
       "    </tr>\n",
       "    <tr>\n",
       "      <th>1599995</th>\n",
       "      <td>4</td>\n",
       "      <td>2193601969</td>\n",
       "      <td>2009-06-16 08:40:49</td>\n",
       "      <td>NO_QUERY</td>\n",
       "      <td>TheWDBoards</td>\n",
       "      <td>TheWDB.com - Very cool to hear old Walt interv...</td>\n",
       "      <td>76</td>\n",
       "      <td>2009-06-16</td>\n",
       "      <td>08:40:49</td>\n",
       "      <td>thewdb com cool hear old walt interview ! : bl...</td>\n",
       "    </tr>\n",
       "    <tr>\n",
       "      <th>1599996</th>\n",
       "      <td>4</td>\n",
       "      <td>2193601991</td>\n",
       "      <td>2009-06-16 08:40:49</td>\n",
       "      <td>NO_QUERY</td>\n",
       "      <td>bpbabe</td>\n",
       "      <td>Are you ready for your MoJo Makeover? Ask me f...</td>\n",
       "      <td>57</td>\n",
       "      <td>2009-06-16</td>\n",
       "      <td>08:40:49</td>\n",
       "      <td>readi mojo makeov ask detail</td>\n",
       "    </tr>\n",
       "    <tr>\n",
       "      <th>1599997</th>\n",
       "      <td>4</td>\n",
       "      <td>2193602064</td>\n",
       "      <td>2009-06-16 08:40:49</td>\n",
       "      <td>NO_QUERY</td>\n",
       "      <td>tinydiamondz</td>\n",
       "      <td>Happy 38th Birthday to my boo of alll time!!! ...</td>\n",
       "      <td>65</td>\n",
       "      <td>2009-06-16</td>\n",
       "      <td>08:40:49</td>\n",
       "      <td>happi 38th birthday boo alll time ! ! ! tupac ...</td>\n",
       "    </tr>\n",
       "    <tr>\n",
       "      <th>1599998</th>\n",
       "      <td>4</td>\n",
       "      <td>2193602129</td>\n",
       "      <td>2009-06-16 08:40:50</td>\n",
       "      <td>NO_QUERY</td>\n",
       "      <td>RyanTrevMorris</td>\n",
       "      <td>happy #charitytuesday @theNSPCC @SparksCharity...</td>\n",
       "      <td>62</td>\n",
       "      <td>2009-06-16</td>\n",
       "      <td>08:40:50</td>\n",
       "      <td>happi charitytuesday thenspcc sparkschar speak...</td>\n",
       "    </tr>\n",
       "  </tbody>\n",
       "</table>\n",
       "<p>1599999 rows × 10 columns</p>\n",
       "</div>"
      ],
      "text/plain": [
       "         target          id                date      flag             user  \\\n",
       "0             0  1467810369 2009-04-06 22:19:45  NO_QUERY  _TheSpecialOne_   \n",
       "1             0  1467810672 2009-04-06 22:19:49  NO_QUERY    scotthamilton   \n",
       "2             0  1467810917 2009-04-06 22:19:53  NO_QUERY         mattycus   \n",
       "3             0  1467811184 2009-04-06 22:19:57  NO_QUERY          ElleCTF   \n",
       "4             0  1467811193 2009-04-06 22:19:57  NO_QUERY           Karoli   \n",
       "...         ...         ...                 ...       ...              ...   \n",
       "1599994       4  2193601966 2009-06-16 08:40:49  NO_QUERY  AmandaMarie1028   \n",
       "1599995       4  2193601969 2009-06-16 08:40:49  NO_QUERY      TheWDBoards   \n",
       "1599996       4  2193601991 2009-06-16 08:40:49  NO_QUERY           bpbabe   \n",
       "1599997       4  2193602064 2009-06-16 08:40:49  NO_QUERY     tinydiamondz   \n",
       "1599998       4  2193602129 2009-06-16 08:40:50  NO_QUERY   RyanTrevMorris   \n",
       "\n",
       "                                                      text  twlength  \\\n",
       "0        @switchfoot http://twitpic.com/2y1zl - Awww, t...       115   \n",
       "1        is upset that he can't update his Facebook by ...       111   \n",
       "2        @Kenichan I dived many times for the ball. Man...        89   \n",
       "3          my whole body feels itchy and like its on fire         47   \n",
       "4        @nationwideclass no, it's not behaving at all....       111   \n",
       "...                                                    ...       ...   \n",
       "1599994  Just woke up. Having no school is the best fee...        56   \n",
       "1599995  TheWDB.com - Very cool to hear old Walt interv...        76   \n",
       "1599996  Are you ready for your MoJo Makeover? Ask me f...        57   \n",
       "1599997  Happy 38th Birthday to my boo of alll time!!! ...        65   \n",
       "1599998  happy #charitytuesday @theNSPCC @SparksCharity...        62   \n",
       "\n",
       "             tw_day   tw_time  \\\n",
       "0        2009-04-06  22:19:45   \n",
       "1        2009-04-06  22:19:49   \n",
       "2        2009-04-06  22:19:53   \n",
       "3        2009-04-06  22:19:57   \n",
       "4        2009-04-06  22:19:57   \n",
       "...             ...       ...   \n",
       "1599994  2009-06-16  08:40:49   \n",
       "1599995  2009-06-16  08:40:49   \n",
       "1599996  2009-06-16  08:40:49   \n",
       "1599997  2009-06-16  08:40:49   \n",
       "1599998  2009-06-16  08:40:50   \n",
       "\n",
       "                                               clean_tweet  \n",
       "0        switchfoot : twitpic com 2y1zl awww that bumme...  \n",
       "1        upset ca not updat facebook text it might cri ...  \n",
       "2        kenichan dive mani time ball manag save 50 res...  \n",
       "3                          whole bodi feel itchi like fire  \n",
       "4        nationwideclass no behav all i am mad here ca ...  \n",
       "...                                                    ...  \n",
       "1599994                      woke up school best feel ever  \n",
       "1599995  thewdb com cool hear old walt interview ! : bl...  \n",
       "1599996                       readi mojo makeov ask detail  \n",
       "1599997  happi 38th birthday boo alll time ! ! ! tupac ...  \n",
       "1599998  happi charitytuesday thenspcc sparkschar speak...  \n",
       "\n",
       "[1599999 rows x 10 columns]"
      ]
     },
     "execution_count": 15,
     "metadata": {
      "tags": []
     },
     "output_type": "execute_result"
    }
   ],
   "source": [
    "data"
   ]
  },
  {
   "cell_type": "code",
   "execution_count": 17,
   "metadata": {
    "executionInfo": {
     "elapsed": 775,
     "status": "ok",
     "timestamp": 1605148851485,
     "user": {
      "displayName": "Vishal Arya",
      "photoUrl": "",
      "userId": "05630331593287898441"
     },
     "user_tz": 300
    },
    "id": "gf-ago2XUyiQ"
   },
   "outputs": [],
   "source": [
    "data.target = data.target.apply(lambda x: 1 if x == 4 else 0)"
   ]
  },
  {
   "cell_type": "code",
   "execution_count": 18,
   "metadata": {
    "colab": {
     "base_uri": "https://localhost:8080/",
     "height": 399
    },
    "executionInfo": {
     "elapsed": 230,
     "status": "ok",
     "timestamp": 1605148855750,
     "user": {
      "displayName": "Vishal Arya",
      "photoUrl": "",
      "userId": "05630331593287898441"
     },
     "user_tz": 300
    },
    "id": "ouO5nzuaU8UV",
    "outputId": "02443822-ae96-4ca1-b201-2cd8f68ae79a"
   },
   "outputs": [
    {
     "data": {
      "text/html": [
       "<div>\n",
       "<style scoped>\n",
       "    .dataframe tbody tr th:only-of-type {\n",
       "        vertical-align: middle;\n",
       "    }\n",
       "\n",
       "    .dataframe tbody tr th {\n",
       "        vertical-align: top;\n",
       "    }\n",
       "\n",
       "    .dataframe thead th {\n",
       "        text-align: right;\n",
       "    }\n",
       "</style>\n",
       "<table border=\"1\" class=\"dataframe\">\n",
       "  <thead>\n",
       "    <tr style=\"text-align: right;\">\n",
       "      <th></th>\n",
       "      <th>target</th>\n",
       "      <th>id</th>\n",
       "      <th>date</th>\n",
       "      <th>flag</th>\n",
       "      <th>user</th>\n",
       "      <th>text</th>\n",
       "      <th>twlength</th>\n",
       "      <th>tw_day</th>\n",
       "      <th>tw_time</th>\n",
       "      <th>clean_tweet</th>\n",
       "    </tr>\n",
       "  </thead>\n",
       "  <tbody>\n",
       "    <tr>\n",
       "      <th>0</th>\n",
       "      <td>0</td>\n",
       "      <td>1467810369</td>\n",
       "      <td>2009-04-06 22:19:45</td>\n",
       "      <td>NO_QUERY</td>\n",
       "      <td>_TheSpecialOne_</td>\n",
       "      <td>@switchfoot http://twitpic.com/2y1zl - Awww, t...</td>\n",
       "      <td>115</td>\n",
       "      <td>2009-04-06</td>\n",
       "      <td>22:19:45</td>\n",
       "      <td>switchfoot : twitpic com 2y1zl awww that bumme...</td>\n",
       "    </tr>\n",
       "    <tr>\n",
       "      <th>1</th>\n",
       "      <td>0</td>\n",
       "      <td>1467810672</td>\n",
       "      <td>2009-04-06 22:19:49</td>\n",
       "      <td>NO_QUERY</td>\n",
       "      <td>scotthamilton</td>\n",
       "      <td>is upset that he can't update his Facebook by ...</td>\n",
       "      <td>111</td>\n",
       "      <td>2009-04-06</td>\n",
       "      <td>22:19:49</td>\n",
       "      <td>upset ca not updat facebook text it might cri ...</td>\n",
       "    </tr>\n",
       "    <tr>\n",
       "      <th>2</th>\n",
       "      <td>0</td>\n",
       "      <td>1467810917</td>\n",
       "      <td>2009-04-06 22:19:53</td>\n",
       "      <td>NO_QUERY</td>\n",
       "      <td>mattycus</td>\n",
       "      <td>@Kenichan I dived many times for the ball. Man...</td>\n",
       "      <td>89</td>\n",
       "      <td>2009-04-06</td>\n",
       "      <td>22:19:53</td>\n",
       "      <td>kenichan dive mani time ball manag save 50 res...</td>\n",
       "    </tr>\n",
       "    <tr>\n",
       "      <th>3</th>\n",
       "      <td>0</td>\n",
       "      <td>1467811184</td>\n",
       "      <td>2009-04-06 22:19:57</td>\n",
       "      <td>NO_QUERY</td>\n",
       "      <td>ElleCTF</td>\n",
       "      <td>my whole body feels itchy and like its on fire</td>\n",
       "      <td>47</td>\n",
       "      <td>2009-04-06</td>\n",
       "      <td>22:19:57</td>\n",
       "      <td>whole bodi feel itchi like fire</td>\n",
       "    </tr>\n",
       "    <tr>\n",
       "      <th>4</th>\n",
       "      <td>0</td>\n",
       "      <td>1467811193</td>\n",
       "      <td>2009-04-06 22:19:57</td>\n",
       "      <td>NO_QUERY</td>\n",
       "      <td>Karoli</td>\n",
       "      <td>@nationwideclass no, it's not behaving at all....</td>\n",
       "      <td>111</td>\n",
       "      <td>2009-04-06</td>\n",
       "      <td>22:19:57</td>\n",
       "      <td>nationwideclass no behav all i am mad here ca ...</td>\n",
       "    </tr>\n",
       "    <tr>\n",
       "      <th>...</th>\n",
       "      <td>...</td>\n",
       "      <td>...</td>\n",
       "      <td>...</td>\n",
       "      <td>...</td>\n",
       "      <td>...</td>\n",
       "      <td>...</td>\n",
       "      <td>...</td>\n",
       "      <td>...</td>\n",
       "      <td>...</td>\n",
       "      <td>...</td>\n",
       "    </tr>\n",
       "    <tr>\n",
       "      <th>1599994</th>\n",
       "      <td>1</td>\n",
       "      <td>2193601966</td>\n",
       "      <td>2009-06-16 08:40:49</td>\n",
       "      <td>NO_QUERY</td>\n",
       "      <td>AmandaMarie1028</td>\n",
       "      <td>Just woke up. Having no school is the best fee...</td>\n",
       "      <td>56</td>\n",
       "      <td>2009-06-16</td>\n",
       "      <td>08:40:49</td>\n",
       "      <td>woke up school best feel ever</td>\n",
       "    </tr>\n",
       "    <tr>\n",
       "      <th>1599995</th>\n",
       "      <td>1</td>\n",
       "      <td>2193601969</td>\n",
       "      <td>2009-06-16 08:40:49</td>\n",
       "      <td>NO_QUERY</td>\n",
       "      <td>TheWDBoards</td>\n",
       "      <td>TheWDB.com - Very cool to hear old Walt interv...</td>\n",
       "      <td>76</td>\n",
       "      <td>2009-06-16</td>\n",
       "      <td>08:40:49</td>\n",
       "      <td>thewdb com cool hear old walt interview ! : bl...</td>\n",
       "    </tr>\n",
       "    <tr>\n",
       "      <th>1599996</th>\n",
       "      <td>1</td>\n",
       "      <td>2193601991</td>\n",
       "      <td>2009-06-16 08:40:49</td>\n",
       "      <td>NO_QUERY</td>\n",
       "      <td>bpbabe</td>\n",
       "      <td>Are you ready for your MoJo Makeover? Ask me f...</td>\n",
       "      <td>57</td>\n",
       "      <td>2009-06-16</td>\n",
       "      <td>08:40:49</td>\n",
       "      <td>readi mojo makeov ask detail</td>\n",
       "    </tr>\n",
       "    <tr>\n",
       "      <th>1599997</th>\n",
       "      <td>1</td>\n",
       "      <td>2193602064</td>\n",
       "      <td>2009-06-16 08:40:49</td>\n",
       "      <td>NO_QUERY</td>\n",
       "      <td>tinydiamondz</td>\n",
       "      <td>Happy 38th Birthday to my boo of alll time!!! ...</td>\n",
       "      <td>65</td>\n",
       "      <td>2009-06-16</td>\n",
       "      <td>08:40:49</td>\n",
       "      <td>happi 38th birthday boo alll time ! ! ! tupac ...</td>\n",
       "    </tr>\n",
       "    <tr>\n",
       "      <th>1599998</th>\n",
       "      <td>1</td>\n",
       "      <td>2193602129</td>\n",
       "      <td>2009-06-16 08:40:50</td>\n",
       "      <td>NO_QUERY</td>\n",
       "      <td>RyanTrevMorris</td>\n",
       "      <td>happy #charitytuesday @theNSPCC @SparksCharity...</td>\n",
       "      <td>62</td>\n",
       "      <td>2009-06-16</td>\n",
       "      <td>08:40:50</td>\n",
       "      <td>happi charitytuesday thenspcc sparkschar speak...</td>\n",
       "    </tr>\n",
       "  </tbody>\n",
       "</table>\n",
       "<p>1599999 rows × 10 columns</p>\n",
       "</div>"
      ],
      "text/plain": [
       "         target          id                date      flag             user  \\\n",
       "0             0  1467810369 2009-04-06 22:19:45  NO_QUERY  _TheSpecialOne_   \n",
       "1             0  1467810672 2009-04-06 22:19:49  NO_QUERY    scotthamilton   \n",
       "2             0  1467810917 2009-04-06 22:19:53  NO_QUERY         mattycus   \n",
       "3             0  1467811184 2009-04-06 22:19:57  NO_QUERY          ElleCTF   \n",
       "4             0  1467811193 2009-04-06 22:19:57  NO_QUERY           Karoli   \n",
       "...         ...         ...                 ...       ...              ...   \n",
       "1599994       1  2193601966 2009-06-16 08:40:49  NO_QUERY  AmandaMarie1028   \n",
       "1599995       1  2193601969 2009-06-16 08:40:49  NO_QUERY      TheWDBoards   \n",
       "1599996       1  2193601991 2009-06-16 08:40:49  NO_QUERY           bpbabe   \n",
       "1599997       1  2193602064 2009-06-16 08:40:49  NO_QUERY     tinydiamondz   \n",
       "1599998       1  2193602129 2009-06-16 08:40:50  NO_QUERY   RyanTrevMorris   \n",
       "\n",
       "                                                      text  twlength  \\\n",
       "0        @switchfoot http://twitpic.com/2y1zl - Awww, t...       115   \n",
       "1        is upset that he can't update his Facebook by ...       111   \n",
       "2        @Kenichan I dived many times for the ball. Man...        89   \n",
       "3          my whole body feels itchy and like its on fire         47   \n",
       "4        @nationwideclass no, it's not behaving at all....       111   \n",
       "...                                                    ...       ...   \n",
       "1599994  Just woke up. Having no school is the best fee...        56   \n",
       "1599995  TheWDB.com - Very cool to hear old Walt interv...        76   \n",
       "1599996  Are you ready for your MoJo Makeover? Ask me f...        57   \n",
       "1599997  Happy 38th Birthday to my boo of alll time!!! ...        65   \n",
       "1599998  happy #charitytuesday @theNSPCC @SparksCharity...        62   \n",
       "\n",
       "             tw_day   tw_time  \\\n",
       "0        2009-04-06  22:19:45   \n",
       "1        2009-04-06  22:19:49   \n",
       "2        2009-04-06  22:19:53   \n",
       "3        2009-04-06  22:19:57   \n",
       "4        2009-04-06  22:19:57   \n",
       "...             ...       ...   \n",
       "1599994  2009-06-16  08:40:49   \n",
       "1599995  2009-06-16  08:40:49   \n",
       "1599996  2009-06-16  08:40:49   \n",
       "1599997  2009-06-16  08:40:49   \n",
       "1599998  2009-06-16  08:40:50   \n",
       "\n",
       "                                               clean_tweet  \n",
       "0        switchfoot : twitpic com 2y1zl awww that bumme...  \n",
       "1        upset ca not updat facebook text it might cri ...  \n",
       "2        kenichan dive mani time ball manag save 50 res...  \n",
       "3                          whole bodi feel itchi like fire  \n",
       "4        nationwideclass no behav all i am mad here ca ...  \n",
       "...                                                    ...  \n",
       "1599994                      woke up school best feel ever  \n",
       "1599995  thewdb com cool hear old walt interview ! : bl...  \n",
       "1599996                       readi mojo makeov ask detail  \n",
       "1599997  happi 38th birthday boo alll time ! ! ! tupac ...  \n",
       "1599998  happi charitytuesday thenspcc sparkschar speak...  \n",
       "\n",
       "[1599999 rows x 10 columns]"
      ]
     },
     "execution_count": 18,
     "metadata": {
      "tags": []
     },
     "output_type": "execute_result"
    }
   ],
   "source": [
    "data"
   ]
  },
  {
   "cell_type": "code",
   "execution_count": 28,
   "metadata": {
    "executionInfo": {
     "elapsed": 648,
     "status": "ok",
     "timestamp": 1605148981186,
     "user": {
      "displayName": "Vishal Arya",
      "photoUrl": "",
      "userId": "05630331593287898441"
     },
     "user_tz": 300
    },
    "id": "Ec9Vrq-VlT3G"
   },
   "outputs": [],
   "source": [
    "##downsample to 100k 50/50 split\n",
    "\n",
    "down_sample = 100000\n",
    "\n",
    "neg_index = np.random.choice(data[data.target == 0].index, size=int(.5*down_sample), replace=False)\n",
    "pos_index = np.random.choice(data[data.target == 1].index, size=int(.5*down_sample), replace=False)\n",
    "\n",
    "red_index = np.concatenate((neg_index, pos_index))\n",
    "\n",
    "red_data = data.iloc[red_index,:]\n",
    "\n"
   ]
  },
  {
   "cell_type": "code",
   "execution_count": 30,
   "metadata": {
    "colab": {
     "base_uri": "https://localhost:8080/",
     "height": 780
    },
    "executionInfo": {
     "elapsed": 205,
     "status": "ok",
     "timestamp": 1605148986231,
     "user": {
      "displayName": "Vishal Arya",
      "photoUrl": "",
      "userId": "05630331593287898441"
     },
     "user_tz": 300
    },
    "id": "xzNVhVkVlT3K",
    "outputId": "8fc9876c-9abd-4192-f675-915739ff7124"
   },
   "outputs": [
    {
     "data": {
      "text/html": [
       "<div>\n",
       "<style scoped>\n",
       "    .dataframe tbody tr th:only-of-type {\n",
       "        vertical-align: middle;\n",
       "    }\n",
       "\n",
       "    .dataframe tbody tr th {\n",
       "        vertical-align: top;\n",
       "    }\n",
       "\n",
       "    .dataframe thead th {\n",
       "        text-align: right;\n",
       "    }\n",
       "</style>\n",
       "<table border=\"1\" class=\"dataframe\">\n",
       "  <thead>\n",
       "    <tr style=\"text-align: right;\">\n",
       "      <th></th>\n",
       "      <th>target</th>\n",
       "      <th>id</th>\n",
       "      <th>date</th>\n",
       "      <th>flag</th>\n",
       "      <th>user</th>\n",
       "      <th>text</th>\n",
       "      <th>twlength</th>\n",
       "      <th>tw_day</th>\n",
       "      <th>tw_time</th>\n",
       "      <th>clean_tweet</th>\n",
       "    </tr>\n",
       "  </thead>\n",
       "  <tbody>\n",
       "    <tr>\n",
       "      <th>0</th>\n",
       "      <td>0</td>\n",
       "      <td>2215820949</td>\n",
       "      <td>2009-06-17 18:39:29</td>\n",
       "      <td>NO_QUERY</td>\n",
       "      <td>MissPerry92</td>\n",
       "      <td>Recovering....DANG my mouth is hurting!!!</td>\n",
       "      <td>42</td>\n",
       "      <td>2009-06-17</td>\n",
       "      <td>18:39:29</td>\n",
       "      <td>recov dang mouth hurt ! ! !</td>\n",
       "    </tr>\n",
       "    <tr>\n",
       "      <th>1</th>\n",
       "      <td>0</td>\n",
       "      <td>1679314516</td>\n",
       "      <td>2009-05-02 09:03:24</td>\n",
       "      <td>NO_QUERY</td>\n",
       "      <td>mzjonz</td>\n",
       "      <td>@RealTalibKweli I submitted 2 open 4 u there.....</td>\n",
       "      <td>111</td>\n",
       "      <td>2009-05-02</td>\n",
       "      <td>09:03:24</td>\n",
       "      <td>realtalibkw submit open there didnt make tho s...</td>\n",
       "    </tr>\n",
       "    <tr>\n",
       "      <th>2</th>\n",
       "      <td>0</td>\n",
       "      <td>1979361487</td>\n",
       "      <td>2009-05-31 02:42:56</td>\n",
       "      <td>NO_QUERY</td>\n",
       "      <td>ooh777</td>\n",
       "      <td>That's what I call a leggo my eggo ...what the...</td>\n",
       "      <td>66</td>\n",
       "      <td>2009-05-31</td>\n",
       "      <td>02:42:56</td>\n",
       "      <td>that call leggo eggo what custom did</td>\n",
       "    </tr>\n",
       "    <tr>\n",
       "      <th>3</th>\n",
       "      <td>0</td>\n",
       "      <td>1883106267</td>\n",
       "      <td>2009-05-22 08:01:04</td>\n",
       "      <td>NO_QUERY</td>\n",
       "      <td>si1very</td>\n",
       "      <td>Mildly bummed that Memorial Day weekend foreca...</td>\n",
       "      <td>126</td>\n",
       "      <td>2009-05-22</td>\n",
       "      <td>08:01:04</td>\n",
       "      <td>mild bum memori day weekend forecast dfw quot;...</td>\n",
       "    </tr>\n",
       "    <tr>\n",
       "      <th>4</th>\n",
       "      <td>0</td>\n",
       "      <td>2189394811</td>\n",
       "      <td>2009-06-15 23:55:49</td>\n",
       "      <td>NO_QUERY</td>\n",
       "      <td>amitsodha</td>\n",
       "      <td>Uh oh...my family just said the 3 words to me....</td>\n",
       "      <td>79</td>\n",
       "      <td>2009-06-15</td>\n",
       "      <td>23:55:49</td>\n",
       "      <td>oh my famili said word me that never want hear</td>\n",
       "    </tr>\n",
       "    <tr>\n",
       "      <th>...</th>\n",
       "      <td>...</td>\n",
       "      <td>...</td>\n",
       "      <td>...</td>\n",
       "      <td>...</td>\n",
       "      <td>...</td>\n",
       "      <td>...</td>\n",
       "      <td>...</td>\n",
       "      <td>...</td>\n",
       "      <td>...</td>\n",
       "      <td>...</td>\n",
       "    </tr>\n",
       "    <tr>\n",
       "      <th>99995</th>\n",
       "      <td>1</td>\n",
       "      <td>2188416863</td>\n",
       "      <td>2009-06-15 21:51:34</td>\n",
       "      <td>NO_QUERY</td>\n",
       "      <td>sabirabbit</td>\n",
       "      <td>you are my Bill compton and i am your sookie!</td>\n",
       "      <td>46</td>\n",
       "      <td>2009-06-15</td>\n",
       "      <td>21:51:34</td>\n",
       "      <td>bill compton sooki !</td>\n",
       "    </tr>\n",
       "    <tr>\n",
       "      <th>99996</th>\n",
       "      <td>1</td>\n",
       "      <td>2015504295</td>\n",
       "      <td>2009-06-03 04:50:21</td>\n",
       "      <td>NO_QUERY</td>\n",
       "      <td>Katie1289</td>\n",
       "      <td>school, writing, working, shopping-most defini...</td>\n",
       "      <td>51</td>\n",
       "      <td>2009-06-03</td>\n",
       "      <td>04:50:21</td>\n",
       "      <td>school write work shop - most definit</td>\n",
       "    </tr>\n",
       "    <tr>\n",
       "      <th>99997</th>\n",
       "      <td>1</td>\n",
       "      <td>1677329749</td>\n",
       "      <td>2009-05-02 01:31:34</td>\n",
       "      <td>NO_QUERY</td>\n",
       "      <td>TelishaMarie</td>\n",
       "      <td>@gypsystokes... it's late, a friday night, and...</td>\n",
       "      <td>64</td>\n",
       "      <td>2009-05-02</td>\n",
       "      <td>01:31:34</td>\n",
       "      <td>gypsystok late friday night work</td>\n",
       "    </tr>\n",
       "    <tr>\n",
       "      <th>99998</th>\n",
       "      <td>1</td>\n",
       "      <td>2004491161</td>\n",
       "      <td>2009-06-02 08:17:01</td>\n",
       "      <td>NO_QUERY</td>\n",
       "      <td>KatesMemories</td>\n",
       "      <td>@merlinsbeard Right?  I hate making decisions!...</td>\n",
       "      <td>93</td>\n",
       "      <td>2009-06-02</td>\n",
       "      <td>08:17:01</td>\n",
       "      <td>merlinsbeard right hate make decis ! go lunch ...</td>\n",
       "    </tr>\n",
       "    <tr>\n",
       "      <th>99999</th>\n",
       "      <td>1</td>\n",
       "      <td>2018354401</td>\n",
       "      <td>2009-06-03 09:50:15</td>\n",
       "      <td>NO_QUERY</td>\n",
       "      <td>Mel_uhh_nie</td>\n",
       "      <td>@jennaybaybay thought i would drop by and say hi</td>\n",
       "      <td>49</td>\n",
       "      <td>2009-06-03</td>\n",
       "      <td>09:50:15</td>\n",
       "      <td>jennaybaybay thought would drop say</td>\n",
       "    </tr>\n",
       "  </tbody>\n",
       "</table>\n",
       "<p>100000 rows × 10 columns</p>\n",
       "</div>"
      ],
      "text/plain": [
       "       target          id                date      flag           user  \\\n",
       "0           0  2215820949 2009-06-17 18:39:29  NO_QUERY    MissPerry92   \n",
       "1           0  1679314516 2009-05-02 09:03:24  NO_QUERY         mzjonz   \n",
       "2           0  1979361487 2009-05-31 02:42:56  NO_QUERY         ooh777   \n",
       "3           0  1883106267 2009-05-22 08:01:04  NO_QUERY        si1very   \n",
       "4           0  2189394811 2009-06-15 23:55:49  NO_QUERY      amitsodha   \n",
       "...       ...         ...                 ...       ...            ...   \n",
       "99995       1  2188416863 2009-06-15 21:51:34  NO_QUERY     sabirabbit   \n",
       "99996       1  2015504295 2009-06-03 04:50:21  NO_QUERY      Katie1289   \n",
       "99997       1  1677329749 2009-05-02 01:31:34  NO_QUERY   TelishaMarie   \n",
       "99998       1  2004491161 2009-06-02 08:17:01  NO_QUERY  KatesMemories   \n",
       "99999       1  2018354401 2009-06-03 09:50:15  NO_QUERY    Mel_uhh_nie   \n",
       "\n",
       "                                                    text  twlength  \\\n",
       "0             Recovering....DANG my mouth is hurting!!!         42   \n",
       "1      @RealTalibKweli I submitted 2 open 4 u there.....       111   \n",
       "2      That's what I call a leggo my eggo ...what the...        66   \n",
       "3      Mildly bummed that Memorial Day weekend foreca...       126   \n",
       "4      Uh oh...my family just said the 3 words to me....        79   \n",
       "...                                                  ...       ...   \n",
       "99995     you are my Bill compton and i am your sookie!         46   \n",
       "99996  school, writing, working, shopping-most defini...        51   \n",
       "99997  @gypsystokes... it's late, a friday night, and...        64   \n",
       "99998  @merlinsbeard Right?  I hate making decisions!...        93   \n",
       "99999  @jennaybaybay thought i would drop by and say hi         49   \n",
       "\n",
       "           tw_day   tw_time                                        clean_tweet  \n",
       "0      2009-06-17  18:39:29                        recov dang mouth hurt ! ! !  \n",
       "1      2009-05-02  09:03:24  realtalibkw submit open there didnt make tho s...  \n",
       "2      2009-05-31  02:42:56               that call leggo eggo what custom did  \n",
       "3      2009-05-22  08:01:04  mild bum memori day weekend forecast dfw quot;...  \n",
       "4      2009-06-15  23:55:49     oh my famili said word me that never want hear  \n",
       "...           ...       ...                                                ...  \n",
       "99995  2009-06-15  21:51:34                               bill compton sooki !  \n",
       "99996  2009-06-03  04:50:21              school write work shop - most definit  \n",
       "99997  2009-05-02  01:31:34                   gypsystok late friday night work  \n",
       "99998  2009-06-02  08:17:01  merlinsbeard right hate make decis ! go lunch ...  \n",
       "99999  2009-06-03  09:50:15                jennaybaybay thought would drop say  \n",
       "\n",
       "[100000 rows x 10 columns]"
      ]
     },
     "execution_count": 30,
     "metadata": {
      "tags": []
     },
     "output_type": "execute_result"
    },
    {
     "data": {
      "text/html": [
       "<div>\n",
       "<style scoped>\n",
       "    .dataframe tbody tr th:only-of-type {\n",
       "        vertical-align: middle;\n",
       "    }\n",
       "\n",
       "    .dataframe tbody tr th {\n",
       "        vertical-align: top;\n",
       "    }\n",
       "\n",
       "    .dataframe thead th {\n",
       "        text-align: right;\n",
       "    }\n",
       "</style>\n",
       "<table border=\"1\" class=\"dataframe\">\n",
       "  <thead>\n",
       "    <tr style=\"text-align: right;\">\n",
       "      <th></th>\n",
       "      <th>index</th>\n",
       "      <th>target</th>\n",
       "      <th>id</th>\n",
       "      <th>date</th>\n",
       "      <th>flag</th>\n",
       "      <th>user</th>\n",
       "      <th>text</th>\n",
       "      <th>twlength</th>\n",
       "      <th>tw_day</th>\n",
       "      <th>tw_time</th>\n",
       "      <th>clean_tweet</th>\n",
       "    </tr>\n",
       "  </thead>\n",
       "  <tbody>\n",
       "    <tr>\n",
       "      <th>0</th>\n",
       "      <td>585999</td>\n",
       "      <td>0</td>\n",
       "      <td>2215820949</td>\n",
       "      <td>2009-06-17 18:39:29</td>\n",
       "      <td>NO_QUERY</td>\n",
       "      <td>MissPerry92</td>\n",
       "      <td>Recovering....DANG my mouth is hurting!!!</td>\n",
       "      <td>42</td>\n",
       "      <td>2009-06-17</td>\n",
       "      <td>18:39:29</td>\n",
       "      <td>recov dang mouth hurt ! ! !</td>\n",
       "    </tr>\n",
       "    <tr>\n",
       "      <th>1</th>\n",
       "      <td>52150</td>\n",
       "      <td>0</td>\n",
       "      <td>1679314516</td>\n",
       "      <td>2009-05-02 09:03:24</td>\n",
       "      <td>NO_QUERY</td>\n",
       "      <td>mzjonz</td>\n",
       "      <td>@RealTalibKweli I submitted 2 open 4 u there.....</td>\n",
       "      <td>111</td>\n",
       "      <td>2009-05-02</td>\n",
       "      <td>09:03:24</td>\n",
       "      <td>realtalibkw submit open there didnt make tho s...</td>\n",
       "    </tr>\n",
       "    <tr>\n",
       "      <th>2</th>\n",
       "      <td>233390</td>\n",
       "      <td>0</td>\n",
       "      <td>1979361487</td>\n",
       "      <td>2009-05-31 02:42:56</td>\n",
       "      <td>NO_QUERY</td>\n",
       "      <td>ooh777</td>\n",
       "      <td>That's what I call a leggo my eggo ...what the...</td>\n",
       "      <td>66</td>\n",
       "      <td>2009-05-31</td>\n",
       "      <td>02:42:56</td>\n",
       "      <td>that call leggo eggo what custom did</td>\n",
       "    </tr>\n",
       "    <tr>\n",
       "      <th>3</th>\n",
       "      <td>148341</td>\n",
       "      <td>0</td>\n",
       "      <td>1883106267</td>\n",
       "      <td>2009-05-22 08:01:04</td>\n",
       "      <td>NO_QUERY</td>\n",
       "      <td>si1very</td>\n",
       "      <td>Mildly bummed that Memorial Day weekend foreca...</td>\n",
       "      <td>126</td>\n",
       "      <td>2009-05-22</td>\n",
       "      <td>08:01:04</td>\n",
       "      <td>mild bum memori day weekend forecast dfw quot;...</td>\n",
       "    </tr>\n",
       "    <tr>\n",
       "      <th>4</th>\n",
       "      <td>509389</td>\n",
       "      <td>0</td>\n",
       "      <td>2189394811</td>\n",
       "      <td>2009-06-15 23:55:49</td>\n",
       "      <td>NO_QUERY</td>\n",
       "      <td>amitsodha</td>\n",
       "      <td>Uh oh...my family just said the 3 words to me....</td>\n",
       "      <td>79</td>\n",
       "      <td>2009-06-15</td>\n",
       "      <td>23:55:49</td>\n",
       "      <td>oh my famili said word me that never want hear</td>\n",
       "    </tr>\n",
       "    <tr>\n",
       "      <th>...</th>\n",
       "      <td>...</td>\n",
       "      <td>...</td>\n",
       "      <td>...</td>\n",
       "      <td>...</td>\n",
       "      <td>...</td>\n",
       "      <td>...</td>\n",
       "      <td>...</td>\n",
       "      <td>...</td>\n",
       "      <td>...</td>\n",
       "      <td>...</td>\n",
       "      <td>...</td>\n",
       "    </tr>\n",
       "    <tr>\n",
       "      <th>99995</th>\n",
       "      <td>1569546</td>\n",
       "      <td>1</td>\n",
       "      <td>2188416863</td>\n",
       "      <td>2009-06-15 21:51:34</td>\n",
       "      <td>NO_QUERY</td>\n",
       "      <td>sabirabbit</td>\n",
       "      <td>you are my Bill compton and i am your sookie!</td>\n",
       "      <td>46</td>\n",
       "      <td>2009-06-15</td>\n",
       "      <td>21:51:34</td>\n",
       "      <td>bill compton sooki !</td>\n",
       "    </tr>\n",
       "    <tr>\n",
       "      <th>99996</th>\n",
       "      <td>1328369</td>\n",
       "      <td>1</td>\n",
       "      <td>2015504295</td>\n",
       "      <td>2009-06-03 04:50:21</td>\n",
       "      <td>NO_QUERY</td>\n",
       "      <td>Katie1289</td>\n",
       "      <td>school, writing, working, shopping-most defini...</td>\n",
       "      <td>51</td>\n",
       "      <td>2009-06-03</td>\n",
       "      <td>04:50:21</td>\n",
       "      <td>school write work shop - most definit</td>\n",
       "    </tr>\n",
       "    <tr>\n",
       "      <th>99997</th>\n",
       "      <td>864690</td>\n",
       "      <td>1</td>\n",
       "      <td>1677329749</td>\n",
       "      <td>2009-05-02 01:31:34</td>\n",
       "      <td>NO_QUERY</td>\n",
       "      <td>TelishaMarie</td>\n",
       "      <td>@gypsystokes... it's late, a friday night, and...</td>\n",
       "      <td>64</td>\n",
       "      <td>2009-05-02</td>\n",
       "      <td>01:31:34</td>\n",
       "      <td>gypsystok late friday night work</td>\n",
       "    </tr>\n",
       "    <tr>\n",
       "      <th>99998</th>\n",
       "      <td>1297417</td>\n",
       "      <td>1</td>\n",
       "      <td>2004491161</td>\n",
       "      <td>2009-06-02 08:17:01</td>\n",
       "      <td>NO_QUERY</td>\n",
       "      <td>KatesMemories</td>\n",
       "      <td>@merlinsbeard Right?  I hate making decisions!...</td>\n",
       "      <td>93</td>\n",
       "      <td>2009-06-02</td>\n",
       "      <td>08:17:01</td>\n",
       "      <td>merlinsbeard right hate make decis ! go lunch ...</td>\n",
       "    </tr>\n",
       "    <tr>\n",
       "      <th>99999</th>\n",
       "      <td>1338824</td>\n",
       "      <td>1</td>\n",
       "      <td>2018354401</td>\n",
       "      <td>2009-06-03 09:50:15</td>\n",
       "      <td>NO_QUERY</td>\n",
       "      <td>Mel_uhh_nie</td>\n",
       "      <td>@jennaybaybay thought i would drop by and say hi</td>\n",
       "      <td>49</td>\n",
       "      <td>2009-06-03</td>\n",
       "      <td>09:50:15</td>\n",
       "      <td>jennaybaybay thought would drop say</td>\n",
       "    </tr>\n",
       "  </tbody>\n",
       "</table>\n",
       "<p>100000 rows × 11 columns</p>\n",
       "</div>"
      ],
      "text/plain": [
       "         index  target          id                date      flag  \\\n",
       "0       585999       0  2215820949 2009-06-17 18:39:29  NO_QUERY   \n",
       "1        52150       0  1679314516 2009-05-02 09:03:24  NO_QUERY   \n",
       "2       233390       0  1979361487 2009-05-31 02:42:56  NO_QUERY   \n",
       "3       148341       0  1883106267 2009-05-22 08:01:04  NO_QUERY   \n",
       "4       509389       0  2189394811 2009-06-15 23:55:49  NO_QUERY   \n",
       "...        ...     ...         ...                 ...       ...   \n",
       "99995  1569546       1  2188416863 2009-06-15 21:51:34  NO_QUERY   \n",
       "99996  1328369       1  2015504295 2009-06-03 04:50:21  NO_QUERY   \n",
       "99997   864690       1  1677329749 2009-05-02 01:31:34  NO_QUERY   \n",
       "99998  1297417       1  2004491161 2009-06-02 08:17:01  NO_QUERY   \n",
       "99999  1338824       1  2018354401 2009-06-03 09:50:15  NO_QUERY   \n",
       "\n",
       "                user                                               text  \\\n",
       "0        MissPerry92         Recovering....DANG my mouth is hurting!!!    \n",
       "1             mzjonz  @RealTalibKweli I submitted 2 open 4 u there.....   \n",
       "2             ooh777  That's what I call a leggo my eggo ...what the...   \n",
       "3            si1very  Mildly bummed that Memorial Day weekend foreca...   \n",
       "4          amitsodha  Uh oh...my family just said the 3 words to me....   \n",
       "...              ...                                                ...   \n",
       "99995     sabirabbit     you are my Bill compton and i am your sookie!    \n",
       "99996      Katie1289  school, writing, working, shopping-most defini...   \n",
       "99997   TelishaMarie  @gypsystokes... it's late, a friday night, and...   \n",
       "99998  KatesMemories  @merlinsbeard Right?  I hate making decisions!...   \n",
       "99999    Mel_uhh_nie  @jennaybaybay thought i would drop by and say hi    \n",
       "\n",
       "       twlength      tw_day   tw_time  \\\n",
       "0            42  2009-06-17  18:39:29   \n",
       "1           111  2009-05-02  09:03:24   \n",
       "2            66  2009-05-31  02:42:56   \n",
       "3           126  2009-05-22  08:01:04   \n",
       "4            79  2009-06-15  23:55:49   \n",
       "...         ...         ...       ...   \n",
       "99995        46  2009-06-15  21:51:34   \n",
       "99996        51  2009-06-03  04:50:21   \n",
       "99997        64  2009-05-02  01:31:34   \n",
       "99998        93  2009-06-02  08:17:01   \n",
       "99999        49  2009-06-03  09:50:15   \n",
       "\n",
       "                                             clean_tweet  \n",
       "0                            recov dang mouth hurt ! ! !  \n",
       "1      realtalibkw submit open there didnt make tho s...  \n",
       "2                   that call leggo eggo what custom did  \n",
       "3      mild bum memori day weekend forecast dfw quot;...  \n",
       "4         oh my famili said word me that never want hear  \n",
       "...                                                  ...  \n",
       "99995                               bill compton sooki !  \n",
       "99996              school write work shop - most definit  \n",
       "99997                   gypsystok late friday night work  \n",
       "99998  merlinsbeard right hate make decis ! go lunch ...  \n",
       "99999                jennaybaybay thought would drop say  \n",
       "\n",
       "[100000 rows x 11 columns]"
      ]
     },
     "execution_count": 30,
     "metadata": {
      "tags": []
     },
     "output_type": "execute_result"
    }
   ],
   "source": [
    "red_data.reset_index(level=0, inplace=True)\n",
    "\n",
    "red_data.drop(columns=\"index\")\n",
    "red_data"
   ]
  },
  {
   "cell_type": "code",
   "execution_count": 46,
   "metadata": {
    "executionInfo": {
     "elapsed": 869,
     "status": "ok",
     "timestamp": 1605149608227,
     "user": {
      "displayName": "Vishal Arya",
      "photoUrl": "",
      "userId": "05630331593287898441"
     },
     "user_tz": 300
    },
    "id": "eVCiR84lVfJM"
   },
   "outputs": [],
   "source": [
    "## SPLIT AND EXPORT CLEAN DATA TO CSV\n",
    "\n",
    "testsize = .20\n",
    "\n",
    "label = red_data.target\n",
    "\n",
    "xtrain, xtest, ytrain, ytest = train_test_split(red_data, label, test_size=testsize, random_state=42)\n",
    "\n",
    "xtrain_exp = xtrain[[\"target\",\"clean_tweet\"]]\n",
    "xtest_exp = xtest[[\"target\",\"clean_tweet\"]]\n",
    "\n",
    "xtrain_exp.to_csv(\"xtrain_exp.csv\", header=True, index=False)\n",
    "xtest_exp.to_csv(\"xtest_exp.csv\", header=True, index=False)"
   ]
  },
  {
   "cell_type": "code",
   "execution_count": 47,
   "metadata": {
    "colab": {
     "base_uri": "https://localhost:8080/"
    },
    "executionInfo": {
     "elapsed": 284,
     "status": "ok",
     "timestamp": 1605149821092,
     "user": {
      "displayName": "Vishal Arya",
      "photoUrl": "",
      "userId": "05630331593287898441"
     },
     "user_tz": 300
    },
    "id": "afXHG6vXWOvK",
    "outputId": "fbeaba84-677e-481f-cca2-ffff5e91c71d"
   },
   "outputs": [
    {
     "data": {
      "text/plain": [
       "(20000, 2)"
      ]
     },
     "execution_count": 47,
     "metadata": {
      "tags": []
     },
     "output_type": "execute_result"
    }
   ],
   "source": [
    "xtest_exp.shape\n"
   ]
  }
 ],
 "metadata": {
  "accelerator": "GPU",
  "colab": {
   "collapsed_sections": [],
   "name": "CNNFINAL.ipynb",
   "provenance": []
  },
  "kernelspec": {
   "display_name": "Python 3",
   "language": "python",
   "name": "python3"
  },
  "language_info": {
   "codemirror_mode": {
    "name": "ipython",
    "version": 3
   },
   "file_extension": ".py",
   "mimetype": "text/x-python",
   "name": "python",
   "nbconvert_exporter": "python",
   "pygments_lexer": "ipython3",
   "version": "3.8.3"
  }
 },
 "nbformat": 4,
 "nbformat_minor": 1
}
